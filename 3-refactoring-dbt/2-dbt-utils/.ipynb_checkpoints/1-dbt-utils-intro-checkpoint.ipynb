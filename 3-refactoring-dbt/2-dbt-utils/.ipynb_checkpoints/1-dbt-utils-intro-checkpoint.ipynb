{
 "cells": [
  {
   "cell_type": "markdown",
   "id": "5db30557-79e5-4c77-8b3a-6972b44ee307",
   "metadata": {},
   "source": [
    "# Introduction to DBT Utils"
   ]
  },
  {
   "cell_type": "markdown",
   "id": "59749d62-6dad-424e-be39-639476e10577",
   "metadata": {},
   "source": [
    "### Introduction"
   ]
  },
  {
   "cell_type": "markdown",
   "id": "49db9e14-d866-4cd5-9ec3-2295fd222efb",
   "metadata": {},
   "source": [
    "In this lesson, we'll explore some additional functions we can get by working with DBT Utils.  As we'll see we can use DBT utils to help us write some SQL queries."
   ]
  },
  {
   "cell_type": "markdown",
   "id": "82a43063-7de7-4f24-b4df-2309786069f5",
   "metadata": {},
   "source": [
    "### Useful Functions"
   ]
  },
  {
   "cell_type": "markdown",
   "id": "612fcf2f-20a0-4bc6-a4f8-ef65478e2c47",
   "metadata": {},
   "source": [
    "We can see what DBT utils functions are available to us, simply by going to the [dbt utils repository](https://github.com/dbt-labs/dbt-utils)."
   ]
  },
  {
   "cell_type": "markdown",
   "id": "e4816e10-9519-4718-9022-5cd6711682d3",
   "metadata": {},
   "source": [
    "Perhaps the most useful function available to us is the function:\n",
    "\n",
    "```sql \n",
    "dbt_utils.star\n",
    "```"
   ]
  },
  {
   "cell_type": "markdown",
   "id": "5f8d05d5-de11-421c-9001-694a25bbdb7e",
   "metadata": {},
   "source": [
    "This selects all of the columns from a given relation, just like our normal star function in sql will do."
   ]
  },
  {
   "cell_type": "markdown",
   "id": "12ff01e5-a90d-4ca5-b682-e3a8e9771244",
   "metadata": {},
   "source": [
    "For example, let's say that we want to select all of the columns from our `rds` `customers` source.  We can do so with the following."
   ]
  },
  {
   "cell_type": "markdown",
   "id": "7d604f58-7a66-4704-b639-ca21cd262011",
   "metadata": {},
   "source": [
    "```sql\n",
    "SELECT {{ dbt_utils.star(source('rds', 'customers')) }} from {{ source('rds', 'customers') }}\n",
    "```"
   ]
  },
  {
   "cell_type": "markdown",
   "id": "787eda34-5c9b-4151-a28f-96aeb54ade24",
   "metadata": {},
   "source": [
    "> Notice that with the star function, we reference the table twice -- once in the star function, and a second time after the FROM clause. "
   ]
  },
  {
   "cell_type": "markdown",
   "id": "4a398227-17ad-4ff5-85cb-957e9d465cb9",
   "metadata": {},
   "source": [
    "Doing so we'll see all of the columns from a given table, like so."
   ]
  },
  {
   "cell_type": "markdown",
   "id": "3d7b448a-02cc-483a-b91a-bec48b245d4a",
   "metadata": {},
   "source": [
    "> <img src=\"./select-star.png\" width=\"100%\">"
   ]
  },
  {
   "cell_type": "markdown",
   "id": "afd6760f-20cb-4e41-ad25-c5e9aa45e550",
   "metadata": {},
   "source": [
    "Now what makes the star function useful is that it takes an except key.  So we can specify to select all columns except for a couple."
   ]
  },
  {
   "cell_type": "markdown",
   "id": "f68c73cb-9b88-43a3-a5eb-21e2a09a8b68",
   "metadata": {},
   "source": [
    "```sql\n",
    "SELECT {{ dbt_utils.star(from = source('rds', 'customers'), except=['company_name']) }} from {{ source('rds', 'customers') }}\n",
    "```"
   ]
  },
  {
   "cell_type": "markdown",
   "id": "c62a004f-64a4-4286-9862-ea4ab40497d5",
   "metadata": {},
   "source": [
    "And from there we can see that the company name is missing."
   ]
  },
  {
   "cell_type": "markdown",
   "id": "729d5a21-4714-4b18-a0a3-b3947bafc515",
   "metadata": {},
   "source": [
    "> <img src=\"./except-company-name.png\" width=\"100%\">"
   ]
  },
  {
   "cell_type": "markdown",
   "id": "6b2cc108-840b-451a-8fa2-50421c4ff044",
   "metadata": {},
   "source": [
    "And then we can see what the query compiles to by clicking on the compile tab."
   ]
  },
  {
   "cell_type": "markdown",
   "id": "f4c4d2ff-672e-4428-b77f-73681b0860e4",
   "metadata": {},
   "source": [
    "> <img src=\"./compiled-sql.png\" width=\"60%\">"
   ]
  },
  {
   "cell_type": "markdown",
   "id": "73dfd8b3-2efd-4ca7-a337-5ddd3d8f666a",
   "metadata": {},
   "source": [
    "### Exploring Additional Functions"
   ]
  },
  {
   "cell_type": "markdown",
   "id": "afe493a7-402c-4c03-ba00-1ae8df743fde",
   "metadata": {},
   "source": [
    "There are a couple of other functions that would be useful to us.  For example, let's take a look at the `get_relations_by_pattern` macro."
   ]
  },
  {
   "cell_type": "markdown",
   "id": "8ff71c04-5e7b-4273-81e3-e66cf57c6c1a",
   "metadata": {},
   "source": [
    "As explained by the documentation, the function finds all relations that match a specified pattern.  \n",
    "\n",
    "Let's give this a shot.  \n",
    "\n",
    "The `get_relations_by_pattern` function takes two arguments, of the schema pattern, and the table pattern.  So if we want to find the tables that have the word `contacts`, across all schemas we can do so with the following."
   ]
  },
  {
   "cell_type": "markdown",
   "id": "56c2969b-f9fb-4d83-8741-f1ef5a8c2d18",
   "metadata": {},
   "source": [
    "```sql\n",
    "{% set contact_relations = dbt_utils.get_relations_by_pattern('%', 'contacts') %}\n",
    "\n",
    "```"
   ]
  },
  {
   "cell_type": "markdown",
   "id": "4dbab69a-4853-45d4-bc69-e3a0c8ab743d",
   "metadata": {},
   "source": [
    "And as also explained, it works well when combined with the `union_relations` pattern.  \n"
   ]
  },
  {
   "cell_type": "markdown",
   "id": "1e8fc4c8-92b3-4084-99c8-b622ae56ff7b",
   "metadata": {},
   "source": [
    "\n",
    "```sql\n",
    "{{ dbt_utils.union_relations(relations = contact_relations) }}\n",
    "```"
   ]
  },
  {
   "cell_type": "markdown",
   "id": "bfdc202e-8d82-405b-a321-da7863bf245c",
   "metadata": {},
   "source": [
    "And if we only want to include certain columns, we can do so with the include or exclude key."
   ]
  },
  {
   "cell_type": "markdown",
   "id": "7410cadd-7b0d-4085-b2ea-c5dd2f44f527",
   "metadata": {},
   "source": [
    "```sql\n",
    "{% set contact_relations = dbt_utils.get_relations_by_pattern('%', 'contacts') %}\n",
    "\n",
    "{{ dbt_utils.union_relations(relations = contact_relations, include = ['FIRST_NAME', 'LAST_NAME']) }}\n",
    "```"
   ]
  },
  {
   "cell_type": "markdown",
   "id": "13fe0363-36b5-480d-bf3e-d4ebc8163ce8",
   "metadata": {},
   "source": [
    "And if we look at the compile tab, we can see what it compiles to."
   ]
  },
  {
   "cell_type": "markdown",
   "id": "3e0563e4-c49f-489c-97d4-217033c2d4c1",
   "metadata": {},
   "source": [
    "> <img src=\"./under-query.png\" width=\"60%\">"
   ]
  },
  {
   "cell_type": "markdown",
   "id": "698954a0-8c84-45c7-be9a-55cd11203797",
   "metadata": {},
   "source": [
    "### Challenge"
   ]
  },
  {
   "cell_type": "markdown",
   "id": "c2a44765-b2e3-4b20-8b63-e313831cde2f",
   "metadata": {},
   "source": [
    "Use the `get_relations_by_pattern` combined with a `for loop` to union together all of the contact tables, and just select the `first_name` and `last_name` columns from each table. \n",
    "\n",
    "> Do not use the `union_relations` method."
   ]
  }
 ],
 "metadata": {
  "kernelspec": {
   "display_name": "Python 3 (ipykernel)",
   "language": "python",
   "name": "python3"
  },
  "language_info": {
   "codemirror_mode": {
    "name": "ipython",
    "version": 3
   },
   "file_extension": ".py",
   "mimetype": "text/x-python",
   "name": "python",
   "nbconvert_exporter": "python",
   "pygments_lexer": "ipython3",
   "version": "3.9.7"
  }
 },
 "nbformat": 4,
 "nbformat_minor": 5
}
