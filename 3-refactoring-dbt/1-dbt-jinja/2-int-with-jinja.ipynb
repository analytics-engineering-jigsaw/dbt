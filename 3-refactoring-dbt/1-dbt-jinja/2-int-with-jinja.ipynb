{
 "cells": [
  {
   "cell_type": "markdown",
   "id": "c53a9b54-2f58-464b-b6e4-b2c6f097e21f",
   "metadata": {},
   "source": [
    "# Integration models with Jinja"
   ]
  },
  {
   "cell_type": "markdown",
   "id": "47a607d3-f279-4071-b4b5-22899ffb4e12",
   "metadata": {},
   "source": [
    "### Introduction"
   ]
  },
  {
   "cell_type": "markdown",
   "id": "e832562b-265d-4504-a529-7061ca9ef7d0",
   "metadata": {},
   "source": [
    "In the last couple of lessons, we saw how we can use Jinja to loop through select statements, and then combine them together with a union all function.\n",
    "\n",
    "Now one natural place for performing a pattern like this is with our integration models.  For example, in our companies integration model, we select from each of our sources that have companies -- rds and hubspot, select the related fields and union them together.\n",
    "\n",
    "In this lesson, we'll work towards refactoring our companies integration model with Jinja."
   ]
  },
  {
   "cell_type": "markdown",
   "id": "61166627-e2a4-434c-86eb-c21eddd0bf64",
   "metadata": {},
   "source": [
    "### Our Starting Point"
   ]
  },
  {
   "cell_type": "markdown",
   "id": "dc7bb61c-6735-40c0-91f2-9bd0cb455af8",
   "metadata": {},
   "source": [
    "Currently, our `int_companies.sql` may have some complicated code at the moment, but to make our refactoring job easier, let's create a new file, and use the following as a starting point."
   ]
  },
  {
   "cell_type": "markdown",
   "id": "1def25d2-3abb-46cf-923e-718ee522ba7b",
   "metadata": {},
   "source": [
    "```sql\n",
    "with merged_companies as (\n",
    "    select name from from {{ ref('stg_hubspot_companies') }} union all\n",
    "    select name from {{ ref('stg_rds_companies') }}\n",
    "),\n",
    "select name from merged_companies group by name\n",
    "```"
   ]
  },
  {
   "cell_type": "markdown",
   "id": "28516ed2-35da-44cd-8bf7-b30716aaacc8",
   "metadata": {},
   "source": [
    "And then create an additional file, and place the following at the top of that file."
   ]
  },
  {
   "cell_type": "markdown",
   "id": "607d7560-6da7-4cde-b6a3-fce2e30b1dfd",
   "metadata": {},
   "source": [
    "```sql\n",
    "{% set sources = [\"stg_hubspot_companies\", \"stg_rds_companies\"] %}\n",
    "```"
   ]
  },
  {
   "cell_type": "markdown",
   "id": "33fb12b0-073c-4539-8c29-f5a8218ca19e",
   "metadata": {},
   "source": [
    "Use this `sources` variable and some Jinja to create the merged companies CTE.  The compiled SQL should look something like the following:"
   ]
  },
  {
   "cell_type": "markdown",
   "id": "ba1e2a63-31dc-4d8e-a73f-3fdc855e9c98",
   "metadata": {},
   "source": [
    "```sql\n",
    "with merged_companies as (\n",
    "        select name from FIVETRAN_DATABASE.dbt_jigsawlabsstudent.stg_hubspot_companies\n",
    "        union all\n",
    "        select name from FIVETRAN_DATABASE.dbt_jigsawlabsstudent.stg_rds_companies\n",
    "  )\n",
    "select name from merged_companies group by name\n",
    "limit 500\n",
    "```"
   ]
  },
  {
   "cell_type": "markdown",
   "id": "8cda41c5-12e3-465b-8ec6-c3dcc05d72b5",
   "metadata": {},
   "source": [
    "And if we preview the results, we should see the following:"
   ]
  },
  {
   "cell_type": "markdown",
   "id": "015b2f2d-b3ab-446c-9076-1fe690717244",
   "metadata": {},
   "source": [
    "> <img src=\"./prev-jin.png\" width=\"60%\">"
   ]
  },
  {
   "cell_type": "markdown",
   "id": "05f8b3c5-4f05-40b2-950a-c7f80b2cf2e5",
   "metadata": {},
   "source": [
    "### Adding additional columns"
   ]
  },
  {
   "cell_type": "markdown",
   "id": "03413b4c-e3c0-49ff-8f45-ec5f87e680c0",
   "metadata": {},
   "source": [
    "Now above we are selecting the `name` column from each table.  But in our original query, we selected multiple columns from our source tables like so:"
   ]
  },
  {
   "cell_type": "markdown",
   "id": "7e60f206-88f4-4cb6-88bc-be6dab3a1fdc",
   "metadata": {},
   "source": [
    "```sql\n",
    "merged_companies as (\n",
    "    select company_id as hubspot_company_id, null as rds_company_id,\n",
    "    name from hubspot_companies union all\n",
    "    select null as hubspot_company_id, company_id as rds_company_id,\n",
    "    name from rds_companies\n",
    ")\n",
    "```"
   ]
  },
  {
   "cell_type": "markdown",
   "id": "3b00e14d-cbb2-4a94-880e-6c516d1e39eb",
   "metadata": {},
   "source": [
    "One challenge of the above, is that for each source, we only want to select the company_id when we are selecting from that source, and otherwise we want to select null.\n",
    "\n",
    "For example, when our source is hubspot, then we want to select company_id as hubspot_company_id but otherwise, we want to select null.  It turns out we can accomplish something like this with a one line if else statement.  In Jinja, this looks like the following:"
   ]
  },
  {
   "cell_type": "markdown",
   "id": "383f2dcf-7292-498a-8904-d14d0743b12c",
   "metadata": {},
   "source": [
    "```sql\n",
    "select name, {{ 'company_id' if 'hubspot' in source else 'null' }} as hubspot_company_id\n",
    "```"
   ]
  },
  {
   "cell_type": "markdown",
   "id": "a8c64750-0f00-4a19-ac18-ca36cc337c4d",
   "metadata": {},
   "source": [
    "Add this to the statement you constructed above.  When you preview the query, it should now look like the following:"
   ]
  },
  {
   "cell_type": "markdown",
   "id": "b29ce631-012e-4596-b7aa-2cdd97a9a413",
   "metadata": {},
   "source": [
    "> <img src=\"./prev-updated-cols.png\" width=\"60%\">"
   ]
  },
  {
   "cell_type": "markdown",
   "id": "6a824b4d-da7c-4e8c-9c28-5e88d3455689",
   "metadata": {},
   "source": [
    "Next use a one line if statement, and update the query so that we add an `rds_company_id` column.  When we preview the results, it should look like the following:"
   ]
  },
  {
   "cell_type": "markdown",
   "id": "8bc7b2ec-13fc-4913-8207-db0f908e0811",
   "metadata": {},
   "source": [
    "> <img src=\"./hubspot-satterfield.png\" width=\"80%\">"
   ]
  },
  {
   "cell_type": "markdown",
   "id": "2457b77b-9e05-4078-a37e-3a52eee5f815",
   "metadata": {},
   "source": [
    "From there, we join in the `stg_rds_companies` model, so that we can add in the `address`, `city`, `postal_code` and `country` columns.\n",
    "\n",
    "> We can reference -- and even copy code -- from our original query in the `int_companies.sql` for inspiration."
   ]
  },
  {
   "cell_type": "markdown",
   "id": "f9ce88b9-ccdb-47b3-81ff-bd7b74278d98",
   "metadata": {},
   "source": [
    "When we are finished, and preview the results, we should see something like the following:"
   ]
  },
  {
   "cell_type": "markdown",
   "id": "7e94fcd0-ce34-4831-bf98-d0b8e62debdc",
   "metadata": {},
   "source": [
    "> <img src=\"./remainder-factor.png\" width=\"100%\">"
   ]
  },
  {
   "cell_type": "markdown",
   "id": "060e6f91-d407-4e70-809f-79fab444c641",
   "metadata": {},
   "source": [
    "Finally, we can replace our original code in the `int_companies.sql` file, with the code we created above.  Then remove the extra files, make a commit and merge the code into master."
   ]
  },
  {
   "cell_type": "markdown",
   "id": "eb8412e2-2ff0-4327-8d92-d2eed1dc997e",
   "metadata": {},
   "source": [
    "### Summary"
   ]
  },
  {
   "cell_type": "markdown",
   "id": "6c96c047-6d01-4b73-ab10-8453762d51c0",
   "metadata": {},
   "source": [
    "In this lesson, we saw how to refactor our integration model with Jinja.  Our integration models are a natural place to take advantage of Jinja because, in merging our tables, we cycle through multiple tables, select the same columns, and then union these select statements together."
   ]
  },
  {
   "cell_type": "markdown",
   "id": "a4c522da-e571-4ddc-b271-d0518e68ac2e",
   "metadata": {},
   "source": [
    "### Solution"
   ]
  },
  {
   "cell_type": "markdown",
   "id": "3af54452-8a71-46ab-a181-0b2483335c47",
   "metadata": {},
   "source": [
    "```sql\n",
    "{% set sources = [\"stg_hubspot_companies\", \"stg_rds_companies\"] %}\n",
    "\n",
    "  with merged_companies as (\n",
    "    {% for source in sources %}\n",
    "        select name, {{ 'company_id' if 'hubspot' in source else 'null' }} as hubspot_company_id,\n",
    "        {{ 'company_id' if 'rds' in source else 'null' }} as rds_company_id\n",
    "         from {{ ref(source) }}\n",
    "        {% if not loop.last %}union all{% endif %}\n",
    "    {% endfor %}\n",
    "  ), \n",
    "    deduped as (\n",
    "    select max(hubspot_company_id) as hubspot_company_id, \n",
    "    max(rds_company_id) as rds_company_id, name from merged_companies group by name\n",
    "  )\n",
    "  select {{ dbt_utils.surrogate_key(['deduped.name']) }} as company_pk, hubspot_company_id, rds_company_id, deduped.name, address,\n",
    "   postal_code, city, country from deduped\n",
    "  join {{ ref('stg_rds_companies') }} rds_companies on rds_companies.company_id = deduped.rds_company_id\n",
    "```"
   ]
  }
 ],
 "metadata": {
  "kernelspec": {
   "display_name": "Python 3 (ipykernel)",
   "language": "python",
   "name": "python3"
  },
  "language_info": {
   "codemirror_mode": {
    "name": "ipython",
    "version": 3
   },
   "file_extension": ".py",
   "mimetype": "text/x-python",
   "name": "python",
   "nbconvert_exporter": "python",
   "pygments_lexer": "ipython3",
   "version": "3.9.7"
  }
 },
 "nbformat": 4,
 "nbformat_minor": 5
}
