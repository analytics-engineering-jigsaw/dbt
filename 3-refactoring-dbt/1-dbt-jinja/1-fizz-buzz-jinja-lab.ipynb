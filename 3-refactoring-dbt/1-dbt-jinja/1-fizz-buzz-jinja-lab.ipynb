{
 "cells": [
  {
   "cell_type": "markdown",
   "id": "5a8adbd4-adb6-4599-857d-e5c9eee8b83d",
   "metadata": {},
   "source": [
    "# FizzBuzz Jinja"
   ]
  },
  {
   "cell_type": "markdown",
   "id": "f46e26ef-365d-4142-9dda-463fa84f0b17",
   "metadata": {},
   "source": [
    "### Introduction"
   ]
  },
  {
   "cell_type": "markdown",
   "id": "5efb1310-50f8-4677-8f31-f76a1ca3ebd8",
   "metadata": {},
   "source": [
    "In this lesson, we can get more familiar with Jinja by working through the classic fizzbuzz problem."
   ]
  },
  {
   "cell_type": "markdown",
   "id": "122ba077-32ee-41a2-a8a5-669bb17c2dc7",
   "metadata": {},
   "source": [
    "### Coding FizzBuzz"
   ]
  },
  {
   "cell_type": "markdown",
   "id": "4296d142-1c4f-4fef-b93b-674087b5f2b0",
   "metadata": {},
   "source": [
    "In the fizzbuzz problem, we loop through a sequential list of numbers, and display fizz when the number is even and buzz when the number is odd."
   ]
  },
  {
   "cell_type": "markdown",
   "id": "424d6c1c-6547-4023-b590-457ff166fba3",
   "metadata": {},
   "source": [
    "Now few languages have an `iseven` or `isodd` function.  Instead we'll use the `modulo` expression.  The modulo returns the remainder.  "
   ]
  },
  {
   "cell_type": "code",
   "execution_count": 3,
   "id": "0f3aee4c-b3f2-432b-8a84-512c02623fc6",
   "metadata": {},
   "outputs": [
    {
     "name": "stdout",
     "output_type": "stream",
     "text": [
      "0\n",
      "1\n",
      "0\n"
     ]
    }
   ],
   "source": [
    "for i in [0, 1, 2]:\n",
    "    print(i % 2)"
   ]
  },
  {
   "cell_type": "markdown",
   "id": "06779102-3906-4ee8-a340-791b30b199e8",
   "metadata": {},
   "source": [
    "So we can see that for our first number, 0, the remainder of $\\frac{0}{2}$ is 0.  And the remainder of $\\frac{1}{2}$ is 1.  \n",
    "\n",
    "In other words for each number the even numbers have a remainder of zero and the odd numbers have a remainder of 1.  Use the above, to loop through a list of numbers in Python 1 through 5, printing `fizz` when a number is even and `buzz` when a number is odd."
   ]
  },
  {
   "cell_type": "code",
   "execution_count": 1,
   "id": "79de2f0f-ddd2-4f11-aea4-c44237fa1d24",
   "metadata": {},
   "outputs": [],
   "source": [
    "\n",
    "# 0 fizz\n",
    "# 1 buzz\n",
    "# 2 fizz\n",
    "# 3 buzz\n",
    "# 4 fizz\n",
    "# 5 buzz"
   ]
  },
  {
   "cell_type": "markdown",
   "id": "dfbf4292-f656-459f-aa3f-c33f6eccfc7d",
   "metadata": {},
   "source": [
    "### Moving to Jinja"
   ]
  },
  {
   "cell_type": "markdown",
   "id": "c9a16c78-c005-4bb8-8ed0-599abea81ae7",
   "metadata": {},
   "source": [
    "Now that we've coded this in Python, let's code the equivalent in Jinja.  We can check our results by compiling our sql, and then should see the following:"
   ]
  },
  {
   "cell_type": "markdown",
   "id": "8145a467-9ad1-43a8-9654-6f99f3879e8f",
   "metadata": {},
   "source": [
    "> <img src=\"./compiled_sql.png\" width=\"60%\">"
   ]
  },
  {
   "cell_type": "markdown",
   "id": "fd35035e-7ef6-4046-baf9-8a7b664a45a3",
   "metadata": {
    "tags": []
   },
   "source": [
    "### Showing results"
   ]
  },
  {
   "cell_type": "markdown",
   "id": "c45b3ac7-6272-46bf-907c-b9f45722606d",
   "metadata": {},
   "source": [
    "Now let's turn the above into a select statement.  Store the number values in a column called `number` and the fizz or buzz values in a column called `output`.  \n",
    "\n",
    "When we preview the results of our select statement we should see the following."
   ]
  },
  {
   "cell_type": "markdown",
   "id": "a0ae2c6c-2c82-4ca8-a53f-1fef140b6890",
   "metadata": {},
   "source": [
    "> <img src=\"./previewed-results.png\" width=\"60%\">"
   ]
  },
  {
   "cell_type": "markdown",
   "id": "92705bfc-d803-4c43-9aba-f4903d6fd7d9",
   "metadata": {},
   "source": [
    "### Summary"
   ]
  },
  {
   "cell_type": "markdown",
   "id": "da28daf7-b27c-4713-adcb-d07a9c5e8f87",
   "metadata": {},
   "source": [
    "In this lesson, we practiced many the components of working with jinja including:\n",
    "\n",
    "* if else\n",
    "* loops\n",
    "* if not loop.last\n",
    "* rendering strings with jinja"
   ]
  },
  {
   "cell_type": "markdown",
   "id": "e8da66bb-8776-4f57-9099-9c0c317d40a5",
   "metadata": {},
   "source": [
    "### Solution"
   ]
  },
  {
   "cell_type": "markdown",
   "id": "5237460d-1992-42df-b6df-89abd64ffd72",
   "metadata": {},
   "source": [
    "```sql\n",
    "{% for num in range(6) %}\n",
    "  {% if num % 2 == 0 %}\n",
    "    {% set value = 'fizz' %}\n",
    "  {% else %}\n",
    "    {% set value = 'buzz' %}\n",
    "  {% endif %}\n",
    "  select {{ num }} as number,  '{{ value }}' as output {% if not loop.last %} union all {% endif %}\n",
    "{% endfor %}\n",
    "```"
   ]
  }
 ],
 "metadata": {
  "kernelspec": {
   "display_name": "Python 3 (ipykernel)",
   "language": "python",
   "name": "python3"
  },
  "language_info": {
   "codemirror_mode": {
    "name": "ipython",
    "version": 3
   },
   "file_extension": ".py",
   "mimetype": "text/x-python",
   "name": "python",
   "nbconvert_exporter": "python",
   "pygments_lexer": "ipython3",
   "version": "3.9.7"
  }
 },
 "nbformat": 4,
 "nbformat_minor": 5
}
