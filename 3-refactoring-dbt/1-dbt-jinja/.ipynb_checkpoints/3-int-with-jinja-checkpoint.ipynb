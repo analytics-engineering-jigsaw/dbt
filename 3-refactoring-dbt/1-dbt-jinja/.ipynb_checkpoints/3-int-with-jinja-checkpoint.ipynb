{
 "cells": [
  {
   "cell_type": "markdown",
   "id": "598418a4-6d85-4f85-b115-25ff109a659e",
   "metadata": {},
   "source": [
    "# Jinja Notes"
   ]
  },
  {
   "cell_type": "markdown",
   "id": "c4e7d095-3eff-4d81-9e4c-0e07ebe169a0",
   "metadata": {},
   "source": [
    "### Introduction"
   ]
  },
  {
   "cell_type": "code",
   "execution_count": null,
   "id": "795cae67-df60-4a69-9b0c-30affec3b293",
   "metadata": {},
   "outputs": [],
   "source": []
  },
  {
   "cell_type": "markdown",
   "id": "8358519a-ced5-49b8-9cb9-f283a58d3fe4",
   "metadata": {},
   "source": [
    "<img src=\"./select-amount.png\" width=\"100%\">"
   ]
  },
  {
   "cell_type": "markdown",
   "id": "741dcf48-83b3-41b3-b2c0-166ffb58a8e4",
   "metadata": {},
   "source": [
    "> <img src=\"./if-not.png\" width=\"100%\">"
   ]
  },
  {
   "cell_type": "code",
   "execution_count": null,
   "id": "373b48a3-30d4-4bf9-9179-bfcda652bce4",
   "metadata": {},
   "outputs": [],
   "source": []
  }
 ],
 "metadata": {
  "kernelspec": {
   "display_name": "Python 3 (ipykernel)",
   "language": "python",
   "name": "python3"
  },
  "language_info": {
   "codemirror_mode": {
    "name": "ipython",
    "version": 3
   },
   "file_extension": ".py",
   "mimetype": "text/x-python",
   "name": "python",
   "nbconvert_exporter": "python",
   "pygments_lexer": "ipython3",
   "version": "3.9.7"
  }
 },
 "nbformat": 4,
 "nbformat_minor": 5
}
