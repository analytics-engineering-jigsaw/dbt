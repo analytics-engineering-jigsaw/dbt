{
 "cells": [
  {
   "cell_type": "markdown",
   "id": "343a3c89-952b-45df-a1a0-0a84eebcf32c",
   "metadata": {},
   "source": [
    "# Introduction to Jinja"
   ]
  },
  {
   "cell_type": "markdown",
   "id": "05557c59-6e67-460b-812f-2ccf2434ecb3",
   "metadata": {},
   "source": [
    "### Introduction"
   ]
  },
  {
   "cell_type": "markdown",
   "id": "178bc24b-08de-4733-80d7-ec2fc8e98570",
   "metadata": {},
   "source": [
    "In DBT, we can reduce repetition in our code by working through a Python language like Jinja.  Using Jinja will allow us to take advantage of many of the same features of Python.  \n",
    "\n",
    "For example, as we'll see, with Jinja, we can make use of if else statements, and loops.  Let's get started."
   ]
  },
  {
   "cell_type": "markdown",
   "id": "255c8947-82b5-4565-9a83-b7819598c2ad",
   "metadata": {},
   "source": [
    "### Practicing Jinja"
   ]
  },
  {
   "cell_type": "markdown",
   "id": "e3491fa3-45dc-42ec-a4a3-e8abff3fa205",
   "metadata": {},
   "source": [
    "We can see our first bit of jinja, whenever we open a new file in DBT.  Let's open a new file in DBT, and replace our code with the following:"
   ]
  },
  {
   "cell_type": "markdown",
   "id": "f2dc6afa-7a2b-4107-8ff4-28baa42d0d21",
   "metadata": {},
   "source": [
    "```python\n",
    "{% for i in range(3) %}\n",
    "  select {{ i }} as number union all \n",
    "{% endfor %}\n",
    "```"
   ]
  },
  {
   "cell_type": "markdown",
   "id": "94988408-d4ac-4e56-b274-09bc25157b68",
   "metadata": {},
   "source": [
    "Above we are writing a simple loop in Jinja.  We'll break this down in a second -- but for now, let's just look at the results by clicking the `compile` button in DBT. "
   ]
  },
  {
   "cell_type": "markdown",
   "id": "6f4fee9b-e323-4343-a330-3baa2fd8fc76",
   "metadata": {},
   "source": [
    "<img src=\"./compiled-jinja.png\" width=\"60%\">"
   ]
  },
  {
   "cell_type": "markdown",
   "id": "0c2673a1-2578-47f6-b4e7-ad1f710780c4",
   "metadata": {},
   "source": [
    "So we can see that for every number from 0 to 2, it generates the sql:\n",
    "\n",
    "```sql\n",
    "select num as number union all\n",
    "```"
   ]
  },
  {
   "cell_type": "markdown",
   "id": "0b619ddf-2221-47ba-a2e0-243e3db45d9f",
   "metadata": {},
   "source": [
    "Now let's look at our original code."
   ]
  },
  {
   "cell_type": "markdown",
   "id": "d18dcc23-e0a3-4c10-8f94-e738a0c214f2",
   "metadata": {},
   "source": [
    "```python\n",
    "{% for i in range(3) %}\n",
    "  select {{ i }} as number union all \n",
    "{% endfor %}\n",
    "```"
   ]
  },
  {
   "cell_type": "markdown",
   "id": "bcd95722-d2ae-4314-9569-61252afc4857",
   "metadata": {},
   "source": [
    "In jinja, our code is distinguished between statements and expressions.  \n",
    "\n",
    "* **Expressions** are indicated by the `{{ }}`, and are anything we want to display.  So above, we want to display each number, 0 through 2, inside of the select statement.  \n",
    "\n",
    "* **Statements** are indicated by the `{% %}` and are used to contain logical code that we do not want to display.  So above, we do not want to render the for loop itself -- but rather, we just want the loop to occur, rendering the content inside.\n",
    "\n",
    "We will use statements when writing `for` loops, and `if` `else` statements.  "
   ]
  },
  {
   "cell_type": "markdown",
   "id": "ddc562a1-3055-4129-a7e8-d8e6030df75c",
   "metadata": {},
   "source": [
    "One thing to notice with jinja is that there is no concept of whitespace to indicate when a statement completes.  So instead we must explicitly end our statements.\n",
    "\n",
    "For example, above, we complete our loop with a `endfor` statement.  And if we had an if else statement, we complete it with an `endif` statement."
   ]
  },
  {
   "cell_type": "markdown",
   "id": "246b00eb-8aba-4cdb-a081-41b3f692a111",
   "metadata": {},
   "source": [
    "### Completing our statement"
   ]
  },
  {
   "cell_type": "markdown",
   "id": "fba65c8f-be88-49da-b3c9-48197d8ad545",
   "metadata": {},
   "source": [
    "Now let's another look at our current loop."
   ]
  },
  {
   "cell_type": "markdown",
   "id": "308267c5-1b70-49d6-bfb9-679df8150a1e",
   "metadata": {},
   "source": [
    "```sql\n",
    "{% for i in range(3) %}\n",
    "  select {{ i }} as number union all \n",
    "{% endfor %}\n",
    "```"
   ]
  },
  {
   "cell_type": "markdown",
   "id": "df49258a-8632-47b4-8e3e-cdc4b9f959ba",
   "metadata": {},
   "source": [
    "And what it compiles to."
   ]
  },
  {
   "cell_type": "markdown",
   "id": "dca39abc-bacd-4e1e-8837-8764d5298173",
   "metadata": {},
   "source": [
    "<img src=\"./compiled.png\" width=\"60%\">"
   ]
  },
  {
   "cell_type": "markdown",
   "id": "71c45352-50b9-4375-8ece-2eb97af6ad03",
   "metadata": {},
   "source": [
    "This it turns out, is almost a valid select statement...but not quite.\n",
    "\n",
    "The issue is that last union all statement.  We would like to union together each select statement -- but we do not need a union all statement at the very end.  \n",
    "\n",
    "We can get a union all expression after every select statement but the last one, if we change our Jinja to the following:"
   ]
  },
  {
   "cell_type": "markdown",
   "id": "1247f448-b229-4f91-a5fd-81676075ddb8",
   "metadata": {},
   "source": [
    "```sql\n",
    "{% for i in range(3) %}\n",
    "  select {{ i }} as number \n",
    "  {% if not loop.last %} union all {% endif %} \n",
    "{% endfor %}\n",
    "```"
   ]
  },
  {
   "cell_type": "markdown",
   "id": "af44ceb4-104e-402f-9617-de39d1293562",
   "metadata": {},
   "source": [
    "This does the trick."
   ]
  },
  {
   "cell_type": "markdown",
   "id": "ab868b7b-d316-46f5-b8d6-85b69dd605f2",
   "metadata": {},
   "source": [
    "<img src=\"./compiled_last.png\" width=\"80%\">"
   ]
  },
  {
   "cell_type": "markdown",
   "id": "339f3930-2fab-4c03-a8ef-1dd4c3be0cf4",
   "metadata": {},
   "source": [
    "And with this fix, we can click on the `compile` button and see that our sql will compile."
   ]
  },
  {
   "cell_type": "markdown",
   "id": "6c242c35-fe29-4fa5-b1c8-3956b5b1b857",
   "metadata": {},
   "source": [
    "<img src=\"./results.png\" width=\"50%\">"
   ]
  },
  {
   "cell_type": "markdown",
   "id": "50b8fb9a-acfe-41a3-b823-b319d4c0c7e4",
   "metadata": {},
   "source": [
    "### One last thing\n",
    "\n",
    "At this point, we have seen most of the fundamentals of Jinja.  There is just perhaps one more component to get started.  \n",
    "\n",
    "And that is using variables.  We can just a variable with the word `set` like so.\n",
    "\n",
    "For example, if we want to loop through a list of colors instead of a list of numbers, we can do so by first declaring a variable like so."
   ]
  },
  {
   "cell_type": "markdown",
   "id": "70834c08-1f2f-4ff1-9405-19c52a6d69a3",
   "metadata": {},
   "source": [
    "```sql\n",
    "{% set colors = ['red', 'blue', 'purple'] %}\n",
    "\n",
    "{% for color in colors %}\n",
    "  select {{ color }} as number \n",
    "  {% if not loop.last %} union all {% endif %} \n",
    "{% endfor %}\n",
    "```"
   ]
  },
  {
   "cell_type": "markdown",
   "id": "29f239da-6ff8-4224-871b-d99369d27392",
   "metadata": {},
   "source": [
    "If we try to preview the results, we'll see that it doesn't output any sql."
   ]
  },
  {
   "cell_type": "markdown",
   "id": "fde09072-7c8f-47db-baa0-b717df4b9b20",
   "metadata": {},
   "source": [
    "> <img src=\"./db-error.png\" width=\"70%\">"
   ]
  },
  {
   "cell_type": "markdown",
   "id": "16525fc8-b1ee-4cde-aa22-3ba25c14bb3c",
   "metadata": {},
   "source": [
    "If we look at the compiled SQL, we can perhaps see the issue:"
   ]
  },
  {
   "cell_type": "markdown",
   "id": "e4d83973-fed3-4674-9c50-8d6af7531e1d",
   "metadata": {},
   "source": [
    "> <img src=\"./compiled-select.png\" width=\"70%\">"
   ]
  },
  {
   "cell_type": "markdown",
   "id": "a414aea3-eff4-4da9-a21c-f8e4b064cb04",
   "metadata": {},
   "source": [
    "We would like to have our colors wrapped in quotes.  Otherwise, sql will think that we're referring to a column name.  Well we can accomplish this in jinja with the following:"
   ]
  },
  {
   "cell_type": "markdown",
   "id": "76ae4bcd-942d-4899-9846-d6e63008dede",
   "metadata": {},
   "source": [
    "> <img src=\"./quoted-string.png\" width=\"70%\">"
   ]
  },
  {
   "cell_type": "markdown",
   "id": "c51ba105-f5a1-4eb7-81c8-aee8c09c8844",
   "metadata": {},
   "source": [
    "And then this sql will run."
   ]
  },
  {
   "cell_type": "markdown",
   "id": "9eaebe8e-f3a0-4c00-a048-51a57b58b5f3",
   "metadata": {},
   "source": [
    "> <img src=\"./query-results.png\" width=\"70%\">"
   ]
  },
  {
   "cell_type": "markdown",
   "id": "395df429-a11f-441b-9400-977702242ab7",
   "metadata": {},
   "source": [
    "### Summary"
   ]
  },
  {
   "cell_type": "markdown",
   "id": "ee16b497-1a6b-4809-adda-b6128362adcb",
   "metadata": {},
   "source": [
    "In this lesson, we saw how we can begin to use Jinja.  The key components to understand are that anything code that we would like to render, we wrap in `{{ }}`, and for our logical expressions that we do not need to display, we use `{% %}`.  So a for loop looks like following:\n",
    "\n",
    "```\n",
    "{% for i in range(3) %}\n",
    "{% endfor %}\n",
    "```\n",
    "\n",
    "And an if else statment looks like the following:\n",
    "\n",
    "```\n",
    "{% if %}\n",
    "{% else %}\n",
    "{% endif %}\n",
    "```"
   ]
  },
  {
   "cell_type": "markdown",
   "id": "2c262a0d-ab6f-49e6-9b97-29b1de05dc98",
   "metadata": {},
   "source": [
    "Finally, as we saw above, we also need to explicitly end our logical statements."
   ]
  }
 ],
 "metadata": {
  "kernelspec": {
   "display_name": "Python 3 (ipykernel)",
   "language": "python",
   "name": "python3"
  },
  "language_info": {
   "codemirror_mode": {
    "name": "ipython",
    "version": 3
   },
   "file_extension": ".py",
   "mimetype": "text/x-python",
   "name": "python",
   "nbconvert_exporter": "python",
   "pygments_lexer": "ipython3",
   "version": "3.9.7"
  }
 },
 "nbformat": 4,
 "nbformat_minor": 5
}
