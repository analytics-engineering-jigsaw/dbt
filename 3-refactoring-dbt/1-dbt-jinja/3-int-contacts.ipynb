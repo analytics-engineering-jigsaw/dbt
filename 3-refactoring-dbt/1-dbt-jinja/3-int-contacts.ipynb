{
 "cells": [
  {
   "cell_type": "markdown",
   "id": "2476d474-f1a6-4a74-b63c-43431acde50e",
   "metadata": {},
   "source": [
    "# Int Contacts with Jinja"
   ]
  },
  {
   "cell_type": "markdown",
   "id": "e2fced63-8d93-498e-ae75-60ae6fefe53c",
   "metadata": {},
   "source": [
    "### Introduction"
   ]
  },
  {
   "cell_type": "markdown",
   "id": "aa8d2770-ddf4-4eff-97de-c52f222ffbf4",
   "metadata": {},
   "source": [
    "In this lesson, let's work on refactoring the `int contacts` model."
   ]
  },
  {
   "cell_type": "markdown",
   "id": "30aa9dda-eac0-4286-a332-6a8edc74f919",
   "metadata": {},
   "source": [
    "### Getting started"
   ]
  },
  {
   "cell_type": "markdown",
   "id": "46111f00-072c-4d65-9f37-d9ed15af0565",
   "metadata": {},
   "source": [
    "Begin by using Jinja to loop through the relevant staging models, and display the `first_name`, `last_name`, and `phone` columns."
   ]
  },
  {
   "cell_type": "markdown",
   "id": "b94e1f07-cb08-412d-ac94-4b5499e0f344",
   "metadata": {},
   "source": [
    "<img src=\"./first_cols.png\" width=\"80%\">"
   ]
  },
  {
   "cell_type": "markdown",
   "id": "d97171e2-307b-4421-a91e-78c81923d841",
   "metadata": {},
   "source": [
    "Then adding in the id columns, we should get something like the following:"
   ]
  },
  {
   "cell_type": "markdown",
   "id": "61ef761b-eeb1-44e3-a143-ff36a0dece65",
   "metadata": {},
   "source": [
    "<img src=\"./with_ids.png\" width=\"90%\">"
   ]
  },
  {
   "cell_type": "markdown",
   "id": "afbdcadd-8906-4e26-8bdd-79b8f4d378c7",
   "metadata": {},
   "source": [
    "When we have added in the primary key, our preview should look like the following:"
   ]
  },
  {
   "cell_type": "markdown",
   "id": "ee81182f-b2eb-4edb-a94f-02ef9d61eea7",
   "metadata": {},
   "source": [
    "<img src=\"./int-complete.png\" width=\"90%\">"
   ]
  },
  {
   "cell_type": "markdown",
   "id": "3f91814b-df41-468b-b835-1dbdeebd94ea",
   "metadata": {},
   "source": [
    "### Summary"
   ]
  },
  {
   "cell_type": "markdown",
   "id": "26f0e4d7-404c-469e-8359-42087e70a6da",
   "metadata": {},
   "source": [
    "In this lesson, we practiced using Jinja with our contacts table."
   ]
  }
 ],
 "metadata": {
  "kernelspec": {
   "display_name": "Python 3 (ipykernel)",
   "language": "python",
   "name": "python3"
  },
  "language_info": {
   "codemirror_mode": {
    "name": "ipython",
    "version": 3
   },
   "file_extension": ".py",
   "mimetype": "text/x-python",
   "name": "python",
   "nbconvert_exporter": "python",
   "pygments_lexer": "ipython3",
   "version": "3.9.7"
  }
 },
 "nbformat": 4,
 "nbformat_minor": 5
}
