{
 "cells": [
  {
   "cell_type": "markdown",
   "id": "b46c7d8a-177a-45c9-b9d0-c00454dfb32e",
   "metadata": {},
   "source": [
    "# DBT Tests"
   ]
  },
  {
   "cell_type": "markdown",
   "id": "b01252f0-07b1-4cdb-8fe8-6a914b3a68fe",
   "metadata": {},
   "source": [
    "### Introduction"
   ]
  },
  {
   "cell_type": "markdown",
   "id": "ac95c0a2-159e-4887-b2dc-c334a534fa8e",
   "metadata": {},
   "source": [
    "Another benefit of DBT is that it allows for testing that our data meets certain expectations.  For example, we can use tests to ensure that no data in a specific column has null values.  In this lesson, we'll see how to DBT can allow to write some tests to ensure data quality."
   ]
  },
  {
   "cell_type": "markdown",
   "id": "023c6e3a-26e7-40dd-a230-06ad08225aa3",
   "metadata": {},
   "source": [
    "### Schema Testing Options"
   ]
  },
  {
   "cell_type": "markdown",
   "id": "bbd920af-2563-4276-93e2-5b1a5b671488",
   "metadata": {},
   "source": [
    "With DBT, we can write both custom tests of our data or can use some tests that DBT provides for us out of the box.  Let's start by seeing some assertions that DBT provides for us.  DBT provides helpers to test the following:"
   ]
  },
  {
   "cell_type": "markdown",
   "id": "60aaca93-706a-4b3a-b408-35e2bd2d0d0e",
   "metadata": {},
   "source": [
    "* `unique`: Assert that all values in a column are unique\n",
    "\n",
    "* `not_null`: Assert that no values in a column are null\n",
    "\n",
    "* `accepted_values`: Assert that all values in a column are one of the accepted values\n",
    "\n",
    "* `relationships`: Ensure that every foreign key maps to a primary key in the other model."
   ]
  },
  {
   "cell_type": "markdown",
   "id": "967c5860-116d-48d4-8b14-db88855f8f1e",
   "metadata": {},
   "source": [
    "### Adding a test"
   ]
  },
  {
   "cell_type": "markdown",
   "id": "0b75a640-8d6a-448a-ae60-c0303f7102e4",
   "metadata": {},
   "source": [
    "Ok, now let's see how we can add tests to our DBT repository.  For example, let's start by adding tests for some of the tables in our `mart` folder."
   ]
  },
  {
   "cell_type": "markdown",
   "id": "c9e1f66d-742e-4017-bcaa-d1440520546d",
   "metadata": {},
   "source": [
    "<img src=\"./adding_test_file.png\" width=\"30%\">"
   ]
  },
  {
   "cell_type": "markdown",
   "id": "d95c5e3c-2d24-475a-b1d3-7abc4117ba7c",
   "metadata": {},
   "source": [
    "> We can both name the file anything we want, so long it ends with `.yml`.  And we can also place the file anywhere we want in the repository.  But the recommend practice is for there to be one yaml file per modeling folder, and to place the file in the folder with the relevant `.sql` files."
   ]
  },
  {
   "cell_type": "markdown",
   "id": "b5fa880c-22e9-4798-a777-9353467bc390",
   "metadata": {},
   "source": [
    "Ok, so now that we have our yaml file let's use it to make an assertion about our data.  We can work on the dimension films data, which looks like the following: "
   ]
  },
  {
   "cell_type": "markdown",
   "id": "c2c50f99-b5bf-4e85-9994-ba427cbdb28a",
   "metadata": {},
   "source": [
    "> <img src=\"./dim_films.png\" width=\"80%\">"
   ]
  },
  {
   "cell_type": "markdown",
   "id": "685e4005-1fc9-4456-8b9d-7a0b31ce6921",
   "metadata": {},
   "source": [
    "Let's begin by asserting that every film has a corresponding `year`.  We do so by adding the following to our `films_mart.yaml` file."
   ]
  },
  {
   "cell_type": "markdown",
   "id": "3d150b8f-7574-4b26-8235-12e975779384",
   "metadata": {},
   "source": [
    "```yaml\n",
    "version: 2\n",
    "\n",
    "models: \n",
    "  - name: dim_films\n",
    "  columns:\n",
    "    - name: year\n",
    "      tests:\n",
    "        - not_null\n",
    "```"
   ]
  },
  {
   "cell_type": "markdown",
   "id": "c2ee3eab-2ba3-492f-be0e-f057d785afa1",
   "metadata": {},
   "source": [
    "So the above will assert that in the `dim_films` table, the `year` column will not have any null values.  Now let's go through the syntax.\n",
    "\n",
    "The `version: 2` indicates the version of DBT that we are using.  Then because we can assert tests for multiple `models` within the same test file, we then add the `models` key.  Then, in the next indentation we specify the name of the columns we want to test in the model.  And finally the tests."
   ]
  },
  {
   "cell_type": "markdown",
   "id": "434cbdcc-2606-4d4f-925a-6ecc16afe12f",
   "metadata": {},
   "source": [
    "### YAML Syntax"
   ]
  },
  {
   "cell_type": "markdown",
   "id": "f9e589ba-ea48-4398-b2a6-b5159067f1bf",
   "metadata": {},
   "source": [
    "Before moving on, it's worth making sure we understand some of the yaml syntax.  Starting with `models`, notice that we then go two spaces in on the next line.  This is to indicate that we are about to describe a kind of model, `dim_films`.  The key is `models` because we can describe a list of models, and each element of the list should be preceded by a `-`.  So for example, if we wanted to add tests for another model, our yaml would look like the following:\n",
    "\n",
    "```yaml\n",
    "version: 2\n",
    "\n",
    "models: \n",
    "  - name: dim_films\n",
    "    columns:\n",
    "    - name: year\n",
    "      tests:\n",
    "        - not_null\n",
    "  - name: dim_categories\n",
    "```"
   ]
  },
  {
   "cell_type": "markdown",
   "id": "0efe8655-e944-4435-bb8c-34f9e1f43e29",
   "metadata": {},
   "source": [
    "Getting the syntax correct, can be pretty tricky, but luckily DBT will give us some hints if we get it wrong.  For example, let's purposely make a mistake by not indenting the columns table.  If we run `dbt test` to run the tests we'll see the following compilation error:"
   ]
  },
  {
   "cell_type": "markdown",
   "id": "900c0f0a-3fe7-4fc6-a0f5-0bd3fbb5b7c0",
   "metadata": {},
   "source": [
    "> <img src=\"./dbt_compile_error.png\" width=\"40%\">"
   ]
  },
  {
   "cell_type": "markdown",
   "id": "31a6bbbe-a32c-4046-8f53-a4277516aad2",
   "metadata": {},
   "source": [
    "Here, our tests are not even run because DBT is unable to interpret our yaml.  Notice that dbt is indicating two errors, something with `- name: dim_films` or perhaps the `columns` key directly after it.  If you're unable to spot which error is the problem, it's best to remove some of the yaml just to get it working.  For example, the next step might be to update the yaml to the following:"
   ]
  },
  {
   "cell_type": "markdown",
   "id": "d7ad387f-9bd9-4a71-94af-c1b9bc7f5234",
   "metadata": {},
   "source": [
    "```yaml\n",
    "version: 2\n",
    "\n",
    "models: \n",
    "  - name: dim_films\n",
    "```"
   ]
  },
  {
   "cell_type": "markdown",
   "id": "fa39985c-22e3-40bc-a04c-b04b1b6b1cd3",
   "metadata": {},
   "source": [
    "Then we can run `dbt test` again to see if our yaml compiles.  If it does, we can keep adding onto our code, by this time specifying the `columns`.  "
   ]
  },
  {
   "cell_type": "markdown",
   "id": "a1d26b2d-3d44-426d-a2a8-f5978fe304da",
   "metadata": {},
   "source": [
    "```yaml\n",
    "version: 2\n",
    "\n",
    "models: \n",
    "  - name: dim_films\n",
    "    columns: \n",
    "```"
   ]
  },
  {
   "cell_type": "markdown",
   "id": "f5c77419-5933-4e7e-ab87-52bd06c86287",
   "metadata": {},
   "source": [
    "And if we run DBT test, we get another error."
   ]
  },
  {
   "cell_type": "markdown",
   "id": "161a9ed0-8620-46f9-9d4d-109e233a9b18",
   "metadata": {},
   "source": [
    "> <img src=\"./invalid_cols.png\" width=\"30%\">"
   ]
  },
  {
   "cell_type": "markdown",
   "id": "2f5c4ff1-ba8a-4b14-9427-0b910f323eb5",
   "metadata": {},
   "source": [
    "This time, DBT is telling us that there are `Invalid models config given`.  And if we look at the bottom, it says that under columns, `None is not a type of array`.  Let's add back in our `year` column."
   ]
  },
  {
   "cell_type": "markdown",
   "id": "40bd6630-ed20-4a14-8159-635345dd3aae",
   "metadata": {},
   "source": [
    "```yaml\n",
    "version: 2\n",
    "\n",
    "models: \n",
    "  - name: dim_films\n",
    "    columns:\n",
    "      - name: year\n",
    "```\n",
    "\n",
    "And now, our code will at least compile."
   ]
  },
  {
   "cell_type": "markdown",
   "id": "b398b07c-ade7-40e2-bc3b-78ca98bdaaea",
   "metadata": {},
   "source": [
    "### Creating a test\n",
    "\n",
    "* Can name the file anything, and can be located anywhere, but recommended is to store close to the models."
   ]
  },
  {
   "cell_type": "markdown",
   "id": "43ff3329-0bef-4b18-abfe-8a60505b32f2",
   "metadata": {},
   "source": [
    "* And you do need to materialize the model before you can test it."
   ]
  },
  {
   "cell_type": "markdown",
   "id": "d8ba9f32-d428-482f-9e32-23e13edd5382",
   "metadata": {},
   "source": [
    "<img src=\"./dbt_test.png\" width=\"100%\">"
   ]
  },
  {
   "cell_type": "markdown",
   "id": "7e1ab831-73a4-4c0b-87a5-e1ae640c537b",
   "metadata": {},
   "source": [
    "And then run `dbt test` to run tests."
   ]
  },
  {
   "cell_type": "markdown",
   "id": "dd2f1cc5-4e49-478a-b391-02be9e8202f6",
   "metadata": {},
   "source": [
    "And then if click into the SQL, can confirm that it's not null."
   ]
  },
  {
   "cell_type": "markdown",
   "id": "a001a4af-ae35-4f70-945d-4930d5bed063",
   "metadata": {},
   "source": [
    "* And then can look at the values."
   ]
  },
  {
   "cell_type": "markdown",
   "id": "84f6643b-3b8d-4e2f-9b26-4f572d7a7642",
   "metadata": {},
   "source": [
    "<img src=\"./update_tests.png\" width=\"60%\">"
   ]
  },
  {
   "cell_type": "markdown",
   "id": "1ccbd0a7-e872-439e-a440-9a1011a9e955",
   "metadata": {},
   "source": [
    "Then can view errors as `select * from validation_errors`"
   ]
  },
  {
   "cell_type": "markdown",
   "id": "6f7d160a-7801-4fe1-a4ae-99caa7b3a45f",
   "metadata": {},
   "source": [
    "* Also see relationship tests from DBT"
   ]
  },
  {
   "cell_type": "markdown",
   "id": "e251c3d0-2b50-47a6-bb8b-e1315b9cf0ab",
   "metadata": {},
   "source": [
    "### Data Tests"
   ]
  },
  {
   "cell_type": "markdown",
   "id": "1002dca3-f376-4d47-9d6c-f457c80e086e",
   "metadata": {},
   "source": [
    "* Data tests are custom tests we can write, and will pass if zero rows return, and fail if one or more rows return."
   ]
  },
  {
   "cell_type": "markdown",
   "id": "72e6a4af-b30f-4219-b458-7a7db308699a",
   "metadata": {},
   "source": [
    "> <img src=\"./data_test.png\" width=\"60%\">"
   ]
  },
  {
   "cell_type": "code",
   "execution_count": null,
   "id": "1ec82fac-8d6a-4862-9334-423e6b20143f",
   "metadata": {},
   "outputs": [],
   "source": []
  },
  {
   "cell_type": "markdown",
   "id": "7534590b-38f0-4626-929e-1490bf7a8bd4",
   "metadata": {},
   "source": [
    "> <img src=\"./having_not.png\" width=\"60%\">"
   ]
  },
  {
   "cell_type": "markdown",
   "id": "a413d0b1-574f-4a75-863d-62cf2f8bc970",
   "metadata": {},
   "source": [
    "Then can run `dbt test --data` to run the data tests or `dbt test` to run everything."
   ]
  },
  {
   "cell_type": "code",
   "execution_count": null,
   "id": "50acaa62-91e7-4b77-944a-55f200c3d5dc",
   "metadata": {},
   "outputs": [],
   "source": []
  }
 ],
 "metadata": {
  "kernelspec": {
   "display_name": "Python 3",
   "language": "python",
   "name": "python3"
  },
  "language_info": {
   "codemirror_mode": {
    "name": "ipython",
    "version": 3
   },
   "file_extension": ".py",
   "mimetype": "text/x-python",
   "name": "python",
   "nbconvert_exporter": "python",
   "pygments_lexer": "ipython3",
   "version": "3.8.8"
  }
 },
 "nbformat": 4,
 "nbformat_minor": 5
}
