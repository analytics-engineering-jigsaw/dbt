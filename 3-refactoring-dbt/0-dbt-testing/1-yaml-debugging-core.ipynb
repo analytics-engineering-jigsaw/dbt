{
 "cells": [
  {
   "cell_type": "markdown",
   "id": "b46c7d8a-177a-45c9-b9d0-c00454dfb32e",
   "metadata": {},
   "source": [
    "# Debugging YAML"
   ]
  },
  {
   "cell_type": "markdown",
   "id": "b01252f0-07b1-4cdb-8fe8-6a914b3a68fe",
   "metadata": {},
   "source": [
    "### Introduction"
   ]
  },
  {
   "cell_type": "markdown",
   "id": "7c9c36b5-e92a-46bf-a38e-a2503fe3ba12",
   "metadata": {},
   "source": [
    "One of the trickier components of DBT is simply making sure that we have properly set up the YAML syntax.  For that reason, we'll talk through some debugging techniques when working with YAML in DBT."
   ]
  },
  {
   "cell_type": "markdown",
   "id": "434cbdcc-2606-4d4f-925a-6ecc16afe12f",
   "metadata": {},
   "source": [
    "### Debugging Yaml"
   ]
  },
  {
   "cell_type": "markdown",
   "id": "f9e589ba-ea48-4398-b2a6-b5159067f1bf",
   "metadata": {},
   "source": [
    "Before moving on, it's worth making sure we understand some of the yaml syntax.  Let's take another look at the syntax that we used to add a test to our models.\n",
    "\n",
    "```yaml\n",
    "version: 2\n",
    "\n",
    "models: \n",
    "  - name: stg_hubspot_contacts\n",
    "    columns:\n",
    "      - name: first_name\n",
    "      tests:\n",
    "          - not_null\n",
    "      - name: last_name\n",
    "        tests:\n",
    "          - not_null\n",
    "```"
   ]
  },
  {
   "cell_type": "markdown",
   "id": "c6627e99-8182-46b9-a41f-4933db1c8192",
   "metadata": {},
   "source": [
    "Starting with `models`, notice that we then go two spaces in on the next line.  This is to indicate that we are about to describe a kind of model, `dim_films`.  We start the next line with a `-`, because there can be a list of models, and the `-` is used for each element of a list."
   ]
  },
  {
   "cell_type": "markdown",
   "id": "0efe8655-e944-4435-bb8c-34f9e1f43e29",
   "metadata": {},
   "source": [
    "Getting the syntax correct, can be pretty tricky, but luckily DBT will give us some hints if we get it wrong.  For example, let's purposely make a mistake by not indenting the `columns` key under name.\n",
    "\n",
    "```yaml\n",
    "version: 2\n",
    "\n",
    "models: \n",
    "  - name: stg_hubspot_contacts\n",
    "    columns:\n",
    "    - name: first_name\n",
    "      tests:\n",
    "          - not_null\n",
    "      - name: last_name\n",
    "        tests:\n",
    "          - not_null\n",
    "```"
   ]
  },
  {
   "cell_type": "markdown",
   "id": "1e389a81-6fcb-41b5-bef2-8069cd16aa0d",
   "metadata": {},
   "source": [
    "Then run `dbt test`."
   ]
  },
  {
   "cell_type": "markdown",
   "id": "900c0f0a-3fe7-4fc6-a0f5-0bd3fbb5b7c0",
   "metadata": {},
   "source": [
    "```bash\n",
    "Parsing Error\n",
    "  Error reading northwinds_dbt: staging/hubspot/schema.yaml - Runtime Error\n",
    "    Syntax error near line 7\n",
    "    ------------------------------\n",
    "    4  |   - name: stg_hubspot_contacts\n",
    "    5  |     columns:\n",
    "    6  |       - name: first_name\n",
    "    7  |       tests:\n",
    "    8  |           - not_null\n",
    "    9  |           - accepted_values:\n",
    "    10 |               values: ['fran', 'daphne']\n",
    "\n",
    "    Raw Error:\n",
    "    ------------------------------\n",
    "    while parsing a block collection\n",
    "      in \"<unicode string>\", line 6, column 7\n",
    "    did not find expected '-' indicator\n",
    "      in \"<unicode string>\", line 7, column 7\n",
    "```"
   ]
  },
  {
   "cell_type": "markdown",
   "id": "31a6bbbe-a32c-4046-8f53-a4277516aad2",
   "metadata": {},
   "source": [
    "Here, our tests are not  run because DBT is unable to interpret our yaml.  Notice that dbt is indicating an error, and also guessing the line number of 7x.  Where our line number of 7 is the `tests` key.  And it's pretty close!  The real error is of course right above, in line 6.\n",
    "\n",
    "If you're unable to spot which error is the problem, it's best to remove some of the yaml just to get it working.  For example, the next step might be to update the yaml to the following:"
   ]
  },
  {
   "cell_type": "markdown",
   "id": "d7ad387f-9bd9-4a71-94af-c1b9bc7f5234",
   "metadata": {},
   "source": [
    "```yaml\n",
    "version: 2\n",
    "\n",
    "models: \n",
    "  - name: stg_hubspot_contacts\n",
    "```"
   ]
  },
  {
   "cell_type": "markdown",
   "id": "fa39985c-22e3-40bc-a04c-b04b1b6b1cd3",
   "metadata": {},
   "source": [
    "Then we can run `dbt test` again to see if our yaml compiles.  If it does, we can keep adding onto our code, by this time specifying the `columns`.  "
   ]
  },
  {
   "cell_type": "markdown",
   "id": "a1d26b2d-3d44-426d-a2a8-f5978fe304da",
   "metadata": {},
   "source": [
    "```yaml\n",
    "version: 2\n",
    "\n",
    "models: \n",
    "  - name: stg_hubspot_contacts\n",
    "    columns: \n",
    "```"
   ]
  },
  {
   "cell_type": "markdown",
   "id": "0d1ee719-e71c-4e0e-990d-7c646be823e9",
   "metadata": {},
   "source": [
    "```bash\n",
    "Parsing Error\n",
    "  Invalid models config given in models/staging/hubspot/schema.yaml @ models: {'name': 'stg_hubspot_contacts', 'columns': None, 'original_file_path': 'models/staging/hubspot/schema.yaml', 'yaml_key': 'models', 'package_name': 'northwinds_dbt'} - at path ['columns']: None is not of type 'array'\n",
    "```"
   ]
  },
  {
   "cell_type": "markdown",
   "id": "2f5c4ff1-ba8a-4b14-9427-0b910f323eb5",
   "metadata": {},
   "source": [
    "So this time, DBT is telling us that there are `Invalid models config given`.  And if we look at the bottom, it says that under columns, `None is not a type of array`.  Let's add back in our `first_name` column."
   ]
  },
  {
   "cell_type": "markdown",
   "id": "40bd6630-ed20-4a14-8159-635345dd3aae",
   "metadata": {},
   "source": [
    "```yaml\n",
    "version: 2\n",
    "\n",
    "models: \n",
    "  - name: stg_hubspot_contacts\n",
    "    columns: \n",
    "      - name: first_name\n",
    "      \n",
    "```\n",
    "\n",
    "And now, our code will at least compile.  And to get it to test something, we add back in the corresponding `test`."
   ]
  },
  {
   "cell_type": "markdown",
   "id": "49d72065-85d7-454a-a8de-1c82b9da499c",
   "metadata": {},
   "source": [
    "Ok, so now we have fixed our YAML and we can see that it properly compiles.  "
   ]
  },
  {
   "cell_type": "markdown",
   "id": "58177878-dcaa-431e-a4ef-2eff88183f60",
   "metadata": {},
   "source": [
    "Finally, add back in the original test."
   ]
  },
  {
   "cell_type": "markdown",
   "id": "cb55bbb2-e5b9-4d54-8a5e-8ece606268d8",
   "metadata": {},
   "source": [
    "```yaml\n",
    "version: 2\n",
    "\n",
    "models: \n",
    "  - name: stg_hubspot_contacts\n",
    "    columns:\n",
    "      - name: first_name\n",
    "      tests:\n",
    "          - not_null\n",
    "      - name: last_name\n",
    "        tests:\n",
    "          - not_null\n",
    "```"
   ]
  },
  {
   "cell_type": "markdown",
   "id": "92ead8f7-a057-45aa-bff2-3d0ece3340aa",
   "metadata": {},
   "source": [
    "### Resources\n",
    "\n",
    "[DBT Test Documentation](https://docs.getdbt.com/reference/resource-properties/tests)"
   ]
  }
 ],
 "metadata": {
  "kernelspec": {
   "display_name": "Python 3 (ipykernel)",
   "language": "python",
   "name": "python3"
  },
  "language_info": {
   "codemirror_mode": {
    "name": "ipython",
    "version": 3
   },
   "file_extension": ".py",
   "mimetype": "text/x-python",
   "name": "python",
   "nbconvert_exporter": "python",
   "pygments_lexer": "ipython3",
   "version": "3.9.12"
  }
 },
 "nbformat": 4,
 "nbformat_minor": 5
}
