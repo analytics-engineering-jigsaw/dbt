{
 "cells": [
  {
   "cell_type": "markdown",
   "id": "b46c7d8a-177a-45c9-b9d0-c00454dfb32e",
   "metadata": {},
   "source": [
    "# DBT Tests"
   ]
  },
  {
   "cell_type": "markdown",
   "id": "b01252f0-07b1-4cdb-8fe8-6a914b3a68fe",
   "metadata": {},
   "source": [
    "### Introduction"
   ]
  },
  {
   "cell_type": "markdown",
   "id": "ac95c0a2-159e-4887-b2dc-c334a534fa8e",
   "metadata": {},
   "source": [
    "Another benefit of DBT is that it allows us to test that our data.  For example, we can use tests to ensure that no data in a specific column has null values, or that all values in a column are unique.  In this lesson, we'll see how to DBT can allow to write some tests to ensure data quality."
   ]
  },
  {
   "cell_type": "markdown",
   "id": "023c6e3a-26e7-40dd-a230-06ad08225aa3",
   "metadata": {},
   "source": [
    "### Schema Testing Options"
   ]
  },
  {
   "cell_type": "markdown",
   "id": "bbd920af-2563-4276-93e2-5b1a5b671488",
   "metadata": {},
   "source": [
    "With DBT, we can use tests that DBT provides for us out of the box.  Let's start.  \n",
    "\n",
    "The following helpers that DBT provides to test our data are the following:"
   ]
  },
  {
   "cell_type": "markdown",
   "id": "60aaca93-706a-4b3a-b408-35e2bd2d0d0e",
   "metadata": {},
   "source": [
    "* `unique`: Assert that all values in a column are unique\n",
    "\n",
    "* `not_null`: Assert that no values in a column are null\n",
    "\n",
    "* `accepted_values`: Assert that all values in a column are one of the accepted values\n",
    "\n",
    "* `relationships`: Ensure that every foreign key maps to a primary key in the other model."
   ]
  },
  {
   "cell_type": "markdown",
   "id": "967c5860-116d-48d4-8b14-db88855f8f1e",
   "metadata": {},
   "source": [
    "### Adding a test"
   ]
  },
  {
   "cell_type": "markdown",
   "id": "0b75a640-8d6a-448a-ae60-c0303f7102e4",
   "metadata": {},
   "source": [
    "Ok, so now that we see what we can do with DBT, let's begin to add our first test.  We'll start by adding tests for some of the models in our `staging` folder.\n",
    "\n",
    "Under our hubspot folder, we can add a new file called `schema.yml` and add the following to that file."
   ]
  },
  {
   "cell_type": "markdown",
   "id": "3d150b8f-7574-4b26-8235-12e975779384",
   "metadata": {},
   "source": [
    "```yaml\n",
    "version: 2\n",
    "\n",
    "models: \n",
    "  - name: stg_hubspot_contacts\n",
    "    columns:\n",
    "      - name: first_name\n",
    "        tests:\n",
    "          - not_null\n",
    "      - name: last_name\n",
    "        tests:\n",
    "          - not_null\n",
    "```"
   ]
  },
  {
   "cell_type": "markdown",
   "id": "a3530988-e49c-4bd1-95a0-513dccdddb80",
   "metadata": {},
   "source": [
    "> This is in addition to our `sources.yaml` file."
   ]
  },
  {
   "cell_type": "markdown",
   "id": "c2ee3eab-2ba3-492f-be0e-f057d785afa1",
   "metadata": {},
   "source": [
    "The yaml above asserts that in the `stg_hubspot_contacts` model, the `first_name` and `last_name` columns do not have any null values.  Now let's move through the details.\n",
    "\n",
    "At the top, the `version: 2` indicates the version of the DBT api that we are using.  Then, because we can assert tests for multiple `models` within the same test file, we then added the `models` key.  Then, we moved in two spaces and specified the name of the columns we wanted to test in the model.  And then we added a key for tests, and specified each test.\n",
    "\n",
    "> So with yaml, we indicate that one entity is a subset of another by moving in two spaces.  And, as for those dashes, we need a dash before each element of a list."
   ]
  },
  {
   "cell_type": "markdown",
   "id": "37a4f83c-8175-4b71-b777-8a8aec66a1b4",
   "metadata": {},
   "source": [
    "### Running the tests"
   ]
  },
  {
   "cell_type": "markdown",
   "id": "c8279c68-77f5-4b4e-8b0c-0e5ecb706356",
   "metadata": {},
   "source": [
    "Now it's time to again run our tests against the data.  \n",
    "\n",
    "In our DBT command line at the bottom, we can run tests by typing in `dbt test` and then pressing return. \n",
    "\n",
    "> Or, if we want to only run tests of a specific model, we can do so with a call to `dbt test --models stg_hubspot_contacts`.\n",
    "\n",
    "Upon doing so, we should see something like the following:"
   ]
  },
  {
   "cell_type": "markdown",
   "id": "fcb2e1cb-4ab9-4286-83c7-cfbad45c3a76",
   "metadata": {},
   "source": [
    "```bash\n",
    "16:38:18  1 of 2 START test not_null_stg_hubspot_contacts_first_name ..................... [RUN]\n",
    "16:38:18  1 of 2 PASS not_null_stg_hubspot_contacts_first_name ........................... [PASS in 0.03s]\n",
    "16:38:18  2 of 2 START test not_null_stg_hubspot_contacts_last_name ...................... [RUN]\n",
    "16:38:18  2 of 2 PASS not_null_stg_hubspot_contacts_last_name ............................ [PASS in 0.01s]\n",
    "16:38:18\n",
    "16:38:18  Finished running 2 tests in 0 hours 0 minutes and 0.29 seconds (0.29s).\n",
    "16:38:18\n",
    "16:38:18  Completed successfully\n",
    "16:38:18\n",
    "16:38:18  Done. PASS=2 WARN=0 ERROR=0 SKIP=0 TOTAL=2\n",
    "```"
   ]
  },
  {
   "cell_type": "markdown",
   "id": "02b1558a-13e0-4a4e-9ca8-72450bcf4300",
   "metadata": {},
   "source": [
    "### Viewing the compiled tests"
   ]
  },
  {
   "cell_type": "markdown",
   "id": "95b76835-48e8-4c39-9fce-cb955976d035",
   "metadata": {},
   "source": [
    "In the output above, we can see `logs` of our test run.  However, we can also see the SQL that executed these tests if we look in our `target/compiled` folder.\n",
    "\n",
    "Go to `target/compiled/staging/hubspot/schema.yaml` and there we'll see the SQL behind our two tests.\n",
    "\n",
    "`not_null_stg_hubspot_contacts_first_name.sql`\n",
    "\n",
    "```sql\n",
    "select first_name\n",
    "from \"northwinds\".\"dev\".\"stg_hubspot_contacts\"\n",
    "where first_name is null\n",
    "```"
   ]
  },
  {
   "cell_type": "markdown",
   "id": "a0d1cf5d-8e56-4663-836a-8df304bdacae",
   "metadata": {},
   "source": [
    "So we can see that to see that all contacts have a first name, DBT runs a test to see if any first_name is null.  If it gets back a value, it knows that the test fails.\n",
    "\n",
    "> So just think of the test as looking for any defects in our data.  When a defect is spotted, a flag is raised."
   ]
  },
  {
   "cell_type": "markdown",
   "id": "fd7c03f1-6647-47a8-8453-60d7b9525031",
   "metadata": {},
   "source": [
    "### Debugging Tests"
   ]
  },
  {
   "cell_type": "markdown",
   "id": "50aa644e-c178-4f8a-8e52-d36bca906f9e",
   "metadata": {},
   "source": [
    "Now let's move through the procedure we can perform when a test does fail.  Let's say that we want to assert the following:"
   ]
  },
  {
   "cell_type": "markdown",
   "id": "fcb99da3-85e2-4aa2-b8da-cd178ce80423",
   "metadata": {},
   "source": [
    "* All first names must be either `fran` or `daphne`\n",
    "\n",
    "We can add that test by updating our yaml to be the following:"
   ]
  },
  {
   "cell_type": "markdown",
   "id": "76f3164b-86b0-4ace-a566-a39d274633f5",
   "metadata": {},
   "source": [
    "```yaml\n",
    "version: 2\n",
    "\n",
    "models: \n",
    "  - name: stg_hubspot_contacts\n",
    "    columns:\n",
    "      - name: first_name\n",
    "        tests:\n",
    "          - not_null\n",
    "          - accepted_values:\n",
    "              values: ['fran', 'daphne']\n",
    "      - name: last_name\n",
    "        tests:\n",
    "          - not_null\n",
    "```"
   ]
  },
  {
   "cell_type": "markdown",
   "id": "cf7ef432-d1e6-4a77-9169-e1be84b26e90",
   "metadata": {},
   "source": [
    "Ok, now let's run the tests."
   ]
  },
  {
   "cell_type": "markdown",
   "id": "be72f90b-5385-48ec-86f8-4699dd47bcb4",
   "metadata": {},
   "source": [
    "`dbt test`"
   ]
  },
  {
   "cell_type": "markdown",
   "id": "97e995d7-326b-4ed0-8718-e3ffd1c01486",
   "metadata": {},
   "source": [
    "```bash\n",
    "16:59:25  Completed with 1 error and 0 warnings:\n",
    "16:59:25\n",
    "16:59:25  Failure in test accepted_values_stg_hubspot_contacts_first_name__fran__daphne (models/staging/hubspot/schema.yaml)\n",
    "16:59:25    Got 477 results, configured to fail if != 0\n",
    "```"
   ]
  },
  {
   "cell_type": "markdown",
   "id": "395a9fb8-b50e-4074-9e23-b66f868b667c",
   "metadata": {},
   "source": [
    "Ok, so we can see that this time we can see that something is broken.  And that it has found 477 results that do not have one of those accepted values.\n",
    "\n",
    "It would be nice if we can take a closer look at our defective data, to see what is going on."
   ]
  },
  {
   "cell_type": "markdown",
   "id": "43fdcdd2-29b0-4526-a3ff-0c864142eac5",
   "metadata": {},
   "source": [
    "Well notice that in our console it says:\n",
    "```bash\n",
    "compiled Code at target/compiled/northwinds_dbt/models/staging/hubspot/schema.yaml/accepted_values_stg_hubspot_contacts_first_name__fran__daphne.sql\n",
    "```"
   ]
  },
  {
   "cell_type": "markdown",
   "id": "b9de5ff8-f7cd-42ae-94b3-56f53bba7f59",
   "metadata": {},
   "source": [
    "If we go to that file, we'll see the following:"
   ]
  },
  {
   "cell_type": "markdown",
   "id": "134e5818-d420-45a0-9faa-3b6b52102b42",
   "metadata": {},
   "source": [
    "```sql\n",
    "with all_values as (\n",
    "\n",
    "    select\n",
    "        first_name as value_field,\n",
    "        count(*) as n_records\n",
    "\n",
    "    from \"northwinds\".\"dev\".\"stg_hubspot_contacts\"\n",
    "    group by first_name\n",
    "\n",
    ")\n",
    "\n",
    "select *\n",
    "from all_values\n",
    "where value_field not in (\n",
    "    'fran','daphne'\n",
    ")\n",
    "```"
   ]
  },
  {
   "cell_type": "markdown",
   "id": "99f1b452-ceae-4e8f-8849-7dbb9513c35d",
   "metadata": {},
   "source": [
    "We can then copy that query into postgres, or we can just run the file against our database like so, to see the invalid data."
   ]
  },
  {
   "cell_type": "markdown",
   "id": "e54855d0-866e-4bf5-a91e-40161b0fb53c",
   "metadata": {},
   "source": [
    "```bash\n",
    "psql -d northwinds -f target/compiled/northwinds_dbt/models/staging/hubspot/schema.yaml/accepted_values_stg_hubspot_contacts_first_name__fran__daphne.sql\n",
    "```"
   ]
  },
  {
   "cell_type": "markdown",
   "id": "cf387cfc-78ed-4ac6-895d-90fe11ab3d20",
   "metadata": {},
   "source": [
    "```bash\n",
    "value_field | n_records\n",
    "-------------+-----------\n",
    " Torrie      |         1\n",
    " Derk        |         1\n",
    " Madge       |         1\n",
    " Rozele      |         1\n",
    "```"
   ]
  },
  {
   "cell_type": "markdown",
   "id": "56583b48-443f-465c-8918-49fb2a56531c",
   "metadata": {},
   "source": [
    "### Finishing up"
   ]
  },
  {
   "cell_type": "markdown",
   "id": "40262093-2ccf-4d21-b08e-32abfaf9a7ea",
   "metadata": {},
   "source": [
    "Ok, so let's change back to our original tests."
   ]
  },
  {
   "cell_type": "markdown",
   "id": "c526534d-4f35-407a-aedd-387e21a02f84",
   "metadata": {},
   "source": [
    "```yaml\n",
    "version: 2\n",
    "\n",
    "models: \n",
    "  - name: stg_hubspot_contacts\n",
    "    columns:\n",
    "      - name: first_name\n",
    "        tests:\n",
    "          - not_null\n",
    "      - name: last_name\n",
    "        tests:\n",
    "          - not_null\n",
    "```"
   ]
  },
  {
   "cell_type": "markdown",
   "id": "655ad323-bfa8-47a0-a352-62d233782d7d",
   "metadata": {},
   "source": [
    "And from there perform `dbt test` to confirm it works.  Then in git, add a new commit.  Then merge the branch to main and push the changes to github."
   ]
  },
  {
   "cell_type": "markdown",
   "id": "92ead8f7-a057-45aa-bff2-3d0ece3340aa",
   "metadata": {},
   "source": [
    "### Resources\n",
    "\n",
    "[DBT Test Documentation](https://docs.getdbt.com/reference/resource-properties/tests)"
   ]
  }
 ],
 "metadata": {
  "kernelspec": {
   "display_name": "Python 3 (ipykernel)",
   "language": "python",
   "name": "python3"
  },
  "language_info": {
   "codemirror_mode": {
    "name": "ipython",
    "version": 3
   },
   "file_extension": ".py",
   "mimetype": "text/x-python",
   "name": "python",
   "nbconvert_exporter": "python",
   "pygments_lexer": "ipython3",
   "version": "3.9.12"
  }
 },
 "nbformat": 4,
 "nbformat_minor": 5
}
