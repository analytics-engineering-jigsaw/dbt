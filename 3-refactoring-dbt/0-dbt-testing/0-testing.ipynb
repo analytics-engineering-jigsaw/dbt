{
 "cells": [
  {
   "cell_type": "markdown",
   "id": "b46c7d8a-177a-45c9-b9d0-c00454dfb32e",
   "metadata": {},
   "source": [
    "# DBT Tests"
   ]
  },
  {
   "cell_type": "markdown",
   "id": "b01252f0-07b1-4cdb-8fe8-6a914b3a68fe",
   "metadata": {},
   "source": [
    "### Introduction"
   ]
  },
  {
   "cell_type": "markdown",
   "id": "ac95c0a2-159e-4887-b2dc-c334a534fa8e",
   "metadata": {},
   "source": [
    "Another benefit of DBT is that it allows us to test that our data.  For example, we can use tests to ensure that no data in a specific column has null values, or that all values in a column are unique.  In this lesson, we'll see how to DBT can allow to write some tests to ensure data quality."
   ]
  },
  {
   "cell_type": "markdown",
   "id": "023c6e3a-26e7-40dd-a230-06ad08225aa3",
   "metadata": {},
   "source": [
    "### Schema Testing Options"
   ]
  },
  {
   "cell_type": "markdown",
   "id": "bbd920af-2563-4276-93e2-5b1a5b671488",
   "metadata": {},
   "source": [
    "With DBT, we can use tests that DBT provides for us out of the box.  Let's start.  \n",
    "\n",
    "The following helpers that DBT provides to test our data are the following:"
   ]
  },
  {
   "cell_type": "markdown",
   "id": "60aaca93-706a-4b3a-b408-35e2bd2d0d0e",
   "metadata": {},
   "source": [
    "* `unique`: Assert that all values in a column are unique\n",
    "\n",
    "* `not_null`: Assert that no values in a column are null\n",
    "\n",
    "* `accepted_values`: Assert that all values in a column are one of the accepted values\n",
    "\n",
    "* `relationships`: Ensure that every foreign key maps to a primary key in the other model."
   ]
  },
  {
   "cell_type": "markdown",
   "id": "967c5860-116d-48d4-8b14-db88855f8f1e",
   "metadata": {},
   "source": [
    "### Adding a test"
   ]
  },
  {
   "cell_type": "markdown",
   "id": "0b75a640-8d6a-448a-ae60-c0303f7102e4",
   "metadata": {},
   "source": [
    "Ok, so now that we see what we can do with DBT, let's begin to add our first test.  We'll start by adding tests for some of the models in our `staging` folder.\n",
    "\n",
    "Under our hubspot folder, we can add a new file called `schema.yml` and add the following to that file."
   ]
  },
  {
   "cell_type": "markdown",
   "id": "3d150b8f-7574-4b26-8235-12e975779384",
   "metadata": {},
   "source": [
    "```yaml\n",
    "version: 2\n",
    "\n",
    "models: \n",
    "  - name: stg_hubspot_contacts\n",
    "    columns:\n",
    "      - name: first_name\n",
    "        tests:\n",
    "          - not_null\n",
    "      - name: last_name\n",
    "        tests:\n",
    "          - not_null\n",
    "```"
   ]
  },
  {
   "cell_type": "markdown",
   "id": "c2ee3eab-2ba3-492f-be0e-f057d785afa1",
   "metadata": {},
   "source": [
    "The yaml above asserts that in the `stg_hubspot_contacts` model, the `first_name` and `last_name` columns do not have any null values.  Now let's move through the details.\n",
    "\n",
    "At the top, the `version: 2` indicates the version of the DBT api that we are using.  Then, because we can assert tests for multiple `models` within the same test file, we then added the `models` key.  Then, we moved in two spaces and specified the name of the columns we wanted to test in the model.  And then we added a key for tests, and specified each test.\n",
    "\n",
    "> So with yaml, we indicate that one entity is a subset of another by moving in two spaces.  And, as for those dashes, we need a dash before each element of a list."
   ]
  },
  {
   "cell_type": "markdown",
   "id": "37a4f83c-8175-4b71-b777-8a8aec66a1b4",
   "metadata": {},
   "source": [
    "### Running the tests"
   ]
  },
  {
   "cell_type": "markdown",
   "id": "c8279c68-77f5-4b4e-8b0c-0e5ecb706356",
   "metadata": {},
   "source": [
    "Now it's time to again run our tests against the data.  \n",
    "\n",
    "In our DBT command line at the bottom, we can run tests by typing in `dbt test` and then pressing return. \n",
    "\n",
    "> Or, if we want to only run tests of a specific model, we can do so with a call to `dbt test --models stg_hubspot_contacts`.\n",
    "\n",
    "Upon doing so, we should see something like the following:"
   ]
  },
  {
   "cell_type": "markdown",
   "id": "fcb2e1cb-4ab9-4286-83c7-cfbad45c3a76",
   "metadata": {},
   "source": [
    "> <img src=\"./dbt_test.png\" width=\"100%\">"
   ]
  },
  {
   "cell_type": "markdown",
   "id": "95b76835-48e8-4c39-9fce-cb955976d035",
   "metadata": {},
   "source": [
    "In the dashboard above, we can view both the `logs` of the entire run, and there is also separate entry for our specific test: `not_null_stg_hubspot_contacts_first_name`.  If we click on that `not_null_stg_hubspot_contacts_first_name` drop down, we see more information."
   ]
  },
  {
   "cell_type": "markdown",
   "id": "ee75df0e-86a6-41cf-90dc-5439a4f716b7",
   "metadata": {},
   "source": [
    "> <img src=\"./first_test.png\" width=\"80%\">"
   ]
  },
  {
   "cell_type": "markdown",
   "id": "828dc444-c096-4798-a289-2c1a80092d11",
   "metadata": {},
   "source": [
    "Above, it just tells us that the test passed -- not too useful.  But if we then click on `details`, we can also see the specific SQL that was run."
   ]
  },
  {
   "cell_type": "markdown",
   "id": "83478e2b-bd47-4359-b2cc-52439440c685",
   "metadata": {},
   "source": [
    "> <img src=\"./generated_cte.png\" width=\"100%\">"
   ]
  },
  {
   "cell_type": "markdown",
   "id": "b24078ba-54a9-429b-b413-aa18ffea87f2",
   "metadata": {},
   "source": [
    "So above, the key part is in the second select statement -- our subquery.  In the subquery, DBT is selecting from the `stg_hubspot_contacts` table for any places where the first `first_name` is null.  Then, in the first select, when the subquery returns any records, it will run an error and a warning."
   ]
  },
  {
   "cell_type": "markdown",
   "id": "fd7c03f1-6647-47a8-8453-60d7b9525031",
   "metadata": {},
   "source": [
    "### Debugging Tests"
   ]
  },
  {
   "cell_type": "markdown",
   "id": "50aa644e-c178-4f8a-8e52-d36bca906f9e",
   "metadata": {},
   "source": [
    "Now let's move through the procedure we can perform when a test does fail.  Let's say that we want to assert the following:"
   ]
  },
  {
   "cell_type": "markdown",
   "id": "fcb99da3-85e2-4aa2-b8da-cd178ce80423",
   "metadata": {},
   "source": [
    "* All first names must be either `fran` or `daphne`\n",
    "\n",
    "We can add that test by updating our yaml to be the following:"
   ]
  },
  {
   "cell_type": "markdown",
   "id": "76f3164b-86b0-4ace-a566-a39d274633f5",
   "metadata": {},
   "source": [
    "```yaml\n",
    "version: 2\n",
    "\n",
    "models: \n",
    "  - name: stg_hubspot_contacts\n",
    "    columns:\n",
    "      - name: first_name\n",
    "        tests:\n",
    "          - not_null\n",
    "          - accepted_values:\n",
    "              values: ['fran', 'daphne']\n",
    "      - name: last_name\n",
    "        tests:\n",
    "          - not_null\n",
    "```"
   ]
  },
  {
   "cell_type": "markdown",
   "id": "cf7ef432-d1e6-4a77-9169-e1be84b26e90",
   "metadata": {},
   "source": [
    "Ok, now let's run the tests."
   ]
  },
  {
   "cell_type": "markdown",
   "id": "b5bbfc00-e484-4435-a1bb-70106c34afa0",
   "metadata": {},
   "source": [
    "> <img src=\"./debugging-tests.png\" width=\"100%\">"
   ]
  },
  {
   "cell_type": "markdown",
   "id": "395a9fb8-b50e-4074-9e23-b66f868b667c",
   "metadata": {},
   "source": [
    "Ok, so we can see that this time we can see that something is broken.  And if we want to identify what data is broken, then we can click on the details of the test."
   ]
  },
  {
   "cell_type": "markdown",
   "id": "d783b3a2-3fb3-442c-b0f6-4674973ad826",
   "metadata": {},
   "source": [
    "<img src=\"./query-test.png\" width=\"60%\">"
   ]
  },
  {
   "cell_type": "markdown",
   "id": "99f1b452-ceae-4e8f-8849-7dbb9513c35d",
   "metadata": {},
   "source": [
    "We can then copy that query into snowflake."
   ]
  },
  {
   "cell_type": "markdown",
   "id": "93184d1b-da16-432c-8840-7429e0b8bb37",
   "metadata": {},
   "source": [
    "<img src=\"./snowflake-query.png\" width=\"100%\">"
   ]
  },
  {
   "cell_type": "markdown",
   "id": "92ead8f7-a057-45aa-bff2-3d0ece3340aa",
   "metadata": {},
   "source": [
    "### Resources\n",
    "\n",
    "[DBT Test Documentation](https://docs.getdbt.com/reference/resource-properties/tests)"
   ]
  }
 ],
 "metadata": {
  "kernelspec": {
   "display_name": "Python 3 (ipykernel)",
   "language": "python",
   "name": "python3"
  },
  "language_info": {
   "codemirror_mode": {
    "name": "ipython",
    "version": 3
   },
   "file_extension": ".py",
   "mimetype": "text/x-python",
   "name": "python",
   "nbconvert_exporter": "python",
   "pygments_lexer": "ipython3",
   "version": "3.9.7"
  }
 },
 "nbformat": 4,
 "nbformat_minor": 5
}
