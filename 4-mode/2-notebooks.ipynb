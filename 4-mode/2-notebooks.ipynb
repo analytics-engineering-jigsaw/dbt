{
 "cells": [
  {
   "cell_type": "markdown",
   "id": "40105b36-9825-4182-9771-72cec674e10b",
   "metadata": {},
   "source": [
    "# Notebooks"
   ]
  },
  {
   "cell_type": "markdown",
   "id": "8b5a0b9e-f55e-45b5-a410-0505a9121c75",
   "metadata": {},
   "source": [
    "### Introduction"
   ]
  },
  {
   "cell_type": "markdown",
   "id": "066718be-5ab9-41a5-bfac-ad4cd9c121df",
   "metadata": {},
   "source": [
    "We saw that we can create our charts from our chart builder.  But we can also create charts through a Python notebook."
   ]
  },
  {
   "cell_type": "markdown",
   "id": "8e95c808-04b3-4cba-b333-0ebef7ddbf9f",
   "metadata": {},
   "source": [
    "### Getting started"
   ]
  },
  {
   "cell_type": "markdown",
   "id": "96a34126-a0f8-4479-a52a-91f06518d031",
   "metadata": {},
   "source": [
    "Let's get creating a new query by clicking on the plus sign next to the query side bar.  And from there, we can write an aggregate query that counts up the number of companies by city."
   ]
  },
  {
   "cell_type": "markdown",
   "id": "584f1b38-787f-413c-9980-28f77b39133a",
   "metadata": {},
   "source": [
    "<img src=\"./change-query.png\" width=\"80%\">"
   ]
  },
  {
   "cell_type": "markdown",
   "id": "d0bd1f4f-15fe-4774-91f4-69637c8ba330",
   "metadata": {},
   "source": [
    "When we get the correct results, we can then name our query by looking at the sidebard, clicking on the name of our query, and giving it a name -- or a new name if it already has one."
   ]
  },
  {
   "cell_type": "markdown",
   "id": "52df238e-aad8-4d6c-9d20-73535fb5fa37",
   "metadata": {},
   "source": [
    "<img src=\"./rename.png\" width=\"40%\">"
   ]
  },
  {
   "cell_type": "markdown",
   "id": "c7b65689-8443-4e0a-b362-9b07d5ac5fb9",
   "metadata": {},
   "source": [
    "From there, we can click on the Python notebook tab."
   ]
  },
  {
   "cell_type": "markdown",
   "id": "6fae5c31-d022-4904-ad56-20d1b20e0447",
   "metadata": {},
   "source": [
    "### Selecting our Dataset"
   ]
  },
  {
   "cell_type": "markdown",
   "id": "f4d0efa5-223e-4c8f-8fad-afb8f769215d",
   "metadata": {},
   "source": [
    "Once we are in the notebook, the key variable is the `datasets` variable.  If we run the cell after typing that variable, we can see a list of all of the datasets we have access to."
   ]
  },
  {
   "cell_type": "markdown",
   "id": "dbe4112f-8edb-4a80-92af-ece59f43bd8f",
   "metadata": {},
   "source": [
    "<img src=\"./datasets-amounts.png\" width=\"100%\">"
   ]
  },
  {
   "cell_type": "markdown",
   "id": "9d73e46f-2f3e-43eb-be65-56177e31624c",
   "metadata": {},
   "source": [
    "Currently we have access to the `city_amounts` dataset, which results from our query -- `city_amounts`.  And we can select this dataset, with the code `datasets['city_amounts']`."
   ]
  },
  {
   "cell_type": "markdown",
   "id": "84ce562c-a1ee-403c-846b-436033a763dd",
   "metadata": {},
   "source": [
    "We can then assign this to a variable.  \n",
    "\n",
    "And from there, we can use the plotly library to create a chart, where the `CITY` column is assigned to the x axis and the `AMOUNT` column is assigned to the y axis."
   ]
  },
  {
   "cell_type": "markdown",
   "id": "7203db38-a4de-471b-8065-41ac833ce488",
   "metadata": {},
   "source": [
    "<img src=\"./assign-result.png\" width=\"100%\">"
   ]
  },
  {
   "cell_type": "markdown",
   "id": "94c80064-38a2-4508-b8e7-ac4ce4e6e5db",
   "metadata": {},
   "source": [
    "Once we have created the chart, we make sure that cell is selected, and then can then move to the top and click the Add to Report button."
   ]
  },
  {
   "cell_type": "markdown",
   "id": "82be8cdb-6098-4f97-a8f7-409f18e058f2",
   "metadata": {},
   "source": [
    "<img src=\"./add-to-report.png\" width=\"100%\">"
   ]
  },
  {
   "cell_type": "markdown",
   "id": "e7b5e302-cfbb-415c-be0a-4ad889aab476",
   "metadata": {},
   "source": [
    "If we did this correctly, we will see a new icon to the right of the output, that indicates that cell is added to the report."
   ]
  },
  {
   "cell_type": "markdown",
   "id": "0d4e985b-a3de-4b8d-aa15-b639328d372d",
   "metadata": {},
   "source": [
    "> <img src=\"./added-cell.png\" width=\"80%\">"
   ]
  },
  {
   "cell_type": "markdown",
   "id": "a9be598e-066b-4a44-9bad-5e09f9b21415",
   "metadata": {},
   "source": [
    "Then if we move over to the report, we will see that the output of that cell is included."
   ]
  },
  {
   "cell_type": "markdown",
   "id": "a039c358-6981-4d6a-a9c5-c30f77b4f3e8",
   "metadata": {},
   "source": [
    "> <img src=\"./report-added.png\" width=\"80%\">"
   ]
  },
  {
   "cell_type": "markdown",
   "id": "dfe28b65-521c-47e0-aba4-2faaf24fe8d2",
   "metadata": {},
   "source": [
    "### Summary"
   ]
  },
  {
   "cell_type": "code",
   "execution_count": null,
   "id": "7c204343-5a20-4696-afd6-319be814352e",
   "metadata": {},
   "outputs": [],
   "source": []
  }
 ],
 "metadata": {
  "kernelspec": {
   "display_name": "Python 3 (ipykernel)",
   "language": "python",
   "name": "python3"
  },
  "language_info": {
   "codemirror_mode": {
    "name": "ipython",
    "version": 3
   },
   "file_extension": ".py",
   "mimetype": "text/x-python",
   "name": "python",
   "nbconvert_exporter": "python",
   "pygments_lexer": "ipython3",
   "version": "3.9.7"
  }
 },
 "nbformat": 4,
 "nbformat_minor": 5
}
