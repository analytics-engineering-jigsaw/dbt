{
 "cells": [
  {
   "cell_type": "markdown",
   "id": "c2358958-485f-4111-bb7b-edb692b414c6",
   "metadata": {},
   "source": [
    "# Building Reports"
   ]
  },
  {
   "cell_type": "markdown",
   "id": "74cc79fa-997d-447b-8d40-89c9fe957fc4",
   "metadata": {},
   "source": [
    "### Introduction"
   ]
  },
  {
   "cell_type": "markdown",
   "id": "5088f92d-5b75-4af7-824d-08a31edede8c",
   "metadata": {},
   "source": [
    "In the last lesson, we saw how we can use mode to build individual charts.  Now in this lesson, let's see how we can pull these charts together for a report."
   ]
  },
  {
   "cell_type": "markdown",
   "id": "383f7d41-6415-48eb-8fbf-606cc4daf6a9",
   "metadata": {},
   "source": [
    "### Building our Report"
   ]
  },
  {
   "cell_type": "markdown",
   "id": "33440922-92c4-4b2d-8f71-f54014956188",
   "metadata": {},
   "source": [
    "Now that our initial bar chart is looking pretty good, the next step is to give it a name."
   ]
  },
  {
   "cell_type": "markdown",
   "id": "cd7139e4-b744-4dac-af21-7874d9f4841e",
   "metadata": {},
   "source": [
    "> <img src=\"./name-change.png\" width=\"100%\">"
   ]
  },
  {
   "cell_type": "markdown",
   "id": "207dd153-cee8-4762-b07e-cef31253cc38",
   "metadata": {},
   "source": [
    "Next, we can click on the sidebar and select `add to builder`."
   ]
  },
  {
   "cell_type": "markdown",
   "id": "2ee53c78-c219-4a3f-8ada-a933c2d92718",
   "metadata": {},
   "source": [
    "<img src=\"./add-builder.png\" width=\"80%\">"
   ]
  },
  {
   "cell_type": "markdown",
   "id": "dca1077f-dbca-4b8d-ad0d-f059e76aae38",
   "metadata": {},
   "source": [
    "Once we select this, we can click on the report builder tab at the top of the left sidebar."
   ]
  },
  {
   "cell_type": "markdown",
   "id": "74051a8b-7e66-4f8c-a9f3-8d7cc73b38a7",
   "metadata": {},
   "source": [
    "<img src=\"./report.png\" width=\"80%\">"
   ]
  },
  {
   "cell_type": "markdown",
   "id": "b994bff0-0a3d-4318-858d-e951e84a7d3d",
   "metadata": {},
   "source": [
    "Upon doing so, we'll now our chart in the report."
   ]
  },
  {
   "cell_type": "markdown",
   "id": "cfd5b864-08b7-415b-b5d8-264705d61e71",
   "metadata": {},
   "source": [
    "And notice that we can also insert text, by clicking on the `T` up top."
   ]
  },
  {
   "cell_type": "markdown",
   "id": "2b081ccd-8ac1-4a22-9a3e-d389d08c1007",
   "metadata": {},
   "source": [
    "<img src=\"./insert-text.png\" width=\"60%\">"
   ]
  },
  {
   "cell_type": "markdown",
   "id": "96df7d64-10a2-4750-bdbc-55e515086521",
   "metadata": {},
   "source": [
    "### Overall edits"
   ]
  },
  {
   "cell_type": "markdown",
   "id": "b430fff8-f9de-490f-9d19-2668658103e6",
   "metadata": {},
   "source": [
    "If we move to the top of the screen, we can click on the `report` drop down."
   ]
  },
  {
   "cell_type": "markdown",
   "id": "8453a033-92b6-42ab-8b7e-e084f52032ec",
   "metadata": {},
   "source": [
    "<img src=\"./edit-report.png\" width=\"60%\">"
   ]
  },
  {
   "cell_type": "markdown",
   "id": "7649ad7c-a8aa-4875-b60b-e89d5bd005a0",
   "metadata": {},
   "source": [
    "If want to name our report, we can click on rename.  And we can also save our report."
   ]
  },
  {
   "cell_type": "markdown",
   "id": "3eac51a8-b30b-44cb-94bb-6cc63696bd86",
   "metadata": {},
   "source": [
    "After saving, click on the `share` tab at the top."
   ]
  },
  {
   "cell_type": "markdown",
   "id": "8c6c35d4-717d-46ef-8886-0e61b5a49431",
   "metadata": {},
   "source": [
    "<img src=\"./show-report.png\" width=\"60%\">"
   ]
  },
  {
   "cell_type": "markdown",
   "id": "52ba58ab-331c-44d4-8048-7719b255be44",
   "metadata": {},
   "source": [
    "Then click on the generated link at the top -- the most recent run link -- which will allow you to share the report with others."
   ]
  },
  {
   "cell_type": "markdown",
   "id": "ba05a423-8768-43cc-9639-c1b4ea2a9c2f",
   "metadata": {},
   "source": [
    "<img src=\"./link-clicked.png\" width=\"60%\">"
   ]
  },
  {
   "cell_type": "markdown",
   "id": "7f567dfb-8507-4c5e-85c6-a9bd24bfba0a",
   "metadata": {},
   "source": [
    "Finally, if we want to build another report, we can do so:"
   ]
  },
  {
   "cell_type": "markdown",
   "id": "d67a2e38-7af4-4761-a78e-5a491e7f27bf",
   "metadata": {},
   "source": [
    "> <img src=\"./new-report.png\" width=\"70%\">"
   ]
  },
  {
   "cell_type": "markdown",
   "id": "3b2a2873-ced2-4799-9d57-44edf636aeea",
   "metadata": {},
   "source": [
    "### Summing up "
   ]
  },
  {
   "cell_type": "markdown",
   "id": "223695ba-cd63-4995-a4c3-0da0e50162e8",
   "metadata": {},
   "source": [
    "In this lesson, we saw how we can add charts to a report.  And hopefully we understand a bit more about the structure of mode.  Each chart is related to it's own SQL query.  Then from there, we can add multiple charts to a report. "
   ]
  }
 ],
 "metadata": {
  "kernelspec": {
   "display_name": "Python 3 (ipykernel)",
   "language": "python",
   "name": "python3"
  },
  "language_info": {
   "codemirror_mode": {
    "name": "ipython",
    "version": 3
   },
   "file_extension": ".py",
   "mimetype": "text/x-python",
   "name": "python",
   "nbconvert_exporter": "python",
   "pygments_lexer": "ipython3",
   "version": "3.9.7"
  }
 },
 "nbformat": 4,
 "nbformat_minor": 5
}
