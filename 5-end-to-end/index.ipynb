{
 "cells": [
  {
   "cell_type": "markdown",
   "id": "d1bef619-501e-4056-85f8-4bfae27c6f8a",
   "metadata": {},
   "source": [
    "# End to End DBT"
   ]
  },
  {
   "cell_type": "markdown",
   "id": "eb97846d-8544-4d82-a121-1d32b40db8a6",
   "metadata": {},
   "source": [
    "### Introduction"
   ]
  },
  {
   "cell_type": "markdown",
   "id": "9af99ac0-1ce0-4dd8-b92f-633761c68dad",
   "metadata": {},
   "source": [
    "In this lesson, we'll start from loading some data "
   ]
  },
  {
   "cell_type": "markdown",
   "id": "6cbac8c9-d68b-4181-a0cd-ae031a67e715",
   "metadata": {},
   "source": [
    "### Getting a fact table"
   ]
  },
  {
   "cell_type": "markdown",
   "id": "cb6cda0a-e31c-4acc-b3d6-f4fb0f082c50",
   "metadata": {},
   "source": [
    "If we move back to our snowflake database, try to identify our fact table.  Remember that the fact table should have primarily foreign keys as well as numerical information we wish to measure.\n",
    "\n",
    "Take a look at the tables, and try to determine which table (or tables) can help us build the fact table."
   ]
  },
  {
   "cell_type": "markdown",
   "id": "984573f0-b974-4ee4-817f-23227ffd4de1",
   "metadata": {},
   "source": [
    "### Moving to DBT"
   ]
  },
  {
   "cell_type": "markdown",
   "id": "1c9c8c89-501e-4be5-aa62-4936391c71c3",
   "metadata": {},
   "source": [
    "Now let's move to DBT, and create a new model in staging.  The staging model should be for orders and should have the following columns of order_id, order_date, employee_id, customer_id, product_id, quantity, discount, and unit_price.  To build the staging model, update the sources model with the necessary sources.\n",
    "\n",
    "> Notice that we did not include the ship information -- including required_date -- as theoretically, that would go in it's own staging file.  All of the `ship_` prefixes were hints that it would.  "
   ]
  },
  {
   "cell_type": "markdown",
   "id": "93349b29-b8cc-452f-a57c-98fd1a450061",
   "metadata": {},
   "source": [
    "We should see the following results, ordered by order date from earliest to latest."
   ]
  },
  {
   "cell_type": "markdown",
   "id": "ce11a93f-0183-4b2d-b684-c0e459ef199d",
   "metadata": {},
   "source": [
    "<img src=\"./updated-orders.png\" width=\"100%\">"
   ]
  },
  {
   "cell_type": "markdown",
   "id": "7a9d4638-2b77-4d6f-85d5-12f871fb552c",
   "metadata": {},
   "source": [
    "Notice that each of the foreign keys, of order_id, product_id, and employee_id, and customer_id have `rds-` preceding each id.\n",
    "\n",
    "Use a for loop in Jinja to produce this repetitive work for the `product_id`, `employee_id`, and `customer_id` columns.\n"
   ]
  },
  {
   "cell_type": "markdown",
   "id": "aeafe86c-3345-413f-8857-3cd649aa7729",
   "metadata": {},
   "source": [
    "Before, wrapping up, add a couple of tests to the new sources.  We can see how, by looking at the [DBT documentation](https://docs.getdbt.com/docs/building-a-dbt-project/using-sources)."
   ]
  },
  {
   "cell_type": "markdown",
   "id": "790b210d-2d6d-4a82-9c64-0582ac57e209",
   "metadata": {},
   "source": [
    "### Moving to Integration"
   ]
  },
  {
   "cell_type": "markdown",
   "id": "8c7951f3-bc3c-4587-b116-ce2223187c98",
   "metadata": {},
   "source": [
    "Next move to create an integration file.  In our integration section, we generally combine our related staging files together.  Here, of course, we only have one staging file related to orders.  \n",
    "\n",
    "So let's just load that in.  We should see something like the following in our lineage."
   ]
  },
  {
   "cell_type": "markdown",
   "id": "9855d1f5-c574-415a-95ff-7a3830d78291",
   "metadata": {},
   "source": [
    "> <img src=\"./orders-lineage.png\" width=\"90%\">"
   ]
  },
  {
   "cell_type": "markdown",
   "id": "968c6337-5f57-435e-8304-4ceaaf38117b",
   "metadata": {},
   "source": [
    "Now we normally would use the `dbt.surrogate_key` function generate a new id for us.  This is because, when we merge duplicate records, we lose the original id.  In this case, because our data only comes from one source, there are no duplicate records, so we are likely in good shape.  \n",
    "\n",
    "Still, because it's a very small amount of work, and we may add additional sources in the future, we'll use the `surrogate_key` methods.  \n",
    "\n",
    "Have the the surrogate key generated from the `product_id`, `order_date`, and `customer_id` columns.\n",
    "\n",
    "In our preview, we should see something like the following."
   ]
  },
  {
   "cell_type": "markdown",
   "id": "5c86c0dc-984a-4493-bf96-0fd8b6a5cbb1",
   "metadata": {},
   "source": [
    "<img src=\"./int_orders.png\" width=\"100%\">"
   ]
  },
  {
   "cell_type": "markdown",
   "id": "b83ce0dd-d94d-4626-96f0-559e51ac69f2",
   "metadata": {},
   "source": [
    "> Notice that we do not have the original `order_id` column.  Use the `dbt_utils.star` function to select each column minus the `order_id` column."
   ]
  },
  {
   "cell_type": "markdown",
   "id": "cd68b9ba-e349-46f2-8450-c1ce03840745",
   "metadata": {},
   "source": [
    "### Onto marts"
   ]
  },
  {
   "cell_type": "markdown",
   "id": "6cee4a22-168a-44fe-94bf-fa951f2a0f0f",
   "metadata": {},
   "source": [
    "Now let's create a `orders_fact` table.  Begin by creating a new file in the `mart` folder called `orders_fact.sql`."
   ]
  },
  {
   "cell_type": "markdown",
   "id": "35ce2471-6987-426b-b483-b9dc5df0fbdf",
   "metadata": {},
   "source": [
    "> The previewed data should look something like the following.  We ordered the data by `order_date`."
   ]
  },
  {
   "cell_type": "markdown",
   "id": "25b13cd3-f640-42d3-9ee6-a1839397c21e",
   "metadata": {},
   "source": [
    "<img src=\"./updated-mart.png\" width=\"100%\">"
   ]
  },
  {
   "cell_type": "markdown",
   "id": "f9e4d88b-94c1-4a04-ac0d-c1e245478bd2",
   "metadata": {},
   "source": [
    "Make sure to materialize the table.  And then move to snowflake to confirm that it is converted."
   ]
  },
  {
   "cell_type": "markdown",
   "id": "17477f8b-335e-4e96-bed8-4a8e490bd5ad",
   "metadata": {},
   "source": [
    "<img src=\"./mart-tables.png\" width=\"60%\">"
   ]
  },
  {
   "cell_type": "markdown",
   "id": "19ef32a6-d6de-4396-8bbf-71dadc7e1200",
   "metadata": {},
   "source": [
    "### Adding some tests"
   ]
  },
  {
   "cell_type": "markdown",
   "id": "767337dd-bee0-43ad-8238-b8190b4409ea",
   "metadata": {},
   "source": [
    "Before moving to our business intelligence tool, let's add some additional tests to our codebase.  \n",
    "\n",
    "#### Integration tests\n",
    "\n",
    "At the integration level, we should ensure that all of our primary key columns are unique across each integration table, and that no primary key is null.  Do so by adding a new file called `schema.yml` in the integration folder, and then adding the related tests.\n",
    "\n",
    "> Remember that our primary keys are generated from the `surrogate_key` function, and the same key will be generated if the dependent values are the same."
   ]
  },
  {
   "cell_type": "markdown",
   "id": "fae52a41-d163-4f1c-8e10-e423535c76dc",
   "metadata": {},
   "source": [
    "If we add the related tests, and then run DBT test we see something like the following:"
   ]
  },
  {
   "cell_type": "markdown",
   "id": "145a6532-1abc-44bf-ad69-681a440dedf2",
   "metadata": {},
   "source": [
    "> <img src=\"./failing-test.png\" width=\"100%\">"
   ]
  },
  {
   "cell_type": "markdown",
   "id": "c88e5a30-6d7f-4d2e-b185-4167e4c1bf37",
   "metadata": {},
   "source": [
    "We can see that we have one failing test."
   ]
  },
  {
   "cell_type": "markdown",
   "id": "39217516-8eac-46d9-8598-98253052b715",
   "metadata": {},
   "source": [
    "If you look at the details of the test, you can select part of the query, execute, and discover the reason for the failure. \n",
    "\n",
    "> Copy the relevant part of the query in a new file in dbt.  There, we can discover the record that is failing us."
   ]
  },
  {
   "cell_type": "markdown",
   "id": "951983a8-c2f8-4e63-a960-a9d750074f67",
   "metadata": {},
   "source": [
    "<img src=\"./unique-fail.png\" width=\"60%\">"
   ]
  },
  {
   "cell_type": "markdown",
   "id": "f676722d-d91b-49f4-ba54-ada09cd6ba2c",
   "metadata": {},
   "source": [
    "It looks like we did not specify a unique combination of columns when generating the surrogate key.  So add in the `order_id` column to our list of other columns for our surrogate key -- and none of the other columns.  That should do the trick.  "
   ]
  },
  {
   "cell_type": "markdown",
   "id": "5fc93556-3cc2-4698-a394-ba3b7b1585a0",
   "metadata": {},
   "source": [
    "<img src=\"./passing-int-tests.png\" width=\"100%\">"
   ]
  },
  {
   "cell_type": "markdown",
   "id": "3734f7f2-4e5d-48cb-a3d0-22df9732c8c0",
   "metadata": {},
   "source": [
    "After making the necessary changes, confirm that all tests are now passing."
   ]
  },
  {
   "cell_type": "markdown",
   "id": "67eb9c03-959c-41b1-8cb8-8f955225efd8",
   "metadata": {},
   "source": [
    "#### Mart Tests"
   ]
  },
  {
   "cell_type": "markdown",
   "id": "34d138fa-b087-4cba-9258-a60aa237e5c7",
   "metadata": {},
   "source": [
    "* Primary key tests\n",
    "\n",
    "Begin by adding the same tests for the primary keys -- that pks are not null, and are unique -- for each of our three mart tables."
   ]
  },
  {
   "cell_type": "markdown",
   "id": "f3ae3510-19c4-4d68-9ff6-4a5acdd4047c",
   "metadata": {},
   "source": [
    "* Referential tests"
   ]
  },
  {
   "cell_type": "markdown",
   "id": "0faee4ab-d71e-4dbd-ae15-2f826697b4ee",
   "metadata": {},
   "source": [
    "One of the main components to ensure in the marts is referential integrity.  By that, we mean that we should ensure that each foreign key have a corresponding primary key in the relevant table.\n",
    "\n",
    "For example, when a contact has a `company_pk`, we want to make sure that `company_pk` exists in the companies dimension table.  Look for `relationships` in the [testing documentation](https://docs.getdbt.com/docs/building-a-dbt-project/tests).  \n",
    "\n",
    "Then add two new tests -- one for each of the relevant foreign keys across our mart tables."
   ]
  },
  {
   "cell_type": "markdown",
   "id": "f598a7d1-be09-4e97-9f73-0b98c59beae1",
   "metadata": {},
   "source": [
    "We should see that all of our tests are now passing."
   ]
  },
  {
   "cell_type": "markdown",
   "id": "b51c0446-8d6a-439f-8b27-1344daed6fa8",
   "metadata": {},
   "source": [
    "<img src=\"./passing-tests.png\" width=\"100%\">"
   ]
  },
  {
   "cell_type": "markdown",
   "id": "bf17cfb1-9f84-4d2f-b945-b021c3f9a740",
   "metadata": {},
   "source": [
    "### Drawing Insights"
   ]
  },
  {
   "cell_type": "markdown",
   "id": "04661789-e430-4641-ac33-f2b189520a07",
   "metadata": {},
   "source": [
    "From there, use mode to produce the following chart -- that displays the total revenue for each day (you do not have to factor in discounts)."
   ]
  },
  {
   "cell_type": "markdown",
   "id": "9b3109a8-ab1b-46bf-8f64-3731cd918c41",
   "metadata": {},
   "source": [
    "<img src=\"./revenue-by-day.png\" width=\"100%\">"
   ]
  }
 ],
 "metadata": {
  "kernelspec": {
   "display_name": "Python 3 (ipykernel)",
   "language": "python",
   "name": "python3"
  },
  "language_info": {
   "codemirror_mode": {
    "name": "ipython",
    "version": 3
   },
   "file_extension": ".py",
   "mimetype": "text/x-python",
   "name": "python",
   "nbconvert_exporter": "python",
   "pygments_lexer": "ipython3",
   "version": "3.9.7"
  }
 },
 "nbformat": 4,
 "nbformat_minor": 5
}
