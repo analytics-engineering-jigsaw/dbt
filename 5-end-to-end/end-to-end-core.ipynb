{
 "cells": [
  {
   "cell_type": "markdown",
   "id": "d1bef619-501e-4056-85f8-4bfae27c6f8a",
   "metadata": {},
   "source": [
    "# End to End DBT"
   ]
  },
  {
   "cell_type": "markdown",
   "id": "eb97846d-8544-4d82-a121-1d32b40db8a6",
   "metadata": {},
   "source": [
    "### Introduction"
   ]
  },
  {
   "cell_type": "markdown",
   "id": "9af99ac0-1ce0-4dd8-b92f-633761c68dad",
   "metadata": {},
   "source": [
    "In this lesson, we'll start with exploring our data in postgres, use DBT to transform our data, and end by producing our mart tables."
   ]
  },
  {
   "cell_type": "markdown",
   "id": "6cbac8c9-d68b-4181-a0cd-ae031a67e715",
   "metadata": {},
   "source": [
    "### Getting a fact table"
   ]
  },
  {
   "cell_type": "markdown",
   "id": "e5f2606f-9fa0-4d2f-acba-96d93223ede7",
   "metadata": {},
   "source": [
    "Get started by creating a new branch:\n",
    "\n",
    "`git checkout -b end_to_end`"
   ]
  },
  {
   "cell_type": "markdown",
   "id": "773c7c0e-8767-4cd3-9dca-eee53262df35",
   "metadata": {},
   "source": [
    "Now in this lesson, we'll add in our fact table.  Remember that the fact table is the table in the center of our dimension tables."
   ]
  },
  {
   "cell_type": "markdown",
   "id": "cb6cda0a-e31c-4acc-b3d6-f4fb0f082c50",
   "metadata": {},
   "source": [
    "Return to our postgres database, and take a look at the tables listed in the database.  Which one of these do you think would be the fact table? "
   ]
  },
  {
   "cell_type": "markdown",
   "id": "e46b742e-97ca-49b6-932a-105fa6de6b55",
   "metadata": {},
   "source": [
    "```bash\n",
    "List of relations\n",
    " Schema |          Name          | Type  |    Owner\n",
    "--------+------------------------+-------+-------------\n",
    " public | categories             | table | jeffreykatz\n",
    " public | customer_customer_demo | table | jeffreykatz\n",
    " public | customer_demographics  | table | jeffreykatz\n",
    " public | customers              | table | jeffreykatz\n",
    " public | employee_territories   | table | jeffreykatz\n",
    " public | employees              | table | jeffreykatz\n",
    " public | order_details          | table | jeffreykatz\n",
    " public | orders                 | table | jeffreykatz\n",
    " public | products               | table | jeffreykatz\n",
    " public | region                 | table | jeffreykatz\n",
    " public | shippers               | table | jeffreykatz\n",
    " public | suppliers              | table | jeffreykatz\n",
    " public | territories            | table | jeffreykatz\n",
    " public | us_states              | table | jeffreykatz\n",
    " ```"
   ]
  },
  {
   "cell_type": "markdown",
   "id": "5a8c6903-1428-4276-9bb1-ecac39e36d4e",
   "metadata": {},
   "source": [
    "It will be the orders table.  So next, while in postgres, display all of the columns in the `orders` table."
   ]
  },
  {
   "cell_type": "markdown",
   "id": "342b8b47-15bb-4c3f-88b6-62115d86fcb5",
   "metadata": {},
   "source": [
    "```bash\n",
    "Table \"public.orders\"\n",
    "      Column      |         Type          | Collation | Nullable | Default\n",
    "------------------+-----------------------+-----------+----------+---------\n",
    " order_id         | smallint              |           | not null |\n",
    " customer_id      | character varying(5)  |           |          |\n",
    " employee_id      | smallint              |           |          |\n",
    " order_date       | date                  |           |          |\n",
    " required_date    | date                  |           |          |\n",
    " shipped_date     | date                  |           |          |\n",
    " ship_via         | smallint              |           |          |\n",
    " freight          | real                  |           |          |\n",
    " ship_name        | character varying(40) |           |          |\n",
    " ship_address     | character varying(60) |           |          |\n",
    " ship_city        | character varying(15) |           |          |\n",
    " ship_region      | character varying(15) |           |          |\n",
    " ship_postal_code | character varying(10) |           |          |\n",
    " ship_country     | character varying(15) |           |          |\n",
    "```"
   ]
  },
  {
   "cell_type": "markdown",
   "id": "984573f0-b974-4ee4-817f-23227ffd4de1",
   "metadata": {},
   "source": [
    "### Moving to DBT"
   ]
  },
  {
   "cell_type": "markdown",
   "id": "1c9c8c89-501e-4be5-aa62-4936391c71c3",
   "metadata": {},
   "source": [
    "Now let's move to DBT, and create a new model in staging.  \n",
    "\n",
    "* But before building the staging model, first update the `sources.yaml` file.\n",
    "\n",
    "The staging model should be for orders and should have the following columns of `order_id`, `employee_id`, `customer_id`, `product_id`, `order_date`, `quantity`, `discount`, and `unit_price`.  \n",
    "\n",
    "* The `product_id` is the one column that is not on the `orders` table.  You'll have to find it on a related source table. \n",
    "\n",
    "\n",
    "> Notice that we did not include the shipping information -- including the `required_date`.  This is because, theoretically, that would go in it's own staging file.  All of the `ship_` prefixes were hints that this belongs in a separate model.  "
   ]
  },
  {
   "cell_type": "markdown",
   "id": "93349b29-b8cc-452f-a57c-98fd1a450061",
   "metadata": {},
   "source": [
    "We should see the following results, ordered by order date from earliest to latest."
   ]
  },
  {
   "cell_type": "markdown",
   "id": "81c3c5e6-d2ad-4e1f-b43f-732cad01e243",
   "metadata": {},
   "source": [
    "> `psql -d northwinds -c \"select * from dev.stg_rds_orders limit 3;\"`"
   ]
  },
  {
   "cell_type": "markdown",
   "id": "ce11a93f-0183-4b2d-b684-c0e459ef199d",
   "metadata": {},
   "source": [
    "<img src=\"./updated-orders.png\" width=\"100%\">"
   ]
  },
  {
   "cell_type": "markdown",
   "id": "7a9220b1-e2ce-48ce-8c51-b93ade40797e",
   "metadata": {},
   "source": [
    "* Using Jinja"
   ]
  },
  {
   "cell_type": "markdown",
   "id": "7a9d4638-2b77-4d6f-85d5-12f871fb552c",
   "metadata": {},
   "source": [
    "Notice that each of the foreign keys, of `order_id`, `product_id`, and `employee_id`, and `customer_id` have `rds-` preceding each id.\n",
    "\n",
    "Use a for loop in Jinja to produce this repetitive work for the `product_id`, `employee_id`, and `customer_id` columns -- you can exclude the `order_id` column from the jinja."
   ]
  },
  {
   "cell_type": "markdown",
   "id": "e84570cd-4d10-4598-82c1-020f48f02aea",
   "metadata": {},
   "source": [
    "Confirm that the refactoring works by calling `dbt run`.  Then perform the following sql command."
   ]
  },
  {
   "cell_type": "markdown",
   "id": "8b39f2de-646c-40e9-9593-2b531f3e20a3",
   "metadata": {},
   "source": [
    "`psql -d northwinds -c \"select * from dev.stg_rds_orders limit 3;\"`"
   ]
  },
  {
   "cell_type": "markdown",
   "id": "f9379937-39bf-474a-8c4a-78b868afde83",
   "metadata": {},
   "source": [
    "* Adding tests"
   ]
  },
  {
   "cell_type": "markdown",
   "id": "aeafe86c-3345-413f-8857-3cd649aa7729",
   "metadata": {},
   "source": [
    "Finally, before wrapping up, add a couple of tests to the new sources.  We can see how, by looking at the [DBT documentation](https://docs.getdbt.com/docs/building-a-dbt-project/using-sources)."
   ]
  },
  {
   "cell_type": "markdown",
   "id": "245fb6ac-d855-476f-bc17-2f3bca1439ec",
   "metadata": {},
   "source": [
    "Confirm that they work by running `dbt test`."
   ]
  },
  {
   "cell_type": "markdown",
   "id": "790b210d-2d6d-4a82-9c64-0582ac57e209",
   "metadata": {},
   "source": [
    "### Moving to Integration"
   ]
  },
  {
   "cell_type": "markdown",
   "id": "8c7951f3-bc3c-4587-b116-ce2223187c98",
   "metadata": {},
   "source": [
    "Next create an integration file.  Remember that in our integration section, we generally combine our related staging files together.  Here, of course, we only have one staging file related to orders.  \n",
    "\n",
    "So let's just load that in."
   ]
  },
  {
   "cell_type": "markdown",
   "id": "899914b1-e0c5-4eeb-be06-6cb308c54b69",
   "metadata": {},
   "source": [
    "* Surrogate key"
   ]
  },
  {
   "cell_type": "markdown",
   "id": "968c6337-5f57-435e-8304-4ceaaf38117b",
   "metadata": {},
   "source": [
    "Now we use the `dbt_utils.generate_surrogate_key` function generate a new id for us.  This is because, when we merge duplicate records, we lose the original id.  In this case, because our data only comes from one source, there are no duplicate records, so we are likely in good shape.  \n",
    "\n",
    "Still, because it's a very small amount of work, and we may add additional sources in the future, we'll still use the `surrogate_key` methods.  \n",
    "\n",
    "Have the the surrogate key generated from the `product_id`, `order_date`, and `customer_id` columns.\n",
    "\n",
    "If you run `dbt run`, then you can view the results by running the following:\n",
    "\n",
    "`psql -d northwinds -c \"select * from dev.int_orders limit 3;\"`"
   ]
  },
  {
   "cell_type": "markdown",
   "id": "5c86c0dc-984a-4493-bf96-0fd8b6a5cbb1",
   "metadata": {},
   "source": [
    "<img src=\"./int_orders.png\" width=\"100%\">"
   ]
  },
  {
   "cell_type": "markdown",
   "id": "1d945011-f589-43c9-ace0-c13f26abbfba",
   "metadata": {},
   "source": [
    "* `utils.star`"
   ]
  },
  {
   "cell_type": "markdown",
   "id": "b83ce0dd-d94d-4626-96f0-559e51ac69f2",
   "metadata": {},
   "source": [
    "> Notice that we do not have the original `order_id` column.  Use the `dbt_utils.star` function to select each column minus the `order_id` column."
   ]
  },
  {
   "cell_type": "markdown",
   "id": "cd68b9ba-e349-46f2-8450-c1ce03840745",
   "metadata": {
    "tags": []
   },
   "source": [
    "### Onto marts"
   ]
  },
  {
   "cell_type": "markdown",
   "id": "6cee4a22-168a-44fe-94bf-fa951f2a0f0f",
   "metadata": {},
   "source": [
    "Now let's create an `orders_fact` table.  Begin by creating a new file in the `mart` folder called `orders_fact.sql`."
   ]
  },
  {
   "cell_type": "markdown",
   "id": "35ce2471-6987-426b-b483-b9dc5df0fbdf",
   "metadata": {},
   "source": [
    "> The previewed data should look something like the following.  We ordered the data by `order_date` from earliest to latest.  Notice that it has the related `contact_pk` added."
   ]
  },
  {
   "cell_type": "markdown",
   "id": "6e85fdba-e3c9-4833-87f9-35b733034b7c",
   "metadata": {},
   "source": [
    "`psql -d northwinds -c \"select * from dev.fact_orders limit 3;\"` "
   ]
  },
  {
   "cell_type": "markdown",
   "id": "25b13cd3-f640-42d3-9ee6-a1839397c21e",
   "metadata": {},
   "source": [
    "<img src=\"./updated-mart.png\" width=\"100%\">"
   ]
  },
  {
   "cell_type": "markdown",
   "id": "c00431eb-bcf1-44f7-bd69-96efa423f56b",
   "metadata": {},
   "source": [
    "* Materialize the table"
   ]
  },
  {
   "cell_type": "markdown",
   "id": "f9e4d88b-94c1-4a04-ac0d-c1e245478bd2",
   "metadata": {},
   "source": [
    "Make sure to materialize the table.  And then move to snowflake to confirm that it is converted."
   ]
  },
  {
   "cell_type": "markdown",
   "id": "17477f8b-335e-4e96-bed8-4a8e490bd5ad",
   "metadata": {},
   "source": [
    "<img src=\"./mart-tables.png\" width=\"60%\">"
   ]
  },
  {
   "cell_type": "markdown",
   "id": "19ef32a6-d6de-4396-8bbf-71dadc7e1200",
   "metadata": {},
   "source": [
    "### Adding some tests"
   ]
  },
  {
   "cell_type": "markdown",
   "id": "767337dd-bee0-43ad-8238-b8190b4409ea",
   "metadata": {},
   "source": [
    " \n",
    "#### Integration tests\n",
    "\n",
    "At the integration level, we should ensure that all of our primary key columns are unique across each integration table, and that no primary key is null.  Do so by adding a new file called `schema.yml` in the integration folder, and then adding the related tests for each integration file.\n",
    "\n",
    "> Remember that our primary keys are generated from the `generate_surrogate_key` function, and the same key will be generated if the dependent values are the same."
   ]
  },
  {
   "cell_type": "markdown",
   "id": "8e4c112c-6f51-40c2-a97b-4d952585bef3",
   "metadata": {},
   "source": [
    "* So at this point we should to ensure that the primary key for the `int_companies`, `int_contacts`, and `int_orders` models are not null, and that they are each unique.\n",
    "* We should also have our tests that hubspot_contacts do not have null values in the `first_name` and `last_name` columns."
   ]
  },
  {
   "cell_type": "markdown",
   "id": "1a035d64-14ee-487d-ae96-39de87965ba2",
   "metadata": {},
   "source": [
    "> **Warning**: You will likely get a failing test."
   ]
  },
  {
   "cell_type": "markdown",
   "id": "fae52a41-d163-4f1c-8e10-e423535c76dc",
   "metadata": {},
   "source": [
    "If we add the related tests, and then run DBT test we see something like the following:"
   ]
  },
  {
   "cell_type": "markdown",
   "id": "145a6532-1abc-44bf-ad69-681a440dedf2",
   "metadata": {},
   "source": [
    "> <img src=\"./failing-test.png\" width=\"100%\">"
   ]
  },
  {
   "cell_type": "markdown",
   "id": "c88e5a30-6d7f-4d2e-b185-4167e4c1bf37",
   "metadata": {},
   "source": [
    "We can see that we have one failing test."
   ]
  },
  {
   "cell_type": "markdown",
   "id": "39217516-8eac-46d9-8598-98253052b715",
   "metadata": {},
   "source": [
    "If you run the compiled test against our northwinds database, you should see something like the following."
   ]
  },
  {
   "cell_type": "markdown",
   "id": "951983a8-c2f8-4e63-a960-a9d750074f67",
   "metadata": {},
   "source": [
    "<img src=\"./unique-fail.png\" width=\"60%\">"
   ]
  },
  {
   "cell_type": "markdown",
   "id": "f676722d-d91b-49f4-ba54-ada09cd6ba2c",
   "metadata": {},
   "source": [
    "It looks like we did not specify a unique combination of columns when generating the surrogate key.  So add in the `order_id` column to our list of other columns for our surrogate key for orders -- and none of the other columns.  That should do the trick.  \n",
    "\n",
    "Rerun `dbt run`, and then run `dbt test`."
   ]
  },
  {
   "cell_type": "markdown",
   "id": "5fc93556-3cc2-4698-a394-ba3b7b1585a0",
   "metadata": {},
   "source": [
    "<img src=\"./passing-int-tests.png\" width=\"100%\">"
   ]
  },
  {
   "cell_type": "markdown",
   "id": "3734f7f2-4e5d-48cb-a3d0-22df9732c8c0",
   "metadata": {},
   "source": [
    "After making the necessary changes, confirm that all tests are now passing."
   ]
  },
  {
   "cell_type": "markdown",
   "id": "67eb9c03-959c-41b1-8cb8-8f955225efd8",
   "metadata": {},
   "source": [
    "#### Mart Tests"
   ]
  },
  {
   "cell_type": "markdown",
   "id": "a52c0fc7-646b-4f06-adbe-d5dc0d505aca",
   "metadata": {},
   "source": [
    "Next, we should add the following set of tests for our mart tables."
   ]
  },
  {
   "cell_type": "markdown",
   "id": "34d138fa-b087-4cba-9258-a60aa237e5c7",
   "metadata": {},
   "source": [
    "* Primary key tests\n",
    "\n",
    "Begin by adding the same tests for the primary keys -- that pks are not null, and are unique -- for each of our three mart tables."
   ]
  },
  {
   "cell_type": "markdown",
   "id": "f3ae3510-19c4-4d68-9ff6-4a5acdd4047c",
   "metadata": {},
   "source": [
    "* Referential tests"
   ]
  },
  {
   "cell_type": "markdown",
   "id": "0faee4ab-d71e-4dbd-ae15-2f826697b4ee",
   "metadata": {},
   "source": [
    "One of the main components to ensure in the marts is referential integrity.  By that, we mean that we should ensure that each foreign key has a corresponding primary key in the relevant table.\n",
    "\n",
    "For example, when a contact has a `company_pk`, we want to make sure that `company_pk` exists in the companies dimension table.  Look for `relationships` in the [testing documentation](https://docs.getdbt.com/docs/building-a-dbt-project/tests).  \n",
    "\n",
    "Then add two new tests -- one for each of the relevant foreign keys across our mart tables."
   ]
  },
  {
   "cell_type": "markdown",
   "id": "f598a7d1-be09-4e97-9f73-0b98c59beae1",
   "metadata": {},
   "source": [
    "We should see that all of our tests are now passing."
   ]
  },
  {
   "cell_type": "markdown",
   "id": "b51c0446-8d6a-439f-8b27-1344daed6fa8",
   "metadata": {},
   "source": [
    "<img src=\"./passing-tests.png\" width=\"100%\">"
   ]
  },
  {
   "cell_type": "markdown",
   "id": "bf17cfb1-9f84-4d2f-b945-b021c3f9a740",
   "metadata": {},
   "source": [
    "### Drawing Insights"
   ]
  },
  {
   "cell_type": "markdown",
   "id": "04661789-e430-4641-ac33-f2b189520a07",
   "metadata": {},
   "source": [
    "From there, write a sql query that displays total revenue per day."
   ]
  },
  {
   "cell_type": "markdown",
   "id": "f6ad37ed-8295-47f1-a99a-4a51d873fb08",
   "metadata": {},
   "source": [
    "```total_per_day\n",
    "order_day  |   total_revenue\n",
    "------------+--------------------\n",
    " 1996-07-04 | 439.99999809265137\n",
    " 1996-07-05 | 1863.4000644683838\n",
    " 1996-07-08 | 2483.8000259399414\n",
    " 1996-07-09 | 3730.0001525878906\n",
    " 1996-07-10 | 1444.7999839782715\n",
    " 1996-07-11 |   625.200014591217\n",
    " 1996-07-12 | 2490.4999780654907\n",
    " 1996-07-15 |  517.8000068664551\n",
    " 1996-07-16 |  1119.899953842163\n",
    " 1996-07-17 | 2018.5999927520752\n",
    "```"
   ]
  },
  {
   "cell_type": "markdown",
   "id": "7cab9598-162a-46ef-97da-95b39c762b7c",
   "metadata": {},
   "source": [
    "### Summary"
   ]
  },
  {
   "cell_type": "markdown",
   "id": "ee8d7b59-9a82-4f8a-b972-9df14e5f940c",
   "metadata": {},
   "source": [
    "Think back through the steps involved in this lab.  And think through the components involved in each stage -- from exploring data in snowflake, to sources, staging, integration and marts.  \n",
    "\n",
    "As a review, record some example code that belongs in each component of the codebase (from sources, to staging, to integration, to marts)."
   ]
  },
  {
   "cell_type": "markdown",
   "id": "9f29f1d6-8d49-4c02-bb29-cdbed6064133",
   "metadata": {},
   "source": [
    "### Query\n",
    "```sql\n",
    "SELECT\n",
    "    DATE(order_date) AS order_day,\n",
    "    SUM(quantity*unit_price) AS total_revenue\n",
    "FROM\n",
    "    dev.fact_orders\n",
    "GROUP BY\n",
    "    DATE(order_date)\n",
    "ORDER BY\n",
    "    DATE(order_date);\n",
    "```"
   ]
  }
 ],
 "metadata": {
  "kernelspec": {
   "display_name": "Python 3 (ipykernel)",
   "language": "python",
   "name": "python3"
  },
  "language_info": {
   "codemirror_mode": {
    "name": "ipython",
    "version": 3
   },
   "file_extension": ".py",
   "mimetype": "text/x-python",
   "name": "python",
   "nbconvert_exporter": "python",
   "pygments_lexer": "ipython3",
   "version": "3.9.12"
  }
 },
 "nbformat": 4,
 "nbformat_minor": 5
}
