{
 "cells": [
  {
   "cell_type": "markdown",
   "id": "b554b359-89fa-464f-ab87-becd49a70810",
   "metadata": {},
   "source": [
    "# Setting up Production"
   ]
  },
  {
   "cell_type": "markdown",
   "id": "f95ea3ff-5dad-4948-ab64-3da81b462abf",
   "metadata": {},
   "source": [
    "### Introduction"
   ]
  },
  {
   "cell_type": "markdown",
   "id": "42d21ce7-7e89-470e-ab37-56d2d172037f",
   "metadata": {},
   "source": [
    "Now, so far we have used DBT to make changes in our data warehouse.  But any of these changes made are local to our own personal schema.  DBT gives us this setup so that we can safely make changes -- and mistakes -- without effecting the data from the rest of the team.\n",
    "\n",
    "In this lesson, we'll see how we can set up a separate production changes, so that the broader team can see the work that we have performed."
   ]
  },
  {
   "cell_type": "markdown",
   "id": "15af0a71-d899-42f0-b2ef-a858481c5840",
   "metadata": {},
   "source": [
    "### Creating a new environment"
   ]
  },
  {
   "cell_type": "markdown",
   "id": "8edd3020-09fb-4c7e-aa19-710df945221f",
   "metadata": {},
   "source": [
    "The first step in deploying our changes, is to create a separate production environment.  To accomplish this, click on the gray hamburger icon to the left of `dbt`."
   ]
  },
  {
   "cell_type": "markdown",
   "id": "96aaa5bc-10a4-4046-b843-879e34ff776b",
   "metadata": {},
   "source": [
    "> <img src=\"./hamburger-icon.png\" width=\"40%\">"
   ]
  },
  {
   "cell_type": "markdown",
   "id": "55a85b12-66cf-442e-81f7-27ead2a0d1f3",
   "metadata": {},
   "source": [
    "Then click on `Environments` from the drop down.  From there, click on `New Environment` in the top left."
   ]
  },
  {
   "cell_type": "markdown",
   "id": "2db07b23-e0a9-438a-b2ef-6664c9663abc",
   "metadata": {},
   "source": [
    "> <img src=\"./prod-settings.png\" width=\"100%\">"
   ]
  },
  {
   "cell_type": "markdown",
   "id": "dc67671b-d9e3-44fd-9269-c255dcb06df9",
   "metadata": {},
   "source": [
    "All of the default values that we are provided up top work fine.  We name our environment `production`, and make sure that the type of environment that is selected is `Deployment`.  \n",
    "\n",
    "> Selecting the Deployment type, will allow us to repeatedly run jobs on a schedule."
   ]
  },
  {
   "cell_type": "markdown",
   "id": "2da9c0ba-a386-4f09-96cb-6e14441e09c4",
   "metadata": {},
   "source": [
    "Finally at the bottom, we can see that we enter our login credentials, and set the schema name as `analytics`."
   ]
  },
  {
   "cell_type": "markdown",
   "id": "c1b52ea5-3f18-40a0-918c-e369e3191c17",
   "metadata": {},
   "source": [
    "> <img src=\"./deployment-creds.png\" width=\"100%\">"
   ]
  },
  {
   "cell_type": "markdown",
   "id": "61c6afe9-31ac-4932-8ed4-28fe909193fc",
   "metadata": {},
   "source": [
    "### Setting up a Job"
   ]
  },
  {
   "cell_type": "markdown",
   "id": "9efc69d1-92aa-4291-bfc6-afbf08c6aee9",
   "metadata": {},
   "source": [
    "From there, the next step is to set up a new job."
   ]
  },
  {
   "cell_type": "markdown",
   "id": "5ae868de-82a8-403d-a54f-db95f9b615b6",
   "metadata": {},
   "source": [
    ">  <img src=\"./hourly.png\" width=\"90%\">"
   ]
  },
  {
   "cell_type": "markdown",
   "id": "2282d978-d232-452c-9fcf-c2018d9c6f30",
   "metadata": {},
   "source": [
    "We set the name as hourly job.  And again use the default values provided to us.\n",
    "\n",
    "Then below, we set the first command to `dbt test`, and the second command to `dbt run`."
   ]
  },
  {
   "cell_type": "markdown",
   "id": "5ff40d28-7da3-41e0-bd88-416ef8dc4997",
   "metadata": {},
   "source": [
    "> Setting those commands, and **in that order**, means that DBT will first run `dbt test`, and if `dbt test` fails, it will not run `dbt job` -- which is what we want."
   ]
  },
  {
   "cell_type": "markdown",
   "id": "a8c62f4a-1299-4099-a77a-fd2e93c5088c",
   "metadata": {},
   "source": [
    ">  <img src=\"./commands.png\" width=\"90%\">"
   ]
  },
  {
   "cell_type": "markdown",
   "id": "019ff569-947b-468e-8008-de11db410abf",
   "metadata": {},
   "source": [
    "Then from there we set the schedule."
   ]
  },
  {
   "cell_type": "markdown",
   "id": "7a747eff-eb13-47be-81f7-fbae94ad08cf",
   "metadata": {},
   "source": [
    "> <img src=\"./triggers.png\" width=\"60%\">"
   ]
  },
  {
   "cell_type": "markdown",
   "id": "5b07a561-9975-44ec-89f6-919c942530d9",
   "metadata": {},
   "source": [
    "In the above settings, we are saying to run every day, and to run every 1 hour."
   ]
  },
  {
   "cell_type": "markdown",
   "id": "2b06d7ff-f925-4166-8973-8e108fff80c3",
   "metadata": {},
   "source": [
    "### Running a job"
   ]
  },
  {
   "cell_type": "markdown",
   "id": "4d071af5-f2cd-4951-b8fc-8738ad1b8b97",
   "metadata": {},
   "source": [
    "After we click save, we can see that we have a job created.  Let's see how it does, by clicking `Run now`."
   ]
  },
  {
   "cell_type": "markdown",
   "id": "ae808330-8577-4982-bfb5-8378747c5fc4",
   "metadata": {},
   "source": [
    "> <img src=\"./run-now.png\" width=\"60%\">"
   ]
  },
  {
   "cell_type": "markdown",
   "id": "32facfe8-9516-440f-a9c2-f0a1fd09f65e",
   "metadata": {},
   "source": [
    "Once we click on it, we can view the status of the particular run by clicking on the job under `Run History`. "
   ]
  },
  {
   "cell_type": "markdown",
   "id": "a574291e-d8d6-4e45-be15-20fff1f5a52c",
   "metadata": {},
   "source": [
    ">  <img src=\"./run-steps.png\" width=\"90%\">"
   ]
  },
  {
   "cell_type": "markdown",
   "id": "8ca868cf-94ba-4102-babf-414ab2973ff8",
   "metadata": {},
   "source": [
    "We can see that the job has been queued, and DBT will work to execute this job."
   ]
  },
  {
   "cell_type": "markdown",
   "id": "38ca04fe-4f6b-496a-9554-4341f612e307",
   "metadata": {},
   "source": [
    "Note that if there is a failing test, DBT will show us that the tests have failed and not complete the run step to create the views and tables."
   ]
  },
  {
   "cell_type": "markdown",
   "id": "592b76ac-bb1d-49c7-8b8f-5c172028f900",
   "metadata": {},
   "source": [
    ">  <img src=\"./failure-steps.png\" width=\"100%\">"
   ]
  },
  {
   "cell_type": "markdown",
   "id": "bc039e4d-0e42-4106-80d6-c67abae10b96",
   "metadata": {},
   "source": [
    "However, if all of the tests pass, we can go to snowflake and see that it has successfully created a new schema, along with the corresponding tables and views."
   ]
  },
  {
   "cell_type": "markdown",
   "id": "1a416c5f-3fae-40b3-91ea-b4afce15f884",
   "metadata": {},
   "source": [
    "<img src=\"./dbt-run-green.png\" width=\"80%\">"
   ]
  },
  {
   "cell_type": "markdown",
   "id": "0600d863-1cd9-4674-954d-b6b953883239",
   "metadata": {},
   "source": [
    "### Summary"
   ]
  },
  {
   "cell_type": "markdown",
   "id": "9ed424be-f39a-4d01-918b-11b98da41790",
   "metadata": {},
   "source": [
    "In this lesson, we moved through the steps of setting up a production environment and scheduling jobs to run.  As we saw, the production environment is where our team members should view the work produced from our DBT code, and because of that we set up our environment to create tables in a new schema.  This way, we can run code in our personal schema, when still developing.\n",
    "\n",
    "When running a job, we set the commands of `dbt test` followed by `dbt run`.  This way, if any of our tests fail, dbt will not perform the run command, and will not make any changes to our production environment."
   ]
  },
  {
   "cell_type": "code",
   "execution_count": null,
   "id": "525155c9-24a2-4c7e-85a4-53c4b2dc2a65",
   "metadata": {},
   "outputs": [],
   "source": []
  }
 ],
 "metadata": {
  "kernelspec": {
   "display_name": "Python 3 (ipykernel)",
   "language": "python",
   "name": "python3"
  },
  "language_info": {
   "codemirror_mode": {
    "name": "ipython",
    "version": 3
   },
   "file_extension": ".py",
   "mimetype": "text/x-python",
   "name": "python",
   "nbconvert_exporter": "python",
   "pygments_lexer": "ipython3",
   "version": "3.9.7"
  }
 },
 "nbformat": 4,
 "nbformat_minor": 5
}
