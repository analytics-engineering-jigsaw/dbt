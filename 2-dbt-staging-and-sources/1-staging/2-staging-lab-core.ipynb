{
 "cells": [
  {
   "cell_type": "markdown",
   "id": "7841b00a-6e65-41a0-ac78-c018de922947",
   "metadata": {},
   "source": [
    "# Staging Lab"
   ]
  },
  {
   "cell_type": "markdown",
   "id": "3097f80d-3891-4d9a-87a0-0d6db216adab",
   "metadata": {},
   "source": [
    "### Introduction"
   ]
  },
  {
   "cell_type": "markdown",
   "id": "0f43c273-41c6-4035-a0f6-1f632d50ad82",
   "metadata": {},
   "source": [
    "In this lesson, we'll work through creating another staging table.  Let's get started."
   ]
  },
  {
   "cell_type": "markdown",
   "id": "771dcd3d-3def-4151-aa70-487a68339c43",
   "metadata": {},
   "source": [
    "### Getting setup "
   ]
  },
  {
   "cell_type": "markdown",
   "id": "e0e38ba7-a430-40f1-b4a9-2d99a9e4e535",
   "metadata": {},
   "source": [
    "We can begin by starting from main branch, and then creating a new branch for staging suppliers.  \n",
    "\n",
    "Type the proper git command to confirm that you are no longer on the main branch, and are instead on the `build_staging_suppliers` branch."
   ]
  },
  {
   "cell_type": "markdown",
   "id": "7a2d8ced-2293-4869-98bd-c8c796374bac",
   "metadata": {},
   "source": [
    "Then make sure that your files are structured so that you have a staging folder underneath the models folder.  And in the staging folder, create the `stg_rds_suppliers.sql` file."
   ]
  },
  {
   "cell_type": "markdown",
   "id": "409a77d6-5a3b-47ee-86ac-8228e15d03d7",
   "metadata": {},
   "source": [
    "If you also have the `stg_rds_customers.sql` file from the reading, the file structure will look like the following."
   ]
  },
  {
   "cell_type": "markdown",
   "id": "5ce5741d-161a-49b0-a810-b029f7ab668d",
   "metadata": {},
   "source": [
    "```\n",
    "northwinds-dbt\n",
    "│   \n",
    "└───models\n",
    "   │  \n",
    "   └───staging\n",
    "    ├── stg_shippers.sql\n",
    "    ├── stg_rds_customers.sql\n",
    "    └── stg_rds_suppliers.sql\n",
    "```"
   ]
  },
  {
   "cell_type": "markdown",
   "id": "0fec67bf-9048-44b2-8a36-f9dcb0cbc34a",
   "metadata": {},
   "source": [
    "And from here we can begin to fill in the contents of the `stg_rds_suppliers.sql` file."
   ]
  },
  {
   "cell_type": "markdown",
   "id": "32f519a9-02aa-4967-ba9e-2ef80d4b49d6",
   "metadata": {},
   "source": [
    "### Writing our Staging File"
   ]
  },
  {
   "cell_type": "markdown",
   "id": "1b84f0ab-c19b-438c-8145-7f2be48009a8",
   "metadata": {},
   "source": [
    "Remember that our staging file should follow the structure of:\n",
    "\n",
    "1. Import CTEs\n",
    "2. Logical CTEs\n",
    "3. Final select statement\n",
    "\n",
    "Let's take care of the import CTE and the final select statement first.  \n",
    "\n",
    "* For the import CTE, select from the relevant suppliers table, and name the CTE as `source`.\n",
    "* For the final select statement, select from the cte, and run `dbt run` to create the views.\n",
    "\n"
   ]
  },
  {
   "cell_type": "markdown",
   "id": "2fa382b8-cb10-4564-aaee-bc2600869697",
   "metadata": {},
   "source": [
    "If you call `dbt run`, you should first see the text `Completed Successfully`.  And then confirm that we created a new view `dev.stg_rds_suppliers` with all of the columns from our original suppliers table."
   ]
  },
  {
   "cell_type": "markdown",
   "id": "a7bff240-9402-4156-ad65-90dc83ad3f0f",
   "metadata": {},
   "source": [
    "> From the command line (bash) you can run the following."
   ]
  },
  {
   "cell_type": "markdown",
   "id": "57192601-b36b-4c2c-91be-fd0ce7d332ff",
   "metadata": {},
   "source": [
    "`psql -d northwinds -c \"select * from dev.stg_rds_suppliers limit 1\"`"
   ]
  },
  {
   "cell_type": "markdown",
   "id": "4e70ca27-bfda-4228-91a7-f7403a8415dd",
   "metadata": {},
   "source": [
    "And you should see the following columns outputted to the screen."
   ]
  },
  {
   "cell_type": "markdown",
   "id": "04a1163e-8dfb-4a47-a8e8-be5a865a96b7",
   "metadata": {},
   "source": [
    "> `supplier_id |  company_name  |   contact_name   |   contact_title    |    address     |  city  | region | postal_code | country |     phone      | fax | homepage`"
   ]
  },
  {
   "cell_type": "markdown",
   "id": "ebac0252-4972-4ca6-9229-09deea7c6a9f",
   "metadata": {},
   "source": [
    "If you see this, it's a good sign that you have successfully created your import cte."
   ]
  },
  {
   "cell_type": "markdown",
   "id": "b304754e-1ab0-4095-9e07-c154b0723aea",
   "metadata": {},
   "source": [
    "* Understanding our bash command"
   ]
  },
  {
   "cell_type": "markdown",
   "id": "e540d032-81c1-4fa9-9bf7-f4ab50509dd5",
   "metadata": {},
   "source": [
    "We'll be using that bash command a bit, so it's worth making sure we understand it."
   ]
  },
  {
   "cell_type": "markdown",
   "id": "f45640a3-6049-4b52-806c-225745c9d480",
   "metadata": {},
   "source": [
    "`psql -d northwinds -c \"select * from dev.stg_rds_suppliers limit 1\"`"
   ]
  },
  {
   "cell_type": "markdown",
   "id": "83495ef8-6e71-49ca-92fc-07571635fd79",
   "metadata": {},
   "source": [
    "* `psql` - the program we'll be using, postgres\n",
    "* `-d northwinds` - specifying our northwinds database\n",
    "* `-c \"select ...\"` - issuing the command (`-c` is for command) \"select * \"."
   ]
  },
  {
   "cell_type": "markdown",
   "id": "8a7cad7d-59c7-45e5-83b1-98ee1b401b30",
   "metadata": {},
   "source": [
    "### Creating our logical CTE"
   ]
  },
  {
   "cell_type": "markdown",
   "id": "9ea6d377-dbfd-408f-bce5-60a5a15d9438",
   "metadata": {},
   "source": [
    "Next, it's time to write our logical CTE.  For this, we'll want to select each individual column.  But for the contact name, we want to the column data separated into columns of `contact_first_name` and `contact_last_name`."
   ]
  },
  {
   "cell_type": "markdown",
   "id": "bee04361-fe92-457f-8f0e-36dfc435a749",
   "metadata": {},
   "source": [
    "Call `dbt run`, and then place the same bash command into the terminal."
   ]
  },
  {
   "cell_type": "markdown",
   "id": "e41ffe03-64af-4218-956e-0f54ec2c892d",
   "metadata": {},
   "source": [
    "`psql -d northwinds -c \"select * from dev.stg_rds_suppliers limit 1\"`"
   ]
  },
  {
   "cell_type": "markdown",
   "id": "c93b3165-3338-42f1-9af1-7633dd1fe361",
   "metadata": {},
   "source": [
    "This time you should see `contact_first_name` and `contact_last_name` as separate fields, and the names separated out."
   ]
  },
  {
   "cell_type": "markdown",
   "id": "52416b79-420f-4fed-8eca-ce10534c7885",
   "metadata": {},
   "source": [
    "> The output will look something like the following."
   ]
  },
  {
   "cell_type": "markdown",
   "id": "5ab5fda6-c2fb-4d18-bffa-40d9717b5a82",
   "metadata": {},
   "source": [
    "> <img src=\"./prev-logical.png\" width=\"100%\">"
   ]
  },
  {
   "cell_type": "markdown",
   "id": "0cdfc022-4a0b-4f65-844f-7c9b359b9567",
   "metadata": {},
   "source": [
    "Now our data is starting to look pretty strong, but we have noticed that our phone number data is inconsistent.  For example, if we just select the first five phone numbers, we'll see something like the following:"
   ]
  },
  {
   "cell_type": "markdown",
   "id": "d59adaf4-eaff-4481-af1d-29b78f92fae3",
   "metadata": {},
   "source": [
    "`psql -d northwinds -c \"select phone from dev.stg_rds_suppliers limit 8\"`"
   ]
  },
  {
   "cell_type": "markdown",
   "id": "07fb2081-2042-48e9-95a2-cc94536618a7",
   "metadata": {},
   "source": [
    "> <img src=\"./phone-numbers.png\" width=\"40%\">"
   ]
  },
  {
   "cell_type": "markdown",
   "id": "b7eaac4b-02eb-4f2b-9994-96f187d1aa65",
   "metadata": {},
   "source": [
    "And if we look further down our table, we'll see."
   ]
  },
  {
   "cell_type": "markdown",
   "id": "f4e3c52f-79e6-4c04-8db6-1282fe302ab2",
   "metadata": {},
   "source": [
    "> <img src=\"./ill-formatted.png\" width=\"40%\">"
   ]
  },
  {
   "cell_type": "markdown",
   "id": "599b5bbb-8bbf-4449-b145-3ece7931999c",
   "metadata": {},
   "source": [
    "Here, we can see a couple of errors -- our phone numbers have different formats and are of different lengths. \n",
    "\n",
    "Before we clean up this data, let's explore our data to see what we're working with.  \n",
    "\n",
    "From postgres, remove any dashes or parentheses and periods, and then let's group our phone numbers by their length, counting how many phone numbers we have of each length.\n",
    "\n",
    "> To do so, look at this [stackoverflow post](https://stackoverflow.com/questions/38619072/how-to-replace-multiple-special-characters-in-postgres-9-5) where it mentions the `translate` function.  You will likely need to break this query into CTEs."
   ]
  },
  {
   "cell_type": "markdown",
   "id": "812b2707-724b-43fe-90f3-ee3da439f230",
   "metadata": {},
   "source": [
    "We should see something like the following:"
   ]
  },
  {
   "cell_type": "markdown",
   "id": "43680480-c635-40e4-b56c-005ae8fe6487",
   "metadata": {},
   "source": [
    "> <img src=\"./grouped_nums.png\" width=\"100%\">"
   ]
  },
  {
   "cell_type": "markdown",
   "id": "02d6ed08-cb90-4d70-9a21-4fb02bf5f0b4",
   "metadata": {},
   "source": [
    "Looking at the data above, our ten digit numbers we can assume our ten digit numbers are valid numbers, and everything under 10 digits we can assume are invalid. "
   ]
  },
  {
   "cell_type": "markdown",
   "id": "c613b5b4-b73b-4482-aa7b-2de360817c4e",
   "metadata": {},
   "source": [
    "So by the time select our final data, we should:\n",
    "   \n",
    "1. Only have phone numbers that have 10 digits -- any other phone numbers we should replace with null.\n",
    "2. Have our phone numbers in the format of `(171) 555-2222`."
   ]
  },
  {
   "cell_type": "markdown",
   "id": "d6d5b411-fe2c-4d9b-824c-7e8d067aede0",
   "metadata": {},
   "source": [
    "If you run `dbt run`, and then perform the bash command again, we should see the data returned like so."
   ]
  },
  {
   "cell_type": "markdown",
   "id": "36a53340-74cd-44f4-93ec-9062f8da5c1d",
   "metadata": {},
   "source": [
    "`psql -d northwinds -c \"select * from dev.stg_rds_suppliers limit 3\"`"
   ]
  },
  {
   "cell_type": "markdown",
   "id": "2d52ab5d-18df-410f-beec-f7e0700c352c",
   "metadata": {},
   "source": [
    "```markdown\n",
    "phone\n",
    "----------------\n",
    " (171) 555-2222\n",
    " (100) 555-4822\n",
    " (313) 555-5735\n",
    "```"
   ]
  },
  {
   "cell_type": "markdown",
   "id": "75feb975-eef2-43c5-8bb2-4ee48c35db2b",
   "metadata": {},
   "source": [
    "When the staging model is written.  Make a commit and merge the changes to the main branch.\n",
    "\n",
    "```\n",
    "git status\n",
    "\n",
    "git add -A\n",
    "\n",
    "git commit -m 'add staging suppliers, coerce phone numbers'\n",
    "\n",
    "git checkout main\n",
    "\n",
    "git merge \n",
    "```"
   ]
  },
  {
   "cell_type": "markdown",
   "id": "c536862d-883f-492d-a5bb-be71e316bd5f",
   "metadata": {},
   "source": [
    "### Summary"
   ]
  },
  {
   "cell_type": "markdown",
   "id": "0e9717c3-0d3f-4307-b956-2395ea0cc112",
   "metadata": {},
   "source": [
    "In this lesson, we learned about structuring our staging file, such that we have import ctes, logical ctes and our select statement.\n",
    "\n",
    "We also practiced working with strings and along the way we saw:\n",
    "    \n",
    "1. Translate\n",
    "2. Case WHEN\n",
    "3. Substring"
   ]
  }
 ],
 "metadata": {
  "kernelspec": {
   "display_name": "Python 3 (ipykernel)",
   "language": "python",
   "name": "python3"
  },
  "language_info": {
   "codemirror_mode": {
    "name": "ipython",
    "version": 3
   },
   "file_extension": ".py",
   "mimetype": "text/x-python",
   "name": "python",
   "nbconvert_exporter": "python",
   "pygments_lexer": "ipython3",
   "version": "3.10.13"
  },
  "vscode": {
   "interpreter": {
    "hash": "b0fa6594d8f4cbf19f97940f81e996739fb7646882a419484c72d19e05852a7e"
   }
  }
 },
 "nbformat": 4,
 "nbformat_minor": 5
}
