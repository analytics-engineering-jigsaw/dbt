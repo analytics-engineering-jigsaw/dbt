{
 "cells": [
  {
   "cell_type": "markdown",
   "id": "31db3a6e-9c5a-4109-adc9-1ee805fc057e",
   "metadata": {},
   "source": [
    "# Building Staging Views"
   ]
  },
  {
   "cell_type": "markdown",
   "id": "4ce976a8-78fd-4055-ada6-ae93e6d32824",
   "metadata": {},
   "source": [
    "### Introduction"
   ]
  },
  {
   "cell_type": "markdown",
   "id": "31e85535-1189-4674-963e-07d27aae961d",
   "metadata": {},
   "source": [
    "So as we know, we'll begin with our source tables, and then use DBT to make transformations by using staging.  In our staging step, we do not combine data from multiple sources, but rather just provide some initial transformations.  Let's see how in this lesson."
   ]
  },
  {
   "cell_type": "markdown",
   "id": "5f5f649a-dd3f-4822-8fc6-d6203b003457",
   "metadata": {},
   "source": [
    "### Getting setup"
   ]
  },
  {
   "cell_type": "markdown",
   "id": "45345c00-4df1-48c5-a7b3-e12fa808df31",
   "metadata": {},
   "source": [
    "Let's get started by creating a new branch called `build_staging_customers`.  Then, from there, under the models folder, we can create a new folder called `staging`."
   ]
  },
  {
   "cell_type": "markdown",
   "id": "e74d4b6d-932e-472e-bf8a-0fdedf89fe7e",
   "metadata": {},
   "source": [
    "And from there, let's create a new file called `stg_rds_customers.sql`."
   ]
  },
  {
   "cell_type": "markdown",
   "id": "7370d056-110f-4509-ae04-9720809822d2",
   "metadata": {},
   "source": [
    "So now our file tree should look like the following."
   ]
  },
  {
   "cell_type": "markdown",
   "id": "a53586a2-8be0-4de9-a939-4339f1ecbadf",
   "metadata": {},
   "source": [
    "> <img src=\"./file_tree.png\" width=\"60%\">"
   ]
  },
  {
   "cell_type": "markdown",
   "id": "a4f56dab-1db3-4687-9e04-0ba64ef040ad",
   "metadata": {},
   "source": [
    "Ok, now let's move to writing our staging table."
   ]
  },
  {
   "cell_type": "markdown",
   "id": "548c70a7-a9cc-4fe9-9da7-69d7cded72b8",
   "metadata": {},
   "source": [
    "### Our staging table"
   ]
  },
  {
   "cell_type": "markdown",
   "id": "5845aaef-87d3-4126-a82f-de7cea58f3b9",
   "metadata": {},
   "source": [
    "The code for our staging table should look something like the following:"
   ]
  },
  {
   "cell_type": "markdown",
   "id": "e0d65192-c99c-4dba-914a-518f3311b908",
   "metadata": {},
   "source": [
    "<img src=\"./initial_staging.png\" width=\"80%\">"
   ]
  },
  {
   "cell_type": "markdown",
   "id": "657d56b0-3268-4a7f-af0a-a950105823ae",
   "metadata": {},
   "source": [
    "As we can see from the above, the code for our staging table is broken into three segments:\n",
    "\n",
    "1. Import CTEs\n",
    "2. Logical CTEs\n",
    "3. Final select statement\n",
    "\n",
    "Let's go through these in turn."
   ]
  },
  {
   "cell_type": "markdown",
   "id": "877f88f4-9714-4a45-abe0-8ac4ac14a040",
   "metadata": {},
   "source": [
    "### Import CTEs"
   ]
  },
  {
   "cell_type": "markdown",
   "id": "0d00b978-64d5-4a86-8017-edeba8190e23",
   "metadata": {},
   "source": [
    "We can see that import CTE at the top of the file."
   ]
  },
  {
   "cell_type": "markdown",
   "id": "4e49cd5c-2ebf-46b2-b8c0-df72408155bf",
   "metadata": {},
   "source": [
    "```sql\n",
    "WITH source as (\n",
    "  SELECT * FROM \"FIVETRAN_DATABASE\".\"POSTGRES_NORTHWINDS_RDS_PUBLIC\".\"CUSTOMERS\"\n",
    "), \n",
    "```"
   ]
  },
  {
   "cell_type": "markdown",
   "id": "96d80f0d-82f3-4b11-a632-68b16f630c44",
   "metadata": {},
   "source": [
    "The import CTEs are simply where we are specifying the tables needed for our file.  These import CTEs are analogous to the `import` statements at the top of a python file: we specify the dependencies of the file up top.\n",
    "\n",
    "So with each import CTE, we select all columns from the relevant table, and then rename the table.  Above we're using the customers table, so we select all columns, and rename it as `source`.\n",
    "\n",
    "> Where we are only loading one table, as we often are in, we can assign a name of source.  If we were loading more than one table, then something like `customers` would be more descriptive. "
   ]
  },
  {
   "cell_type": "markdown",
   "id": "3988ba45-560d-447f-9ae4-309c197fa8e0",
   "metadata": {},
   "source": [
    "### Logical CTEs"
   ]
  },
  {
   "cell_type": "markdown",
   "id": "6d4e38e4-9b2e-480b-9e05-4f846765b55e",
   "metadata": {},
   "source": [
    "Above, our logical CTE is the following:"
   ]
  },
  {
   "cell_type": "markdown",
   "id": "b7ad652e-883b-478e-a813-5980e0f3a8ac",
   "metadata": {},
   "source": [
    "```sql\n",
    "renamed as (\n",
    "    SELECT customer_id, country, \n",
    "    SPLIT_PART(contact_name, ' ', 1) as first_name,\n",
    "    SPLIT_PART(contact_name, ' ', -1) as last_name\n",
    "    FROM source\n",
    ")\n",
    "```"
   ]
  },
  {
   "cell_type": "markdown",
   "id": "27ac6b48-068f-4967-afe9-1cfaec4cd9d8",
   "metadata": {},
   "source": [
    "As we can see, the logical CTE is where we primarily do our work.  For example, above, we break our `contact_name` column into the columns of `first_name`, and `last_name`. "
   ]
  },
  {
   "cell_type": "markdown",
   "id": "251dac77-bdb4-4494-ae43-9e2cf770a0fc",
   "metadata": {},
   "source": [
    "### Final Select statement"
   ]
  },
  {
   "cell_type": "markdown",
   "id": "86f4873c-8245-4012-b4b0-44e7682fd68a",
   "metadata": {},
   "source": [
    "Then we end our file with the final select statement, that specifies what will be the final form of our view.  Below, we simply select all of the columns from our logical CTE like so:"
   ]
  },
  {
   "cell_type": "markdown",
   "id": "b33f70fa-0ad9-4752-910a-9eede20c89f0",
   "metadata": {},
   "source": [
    "```sql\n",
    "select * FROM renamed\n",
    "```"
   ]
  },
  {
   "cell_type": "markdown",
   "id": "ba79082e-596f-4408-9150-4a5102d10a0a",
   "metadata": {},
   "source": [
    "### Altogether now"
   ]
  },
  {
   "cell_type": "markdown",
   "id": "b5c4961c-b7d6-4320-89da-a655092c7c1e",
   "metadata": {},
   "source": [
    "So now let's take another look at the entire staging file.  Identify each of three components, and explain what each component does."
   ]
  },
  {
   "cell_type": "markdown",
   "id": "d36a23e7-6256-4dd2-967f-4f2db08dbd01",
   "metadata": {},
   "source": [
    "```sql\n",
    "WITH source as (\n",
    "  SELECT * FROM \"FIVETRAN_DATABASE\".\"POSTGRES_NORTHWINDS_RDS_PUBLIC\".\"CUSTOMERS\"\n",
    "), \n",
    "renamed as (\n",
    "    SELECT customer_id, country, \n",
    "    SPLIT_PART(contact_name, ' ', 1) as first_name,\n",
    "    SPLIT_PART(contact_name, ' ', -1) as last_name\n",
    "    FROM source\n",
    ")\n",
    "select * FROM renamed\n",
    "```"
   ]
  },
  {
   "cell_type": "markdown",
   "id": "88ef7089-e480-4bc1-b801-35a8ce0f9e41",
   "metadata": {},
   "source": [
    "### Summary"
   ]
  },
  {
   "cell_type": "markdown",
   "id": "7de547ab-0fb3-496d-94e3-d576e87e29fd",
   "metadata": {},
   "source": [
    "In this lesson, we learned about how to structure a staging file, and work involved in staging.  In our staging files, we perform clean up our source data.  With these transformations, we primarily work with one source table at a time.  And we structure our staging files with the following sequence:"
   ]
  },
  {
   "cell_type": "markdown",
   "id": "fad7df8b-e434-4e05-bfd5-8bee04d5c80d",
   "metadata": {},
   "source": [
    "```sql\n",
    "--- import ctes\n",
    "WITH source as (\n",
    "  SELECT * FROM \"FIVETRAN_DATABASE\".\"POSTGRES_NORTHWINDS_RDS_PUBLIC\".\"CUSTOMERS\"\n",
    "),  \n",
    "--- logical ctes\n",
    "renamed as (\n",
    "    SELECT customer_id, country, \n",
    "    SPLIT_PART(contact_name, ' ', 1) as first_name,\n",
    "    SPLIT_PART(contact_name, ' ', -1) as last_name\n",
    "    FROM source\n",
    ")\n",
    "--- final select statement\n",
    "select * FROM renamed\n",
    "```"
   ]
  }
 ],
 "metadata": {
  "kernelspec": {
   "display_name": "Python 3 (ipykernel)",
   "language": "python",
   "name": "python3"
  },
  "language_info": {
   "codemirror_mode": {
    "name": "ipython",
    "version": 3
   },
   "file_extension": ".py",
   "mimetype": "text/x-python",
   "name": "python",
   "nbconvert_exporter": "python",
   "pygments_lexer": "ipython3",
   "version": "3.9.12"
  },
  "vscode": {
   "interpreter": {
    "hash": "b0fa6594d8f4cbf19f97940f81e996739fb7646882a419484c72d19e05852a7e"
   }
  }
 },
 "nbformat": 4,
 "nbformat_minor": 5
}
