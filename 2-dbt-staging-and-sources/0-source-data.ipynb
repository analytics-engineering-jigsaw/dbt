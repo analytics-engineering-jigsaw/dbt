{
 "cells": [
  {
   "cell_type": "code",
   "execution_count": 1,
   "id": "9c005cd7-7530-4610-b2ad-d55c55fe9efe",
   "metadata": {},
   "outputs": [],
   "source": [
    "import pandas as pd"
   ]
  },
  {
   "cell_type": "code",
   "execution_count": 16,
   "id": "f17b16d3-3a38-43f3-acbb-00c3eb1cbdd8",
   "metadata": {},
   "outputs": [],
   "source": [
    "url = './btob/b_to_b_users.json'\n",
    "url = './btob/b_to_bevents.json'\n",
    "\n",
    "url = './ecommerce/mixpanel-users.json'\n",
    "\n",
    "url = './ecommerce/large-mixpanel.json'"
   ]
  },
  {
   "cell_type": "code",
   "execution_count": 22,
   "id": "41fc615c-9189-43b2-9fe7-a125fc854057",
   "metadata": {},
   "outputs": [
    {
     "data": {
      "text/plain": [
       "'/Users/jeffreykatz/Documents/jigsaw/curriculum/mod-b-pipelines/mixpanel'"
      ]
     },
     "execution_count": 22,
     "metadata": {},
     "output_type": "execute_result"
    }
   ],
   "source": [
    "pwd"
   ]
  },
  {
   "cell_type": "code",
   "execution_count": 17,
   "id": "4276b2f6-ad89-4028-b8f4-824a49f5924e",
   "metadata": {},
   "outputs": [],
   "source": [
    "import json\n",
    "f = open(url)\n",
    "data = json.load(f)"
   ]
  },
  {
   "cell_type": "code",
   "execution_count": 24,
   "id": "09fd13ce-4c49-4790-8cbe-f55d3f29fb68",
   "metadata": {},
   "outputs": [],
   "source": [
    "events = data['results']['events']"
   ]
  },
  {
   "cell_type": "code",
   "execution_count": 33,
   "id": "5e6b4544-b7ef-4a43-b25f-65c3cb053478",
   "metadata": {},
   "outputs": [],
   "source": [
    "new_events = []\n",
    "for event in events:\n",
    "    event_name = event['event']\n",
    "    new_event = event['properties'].copy()\n",
    "    new_event['event'] = event_name\n",
    "    new_events.append(new_event)"
   ]
  },
  {
   "cell_type": "code",
   "execution_count": 35,
   "id": "50be9aa6-7f89-4a13-84c6-4a760ec4ed7c",
   "metadata": {},
   "outputs": [],
   "source": [
    "df = pd.DataFrame(new_events)"
   ]
  },
  {
   "cell_type": "code",
   "execution_count": 41,
   "id": "093d1633-0329-4549-b51c-4f54a1add31c",
   "metadata": {},
   "outputs": [],
   "source": [
    "df.to_csv('./mixpanel_events.csv', index = False)"
   ]
  },
  {
   "cell_type": "markdown",
   "id": "07966e5c-2b54-4601-9681-2b06fda6654d",
   "metadata": {},
   "source": [
    "* Still need to load in data from `customers` and `suppliers`, and build an overlab with mixpanel, to then have subset of hubspot, to then have customers."
   ]
  },
  {
   "cell_type": "markdown",
   "id": "6cecab25-6eb5-4e8f-979c-59789a63dd6a",
   "metadata": {},
   "source": [
    "* Hubspot\n",
    "    * All customers + some randos\n",
    "* Mixpanel \n",
    "    * All hubspot + some randos"
   ]
  },
  {
   "cell_type": "markdown",
   "id": "e6a3fbe0-6e02-40a7-8101-b7bfcde6b5f2",
   "metadata": {},
   "source": [
    "Hubspot sample"
   ]
  },
  {
   "cell_type": "markdown",
   "id": "508a27bd-d809-4104-8dbd-2908a3550949",
   "metadata": {},
   "source": [
    "<img src=\"./hubspot-data-example.png\" width=\"100%\">"
   ]
  },
  {
   "cell_type": "code",
   "execution_count": 47,
   "id": "2abe5491-e9b9-4d62-bec0-3d78e711cf08",
   "metadata": {},
   "outputs": [
    {
     "data": {
      "text/html": [
       "<div>\n",
       "<style scoped>\n",
       "    .dataframe tbody tr th:only-of-type {\n",
       "        vertical-align: middle;\n",
       "    }\n",
       "\n",
       "    .dataframe tbody tr th {\n",
       "        vertical-align: top;\n",
       "    }\n",
       "\n",
       "    .dataframe thead th {\n",
       "        text-align: right;\n",
       "    }\n",
       "</style>\n",
       "<table border=\"1\" class=\"dataframe\">\n",
       "  <thead>\n",
       "    <tr style=\"text-align: right;\">\n",
       "      <th></th>\n",
       "      <th>CUSTOMER_ID</th>\n",
       "      <th>COUNTRY</th>\n",
       "      <th>CONTACT_NAME</th>\n",
       "      <th>ADDRESS</th>\n",
       "      <th>CITY</th>\n",
       "      <th>PHONE</th>\n",
       "      <th>COMPANY_NAME</th>\n",
       "      <th>REGION</th>\n",
       "      <th>POSTAL_CODE</th>\n",
       "      <th>FAX</th>\n",
       "      <th>CONTACT_TITLE</th>\n",
       "      <th>_FIVETRAN_DELETED</th>\n",
       "      <th>_FIVETRAN_SYNCED</th>\n",
       "    </tr>\n",
       "  </thead>\n",
       "  <tbody>\n",
       "    <tr>\n",
       "      <th>0</th>\n",
       "      <td>ALFKI</td>\n",
       "      <td>Germany</td>\n",
       "      <td>Maria Anders</td>\n",
       "      <td>Obere Str. 57</td>\n",
       "      <td>Berlin</td>\n",
       "      <td>030-0074321</td>\n",
       "      <td>Alfreds Futterkiste</td>\n",
       "      <td>NaN</td>\n",
       "      <td>12209</td>\n",
       "      <td>030-0076545</td>\n",
       "      <td>Sales Representative</td>\n",
       "      <td>NaN</td>\n",
       "      <td>2021-11-01T16:42:58.964000+00:00</td>\n",
       "    </tr>\n",
       "    <tr>\n",
       "      <th>1</th>\n",
       "      <td>ANATR</td>\n",
       "      <td>Mexico</td>\n",
       "      <td>Ana Trujillo</td>\n",
       "      <td>Avda. de la Constitución 2222</td>\n",
       "      <td>México D.F.</td>\n",
       "      <td>(5) 555-4729</td>\n",
       "      <td>Ana Trujillo Emparedados y helados</td>\n",
       "      <td>NaN</td>\n",
       "      <td>05021</td>\n",
       "      <td>(5) 555-3745</td>\n",
       "      <td>Owner</td>\n",
       "      <td>NaN</td>\n",
       "      <td>2021-11-01T16:42:58.964000+00:00</td>\n",
       "    </tr>\n",
       "  </tbody>\n",
       "</table>\n",
       "</div>"
      ],
      "text/plain": [
       "  CUSTOMER_ID  COUNTRY  CONTACT_NAME                        ADDRESS  \\\n",
       "0       ALFKI  Germany  Maria Anders                  Obere Str. 57   \n",
       "1       ANATR   Mexico  Ana Trujillo  Avda. de la Constitución 2222   \n",
       "\n",
       "          CITY         PHONE                        COMPANY_NAME REGION  \\\n",
       "0       Berlin   030-0074321                 Alfreds Futterkiste    NaN   \n",
       "1  México D.F.  (5) 555-4729  Ana Trujillo Emparedados y helados    NaN   \n",
       "\n",
       "  POSTAL_CODE           FAX         CONTACT_TITLE  _FIVETRAN_DELETED  \\\n",
       "0       12209   030-0076545  Sales Representative                NaN   \n",
       "1       05021  (5) 555-3745                 Owner                NaN   \n",
       "\n",
       "                   _FIVETRAN_SYNCED  \n",
       "0  2021-11-01T16:42:58.964000+00:00  \n",
       "1  2021-11-01T16:42:58.964000+00:00  "
      ]
     },
     "execution_count": 47,
     "metadata": {},
     "output_type": "execute_result"
    }
   ],
   "source": [
    "import pandas as pd\n",
    "customers_df = pd.read_csv('./customers.csv')\n",
    "customers_df[:2]"
   ]
  },
  {
   "cell_type": "code",
   "execution_count": 67,
   "id": "a9f2673f-b6cf-421f-8197-4cdef79094af",
   "metadata": {},
   "outputs": [],
   "source": [
    "customers_df.columns\n",
    "\n",
    "columns = ['hubspot_id','CONTACT_NAME', 'PHONE', 'COMPANY_NAME']"
   ]
  },
  {
   "cell_type": "code",
   "execution_count": 61,
   "id": "ac8b1187-81c7-4224-b48a-4354ced3a1f0",
   "metadata": {},
   "outputs": [],
   "source": [
    "customer_df = customers_df[columns]"
   ]
  },
  {
   "cell_type": "code",
   "execution_count": 65,
   "id": "ad25baa5-4ff0-488a-bf52-96a600120288",
   "metadata": {},
   "outputs": [],
   "source": [
    "# customer_df['hubspot_id'] = range(1000, 1091)"
   ]
  },
  {
   "cell_type": "code",
   "execution_count": 69,
   "id": "fad745d5-247b-42a0-a96c-642647d2403b",
   "metadata": {},
   "outputs": [],
   "source": [
    "customer_df = customer_df[columns]"
   ]
  },
  {
   "cell_type": "code",
   "execution_count": 70,
   "id": "8c237635-0745-4dd9-84b4-77567fc269ec",
   "metadata": {},
   "outputs": [
    {
     "data": {
      "text/html": [
       "<div>\n",
       "<style scoped>\n",
       "    .dataframe tbody tr th:only-of-type {\n",
       "        vertical-align: middle;\n",
       "    }\n",
       "\n",
       "    .dataframe tbody tr th {\n",
       "        vertical-align: top;\n",
       "    }\n",
       "\n",
       "    .dataframe thead th {\n",
       "        text-align: right;\n",
       "    }\n",
       "</style>\n",
       "<table border=\"1\" class=\"dataframe\">\n",
       "  <thead>\n",
       "    <tr style=\"text-align: right;\">\n",
       "      <th></th>\n",
       "      <th>hubspot_id</th>\n",
       "      <th>CONTACT_NAME</th>\n",
       "      <th>PHONE</th>\n",
       "      <th>COMPANY_NAME</th>\n",
       "    </tr>\n",
       "  </thead>\n",
       "  <tbody>\n",
       "    <tr>\n",
       "      <th>0</th>\n",
       "      <td>1000</td>\n",
       "      <td>Maria Anders</td>\n",
       "      <td>030-0074321</td>\n",
       "      <td>Alfreds Futterkiste</td>\n",
       "    </tr>\n",
       "    <tr>\n",
       "      <th>1</th>\n",
       "      <td>1001</td>\n",
       "      <td>Ana Trujillo</td>\n",
       "      <td>(5) 555-4729</td>\n",
       "      <td>Ana Trujillo Emparedados y helados</td>\n",
       "    </tr>\n",
       "  </tbody>\n",
       "</table>\n",
       "</div>"
      ],
      "text/plain": [
       "   hubspot_id  CONTACT_NAME         PHONE                        COMPANY_NAME\n",
       "0        1000  Maria Anders   030-0074321                 Alfreds Futterkiste\n",
       "1        1001  Ana Trujillo  (5) 555-4729  Ana Trujillo Emparedados y helados"
      ]
     },
     "execution_count": 70,
     "metadata": {},
     "output_type": "execute_result"
    }
   ],
   "source": [
    "customer_df[:2]"
   ]
  },
  {
   "cell_type": "code",
   "execution_count": 55,
   "id": "e008c146-375d-4dc7-a74a-bd06e503da4a",
   "metadata": {},
   "outputs": [],
   "source": [
    "import pandas as pd\n",
    "hubspot_df = pd.read_csv('./hubspot_sample.csv')"
   ]
  },
  {
   "cell_type": "code",
   "execution_count": 71,
   "id": "bf121862-9fb3-4a60-8bfa-55aec5ab7f16",
   "metadata": {},
   "outputs": [
    {
     "data": {
      "text/html": [
       "<div>\n",
       "<style scoped>\n",
       "    .dataframe tbody tr th:only-of-type {\n",
       "        vertical-align: middle;\n",
       "    }\n",
       "\n",
       "    .dataframe tbody tr th {\n",
       "        vertical-align: top;\n",
       "    }\n",
       "\n",
       "    .dataframe thead th {\n",
       "        text-align: right;\n",
       "    }\n",
       "</style>\n",
       "<table border=\"1\" class=\"dataframe\">\n",
       "  <thead>\n",
       "    <tr style=\"text-align: right;\">\n",
       "      <th></th>\n",
       "      <th>hubspot_id</th>\n",
       "      <th>first_name</th>\n",
       "      <th>last_name</th>\n",
       "      <th>phone</th>\n",
       "      <th>business_name</th>\n",
       "    </tr>\n",
       "  </thead>\n",
       "  <tbody>\n",
       "    <tr>\n",
       "      <th>0</th>\n",
       "      <td>1</td>\n",
       "      <td>Vincenty</td>\n",
       "      <td>Guppy</td>\n",
       "      <td>686-122-6484</td>\n",
       "      <td>Maggio Inc</td>\n",
       "    </tr>\n",
       "    <tr>\n",
       "      <th>1</th>\n",
       "      <td>2</td>\n",
       "      <td>Caz</td>\n",
       "      <td>Schleicher</td>\n",
       "      <td>395-345-8990</td>\n",
       "      <td>Thompson, Yost and Quigley</td>\n",
       "    </tr>\n",
       "  </tbody>\n",
       "</table>\n",
       "</div>"
      ],
      "text/plain": [
       "   hubspot_id first_name   last_name         phone               business_name\n",
       "0           1   Vincenty       Guppy  686-122-6484                  Maggio Inc\n",
       "1           2        Caz  Schleicher  395-345-8990  Thompson, Yost and Quigley"
      ]
     },
     "execution_count": 71,
     "metadata": {},
     "output_type": "execute_result"
    }
   ],
   "source": [
    "hubspot_df.columns\n",
    "\n",
    "columns = ['hubspot_id', 'first_name', 'last_name', 'phone',\n",
    "       'business_name']\n",
    "\n",
    "selected_hubspot = hubspot_df[columns]\n",
    "\n",
    "selected_hubspot[:2]"
   ]
  },
  {
   "cell_type": "code",
   "execution_count": 75,
   "id": "e5fcb354-7bda-476b-911a-a4f99a602ae3",
   "metadata": {},
   "outputs": [
    {
     "data": {
      "text/html": [
       "<div>\n",
       "<style scoped>\n",
       "    .dataframe tbody tr th:only-of-type {\n",
       "        vertical-align: middle;\n",
       "    }\n",
       "\n",
       "    .dataframe tbody tr th {\n",
       "        vertical-align: top;\n",
       "    }\n",
       "\n",
       "    .dataframe thead th {\n",
       "        text-align: right;\n",
       "    }\n",
       "</style>\n",
       "<table border=\"1\" class=\"dataframe\">\n",
       "  <thead>\n",
       "    <tr style=\"text-align: right;\">\n",
       "      <th></th>\n",
       "      <th>hubspot_id</th>\n",
       "      <th>first_name</th>\n",
       "      <th>last_name</th>\n",
       "      <th>phone</th>\n",
       "      <th>business_name</th>\n",
       "    </tr>\n",
       "  </thead>\n",
       "  <tbody>\n",
       "    <tr>\n",
       "      <th>0</th>\n",
       "      <td>1</td>\n",
       "      <td>Vincenty</td>\n",
       "      <td>Guppy</td>\n",
       "      <td>686-122-6484</td>\n",
       "      <td>Maggio Inc</td>\n",
       "    </tr>\n",
       "    <tr>\n",
       "      <th>1</th>\n",
       "      <td>2</td>\n",
       "      <td>Caz</td>\n",
       "      <td>Schleicher</td>\n",
       "      <td>395-345-8990</td>\n",
       "      <td>Thompson, Yost and Quigley</td>\n",
       "    </tr>\n",
       "  </tbody>\n",
       "</table>\n",
       "</div>"
      ],
      "text/plain": [
       "   hubspot_id first_name   last_name         phone               business_name\n",
       "0           1   Vincenty       Guppy  686-122-6484                  Maggio Inc\n",
       "1           2        Caz  Schleicher  395-345-8990  Thompson, Yost and Quigley"
      ]
     },
     "execution_count": 75,
     "metadata": {},
     "output_type": "execute_result"
    }
   ],
   "source": [
    "selected_hubspot[:2]"
   ]
  },
  {
   "cell_type": "code",
   "execution_count": 82,
   "id": "f3411f55-d43c-4868-b6d6-60ae121397a3",
   "metadata": {},
   "outputs": [],
   "source": [
    "first_name = customer_df['CONTACT_NAME'].str.split(' ').str[0]"
   ]
  },
  {
   "cell_type": "code",
   "execution_count": 83,
   "id": "e106cdf3-7243-4640-9202-ca35676ef13f",
   "metadata": {},
   "outputs": [],
   "source": [
    "last_name = customer_df['CONTACT_NAME'].str.split(' ').str[1]"
   ]
  },
  {
   "cell_type": "code",
   "execution_count": 85,
   "id": "194458ad-ba88-45da-8a35-780277b376fc",
   "metadata": {},
   "outputs": [
    {
     "data": {
      "text/html": [
       "<div>\n",
       "<style scoped>\n",
       "    .dataframe tbody tr th:only-of-type {\n",
       "        vertical-align: middle;\n",
       "    }\n",
       "\n",
       "    .dataframe tbody tr th {\n",
       "        vertical-align: top;\n",
       "    }\n",
       "\n",
       "    .dataframe thead th {\n",
       "        text-align: right;\n",
       "    }\n",
       "</style>\n",
       "<table border=\"1\" class=\"dataframe\">\n",
       "  <thead>\n",
       "    <tr style=\"text-align: right;\">\n",
       "      <th></th>\n",
       "      <th>hubspot_id</th>\n",
       "      <th>CONTACT_NAME</th>\n",
       "      <th>PHONE</th>\n",
       "      <th>COMPANY_NAME</th>\n",
       "    </tr>\n",
       "  </thead>\n",
       "  <tbody>\n",
       "    <tr>\n",
       "      <th>0</th>\n",
       "      <td>1000</td>\n",
       "      <td>Maria Anders</td>\n",
       "      <td>030-0074321</td>\n",
       "      <td>Alfreds Futterkiste</td>\n",
       "    </tr>\n",
       "    <tr>\n",
       "      <th>1</th>\n",
       "      <td>1001</td>\n",
       "      <td>Ana Trujillo</td>\n",
       "      <td>(5) 555-4729</td>\n",
       "      <td>Ana Trujillo Emparedados y helados</td>\n",
       "    </tr>\n",
       "  </tbody>\n",
       "</table>\n",
       "</div>"
      ],
      "text/plain": [
       "   hubspot_id  CONTACT_NAME         PHONE                        COMPANY_NAME\n",
       "0        1000  Maria Anders   030-0074321                 Alfreds Futterkiste\n",
       "1        1001  Ana Trujillo  (5) 555-4729  Ana Trujillo Emparedados y helados"
      ]
     },
     "execution_count": 85,
     "metadata": {},
     "output_type": "execute_result"
    }
   ],
   "source": [
    "customer_df[:2]"
   ]
  },
  {
   "cell_type": "code",
   "execution_count": 86,
   "id": "ca660998-b95f-4067-a9e7-58939d25e1ee",
   "metadata": {},
   "outputs": [],
   "source": [
    "customer_df.columns = ['hubspot_id', 'CONTACT_NAME', 'phone',\n",
    "       'COMPANY_NAME']"
   ]
  },
  {
   "cell_type": "code",
   "execution_count": 92,
   "id": "8814ecbc-91a4-4017-973c-07c0729c7b7f",
   "metadata": {},
   "outputs": [],
   "source": [
    "selected_customer_df = customer_df.assign(first_name = first_name, last_name = last_name).drop(columns = ['CONTACT_NAME'])"
   ]
  },
  {
   "cell_type": "code",
   "execution_count": 96,
   "id": "0361584e-2955-441d-90d1-6c7e8f62db32",
   "metadata": {},
   "outputs": [],
   "source": [
    "selected_customer_df.columns = ['hubspot_id', 'phone', 'business_name', 'first_name', 'last_name']"
   ]
  },
  {
   "cell_type": "code",
   "execution_count": 105,
   "id": "446bdb93-8ff1-42d1-bed8-2bf68827b852",
   "metadata": {},
   "outputs": [],
   "source": [
    "selected_hubspot_df = hubspot_df.drop(columns = ['email'])"
   ]
  },
  {
   "cell_type": "code",
   "execution_count": 100,
   "id": "6f57c5a2-b51c-4892-99fe-ae0ff61a289f",
   "metadata": {},
   "outputs": [
    {
     "data": {
      "text/html": [
       "<div>\n",
       "<style scoped>\n",
       "    .dataframe tbody tr th:only-of-type {\n",
       "        vertical-align: middle;\n",
       "    }\n",
       "\n",
       "    .dataframe tbody tr th {\n",
       "        vertical-align: top;\n",
       "    }\n",
       "\n",
       "    .dataframe thead th {\n",
       "        text-align: right;\n",
       "    }\n",
       "</style>\n",
       "<table border=\"1\" class=\"dataframe\">\n",
       "  <thead>\n",
       "    <tr style=\"text-align: right;\">\n",
       "      <th></th>\n",
       "      <th>hubspot_id</th>\n",
       "      <th>phone</th>\n",
       "      <th>business_name</th>\n",
       "      <th>first_name</th>\n",
       "      <th>last_name</th>\n",
       "    </tr>\n",
       "  </thead>\n",
       "  <tbody>\n",
       "    <tr>\n",
       "      <th>0</th>\n",
       "      <td>1000</td>\n",
       "      <td>030-0074321</td>\n",
       "      <td>Alfreds Futterkiste</td>\n",
       "      <td>Maria</td>\n",
       "      <td>Anders</td>\n",
       "    </tr>\n",
       "    <tr>\n",
       "      <th>1</th>\n",
       "      <td>1001</td>\n",
       "      <td>(5) 555-4729</td>\n",
       "      <td>Ana Trujillo Emparedados y helados</td>\n",
       "      <td>Ana</td>\n",
       "      <td>Trujillo</td>\n",
       "    </tr>\n",
       "  </tbody>\n",
       "</table>\n",
       "</div>"
      ],
      "text/plain": [
       "   hubspot_id         phone                       business_name first_name  \\\n",
       "0        1000   030-0074321                 Alfreds Futterkiste      Maria   \n",
       "1        1001  (5) 555-4729  Ana Trujillo Emparedados y helados        Ana   \n",
       "\n",
       "  last_name  \n",
       "0    Anders  \n",
       "1  Trujillo  "
      ]
     },
     "execution_count": 100,
     "metadata": {},
     "output_type": "execute_result"
    }
   ],
   "source": [
    "selected_customer_df[:2]"
   ]
  },
  {
   "cell_type": "code",
   "execution_count": 106,
   "id": "524a7628-89e5-4ed8-95dc-20806f1407e2",
   "metadata": {},
   "outputs": [
    {
     "data": {
      "text/html": [
       "<div>\n",
       "<style scoped>\n",
       "    .dataframe tbody tr th:only-of-type {\n",
       "        vertical-align: middle;\n",
       "    }\n",
       "\n",
       "    .dataframe tbody tr th {\n",
       "        vertical-align: top;\n",
       "    }\n",
       "\n",
       "    .dataframe thead th {\n",
       "        text-align: right;\n",
       "    }\n",
       "</style>\n",
       "<table border=\"1\" class=\"dataframe\">\n",
       "  <thead>\n",
       "    <tr style=\"text-align: right;\">\n",
       "      <th></th>\n",
       "      <th>hubspot_id</th>\n",
       "      <th>first_name</th>\n",
       "      <th>last_name</th>\n",
       "      <th>phone</th>\n",
       "      <th>business_name</th>\n",
       "    </tr>\n",
       "  </thead>\n",
       "  <tbody>\n",
       "    <tr>\n",
       "      <th>0</th>\n",
       "      <td>1</td>\n",
       "      <td>Vincenty</td>\n",
       "      <td>Guppy</td>\n",
       "      <td>686-122-6484</td>\n",
       "      <td>Maggio Inc</td>\n",
       "    </tr>\n",
       "    <tr>\n",
       "      <th>1</th>\n",
       "      <td>2</td>\n",
       "      <td>Caz</td>\n",
       "      <td>Schleicher</td>\n",
       "      <td>395-345-8990</td>\n",
       "      <td>Thompson, Yost and Quigley</td>\n",
       "    </tr>\n",
       "  </tbody>\n",
       "</table>\n",
       "</div>"
      ],
      "text/plain": [
       "   hubspot_id first_name   last_name         phone               business_name\n",
       "0           1   Vincenty       Guppy  686-122-6484                  Maggio Inc\n",
       "1           2        Caz  Schleicher  395-345-8990  Thompson, Yost and Quigley"
      ]
     },
     "execution_count": 106,
     "metadata": {},
     "output_type": "execute_result"
    }
   ],
   "source": [
    "selected_hubspot_df[:2]"
   ]
  },
  {
   "cell_type": "code",
   "execution_count": 129,
   "id": "84077bc1-c82e-4035-b4ef-8641b0ca5f84",
   "metadata": {},
   "outputs": [],
   "source": [
    "# selected_hubspot_df[:400]"
   ]
  },
  {
   "cell_type": "code",
   "execution_count": 130,
   "id": "0a30a04f-b3e3-449a-8d25-b6a6aef8bf71",
   "metadata": {},
   "outputs": [],
   "source": [
    "combined_hubspot = selected_hubspot_df[:400].append(selected_customer_df)"
   ]
  },
  {
   "cell_type": "code",
   "execution_count": 131,
   "id": "a3691eee-d45c-46d0-8f6c-044adde2fdd7",
   "metadata": {},
   "outputs": [],
   "source": [
    "cols = ['hubspot_id', 'first_name', 'last_name', 'phone', 'business_name']\n",
    "updated_hubspot = combined_hubspot[cols].sample(frac=1)"
   ]
  },
  {
   "cell_type": "code",
   "execution_count": 132,
   "id": "e5d71123-88ae-4653-8ea7-792efcff9547",
   "metadata": {},
   "outputs": [
    {
     "data": {
      "text/plain": [
       "(491, 5)"
      ]
     },
     "execution_count": 132,
     "metadata": {},
     "output_type": "execute_result"
    }
   ],
   "source": [
    "updated_hubspot.shape"
   ]
  },
  {
   "cell_type": "code",
   "execution_count": 134,
   "id": "41cdbad6-a996-4125-8354-154811db7e8a",
   "metadata": {},
   "outputs": [],
   "source": [
    "updated_hubspot['hubspot_id'] = range(0, 491)"
   ]
  },
  {
   "cell_type": "code",
   "execution_count": 135,
   "id": "eada436b-43a7-4f7d-a8cf-73e3e7e3f109",
   "metadata": {},
   "outputs": [],
   "source": [
    "updated_hubspot.to_csv('./combined_hubspot.csv', index = False)"
   ]
  },
  {
   "cell_type": "code",
   "execution_count": 3,
   "id": "fcb708f2-260e-4b5e-9bea-d6c029db99dc",
   "metadata": {},
   "outputs": [],
   "source": [
    "import pandas as pd"
   ]
  },
  {
   "cell_type": "code",
   "execution_count": 3,
   "id": "46288eeb-34d8-4699-bd98-0f349ea383ec",
   "metadata": {},
   "outputs": [],
   "source": [
    "import pandas as pd\n",
    "combined_hubspot_df = pd.read_csv('./pipeline_data/combined_hubspot.csv')"
   ]
  },
  {
   "cell_type": "code",
   "execution_count": 4,
   "id": "2fb2ae2e-c464-4002-a2e8-03a92b8c143e",
   "metadata": {},
   "outputs": [],
   "source": [
    "\n",
    "mixpanel_df = pd.read_csv('./mixpanel_events.csv')"
   ]
  },
  {
   "cell_type": "code",
   "execution_count": 5,
   "id": "c4a1ae61-388f-44a8-824e-b79e7cf03220",
   "metadata": {},
   "outputs": [
    {
     "data": {
      "text/html": [
       "<div>\n",
       "<style scoped>\n",
       "    .dataframe tbody tr th:only-of-type {\n",
       "        vertical-align: middle;\n",
       "    }\n",
       "\n",
       "    .dataframe tbody tr th {\n",
       "        vertical-align: top;\n",
       "    }\n",
       "\n",
       "    .dataframe thead th {\n",
       "        text-align: right;\n",
       "    }\n",
       "</style>\n",
       "<table border=\"1\" class=\"dataframe\">\n",
       "  <thead>\n",
       "    <tr style=\"text-align: right;\">\n",
       "      <th></th>\n",
       "      <th>time</th>\n",
       "      <th>distinct_id</th>\n",
       "      <th>$browser</th>\n",
       "      <th>$created</th>\n",
       "      <th>$email</th>\n",
       "      <th>$experiment_id</th>\n",
       "      <th>$first_name</th>\n",
       "      <th>$import</th>\n",
       "      <th>$initial_referrer</th>\n",
       "      <th>$insert_id</th>\n",
       "      <th>...</th>\n",
       "      <th>Cart Size (# of Items)</th>\n",
       "      <th>Coupon</th>\n",
       "      <th>Coupon Count Used</th>\n",
       "      <th>Delivery Day</th>\n",
       "      <th>Delivery Method Added Count</th>\n",
       "      <th>Number of Cards Added</th>\n",
       "      <th>Payment Method Added Count</th>\n",
       "      <th>Suggest Item</th>\n",
       "      <th>Page Name</th>\n",
       "      <th>Number of Results</th>\n",
       "    </tr>\n",
       "  </thead>\n",
       "  <tbody>\n",
       "    <tr>\n",
       "      <th>0</th>\n",
       "      <td>1.585695e+09</td>\n",
       "      <td>c1f47ad8-8972-4bfb-800d-6c1a4f0956d8</td>\n",
       "      <td>Internet Explorer</td>\n",
       "      <td>2020-03-01T21:47:04</td>\n",
       "      <td>Anna.Sanders@gmailx.com</td>\n",
       "      <td>112572.0</td>\n",
       "      <td>Anna</td>\n",
       "      <td>True</td>\n",
       "      <td>twitter.com</td>\n",
       "      <td>fdstEduuwEjkFExh</td>\n",
       "      <td>...</td>\n",
       "      <td>NaN</td>\n",
       "      <td>NaN</td>\n",
       "      <td>NaN</td>\n",
       "      <td>NaN</td>\n",
       "      <td>NaN</td>\n",
       "      <td>NaN</td>\n",
       "      <td>NaN</td>\n",
       "      <td>NaN</td>\n",
       "      <td>NaN</td>\n",
       "      <td>NaN</td>\n",
       "    </tr>\n",
       "    <tr>\n",
       "      <th>1</th>\n",
       "      <td>1.585695e+09</td>\n",
       "      <td>adedbfe1-0bb2-4e14-a328-4c6253ad162e</td>\n",
       "      <td>NaN</td>\n",
       "      <td>2020-03-03T06:32:40</td>\n",
       "      <td>Leroy.Byrd@aolx.com</td>\n",
       "      <td>NaN</td>\n",
       "      <td>Leroy</td>\n",
       "      <td>True</td>\n",
       "      <td>NaN</td>\n",
       "      <td>eiBihvBaDszmuhFC</td>\n",
       "      <td>...</td>\n",
       "      <td>NaN</td>\n",
       "      <td>NaN</td>\n",
       "      <td>NaN</td>\n",
       "      <td>NaN</td>\n",
       "      <td>NaN</td>\n",
       "      <td>NaN</td>\n",
       "      <td>NaN</td>\n",
       "      <td>NaN</td>\n",
       "      <td>NaN</td>\n",
       "      <td>NaN</td>\n",
       "    </tr>\n",
       "  </tbody>\n",
       "</table>\n",
       "<p>2 rows × 97 columns</p>\n",
       "</div>"
      ],
      "text/plain": [
       "           time                           distinct_id           $browser  \\\n",
       "0  1.585695e+09  c1f47ad8-8972-4bfb-800d-6c1a4f0956d8  Internet Explorer   \n",
       "1  1.585695e+09  adedbfe1-0bb2-4e14-a328-4c6253ad162e                NaN   \n",
       "\n",
       "              $created                   $email  $experiment_id $first_name  \\\n",
       "0  2020-03-01T21:47:04  Anna.Sanders@gmailx.com        112572.0        Anna   \n",
       "1  2020-03-03T06:32:40      Leroy.Byrd@aolx.com             NaN       Leroy   \n",
       "\n",
       "   $import $initial_referrer        $insert_id  ... Cart Size (# of Items)  \\\n",
       "0     True       twitter.com  fdstEduuwEjkFExh  ...                    NaN   \n",
       "1     True               NaN  eiBihvBaDszmuhFC  ...                    NaN   \n",
       "\n",
       "  Coupon  Coupon Count Used  Delivery Day  Delivery Method Added Count  \\\n",
       "0    NaN                NaN           NaN                          NaN   \n",
       "1    NaN                NaN           NaN                          NaN   \n",
       "\n",
       "   Number of Cards Added Payment Method Added Count  Suggest Item Page Name  \\\n",
       "0                    NaN                        NaN           NaN       NaN   \n",
       "1                    NaN                        NaN           NaN       NaN   \n",
       "\n",
       "  Number of Results  \n",
       "0               NaN  \n",
       "1               NaN  \n",
       "\n",
       "[2 rows x 97 columns]"
      ]
     },
     "execution_count": 5,
     "metadata": {},
     "output_type": "execute_result"
    }
   ],
   "source": [
    "mixpanel_df[:2]"
   ]
  },
  {
   "cell_type": "code",
   "execution_count": 8,
   "id": "706b0839-4901-42de-b117-325189ae4f1c",
   "metadata": {},
   "outputs": [
    {
     "data": {
      "text/plain": [
       "(5999, 97)"
      ]
     },
     "execution_count": 8,
     "metadata": {},
     "output_type": "execute_result"
    }
   ],
   "source": [
    "\n",
    "\n",
    "# '$first_name', '$last_name'"
   ]
  },
  {
   "cell_type": "code",
   "execution_count": 6,
   "id": "68987971-f0cf-4781-9b79-ea1d451ae2e3",
   "metadata": {},
   "outputs": [],
   "source": [
    "first_name = combined_hubspot_df.first_name"
   ]
  },
  {
   "cell_type": "code",
   "execution_count": 7,
   "id": "087c0ecc-ef10-47e1-aedc-4aa4596bdb53",
   "metadata": {},
   "outputs": [],
   "source": [
    "last_name = combined_hubspot_df.last_name"
   ]
  },
  {
   "cell_type": "code",
   "execution_count": 8,
   "id": "e239fc7f-3b5b-4399-a4f6-1badaeeb9685",
   "metadata": {},
   "outputs": [],
   "source": [
    "abridged_mixpanel = mixpanel_df[:491]"
   ]
  },
  {
   "cell_type": "code",
   "execution_count": 9,
   "id": "085e6b5b-70dd-4fa8-854c-87f46edff130",
   "metadata": {},
   "outputs": [
    {
     "name": "stderr",
     "output_type": "stream",
     "text": [
      "/var/folders/kx/pltjhhp51mv3hjlcsp0dwlfw0000gn/T/ipykernel_9183/2675832764.py:1: SettingWithCopyWarning: \n",
      "A value is trying to be set on a copy of a slice from a DataFrame.\n",
      "Try using .loc[row_indexer,col_indexer] = value instead\n",
      "\n",
      "See the caveats in the documentation: https://pandas.pydata.org/pandas-docs/stable/user_guide/indexing.html#returning-a-view-versus-a-copy\n",
      "  abridged_mixpanel['$first_name'] = first_name\n",
      "/var/folders/kx/pltjhhp51mv3hjlcsp0dwlfw0000gn/T/ipykernel_9183/2675832764.py:2: SettingWithCopyWarning: \n",
      "A value is trying to be set on a copy of a slice from a DataFrame.\n",
      "Try using .loc[row_indexer,col_indexer] = value instead\n",
      "\n",
      "See the caveats in the documentation: https://pandas.pydata.org/pandas-docs/stable/user_guide/indexing.html#returning-a-view-versus-a-copy\n",
      "  abridged_mixpanel['$last_name'] = last_name\n"
     ]
    }
   ],
   "source": [
    "abridged_mixpanel['$first_name'] = first_name\n",
    "abridged_mixpanel['$last_name'] = last_name"
   ]
  },
  {
   "cell_type": "code",
   "execution_count": 10,
   "id": "e5e92592-f57f-41de-a94e-ea50a98eeff1",
   "metadata": {},
   "outputs": [
    {
     "data": {
      "text/plain": [
       "(491, 97)"
      ]
     },
     "execution_count": 10,
     "metadata": {},
     "output_type": "execute_result"
    }
   ],
   "source": [
    "abridged_mixpanel.shape"
   ]
  },
  {
   "cell_type": "code",
   "execution_count": 11,
   "id": "19e1f52e-f431-48d5-a84d-f68410854c1c",
   "metadata": {},
   "outputs": [],
   "source": [
    "ended_mixpanel = mixpanel_df[492:]"
   ]
  },
  {
   "cell_type": "code",
   "execution_count": 12,
   "id": "d7016f11-bc65-46c2-afe5-e9089affe7e3",
   "metadata": {},
   "outputs": [],
   "source": [
    "combined_mix = abridged_mixpanel.append(ended_mixpanel).sample(frac=1)"
   ]
  },
  {
   "cell_type": "code",
   "execution_count": 13,
   "id": "ebbe0d31-53a8-4556-b8ab-c16dc5049a68",
   "metadata": {},
   "outputs": [
    {
     "data": {
      "text/html": [
       "<div>\n",
       "<style scoped>\n",
       "    .dataframe tbody tr th:only-of-type {\n",
       "        vertical-align: middle;\n",
       "    }\n",
       "\n",
       "    .dataframe tbody tr th {\n",
       "        vertical-align: top;\n",
       "    }\n",
       "\n",
       "    .dataframe thead th {\n",
       "        text-align: right;\n",
       "    }\n",
       "</style>\n",
       "<table border=\"1\" class=\"dataframe\">\n",
       "  <thead>\n",
       "    <tr style=\"text-align: right;\">\n",
       "      <th></th>\n",
       "      <th>time</th>\n",
       "      <th>distinct_id</th>\n",
       "      <th>$browser</th>\n",
       "      <th>$created</th>\n",
       "      <th>$email</th>\n",
       "      <th>$experiment_id</th>\n",
       "      <th>$first_name</th>\n",
       "      <th>$import</th>\n",
       "      <th>$initial_referrer</th>\n",
       "      <th>$insert_id</th>\n",
       "      <th>...</th>\n",
       "      <th>Cart Size (# of Items)</th>\n",
       "      <th>Coupon</th>\n",
       "      <th>Coupon Count Used</th>\n",
       "      <th>Delivery Day</th>\n",
       "      <th>Delivery Method Added Count</th>\n",
       "      <th>Number of Cards Added</th>\n",
       "      <th>Payment Method Added Count</th>\n",
       "      <th>Suggest Item</th>\n",
       "      <th>Page Name</th>\n",
       "      <th>Number of Results</th>\n",
       "    </tr>\n",
       "  </thead>\n",
       "  <tbody>\n",
       "    <tr>\n",
       "      <th>1394</th>\n",
       "      <td>1.585695e+09</td>\n",
       "      <td>fa08a4f8-74f9-440c-96a3-ecedb303a4e0</td>\n",
       "      <td>Mobile Safari</td>\n",
       "      <td>2020-03-07T02:27:58</td>\n",
       "      <td>Eric.Lane@hotmailx.com</td>\n",
       "      <td>NaN</td>\n",
       "      <td>Eric</td>\n",
       "      <td>True</td>\n",
       "      <td>google.com</td>\n",
       "      <td>ganscytzltnflcrg</td>\n",
       "      <td>...</td>\n",
       "      <td>NaN</td>\n",
       "      <td>NaN</td>\n",
       "      <td>NaN</td>\n",
       "      <td>NaN</td>\n",
       "      <td>NaN</td>\n",
       "      <td>NaN</td>\n",
       "      <td>NaN</td>\n",
       "      <td>NaN</td>\n",
       "      <td>NaN</td>\n",
       "      <td>NaN</td>\n",
       "    </tr>\n",
       "    <tr>\n",
       "      <th>1080</th>\n",
       "      <td>1.585695e+09</td>\n",
       "      <td>3e8cc8d8-087c-4d28-b221-c000372920eb</td>\n",
       "      <td>NaN</td>\n",
       "      <td>2020-03-07T07:30:13</td>\n",
       "      <td>Beverly.Sims@aolx.com</td>\n",
       "      <td>NaN</td>\n",
       "      <td>Beverly</td>\n",
       "      <td>True</td>\n",
       "      <td>NaN</td>\n",
       "      <td>FmzefdpsnlrufAmB</td>\n",
       "      <td>...</td>\n",
       "      <td>7.0</td>\n",
       "      <td>NaN</td>\n",
       "      <td>NaN</td>\n",
       "      <td>Ground</td>\n",
       "      <td>1.0</td>\n",
       "      <td>NaN</td>\n",
       "      <td>NaN</td>\n",
       "      <td>NaN</td>\n",
       "      <td>NaN</td>\n",
       "      <td>NaN</td>\n",
       "    </tr>\n",
       "  </tbody>\n",
       "</table>\n",
       "<p>2 rows × 97 columns</p>\n",
       "</div>"
      ],
      "text/plain": [
       "              time                           distinct_id       $browser  \\\n",
       "1394  1.585695e+09  fa08a4f8-74f9-440c-96a3-ecedb303a4e0  Mobile Safari   \n",
       "1080  1.585695e+09  3e8cc8d8-087c-4d28-b221-c000372920eb            NaN   \n",
       "\n",
       "                 $created                  $email  $experiment_id $first_name  \\\n",
       "1394  2020-03-07T02:27:58  Eric.Lane@hotmailx.com             NaN        Eric   \n",
       "1080  2020-03-07T07:30:13   Beverly.Sims@aolx.com             NaN     Beverly   \n",
       "\n",
       "      $import $initial_referrer        $insert_id  ... Cart Size (# of Items)  \\\n",
       "1394     True        google.com  ganscytzltnflcrg  ...                    NaN   \n",
       "1080     True               NaN  FmzefdpsnlrufAmB  ...                    7.0   \n",
       "\n",
       "     Coupon  Coupon Count Used  Delivery Day  Delivery Method Added Count  \\\n",
       "1394    NaN                NaN           NaN                          NaN   \n",
       "1080    NaN                NaN        Ground                          1.0   \n",
       "\n",
       "      Number of Cards Added Payment Method Added Count  Suggest Item  \\\n",
       "1394                    NaN                        NaN           NaN   \n",
       "1080                    NaN                        NaN           NaN   \n",
       "\n",
       "     Page Name Number of Results  \n",
       "1394       NaN               NaN  \n",
       "1080       NaN               NaN  \n",
       "\n",
       "[2 rows x 97 columns]"
      ]
     },
     "execution_count": 13,
     "metadata": {},
     "output_type": "execute_result"
    }
   ],
   "source": [
    "combined_mix[:2]"
   ]
  },
  {
   "cell_type": "code",
   "execution_count": 15,
   "id": "ee5698cc-ad8b-4cb5-8b2a-944f93776226",
   "metadata": {},
   "outputs": [],
   "source": [
    "# pd.read_csv('./pipeline_data/mixpanel.csv')"
   ]
  },
  {
   "cell_type": "code",
   "execution_count": 19,
   "id": "c93caeb8-dc07-4227-9cd0-6f58267d5989",
   "metadata": {},
   "outputs": [],
   "source": [
    "combined_mix\n",
    "\n",
    "cols = ['distinct_id', '$created', '$email', '$first_name', '$last_name', 'Abandon Cart Count',\n",
    "       'Account Created Count', 'Gender', 'Registration Date', '$city', '$region',\n",
    " 'Last Event', 'Last Purchase', 'Last Search', 'Last Share'\n",
    "]\n",
    "selected_mix = combined_mix[cols]"
   ]
  },
  {
   "cell_type": "code",
   "execution_count": 20,
   "id": "98e66068-ac82-4913-b7b3-cf305b523151",
   "metadata": {},
   "outputs": [
    {
     "data": {
      "text/plain": [
       "(5998, 15)"
      ]
     },
     "execution_count": 20,
     "metadata": {},
     "output_type": "execute_result"
    }
   ],
   "source": [
    "selected_mix.shape"
   ]
  },
  {
   "cell_type": "code",
   "execution_count": 21,
   "id": "ed4b9613-6915-4e52-b099-c9ab4fdc2dfc",
   "metadata": {},
   "outputs": [],
   "source": [
    "selected_mix.to_csv('./northwinds_mixpanel.csv', index = False)"
   ]
  },
  {
   "cell_type": "code",
   "execution_count": null,
   "id": "c20df128-af83-427d-8c1f-9d953bb74e41",
   "metadata": {},
   "outputs": [],
   "source": []
  }
 ],
 "metadata": {
  "kernelspec": {
   "display_name": "Python 3 (ipykernel)",
   "language": "python",
   "name": "python3"
  },
  "language_info": {
   "codemirror_mode": {
    "name": "ipython",
    "version": 3
   },
   "file_extension": ".py",
   "mimetype": "text/x-python",
   "name": "python",
   "nbconvert_exporter": "python",
   "pygments_lexer": "ipython3",
   "version": "3.9.7"
  }
 },
 "nbformat": 4,
 "nbformat_minor": 5
}
