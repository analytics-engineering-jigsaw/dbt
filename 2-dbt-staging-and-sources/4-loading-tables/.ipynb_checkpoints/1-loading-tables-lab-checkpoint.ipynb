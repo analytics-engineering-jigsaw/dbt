{
 "cells": [
  {
   "cell_type": "markdown",
   "id": "9d735732-10a7-40c8-a7fd-98b69a30355c",
   "metadata": {},
   "source": [
    "# Loading CRM data lab"
   ]
  },
  {
   "cell_type": "markdown",
   "id": "52bbbbd6-ef6e-4c3b-b29d-38df73dd186b",
   "metadata": {},
   "source": [
    "### Introduction"
   ]
  },
  {
   "cell_type": "markdown",
   "id": "5c885a39-be37-4391-8193-a17451e770be",
   "metadata": {},
   "source": [
    "In this lesson, we'll work on using our source data in DBT, and providing some initial coercions of that data in staging."
   ]
  },
  {
   "cell_type": "markdown",
   "id": "f617c540-3ed0-4eda-9927-ffdbc44f86d3",
   "metadata": {},
   "source": [
    "### Loading Hubspot Data"
   ]
  },
  {
   "cell_type": "markdown",
   "id": "bb0444a5-a9c5-4e5e-8612-c5a5b4a2e852",
   "metadata": {},
   "source": [
    "Start from the master branch.  You should currently have a `sources.yaml` file on the master branch.  \n",
    "\n",
    "> If you don't check to see that you merged the previous branch into master.  Then you can `pull from master` from the master branch in DBT."
   ]
  },
  {
   "cell_type": "markdown",
   "id": "602ce161-a6e4-42bc-a65c-72c7c826d19d",
   "metadata": {},
   "source": [
    "Then, create a new branch called `add_hubspot_models`."
   ]
  },
  {
   "cell_type": "markdown",
   "id": "188b8924-6a19-4b3a-96d0-618fbe651961",
   "metadata": {},
   "source": [
    "From here, let's begin to place some of our staging files into different folders.  Create a new folder called `rds` to place the rds files, as well as the related `sources.yaml` file.  \n",
    "\n",
    "And also create a folder called `hubspot` that wil have it's own `sources.yaml` and a model for hubspot contacts called `stg_hubspot_contacts.sql`.  \n",
    "\n",
    "\n",
    "> You can move the files into the newly created folder by clicking on each file, and choosing `rename`, and then updating the path.\n",
    "\n",
    "When it's all setup, your file structure should look like the following:"
   ]
  },
  {
   "cell_type": "markdown",
   "id": "6531e6ae-4acb-401b-a8a3-50643bb01eec",
   "metadata": {},
   "source": [
    "> <img src=\"./file-structure.png\" width=\"40%\">"
   ]
  },
  {
   "cell_type": "markdown",
   "id": "250aaf89-8e42-4f50-9aeb-71a9cee548a0",
   "metadata": {},
   "source": [
    "As you can see above, we also want to create a new folder called `hubspot`, and add a new file called `stg_hubspot_contacts.sql`, as well as another `sources.yaml` file."
   ]
  },
  {
   "cell_type": "markdown",
   "id": "ed1b4b99-ce67-4e20-a136-a6a385ac9345",
   "metadata": {},
   "source": [
    "For the hubspot contacts:\n",
    "\n",
    "1. Create a source, and reference it from the staging file\n",
    "\n",
    "> We can confirm that the source is working when we see the following in the lineage:\n",
    "> <img src=\"./hubspot-lineage.png\" width=\"60%\">\n",
    "\n",
    "2. Provide the same cleanup to the phone numbers data as we did in the `stg_rds_customers.sql` model, and also display a `contact_id` with a prefix of `hubspot`."
   ]
  },
  {
   "cell_type": "markdown",
   "id": "ca14821f-d49d-402e-aebe-bf8afe7b4908",
   "metadata": {},
   "source": [
    "And when our phone number information is properly cleaned, the data should look like the following:"
   ]
  },
  {
   "cell_type": "markdown",
   "id": "6ac8027a-58e8-4383-90d6-4d95e05b3169",
   "metadata": {},
   "source": [
    "> <img src=\"./hubspot-prefix.png\" width=\"100%\">"
   ]
  },
  {
   "cell_type": "markdown",
   "id": "c5579715-060a-44b5-a3ca-37c3cf4ca8be",
   "metadata": {},
   "source": [
    "### Adding relations"
   ]
  },
  {
   "cell_type": "markdown",
   "id": "39c48d9d-685d-4b63-9161-de7cae753843",
   "metadata": {},
   "source": [
    "Now in our hubspot data, we also have company information.  Let's add that now.  \n",
    "\n",
    "Create a file called `stg_hubspot_companies.sql` and then add `company_id` column derived from the company name, and add also have a column for the company name.  When complete the data should look like the following.  "
   ]
  },
  {
   "cell_type": "markdown",
   "id": "0d6803eb-1bda-4c60-829d-9264760678dc",
   "metadata": {},
   "source": [
    "> <img src=\"./hubspot-queries.png\" width=\"100%\">"
   ]
  },
  {
   "cell_type": "markdown",
   "id": "67fe64ac-7cd0-44f5-bcb0-75184c0bdb90",
   "metadata": {},
   "source": [
    "And group by business name to make sure we do not have duplicates."
   ]
  },
  {
   "cell_type": "markdown",
   "id": "c1f1c1bf-0231-4a2a-827c-5da1242e1dcc",
   "metadata": {},
   "source": [
    "Next, we should associate the our contacts with the related business through their business id.  When this is complete our contact data should look like the following."
   ]
  },
  {
   "cell_type": "markdown",
   "id": "d25e5ea1-0fb1-475d-ab4b-a9eb38c9c82b",
   "metadata": {},
   "source": [
    "> <img src=\"./related-hubspot.png\" width=\"100%\">"
   ]
  },
  {
   "cell_type": "markdown",
   "id": "aae79230-2a9e-41fb-b044-9e8e82eb81c1",
   "metadata": {},
   "source": [
    "And the lineage for contacts should look like the following."
   ]
  },
  {
   "cell_type": "markdown",
   "id": "31859ced-159b-4ff8-be2b-48818568eeae",
   "metadata": {},
   "source": [
    "<img src=\"./hubspot-contacts-lineage.png\" width=\"100%\">"
   ]
  },
  {
   "cell_type": "markdown",
   "id": "718e41d7-0fef-4d6f-914a-29a9468e9fdb",
   "metadata": {},
   "source": [
    "### Making it consistent"
   ]
  },
  {
   "cell_type": "markdown",
   "id": "d9007629-471d-4b15-86e2-3e738fd3b8cf",
   "metadata": {},
   "source": [
    "Now we have done most of the work with setting up our hubspot models.  But we should take a moment to make our hubspot staging models a bit more consistent with the related models in our rds folder.\n",
    "\n",
    "This means the following:\n",
    "\n",
    "* We should align the columns in our various sources so that our columns are in the same order, with consistent names and consistent formatting"
   ]
  },
  {
   "cell_type": "markdown",
   "id": "10fee997-8257-4a47-807f-13ab84b448c6",
   "metadata": {},
   "source": [
    "If we look at the `stg_rds_customers` file, the columns should currently align with the `stg_hubspot_contacts` file.  \n",
    "\n",
    "* Confirm that the columns are in the same order, and with the same formatting (for example the same formatting should apply to phone numbers).  \n",
    "\n",
    "Then take a look at the `stg_rds_companies` and `stg_hubspot_companies` files.  The main issue right now is that under hubspot, we are using the column name `business_name`, whereas under our `stg_rds_companies` we are using `company_name`.  Let's change both to use the column name `name`."
   ]
  },
  {
   "cell_type": "markdown",
   "id": "433c530f-5a6c-4671-8a29-12d15f7a3f3d",
   "metadata": {},
   "source": [
    "> Make sure to update the join when complete."
   ]
  },
  {
   "cell_type": "markdown",
   "id": "0231f5ca-0031-4b2f-838b-1ff96486723a",
   "metadata": {},
   "source": [
    "Confirm that everything is working by running:\n",
    "    \n",
    "```bash\n",
    "dbt run --models staging.*\n",
    "```"
   ]
  },
  {
   "cell_type": "markdown",
   "id": "6a9a39a2-f8b1-4536-ab65-bc9f459f568e",
   "metadata": {},
   "source": [
    "You should see only green check marks."
   ]
  },
  {
   "cell_type": "markdown",
   "id": "1a02fbf7-469d-42ec-ab0d-5e983eefa142",
   "metadata": {
    "jp-MarkdownHeadingCollapsed": true,
    "tags": []
   },
   "source": [
    "### Resources\n",
    "\n",
    "[DBT date utils](https://github.com/calogica/dbt-date)\n",
    "\n",
    "[Snowflake datetime](https://docs.snowflake.com/en/sql-reference/functions/year.html#examples)"
   ]
  }
 ],
 "metadata": {
  "kernelspec": {
   "display_name": "Python 3 (ipykernel)",
   "language": "python",
   "name": "python3"
  },
  "language_info": {
   "codemirror_mode": {
    "name": "ipython",
    "version": 3
   },
   "file_extension": ".py",
   "mimetype": "text/x-python",
   "name": "python",
   "nbconvert_exporter": "python",
   "pygments_lexer": "ipython3",
   "version": "3.9.7"
  }
 },
 "nbformat": 4,
 "nbformat_minor": 5
}
