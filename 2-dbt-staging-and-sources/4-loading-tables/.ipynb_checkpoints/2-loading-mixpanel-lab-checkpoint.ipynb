{
 "cells": [
  {
   "cell_type": "markdown",
   "id": "9d735732-10a7-40c8-a7fd-98b69a30355c",
   "metadata": {},
   "source": [
    "# Loading CRM data lab"
   ]
  },
  {
   "cell_type": "markdown",
   "id": "52bbbbd6-ef6e-4c3b-b29d-38df73dd186b",
   "metadata": {},
   "source": [
    "### Introduction"
   ]
  },
  {
   "cell_type": "markdown",
   "id": "5c885a39-be37-4391-8193-a17451e770be",
   "metadata": {},
   "source": [
    "In this lesson, we'll work on using our source data in DBT, and providing some initial coercions of that data in staging."
   ]
  },
  {
   "cell_type": "markdown",
   "id": "f617c540-3ed0-4eda-9927-ffdbc44f86d3",
   "metadata": {},
   "source": [
    "### Loading Hubspot Data"
   ]
  },
  {
   "cell_type": "markdown",
   "id": "bb0444a5-a9c5-4e5e-8612-c5a5b4a2e852",
   "metadata": {},
   "source": [
    "Start from the master branch.  You should currently have a `sources.yaml` file on the master branch.  \n",
    "\n",
    "> If you don't check to see that you merged the previous branch into master.  Then you can `pull from master` from the master branch in DBT."
   ]
  },
  {
   "cell_type": "markdown",
   "id": "602ce161-a6e4-42bc-a65c-72c7c826d19d",
   "metadata": {},
   "source": [
    "Then, create a new branch called `add crm tables`."
   ]
  },
  {
   "cell_type": "markdown",
   "id": "188b8924-6a19-4b3a-96d0-618fbe651961",
   "metadata": {},
   "source": [
    "From here, let's begin to place some of our staging files into different folders.  Create a new folder called rds to place the rds files, as well as the related sources.yaml file.  \n",
    "\n",
    "> You can move the files into the newly created folder by clicking on each file, and choosing `rename`, and then updating the path."
   ]
  },
  {
   "cell_type": "markdown",
   "id": "6531e6ae-4acb-401b-a8a3-50643bb01eec",
   "metadata": {},
   "source": [
    "> <img src=\"./file-structure.png\" width=\"40%\">"
   ]
  },
  {
   "cell_type": "markdown",
   "id": "250aaf89-8e42-4f50-9aeb-71a9cee548a0",
   "metadata": {},
   "source": [
    "As you can see above, we also want to create a new folder called `hubspot`, and add a new file called `stg_hubspot_contacts.sql`, as well as another `sources.yaml` file."
   ]
  },
  {
   "cell_type": "markdown",
   "id": "ed1b4b99-ce67-4e20-a136-a6a385ac9345",
   "metadata": {},
   "source": [
    "For the hubspot contacts:\n",
    "\n",
    "1. Create a source, and reference it from the staging file\n",
    "\n",
    "> We can confirm that the source is working when we see the following in the lineage:\n",
    "> <img src=\"./hubspot-lineage.png\" width=\"60%\">\n",
    "\n",
    "2. Provide the same cleanup to the phone numbers data as we did in the `stg_rds_customers.sql` model."
   ]
  },
  {
   "cell_type": "markdown",
   "id": "ca14821f-d49d-402e-aebe-bf8afe7b4908",
   "metadata": {},
   "source": [
    "And when our phone number information is properly cleaned, the data should look like the following:"
   ]
  },
  {
   "cell_type": "markdown",
   "id": "6ac8027a-58e8-4383-90d6-4d95e05b3169",
   "metadata": {},
   "source": [
    "> <img src=\"./hubspot_results.png\" width=\"100%\">"
   ]
  },
  {
   "cell_type": "markdown",
   "id": "c3133278-a963-4eeb-9317-05902142d98a",
   "metadata": {},
   "source": [
    "### Loading Mixpanel Data"
   ]
  },
  {
   "cell_type": "markdown",
   "id": "a0938265-48ec-4720-931b-df265757eae3",
   "metadata": {},
   "source": [
    "Now let's create a folder, file and source file for our mixpanel data.  Have the staging file properly reference the source, and confirm that it does by looking at the lineage."
   ]
  },
  {
   "cell_type": "markdown",
   "id": "3f287fe8-677c-4009-9cf7-33ab16f42831",
   "metadata": {},
   "source": [
    "<img src=\"./mixpanel_contacts.png\" width=\"80%\">"
   ]
  },
  {
   "cell_type": "markdown",
   "id": "70db71b4-f298-42fb-9b34-e0a55c91674e",
   "metadata": {},
   "source": [
    "Next, it's time to format some of our data.  Currently, our data looks something like the following."
   ]
  },
  {
   "cell_type": "markdown",
   "id": "8f98b8d3-280c-4467-b0c9-5b738552d90f",
   "metadata": {},
   "source": [
    "<img src=\"./initial_data.png\" width=\"80%\">"
   ]
  },
  {
   "cell_type": "markdown",
   "id": "479985b1-a9c5-4525-bca1-46a86050a43c",
   "metadata": {},
   "source": [
    "The main issue is that we should convert the files `created`, `registration_date`, `last_event`, `last_purchase`, `last_share` to datetimes. "
   ]
  },
  {
   "cell_type": "markdown",
   "id": "f1747e6b-1443-4ed2-a259-77ab34881084",
   "metadata": {},
   "source": [
    "We can see how to convert our strings into timestamps in the following [snowflake documentation](https://docs.snowflake.com/en/sql-reference/functions/year.html#examples)."
   ]
  },
  {
   "cell_type": "markdown",
   "id": "a029ad3a-b3ab-4041-9358-461bddea9789",
   "metadata": {},
   "source": [
    "And we can confirm this is working by trying to extract the year from the coerced column, which you can see how to do [here](https://docs.snowflake.com/en/sql-reference/functions/year.html#examples)."
   ]
  },
  {
   "cell_type": "markdown",
   "id": "02ea0abe-0251-474c-86be-d8368fbc750c",
   "metadata": {},
   "source": [
    "> <img src=\"./registration_yr.png\" width=\"40%\">"
   ]
  },
  {
   "cell_type": "markdown",
   "id": "4e2ed458-9b5d-4522-88d0-34389e11b453",
   "metadata": {},
   "source": [
    "Once this is working, it's time to coerce the rest of our columns: \n",
    "\n",
    "* `created`, `registration_date`, `last_event`, `last_purchase`, `last_share`\n",
    "* And change the column name of `created` to `created_at`"
   ]
  },
  {
   "cell_type": "markdown",
   "id": "6ef6d6f9-f2b9-43a7-89af-b7935d02f744",
   "metadata": {},
   "source": [
    "When you have properly coerced the data, make a commit, and merge the changes to master."
   ]
  },
  {
   "cell_type": "markdown",
   "id": "1a02fbf7-469d-42ec-ab0d-5e983eefa142",
   "metadata": {},
   "source": [
    "### Resources\n",
    "\n",
    "[DBT date utils](https://github.com/calogica/dbt-date)\n",
    "\n",
    "[Snowflake datetime](https://docs.snowflake.com/en/sql-reference/functions/year.html#examples)"
   ]
  }
 ],
 "metadata": {
  "kernelspec": {
   "display_name": "Python 3 (ipykernel)",
   "language": "python",
   "name": "python3"
  },
  "language_info": {
   "codemirror_mode": {
    "name": "ipython",
    "version": 3
   },
   "file_extension": ".py",
   "mimetype": "text/x-python",
   "name": "python",
   "nbconvert_exporter": "python",
   "pygments_lexer": "ipython3",
   "version": "3.9.7"
  }
 },
 "nbformat": 4,
 "nbformat_minor": 5
}
