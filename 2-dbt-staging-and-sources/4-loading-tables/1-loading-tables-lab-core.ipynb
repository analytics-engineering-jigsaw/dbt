{
 "cells": [
  {
   "cell_type": "markdown",
   "id": "9d735732-10a7-40c8-a7fd-98b69a30355c",
   "metadata": {},
   "source": [
    "# Loading CRM data lab"
   ]
  },
  {
   "cell_type": "markdown",
   "id": "52bbbbd6-ef6e-4c3b-b29d-38df73dd186b",
   "metadata": {},
   "source": [
    "### Introduction"
   ]
  },
  {
   "cell_type": "markdown",
   "id": "5c885a39-be37-4391-8193-a17451e770be",
   "metadata": {},
   "source": [
    "In this lesson, we'll work on using our source data in DBT, and providing some initial coercions of that data in staging."
   ]
  },
  {
   "cell_type": "markdown",
   "id": "f617c540-3ed0-4eda-9927-ffdbc44f86d3",
   "metadata": {},
   "source": [
    "### Loading Hubspot Data"
   ]
  },
  {
   "cell_type": "markdown",
   "id": "bb0444a5-a9c5-4e5e-8612-c5a5b4a2e852",
   "metadata": {},
   "source": [
    "Start from the main branch.  You should currently have a `sources.yaml` file on the main branch.  "
   ]
  },
  {
   "cell_type": "markdown",
   "id": "602ce161-a6e4-42bc-a65c-72c7c826d19d",
   "metadata": {},
   "source": [
    "Then, create a new branch called `add_hubspot_models`."
   ]
  },
  {
   "cell_type": "markdown",
   "id": "188b8924-6a19-4b3a-96d0-618fbe651961",
   "metadata": {},
   "source": [
    "From here, let's begin to place some of our staging files into different folders.  Create a new folder called `models/staging/rds` (if you don't already have this) to place the rds files, as well as the related `sources.yaml` file.  \n",
    "\n",
    "And also create a folder called `models/staging/hubspot` that will have it's own `sources.yaml` and a model for hubspot contacts called `stg_hubspot_contacts.sql`.  \n",
    "\n",
    "When it's all setup, your file structure should look like the following:"
   ]
  },
  {
   "cell_type": "markdown",
   "id": "6531e6ae-4acb-401b-a8a3-50643bb01eec",
   "metadata": {},
   "source": [
    "```\n",
    "models\n",
    "└── staging\n",
    "    ├── hubspot\n",
    "    │   ├── sources.yaml\n",
    "    │   └── stg_hubspot_contacts.sql\n",
    "    └── rds\n",
    "        ├── sources.yaml\n",
    "        ├── stg_shipping.sql\n",
    "        ├── stg_rds_companies.sql\n",
    "        ├── stg_rds_customers.sql\n",
    "        └── stg_rds_suppliers.sql\n",
    "```"
   ]
  },
  {
   "cell_type": "markdown",
   "id": "ed1b4b99-ce67-4e20-a136-a6a385ac9345",
   "metadata": {},
   "source": [
    "For the hubspot contacts:\n",
    "\n",
    "1. Update the `sources.yaml` file in the hubspot folder, so that it references our new `dev.northwinds_hubspot` table.\n",
    "\n",
    "Then from the `stg_hubspot_contacts.sql` file, select * from that source.  Run `dbt run` to confirm that it is connected correctly. \n",
    "\n",
    "2. Provide the same cleanup to the phone numbers data as we did in the `stg_rds_customers.sql` model, and also display a `contact_id` with a prefix of `hubspot`."
   ]
  },
  {
   "cell_type": "markdown",
   "id": "ca14821f-d49d-402e-aebe-bf8afe7b4908",
   "metadata": {},
   "source": [
    "And when our phone number information is properly cleaned (and you run `dbt run`, you should be able to select from the `stg_hubspot_contacts` table and see the properly formatted data.\n",
    "\n",
    "So run the following:"
   ]
  },
  {
   "cell_type": "markdown",
   "id": "84faa362-d7b8-4dcf-a9a6-207260be7adc",
   "metadata": {},
   "source": [
    "Run: \n",
    "    \n",
    "`psql -d northwinds -c \"select * from dev.stg_hubspot_contacts order by last_name limit 3\"`\n",
    "\n",
    "```\n",
    " contact_id  | first_name | last_name |     phone\n",
    "-------------+------------+-----------+----------------\n",
    " hubspot-462 | Cello      | Abbado    | (821) 998-1092\n",
    " hubspot-237 | Paolo      | Accorti   | (011) 498-8260\n",
    " hubspot-100 | Marci      | Addy      | (651) 597-0736\n",
    " ```"
   ]
  },
  {
   "cell_type": "markdown",
   "id": "c5579715-060a-44b5-a3ca-37c3cf4ca8be",
   "metadata": {},
   "source": [
    "### Adding relations"
   ]
  },
  {
   "cell_type": "markdown",
   "id": "39c48d9d-685d-4b63-9161-de7cae753843",
   "metadata": {},
   "source": [
    "Now in our hubspot data, we also have company information.  Let's add that now.  \n",
    "\n",
    "Create a file called `stg_hubspot_companies.sql` and then add `company_id` column derived from the company name, and add also have a column for the business name.  When complete the data should look like the following.  "
   ]
  },
  {
   "cell_type": "markdown",
   "id": "0d6803eb-1bda-4c60-829d-9264760678dc",
   "metadata": {},
   "source": [
    "> <img src=\"./hubspot-queries.png\" width=\"100%\">"
   ]
  },
  {
   "cell_type": "markdown",
   "id": "518a4cd8-f637-4600-bef2-d32352aef34d",
   "metadata": {},
   "source": [
    "Run the following command:\n",
    "\n",
    "`psql -d northwinds -c \"select * from dev.stg_hubspot_companies order by last_name limit 3\"`"
   ]
  },
  {
   "cell_type": "markdown",
   "id": "ddbb86f2-0cab-4cec-a1f1-2c81e3cfac98",
   "metadata": {},
   "source": [
    "```\n",
    "company_id                 |           business_name\n",
    "--------------------------------------------+------------------------------------\n",
    " hubspot-adams,-rau-and-pollich             | Adams, Rau and Pollich\n",
    " hubspot-alfreds-futterkiste                | Alfreds Futterkiste\n",
    " hubspot-ana-trujillo-emparedados-y-helados | Ana Trujillo Emparedados y helados\n",
    "````"
   ]
  },
  {
   "cell_type": "markdown",
   "id": "67fe64ac-7cd0-44f5-bcb0-75184c0bdb90",
   "metadata": {},
   "source": [
    "And group by business name to make sure we do not have duplicates."
   ]
  },
  {
   "cell_type": "markdown",
   "id": "c1f1c1bf-0231-4a2a-827c-5da1242e1dcc",
   "metadata": {},
   "source": [
    "Next, we should associate the our contacts with the related business through their business id.  When this is complete, confirm the data is correct by running the following:\n",
    "\n",
    "`psql -d northwinds -c \"select * from dev.stg_hubspot_contacts order by last_name limit 3\"`"
   ]
  },
  {
   "cell_type": "markdown",
   "id": "d25e5ea1-0fb1-475d-ab4b-a9eb38c9c82b",
   "metadata": {},
   "source": [
    "```\n",
    "contact_id  | first_name | last_name |     phone      |            company_id\n",
    "-------------+------------+-----------+----------------+-----------------------------------\n",
    " hubspot-462 | Cello      | Abbado    | (821) 998-1092 | hubspot-pagac-spencer\n",
    " hubspot-237 | Paolo      | Accorti   | (011) 498-8260 | hubspot-franchi-s.p.a.\n",
    " hubspot-100 | Marci      | Addy      | (651) 597-0736 | hubspot-wiegand,-upton-and-ledner\n",
    " ```"
   ]
  },
  {
   "cell_type": "markdown",
   "id": "718e41d7-0fef-4d6f-914a-29a9468e9fdb",
   "metadata": {},
   "source": [
    "### Making it consistent"
   ]
  },
  {
   "cell_type": "markdown",
   "id": "d9007629-471d-4b15-86e2-3e738fd3b8cf",
   "metadata": {},
   "source": [
    "Now we have done most of the work with setting up our hubspot models.  But we should take a moment to make our hubspot staging models a bit more consistent with the related models in our rds folder.\n",
    "\n",
    "This means the following:\n",
    "\n",
    "* We should align the columns in our various models so that our columns are in the same order, with consistent names and consistent formatting"
   ]
  },
  {
   "cell_type": "markdown",
   "id": "10fee997-8257-4a47-807f-13ab84b448c6",
   "metadata": {},
   "source": [
    "If we look at the `stg_rds_customers` file, the columns should currently align with the `stg_hubspot_contacts` file.  \n",
    "\n",
    "* Confirm that the columns are in the same order, and with the same formatting (for example the same formatting should apply to phone numbers).  \n",
    "\n",
    "Then take a look at the `stg_rds_companies` and `stg_hubspot_companies` files.  The main issue right now is that under hubspot, we are using the column name `business_name`, whereas under our `stg_rds_companies` we are using `company_name`.  Let's change both to use the column name `name`."
   ]
  },
  {
   "cell_type": "markdown",
   "id": "433c530f-5a6c-4671-8a29-12d15f7a3f3d",
   "metadata": {},
   "source": [
    "> Make sure to update the join when complete."
   ]
  },
  {
   "cell_type": "markdown",
   "id": "0231f5ca-0031-4b2f-838b-1ff96486723a",
   "metadata": {},
   "source": [
    "Confirm that everything is working by running:\n",
    "    \n",
    "```bash\n",
    "dbt run --models models/staging\n",
    "```"
   ]
  },
  {
   "cell_type": "markdown",
   "id": "6a9a39a2-f8b1-4536-ab65-bc9f459f568e",
   "metadata": {},
   "source": [
    "You should see only green check marks."
   ]
  },
  {
   "cell_type": "markdown",
   "id": "19e4d385-b629-44b6-9a7e-0a8b7ca12e91",
   "metadata": {},
   "source": [
    "### Wrapping Up"
   ]
  },
  {
   "cell_type": "markdown",
   "id": "38a97c9c-3fd2-411a-bf59-4746a800a76d",
   "metadata": {},
   "source": [
    "Make a commit \n",
    "\n",
    "* `git add -A`\n",
    "* `git commit -m 'add hubspot staging'`\n",
    "* `git checkout main`\n",
    "* `git merge -` (the hyphen references the branch you were most recently on)\n",
    "* `git push origin main`"
   ]
  },
  {
   "cell_type": "markdown",
   "id": "1a02fbf7-469d-42ec-ab0d-5e983eefa142",
   "metadata": {
    "jp-MarkdownHeadingCollapsed": true,
    "tags": []
   },
   "source": [
    "### Resources\n",
    "\n",
    "[DBT date utils](https://github.com/calogica/dbt-date)\n",
    "\n",
    "[Snowflake datetime](https://docs.snowflake.com/en/sql-reference/functions/year.html#examples)"
   ]
  }
 ],
 "metadata": {
  "kernelspec": {
   "display_name": "Python 3 (ipykernel)",
   "language": "python",
   "name": "python3"
  },
  "language_info": {
   "codemirror_mode": {
    "name": "ipython",
    "version": 3
   },
   "file_extension": ".py",
   "mimetype": "text/x-python",
   "name": "python",
   "nbconvert_exporter": "python",
   "pygments_lexer": "ipython3",
   "version": "3.10.13"
  }
 },
 "nbformat": 4,
 "nbformat_minor": 5
}
