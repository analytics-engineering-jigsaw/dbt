{
 "cells": [
  {
   "cell_type": "markdown",
   "id": "b6117f12-5b63-4b67-82d1-adf08f21776c",
   "metadata": {},
   "source": [
    "# Loading Additional Data"
   ]
  },
  {
   "cell_type": "markdown",
   "id": "9cf60585-fab0-4c71-8719-09a9f52de168",
   "metadata": {},
   "source": [
    "### Introduction"
   ]
  },
  {
   "cell_type": "markdown",
   "id": "da1bfa03-d806-469f-b3db-2c3587349afb",
   "metadata": {},
   "source": [
    "Now so far we have been working with various source data.  Our dataset has been the northwinds dataset, and the idea is that this data would come from a transactional database.  That is, a database that backs a website.\n",
    "\n",
    "However, our data often comes from more than one source.  For example, before someone signs up for our website, we may get some of their information from a tool like [mixpanel](https://mixpanel.com/).  Mixpanel is a marketing tool that allows us to track individuals who visit and click around on our website.  Or perhaps we also have information from a site like hubspot.  Hubspot is a sales tool that allows us to track a sales pipeline and email campaigns.\n",
    "\n",
    "We'll want to have all of this data in our database. \n",
    "\n",
    "In this lesson, we'll do the first step, which is to take some csv data and load it into our database."
   ]
  },
  {
   "cell_type": "markdown",
   "id": "9769ac82-f0b8-43c7-b66e-b6e51fbd7165",
   "metadata": {},
   "source": [
    "### Exploring our csv data"
   ]
  },
  {
   "cell_type": "markdown",
   "id": "44fc4881-3118-428a-9f25-6a02edd65549",
   "metadata": {},
   "source": [
    "Ok, so currently our data is located in the [pipeline-data](https://github.com/analytics-engineering-jigsaw/dbt/tree/main/pipeline-data) folder.  We can take a look at it [here](https://github.com/analytics-engineering-jigsaw/dbt/tree/main/pipeline-data)."
   ]
  },
  {
   "cell_type": "markdown",
   "id": "09a44af5-0753-4f01-bdba-bb07a1119f1a",
   "metadata": {},
   "source": [
    "* Hubspot Data"
   ]
  },
  {
   "cell_type": "code",
   "execution_count": 1,
   "id": "4f4fdd7a-bcf7-40fb-b9c4-aa05fa04f698",
   "metadata": {},
   "outputs": [],
   "source": [
    "import pandas as pd\n",
    "url = \"https://raw.githubusercontent.com/analytics-engineering-jigsaw/dbt/main/pipeline-data/northwinds_hubspot.csv\"\n",
    "hubspot_df = pd.read_csv(url)"
   ]
  },
  {
   "cell_type": "code",
   "execution_count": 2,
   "id": "44d47ca5-e6a9-47ad-b9fe-1e3db6b7cc03",
   "metadata": {},
   "outputs": [
    {
     "data": {
      "text/html": [
       "<div>\n",
       "<style scoped>\n",
       "    .dataframe tbody tr th:only-of-type {\n",
       "        vertical-align: middle;\n",
       "    }\n",
       "\n",
       "    .dataframe tbody tr th {\n",
       "        vertical-align: top;\n",
       "    }\n",
       "\n",
       "    .dataframe thead th {\n",
       "        text-align: right;\n",
       "    }\n",
       "</style>\n",
       "<table border=\"1\" class=\"dataframe\">\n",
       "  <thead>\n",
       "    <tr style=\"text-align: right;\">\n",
       "      <th></th>\n",
       "      <th>hubspot_id</th>\n",
       "      <th>first_name</th>\n",
       "      <th>last_name</th>\n",
       "      <th>phone</th>\n",
       "      <th>business_name</th>\n",
       "    </tr>\n",
       "  </thead>\n",
       "  <tbody>\n",
       "    <tr>\n",
       "      <th>0</th>\n",
       "      <td>0</td>\n",
       "      <td>Henri</td>\n",
       "      <td>Hoffmann</td>\n",
       "      <td>954-564-7735</td>\n",
       "      <td>Fadel, Lueilwitz and Nitzsche</td>\n",
       "    </tr>\n",
       "    <tr>\n",
       "      <th>1</th>\n",
       "      <td>1</td>\n",
       "      <td>Niles</td>\n",
       "      <td>Ballinger</td>\n",
       "      <td>111-360-4329</td>\n",
       "      <td>Ruecker, Lehner and Jakubowski</td>\n",
       "    </tr>\n",
       "  </tbody>\n",
       "</table>\n",
       "</div>"
      ],
      "text/plain": [
       "   hubspot_id first_name  last_name         phone  \\\n",
       "0           0      Henri   Hoffmann  954-564-7735   \n",
       "1           1      Niles  Ballinger  111-360-4329   \n",
       "\n",
       "                    business_name  \n",
       "0   Fadel, Lueilwitz and Nitzsche  \n",
       "1  Ruecker, Lehner and Jakubowski  "
      ]
     },
     "execution_count": 2,
     "metadata": {},
     "output_type": "execute_result"
    }
   ],
   "source": [
    "hubspot_df[:2]"
   ]
  },
  {
   "cell_type": "markdown",
   "id": "44d7c5c2-f178-4272-8901-b8d45e0a305d",
   "metadata": {},
   "source": [
    "* Mixpanel data"
   ]
  },
  {
   "cell_type": "code",
   "execution_count": 3,
   "id": "eb24a3a9-e96b-483f-ab54-cdd2084ef8ce",
   "metadata": {},
   "outputs": [
    {
     "data": {
      "text/html": [
       "<div>\n",
       "<style scoped>\n",
       "    .dataframe tbody tr th:only-of-type {\n",
       "        vertical-align: middle;\n",
       "    }\n",
       "\n",
       "    .dataframe tbody tr th {\n",
       "        vertical-align: top;\n",
       "    }\n",
       "\n",
       "    .dataframe thead th {\n",
       "        text-align: right;\n",
       "    }\n",
       "</style>\n",
       "<table border=\"1\" class=\"dataframe\">\n",
       "  <thead>\n",
       "    <tr style=\"text-align: right;\">\n",
       "      <th></th>\n",
       "      <th>$created</th>\n",
       "      <th>$email</th>\n",
       "      <th>$first_name</th>\n",
       "      <th>$last_name</th>\n",
       "      <th>Abandon Cart Count</th>\n",
       "      <th>Account Created Count</th>\n",
       "      <th>Gender</th>\n",
       "      <th>Registration Date</th>\n",
       "      <th>$city</th>\n",
       "      <th>$region</th>\n",
       "      <th>Last Event</th>\n",
       "      <th>Last Purchase</th>\n",
       "      <th>Last Search</th>\n",
       "      <th>Last Share</th>\n",
       "    </tr>\n",
       "  </thead>\n",
       "  <tbody>\n",
       "    <tr>\n",
       "      <th>0</th>\n",
       "      <td>2020-03-08T13:16:23</td>\n",
       "      <td>Anthony.Bryant@comcastx.com</td>\n",
       "      <td>Anthony</td>\n",
       "      <td>Bryant</td>\n",
       "      <td>4.0</td>\n",
       "      <td>6.0</td>\n",
       "      <td>Male</td>\n",
       "      <td>2020-03-07T22:23:22</td>\n",
       "      <td>NaN</td>\n",
       "      <td>NaN</td>\n",
       "      <td>Abandon Cart</td>\n",
       "      <td>2020-03-31T22:19:47</td>\n",
       "      <td>2020-03-31T22:00:36</td>\n",
       "      <td>2020-03-31T21:57:10</td>\n",
       "    </tr>\n",
       "    <tr>\n",
       "      <th>1</th>\n",
       "      <td>2020-03-10T10:58:25</td>\n",
       "      <td>Jessica.Perkins@hotmailx.com</td>\n",
       "      <td>Jessica</td>\n",
       "      <td>Perkins</td>\n",
       "      <td>2.0</td>\n",
       "      <td>6.0</td>\n",
       "      <td>Female</td>\n",
       "      <td>2020-03-13T23:38:28</td>\n",
       "      <td>Eindhoven</td>\n",
       "      <td>North Brabant</td>\n",
       "      <td>Landing Page Loaded</td>\n",
       "      <td>2020-03-19T18:41:03</td>\n",
       "      <td>2020-03-29T20:15:21</td>\n",
       "      <td>2020-03-31T22:31:55</td>\n",
       "    </tr>\n",
       "  </tbody>\n",
       "</table>\n",
       "</div>"
      ],
      "text/plain": [
       "              $created                        $email $first_name $last_name  \\\n",
       "0  2020-03-08T13:16:23   Anthony.Bryant@comcastx.com     Anthony     Bryant   \n",
       "1  2020-03-10T10:58:25  Jessica.Perkins@hotmailx.com     Jessica    Perkins   \n",
       "\n",
       "   Abandon Cart Count  Account Created Count  Gender    Registration Date  \\\n",
       "0                 4.0                    6.0    Male  2020-03-07T22:23:22   \n",
       "1                 2.0                    6.0  Female  2020-03-13T23:38:28   \n",
       "\n",
       "       $city        $region           Last Event        Last Purchase  \\\n",
       "0        NaN            NaN         Abandon Cart  2020-03-31T22:19:47   \n",
       "1  Eindhoven  North Brabant  Landing Page Loaded  2020-03-19T18:41:03   \n",
       "\n",
       "           Last Search           Last Share  \n",
       "0  2020-03-31T22:00:36  2020-03-31T21:57:10  \n",
       "1  2020-03-29T20:15:21  2020-03-31T22:31:55  "
      ]
     },
     "execution_count": 3,
     "metadata": {},
     "output_type": "execute_result"
    }
   ],
   "source": [
    "import pandas as pd\n",
    "mixpanel_url = \"https://raw.githubusercontent.com/analytics-engineering-jigsaw/dbt/main/pipeline-data/northwinds_mixpanel.csv\"\n",
    "mixpanel_df = pd.read_csv(mixpanel_url)\n",
    "mixpanel_df[:2]"
   ]
  },
  {
   "cell_type": "markdown",
   "id": "f51bf0b4-a665-4182-8af4-94e39acdf965",
   "metadata": {},
   "source": [
    "### Loading our data to Postgres"
   ]
  },
  {
   "cell_type": "markdown",
   "id": "cd7f8ab3-492e-4a75-9670-5e1e9144d9d0",
   "metadata": {},
   "source": [
    "DBT makes it fairly easy to load csv data into our database.  Here's how we do it."
   ]
  },
  {
   "cell_type": "markdown",
   "id": "fbc9a6fa-a1a4-478a-93cb-d30c2a6ac8b2",
   "metadata": {},
   "source": [
    "First download our pipeline data.  Remember, that data is located [here](https://github.com/analytics-engineering-jigsaw/dbt/tree/main/pipeline-data).\n",
    "\n",
    "Then, go to your dbt repository, and create a new branch called `seed_csv_data`.\n",
    "\n",
    "Then from there, you'll notice that your dbt repository has a folder called `seeds`.  This is where the csv data should be.  Move the `northwinds_hubspot.csv` file and the `northinds_mixpanel.csv` into the `seeds` folder.\n",
    "\n",
    "Then simply run the following command from the terminal.\n",
    "\n",
    "```\n",
    "dbt seed\n",
    "```"
   ]
  },
  {
   "cell_type": "markdown",
   "id": "c116aa84-a735-421a-b363-28ab18d16200",
   "metadata": {},
   "source": [
    "You should see something like the following:"
   ]
  },
  {
   "cell_type": "markdown",
   "id": "5f6f1c4a-e415-4aa4-8c22-378986ed9f93",
   "metadata": {},
   "source": [
    "```bash\n",
    "21:51:30  1 of 2 START seed file dev.northwinds_hubspot .................................. [RUN]\n",
    "21:51:30  1 of 2 OK loaded seed file dev.northwinds_hubspot .............................. [INSERT 491 in 0.38s]\n",
    "21:51:30  2 of 2 START seed file dev.northwinds_mixpanel ................................. [RUN]\n",
    "21:51:40  2 of 2 OK loaded seed file dev.northwinds_mixpanel ............................. [INSERT 5998 in 9.86s]\n",
    "21:51:40\n",
    "21:51:40  Finished running 2 seeds in 0 hours 0 minutes and 10.48 seconds (10.48s).\n",
    "21:51:40\n",
    "21:51:40  Completed successfully\n",
    "21:51:40\n",
    "21:51:40  Done. PASS=2 WARN=0 ERROR=0 SKIP=0 TOTAL=2\n",
    "```"
   ]
  },
  {
   "cell_type": "markdown",
   "id": "41b2d9af-d663-47fc-a1cd-67e4b7a8f4f4",
   "metadata": {},
   "source": [
    "Ok, that it!  You should now have two additional tables -- `dev.northwinds_mixpanel` and `dev.northwinds_hubspot`.  Confirm that you have these tables."
   ]
  },
  {
   "cell_type": "markdown",
   "id": "49e52bec-431d-483a-91f5-5ba48961cf33",
   "metadata": {},
   "source": [
    "`psql -d northwinds -c \"select * from dev.northwinds_hubspot limit 1\"`"
   ]
  },
  {
   "cell_type": "markdown",
   "id": "2b9817d6-9043-47e7-a760-2fec825fc40b",
   "metadata": {},
   "source": [
    "`psql -d northwinds -c \"select * from dev.northwinds_mixpanel limit 1\"`"
   ]
  },
  {
   "cell_type": "markdown",
   "id": "3b35cddd-309f-4626-945e-bf74f816f9b9",
   "metadata": {},
   "source": [
    "Ok, if get back the rows in the database, you are in good shape.  "
   ]
  },
  {
   "cell_type": "markdown",
   "id": "b1342eef-bf11-40e1-a5ce-5d702d219d58",
   "metadata": {},
   "source": [
    "### Wrapping up"
   ]
  },
  {
   "cell_type": "markdown",
   "id": "8243ac64-6df0-4547-badf-67f43864f7b2",
   "metadata": {},
   "source": [
    "Finally, make a new commit. \n",
    "```\n",
    "git add -A\n",
    "git commit -m 'add seed data'\n",
    "```\n",
    "\n",
    "Then checkout the main branch.\n",
    "\n",
    "`git checkout main`\n",
    "\n",
    "And merge the our `add_seed_data` branch into main.\n",
    "\n",
    "```\n",
    "git merge add_seed_data\n",
    "```\n",
    "\n",
    "And then push the main branch up to github.\n",
    "\n",
    "```\n",
    "git push origin main\n",
    "```"
   ]
  },
  {
   "cell_type": "markdown",
   "id": "6c020bb5-fb9e-4016-910e-11a0a07e0165",
   "metadata": {},
   "source": [
    "### Summary"
   ]
  },
  {
   "cell_type": "markdown",
   "id": "cca8a7dc-0302-4cc5-8006-6f87c417ee30",
   "metadata": {},
   "source": [
    "In this lesson, we saw how we can quickly load csv data into our database with dbt.  We simply have to move our data into the `seeds` folder in our dbt repository, and then run `dbt seed`.  This will create a corresponding table for each csv file and populate the tables with that data."
   ]
  }
 ],
 "metadata": {
  "kernelspec": {
   "display_name": "Python 3 (ipykernel)",
   "language": "python",
   "name": "python3"
  },
  "language_info": {
   "codemirror_mode": {
    "name": "ipython",
    "version": 3
   },
   "file_extension": ".py",
   "mimetype": "text/x-python",
   "name": "python",
   "nbconvert_exporter": "python",
   "pygments_lexer": "ipython3",
   "version": "3.10.13"
  }
 },
 "nbformat": 4,
 "nbformat_minor": 5
}
