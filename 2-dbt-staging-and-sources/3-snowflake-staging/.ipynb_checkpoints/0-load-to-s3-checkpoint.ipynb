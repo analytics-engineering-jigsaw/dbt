{
 "cells": [
  {
   "cell_type": "markdown",
   "id": "6965a160-37d1-4af5-afda-16fc16cc9083",
   "metadata": {},
   "source": [
    "# Load to S3"
   ]
  },
  {
   "cell_type": "markdown",
   "id": "175e34e0-993c-4c1b-ae02-37776b2dc1fc",
   "metadata": {},
   "source": [
    "### Introduction"
   ]
  },
  {
   "cell_type": "markdown",
   "id": "04a04bcb-d8b2-42f6-862a-c66f2da921b5",
   "metadata": {},
   "source": [
    "Go to Iam services."
   ]
  },
  {
   "cell_type": "markdown",
   "id": "94cde339-ec1a-4fe7-b184-ee50eca5de2e",
   "metadata": {},
   "source": [
    "> <img src=\"./s3-users.png\" width=\"30%\">"
   ]
  },
  {
   "cell_type": "markdown",
   "id": "45e234b0-17d7-4d53-a533-ab91fd6f4e49",
   "metadata": {},
   "source": [
    "And from there click on Add users."
   ]
  },
  {
   "cell_type": "markdown",
   "id": "6a1bd14d-a1c0-4aad-a7bb-9ac6853c2d49",
   "metadata": {},
   "source": [
    "> <img src=\"./add-user.png\" width=\"100%\">"
   ]
  },
  {
   "cell_type": "markdown",
   "id": "3e45b050-82e5-41ff-95ca-8557274bfe88",
   "metadata": {},
   "source": [
    "From there, set the user details."
   ]
  },
  {
   "cell_type": "markdown",
   "id": "0cfbc0cd-eff7-4812-992f-fdef0df0f4cc",
   "metadata": {},
   "source": [
    "> <img src=\"./set-user-details.png\" width=\"100%\">"
   ]
  },
  {
   "cell_type": "markdown",
   "id": "d91884c1-22d5-45c2-88fd-23128e35eafe",
   "metadata": {},
   "source": [
    "From here, click on the `Create group` button."
   ]
  },
  {
   "cell_type": "markdown",
   "id": "bbe5a149-d633-404b-be9e-e7d0f91fe9a0",
   "metadata": {},
   "source": [
    "> <img src=\"./create-group.png\" width=\"80%\">"
   ]
  },
  {
   "cell_type": "markdown",
   "id": "bed33633-aa37-465c-931a-d8c85b121f2c",
   "metadata": {},
   "source": [
    "Now we'll need to attach policies.  So set a group name of `s3readonly` and in the filter policies type in `s3readonly`, then select the first check box."
   ]
  },
  {
   "cell_type": "markdown",
   "id": "824cf3df-cb3c-4c7c-b188-b4496be861ba",
   "metadata": {},
   "source": [
    "<img src=\"./group-name.png\" width=\"80%\">"
   ]
  },
  {
   "cell_type": "markdown",
   "id": "a8bc82f5-f059-4840-a35d-798725322101",
   "metadata": {},
   "source": [
    "From there, click on `Create Group`."
   ]
  },
  {
   "cell_type": "markdown",
   "id": "e39f8fcf-5947-4145-8876-e5c192fada56",
   "metadata": {},
   "source": [
    "Then keep clicking the blue buttons until you reach `Create User`, and click `Create User`.  When you see the green success box, this is where AWS presents you with your access and secret access keys.  \n",
    "\n",
    "You'll need this information to load data into snowflake."
   ]
  },
  {
   "cell_type": "markdown",
   "id": "64da66de-dec9-441d-86c4-bc6cbe44e50d",
   "metadata": {},
   "source": [
    "<img src=\"./success.png\" width=\"80%\">"
   ]
  },
  {
   "cell_type": "code",
   "execution_count": null,
   "id": "5213d387-0363-4810-981d-07e370815e1a",
   "metadata": {},
   "outputs": [],
   "source": []
  }
 ],
 "metadata": {
  "kernelspec": {
   "display_name": "Python 3 (ipykernel)",
   "language": "python",
   "name": "python3"
  },
  "language_info": {
   "codemirror_mode": {
    "name": "ipython",
    "version": 3
   },
   "file_extension": ".py",
   "mimetype": "text/x-python",
   "name": "python",
   "nbconvert_exporter": "python",
   "pygments_lexer": "ipython3",
   "version": "3.9.7"
  }
 },
 "nbformat": 4,
 "nbformat_minor": 5
}
