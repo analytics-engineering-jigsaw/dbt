{
 "cells": [
  {
   "cell_type": "code",
   "execution_count": null,
   "id": "e5db2614-4513-48d3-86ab-bc14bc60d1b5",
   "metadata": {},
   "outputs": [],
   "source": []
  },
  {
   "cell_type": "markdown",
   "id": "d774984c-9f6e-45ad-80a5-357f1ca94053",
   "metadata": {},
   "source": [
    "### Mixpanel Data"
   ]
  },
  {
   "cell_type": "markdown",
   "id": "78c66583-6d70-460f-8e32-6c4bdc899e9d",
   "metadata": {},
   "source": [
    "Now let's create a stage for our mixpanel data."
   ]
  },
  {
   "cell_type": "markdown",
   "id": "50cca088-e19c-4c5e-98f7-e18842c2b82e",
   "metadata": {},
   "source": [
    "When it's properly loaded, we should be able to perform the following select statement to see our loaded data."
   ]
  },
  {
   "cell_type": "markdown",
   "id": "fb2a3ac2-6038-4d06-b773-68222a703cc1",
   "metadata": {},
   "source": [
    "```sql\n",
    "select \n",
    "  c.$1,\n",
    "  c.$2,\n",
    "  c.$3,\n",
    "  c.$4,\n",
    "  c.$5,\n",
    "  c.$6,\n",
    "  c.$7,\n",
    "  c.$8,\n",
    "  c.$9,\n",
    "  c.$10,\n",
    "  c.$11,\n",
    "  c.$12,\n",
    "  c.$13,\n",
    "  c.$14,\n",
    "  c.$15,\n",
    "from @mixpanel_stage as c;\n",
    "```"
   ]
  },
  {
   "cell_type": "markdown",
   "id": "c1a41d74-6d85-4da3-b191-05a8cb877217",
   "metadata": {},
   "source": [
    "Ok, next it's time to create the relevant table.  We did this for you as well."
   ]
  },
  {
   "cell_type": "markdown",
   "id": "838fc4f0-6ace-456b-9557-60b6fb179928",
   "metadata": {},
   "source": [
    "```sql\n",
    "CREATE TABLE \"FIVETRAN_DATABASE\".\"MIXPANEL\".\"CONTACTS\" (\n",
    "  distinct_id varchar(100),\n",
    "  created varchar(100),\n",
    "  email varchar(100),\n",
    "  first_name varchar(100),\n",
    "  last_name varchar(100),\n",
    "  abandon_cart_count float,\n",
    "  account_created_count float,\n",
    "  Gender varchar(100),\n",
    "  registration_date varchar(100),\n",
    "  city varchar(100),\n",
    "  region varchar(100),\n",
    "  last_event timestamp,\n",
    "  last_purchase timestamp,\n",
    "  last_search timestamp,\n",
    "  last_share timestamp\n",
    ");\n",
    "```"
   ]
  },
  {
   "cell_type": "markdown",
   "id": "e33655b9-0628-445a-a50e-9ad763ef9a16",
   "metadata": {},
   "source": [
    "Next *try* to copy over the data into our newly created table.  You should get the following error message."
   ]
  },
  {
   "cell_type": "markdown",
   "id": "7d450187-0647-4c0d-ab97-0f606a0de18e",
   "metadata": {},
   "source": [
    "<img src=\"./error-load.png\" width=\"100%\">"
   ]
  },
  {
   "cell_type": "markdown",
   "id": "7bc82931-c98b-4622-9ae8-d55cb07cf361",
   "metadata": {},
   "source": [
    "The issue is that the data in the csv file is not in a format that snowflake can recognize.  There are a couple of ways to handle this.  \n",
    "\n",
    "1. Transform before load \n",
    "\n",
    "We could transform the data before we load it into our table.  Look at the following documentation to see how. "
   ]
  },
  {
   "cell_type": "markdown",
   "id": "bbe88881-7985-4608-b869-b75204a49e5b",
   "metadata": {},
   "source": [
    "<img src=\"./snowflake-doc.png\" width=\"100%\">"
   ]
  },
  {
   "cell_type": "markdown",
   "id": "d6f01286-1a11-424c-a254-697168ef9e52",
   "metadata": {},
   "source": [
    "2. Transform after load\n",
    "\n",
    "Or we can transform the data after loading it into our database.  That's what we'll do.  \n",
    "\n",
    "So to easily load our data into the contacts table, drop the contacts table, and then change the timestamp columns to be of type `varchar(100)`."
   ]
  },
  {
   "cell_type": "markdown",
   "id": "60a46614-5c6d-4151-94ae-51bf47d94c1d",
   "metadata": {},
   "source": [
    "```sql\n",
    "CREATE or replace TABLE \"FIVETRAN_DATABASE\".\"MIXPANEL\".\"CONTACTS\" (\n",
    "  distinct_id varchar(100),\n",
    "  created varchar(100),\n",
    "  email varchar(100),\n",
    "  first_name varchar(100),\n",
    "  last_name varchar(100),\n",
    "  abandon_cart_count float,\n",
    "  account_created_count float,\n",
    "  gender varchar(100),\n",
    "  registration_date varchar(100),\n",
    "  city varchar(100),\n",
    "  region varchar(100),\n",
    "  last_event varchar(100),\n",
    "  last_purchase varchar(100),\n",
    "  last_search varchar(100),\n",
    "  last_share varchar(100)\n",
    ");\n",
    "```"
   ]
  },
  {
   "cell_type": "markdown",
   "id": "171d9d37-1142-4399-af13-4d154f109280",
   "metadata": {},
   "source": [
    "Now, let's load in the data again, and this time we should not see any errors."
   ]
  },
  {
   "cell_type": "markdown",
   "id": "f4c4b934-624d-4b9c-90cb-0f37760bd87d",
   "metadata": {},
   "source": [
    "<img src=\"./errors-seen.png\" width=\"80%\">"
   ]
  },
  {
   "cell_type": "markdown",
   "id": "305d59a3-c314-4f38-b637-6f3df91d894a",
   "metadata": {},
   "source": [
    "And then let's select the first couple of rows from our table to take a look at our data."
   ]
  },
  {
   "cell_type": "markdown",
   "id": "7a06039e-37e1-4860-ab67-a9fc5e79a9d1",
   "metadata": {},
   "source": [
    "<img src=\"./selected-mix.png\" width=\"80%\">"
   ]
  },
  {
   "cell_type": "markdown",
   "id": "8b95b201-6ce7-4db4-be89-39f2c0e709e6",
   "metadata": {},
   "source": [
    "At this point, it's probably a good idea to confirm that we can access the newly created tables from DBT."
   ]
  },
  {
   "cell_type": "markdown",
   "id": "7362d697-78f3-4d8b-8aa5-115129d5bb41",
   "metadata": {},
   "source": [
    "> <img src=\"./load-from-dbt.png\" width=\"80%\">"
   ]
  }
 ],
 "metadata": {
  "kernelspec": {
   "display_name": "Python 3 (ipykernel)",
   "language": "python",
   "name": "python3"
  },
  "language_info": {
   "codemirror_mode": {
    "name": "ipython",
    "version": 3
   },
   "file_extension": ".py",
   "mimetype": "text/x-python",
   "name": "python",
   "nbconvert_exporter": "python",
   "pygments_lexer": "ipython3",
   "version": "3.9.7"
  }
 },
 "nbformat": 4,
 "nbformat_minor": 5
}
