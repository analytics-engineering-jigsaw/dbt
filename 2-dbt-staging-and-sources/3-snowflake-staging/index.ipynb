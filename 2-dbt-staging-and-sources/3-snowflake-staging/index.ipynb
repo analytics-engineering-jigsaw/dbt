{
 "cells": [
  {
   "cell_type": "markdown",
   "id": "25dae4c0-fcb2-42e9-bb53-1bbf3d876105",
   "metadata": {},
   "source": [
    "## S3 to Snowflake Staging Notes"
   ]
  },
  {
   "cell_type": "markdown",
   "id": "8c59a632-6ab4-4488-985e-7bcf39d88b6e",
   "metadata": {},
   "source": [
    "## Zero to Snowflake"
   ]
  },
  {
   "cell_type": "markdown",
   "id": "ced471b6-1d81-4bd1-8956-98016a4a2e24",
   "metadata": {},
   "source": [
    "```sql\n",
    "copy into mytable\n",
    "from s3://mybucket/data/files\n",
    "storage_integration = myint\n",
    "encryption=(master_key = 'eSxX0jzYfIamtnBKOEOwq80Au6NbSgPH5r4BDDwOaO8=')\n",
    "file_format = (format_name = ‘csv’, skip_header = 1);\n",
    "```"
   ]
  },
  {
   "cell_type": "markdown",
   "id": "4f917ea1-9139-4569-91cd-7d714bd15e0c",
   "metadata": {},
   "source": [
    "<img src=\"./build-staging.png\" width=\"50%\">"
   ]
  },
  {
   "cell_type": "markdown",
   "id": "8555ce91-9e59-49ce-b5ba-46bd80f6a914",
   "metadata": {},
   "source": [
    "> <img src=\"./format-ingestion.png\" width=\"60%\">"
   ]
  },
  {
   "cell_type": "markdown",
   "id": "c8e4ca77-7ec6-4569-a98d-6c3e96573998",
   "metadata": {},
   "source": [
    "<img src=\"./create-table.png\" width=\"60%\">"
   ]
  },
  {
   "cell_type": "markdown",
   "id": "00b23d90-34a8-4449-88d1-f75e10d2988e",
   "metadata": {},
   "source": [
    "### Resources\n",
    "\n",
    "[Snowlake docs staging tutorial](https://docs.snowflake.com/en/user-guide/data-load-external-tutorial.html)"
   ]
  },
  {
   "cell_type": "markdown",
   "id": "65ac1139-5569-45f2-98dd-1682bd7c4f16",
   "metadata": {},
   "source": [
    "[Zero to snowflake youtube tutorial](https://youtu.be/FN_A4vrN3co?t=1046)"
   ]
  }
 ],
 "metadata": {
  "kernelspec": {
   "display_name": "Python 3 (ipykernel)",
   "language": "python",
   "name": "python3"
  },
  "language_info": {
   "codemirror_mode": {
    "name": "ipython",
    "version": 3
   },
   "file_extension": ".py",
   "mimetype": "text/x-python",
   "name": "python",
   "nbconvert_exporter": "python",
   "pygments_lexer": "ipython3",
   "version": "3.9.7"
  }
 },
 "nbformat": 4,
 "nbformat_minor": 5
}
