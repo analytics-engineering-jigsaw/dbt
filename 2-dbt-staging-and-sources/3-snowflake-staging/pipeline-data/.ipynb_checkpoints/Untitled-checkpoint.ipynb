{
 "cells": [
  {
   "cell_type": "code",
   "execution_count": 6,
   "id": "37d7d01e-4816-4c38-bcce-0aa2d9e0d710",
   "metadata": {},
   "outputs": [],
   "source": [
    "import pandas as pd\n",
    "\n",
    "df = pd.read_csv('./northwinds_mixpanel.csv')\n",
    "reduced_df = df.loc[:, df.isnull().mean() < .6]\n"
   ]
  },
  {
   "cell_type": "code",
   "execution_count": 8,
   "id": "79d05d15-7598-418c-ad88-5d8ed16c083c",
   "metadata": {},
   "outputs": [
    {
     "data": {
      "text/plain": [
       "(73,)"
      ]
     },
     "execution_count": 8,
     "metadata": {},
     "output_type": "execute_result"
    }
   ],
   "source": [
    "reduced_df.columns.shape"
   ]
  },
  {
   "cell_type": "code",
   "execution_count": null,
   "id": "5cae2e3e-4ee1-40ae-9b0c-204cfb0e6400",
   "metadata": {},
   "outputs": [],
   "source": []
  }
 ],
 "metadata": {
  "kernelspec": {
   "display_name": "Python 3 (ipykernel)",
   "language": "python",
   "name": "python3"
  },
  "language_info": {
   "codemirror_mode": {
    "name": "ipython",
    "version": 3
   },
   "file_extension": ".py",
   "mimetype": "text/x-python",
   "name": "python",
   "nbconvert_exporter": "python",
   "pygments_lexer": "ipython3",
   "version": "3.9.7"
  }
 },
 "nbformat": 4,
 "nbformat_minor": 5
}
