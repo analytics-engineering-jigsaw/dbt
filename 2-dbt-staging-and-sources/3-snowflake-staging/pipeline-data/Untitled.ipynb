{
 "cells": [
  {
   "cell_type": "code",
   "execution_count": 33,
   "id": "37d7d01e-4816-4c38-bcce-0aa2d9e0d710",
   "metadata": {},
   "outputs": [],
   "source": [
    "import pandas as pd\n",
    "\n",
    "df = pd.read_csv('./mixpanel.csv')\n",
    "# reduced_df = df.loc[:, df.isnull().mean() < .6]\n"
   ]
  },
  {
   "cell_type": "code",
   "execution_count": 34,
   "id": "3a754e99-4adc-43eb-a040-4600eef1fd2f",
   "metadata": {},
   "outputs": [
    {
     "data": {
      "text/plain": [
       "(5998, 97)"
      ]
     },
     "execution_count": 34,
     "metadata": {},
     "output_type": "execute_result"
    }
   ],
   "source": [
    "df.shape"
   ]
  },
  {
   "cell_type": "code",
   "execution_count": 48,
   "id": "79d05d15-7598-418c-ad88-5d8ed16c083c",
   "metadata": {},
   "outputs": [],
   "source": [
    "\n",
    "\n",
    "cols = ['$created', '$email', '$first_name', '$last_name', 'Abandon Cart Count',\n",
    "       'Account Created Count', 'Gender', 'Registration Date', '$city', '$region',\n",
    " 'Last Event', 'Last Purchase', 'Last Search', 'Last Share'\n",
    "]\n",
    "\n",
    "selected_df = df[cols]\n",
    "\n"
   ]
  },
  {
   "cell_type": "code",
   "execution_count": 49,
   "id": "82d99f1e-97c1-42fb-b909-64b851623858",
   "metadata": {},
   "outputs": [
    {
     "data": {
      "text/plain": [
       "(5998, 14)"
      ]
     },
     "execution_count": 49,
     "metadata": {},
     "output_type": "execute_result"
    }
   ],
   "source": [
    "selected_df.shape"
   ]
  },
  {
   "cell_type": "code",
   "execution_count": 52,
   "id": "b98fce5f-5423-41e9-af62-5c7240d7ef77",
   "metadata": {},
   "outputs": [],
   "source": [
    "selected_df.to_csv('./northwinds_mixpanel.csv', index = False)"
   ]
  },
  {
   "cell_type": "code",
   "execution_count": 50,
   "id": "bee72659-5642-4040-b5ef-6d7f06e1cc5e",
   "metadata": {},
   "outputs": [
    {
     "data": {
      "text/html": [
       "<div>\n",
       "<style scoped>\n",
       "    .dataframe tbody tr th:only-of-type {\n",
       "        vertical-align: middle;\n",
       "    }\n",
       "\n",
       "    .dataframe tbody tr th {\n",
       "        vertical-align: top;\n",
       "    }\n",
       "\n",
       "    .dataframe thead th {\n",
       "        text-align: right;\n",
       "    }\n",
       "</style>\n",
       "<table border=\"1\" class=\"dataframe\">\n",
       "  <thead>\n",
       "    <tr style=\"text-align: right;\">\n",
       "      <th></th>\n",
       "      <th>$created</th>\n",
       "      <th>$email</th>\n",
       "      <th>$first_name</th>\n",
       "      <th>$last_name</th>\n",
       "      <th>Abandon Cart Count</th>\n",
       "      <th>Account Created Count</th>\n",
       "      <th>Gender</th>\n",
       "      <th>Registration Date</th>\n",
       "      <th>$city</th>\n",
       "      <th>$region</th>\n",
       "      <th>Last Event</th>\n",
       "      <th>Last Purchase</th>\n",
       "      <th>Last Search</th>\n",
       "      <th>Last Share</th>\n",
       "    </tr>\n",
       "  </thead>\n",
       "  <tbody>\n",
       "    <tr>\n",
       "      <th>0</th>\n",
       "      <td>2020-03-08T13:16:23</td>\n",
       "      <td>Anthony.Bryant@comcastx.com</td>\n",
       "      <td>Anthony</td>\n",
       "      <td>Bryant</td>\n",
       "      <td>4.0</td>\n",
       "      <td>6.0</td>\n",
       "      <td>Male</td>\n",
       "      <td>2020-03-07T22:23:22</td>\n",
       "      <td>NaN</td>\n",
       "      <td>NaN</td>\n",
       "      <td>Abandon Cart</td>\n",
       "      <td>2020-03-31T22:19:47</td>\n",
       "      <td>2020-03-31T22:00:36</td>\n",
       "      <td>2020-03-31T21:57:10</td>\n",
       "    </tr>\n",
       "    <tr>\n",
       "      <th>1</th>\n",
       "      <td>2020-03-10T10:58:25</td>\n",
       "      <td>Jessica.Perkins@hotmailx.com</td>\n",
       "      <td>Jessica</td>\n",
       "      <td>Perkins</td>\n",
       "      <td>2.0</td>\n",
       "      <td>6.0</td>\n",
       "      <td>Female</td>\n",
       "      <td>2020-03-13T23:38:28</td>\n",
       "      <td>Eindhoven</td>\n",
       "      <td>North Brabant</td>\n",
       "      <td>Landing Page Loaded</td>\n",
       "      <td>2020-03-19T18:41:03</td>\n",
       "      <td>2020-03-29T20:15:21</td>\n",
       "      <td>2020-03-31T22:31:55</td>\n",
       "    </tr>\n",
       "  </tbody>\n",
       "</table>\n",
       "</div>"
      ],
      "text/plain": [
       "              $created                        $email $first_name $last_name  \\\n",
       "0  2020-03-08T13:16:23   Anthony.Bryant@comcastx.com     Anthony     Bryant   \n",
       "1  2020-03-10T10:58:25  Jessica.Perkins@hotmailx.com     Jessica    Perkins   \n",
       "\n",
       "   Abandon Cart Count  Account Created Count  Gender    Registration Date  \\\n",
       "0                 4.0                    6.0    Male  2020-03-07T22:23:22   \n",
       "1                 2.0                    6.0  Female  2020-03-13T23:38:28   \n",
       "\n",
       "       $city        $region           Last Event        Last Purchase  \\\n",
       "0        NaN            NaN         Abandon Cart  2020-03-31T22:19:47   \n",
       "1  Eindhoven  North Brabant  Landing Page Loaded  2020-03-19T18:41:03   \n",
       "\n",
       "           Last Search           Last Share  \n",
       "0  2020-03-31T22:00:36  2020-03-31T21:57:10  \n",
       "1  2020-03-29T20:15:21  2020-03-31T22:31:55  "
      ]
     },
     "execution_count": 50,
     "metadata": {},
     "output_type": "execute_result"
    }
   ],
   "source": [
    "selected_df[:2]"
   ]
  },
  {
   "cell_type": "code",
   "execution_count": null,
   "id": "07aa34fa-8c0b-423a-b3a9-5f3e30558268",
   "metadata": {},
   "outputs": [],
   "source": []
  },
  {
   "cell_type": "code",
   "execution_count": 53,
   "id": "5cae2e3e-4ee1-40ae-9b0c-204cfb0e6400",
   "metadata": {},
   "outputs": [
    {
     "name": "stdout",
     "output_type": "stream",
     "text": [
      "CREATE TABLE \"mixpanel_contacts\" (\n",
      "\"index\" INTEGER,\n",
      "  \"$created\" TEXT,\n",
      "  \"$email\" TEXT,\n",
      "  \"$first_name\" TEXT,\n",
      "  \"$last_name\" TEXT,\n",
      "  \"Abandon Cart Count\" REAL,\n",
      "  \"Account Created Count\" REAL,\n",
      "  \"Gender\" TEXT,\n",
      "  \"Registration Date\" TEXT,\n",
      "  \"$city\" TEXT,\n",
      "  \"$region\" TEXT,\n",
      "  \"Last Event\" TEXT,\n",
      "  \"Last Purchase\" TEXT,\n",
      "  \"Last Search\" TEXT,\n",
      "  \"Last Share\" TEXT\n",
      ")\n"
     ]
    },
    {
     "name": "stderr",
     "output_type": "stream",
     "text": [
      "/var/folders/kx/pltjhhp51mv3hjlcsp0dwlfw0000gn/T/ipykernel_4413/1202955455.py:1: UserWarning: The spaces in these column names will not be changed. In pandas versions < 0.14, spaces were converted to underscores.\n",
      "  print(pd.io.sql.get_schema(selected_df.reset_index(), 'mixpanel_contacts'))\n"
     ]
    }
   ],
   "source": [
    "print(pd.io.sql.get_schema(selected_df.reset_index(), 'mixpanel_contacts'))"
   ]
  },
  {
   "cell_type": "code",
   "execution_count": null,
   "id": "2ab9e1ac-7535-4725-be29-50a67c8d5d5f",
   "metadata": {},
   "outputs": [],
   "source": []
  }
 ],
 "metadata": {
  "kernelspec": {
   "display_name": "Python 3 (ipykernel)",
   "language": "python",
   "name": "python3"
  },
  "language_info": {
   "codemirror_mode": {
    "name": "ipython",
    "version": 3
   },
   "file_extension": ".py",
   "mimetype": "text/x-python",
   "name": "python",
   "nbconvert_exporter": "python",
   "pygments_lexer": "ipython3",
   "version": "3.9.7"
  }
 },
 "nbformat": 4,
 "nbformat_minor": 5
}
