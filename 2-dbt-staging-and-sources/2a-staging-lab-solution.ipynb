{
 "cells": [
  {
   "cell_type": "markdown",
   "id": "636b61fd-3651-4368-ab29-5b5ef4994abc",
   "metadata": {},
   "source": [
    "* Staging lab solution"
   ]
  },
  {
   "cell_type": "markdown",
   "id": "ab3133eb-ae3f-49c1-96da-31d468ce0c00",
   "metadata": {},
   "source": [
    "```sql\n",
    "with source as (\n",
    "    SELECT * FROM {{ source('rds', 'suppliers') }}\n",
    "),\n",
    "renamed as (\n",
    "    SELECT supplier_id, company_name,\n",
    "     SPLIT_PART(contact_name, ' ', 1) as contact_first_name,\n",
    "     SPLIT_PART(contact_name, ' ', -1) as contact_last_name,\n",
    "     contact_title, REPLACE(TRANSLATE(phone, '(,),-,.', ''), ' ', '') as phone,\n",
    "     address, city, postal_code,\n",
    "      region, fax, homepage, _fivetran_synced, _fivetran_deleted FROM source\n",
    "), final as (\n",
    "    SELECT supplier_id, company_name, \n",
    "    contact_first_name, contact_last_name,\n",
    "     contact_title,\n",
    "      CASE WHEN LENGTH(phone) = 10 THEN\n",
    "       '(' || SUBSTRING(phone, 1, 3) || ') ' || \n",
    "       SUBSTRING(phone, 4, 3) || '-' ||\n",
    "       SUBSTRING(phone, 7, 4) \n",
    "       END as phone,\n",
    "       address, city, postal_code,\n",
    "      region, fax, homepage, _fivetran_synced, _fivetran_deleted\n",
    "      FROM renamed\n",
    ")\n",
    "\n",
    "SELECT * FROM renamed\n",
    "```"
   ]
  },
  {
   "cell_type": "code",
   "execution_count": null,
   "id": "d00d42b6-e0a6-4f70-ae9e-6dfa8464d427",
   "metadata": {},
   "outputs": [],
   "source": []
  }
 ],
 "metadata": {
  "kernelspec": {
   "display_name": "Python 3 (ipykernel)",
   "language": "python",
   "name": "python3"
  },
  "language_info": {
   "codemirror_mode": {
    "name": "ipython",
    "version": 3
   },
   "file_extension": ".py",
   "mimetype": "text/x-python",
   "name": "python",
   "nbconvert_exporter": "python",
   "pygments_lexer": "ipython3",
   "version": "3.10.13"
  }
 },
 "nbformat": 4,
 "nbformat_minor": 5
}
