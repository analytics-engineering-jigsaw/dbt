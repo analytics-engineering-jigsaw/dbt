{
 "cells": [
  {
   "cell_type": "markdown",
   "id": "aba4323d-ba7c-4bda-9005-34385a7ac491",
   "metadata": {},
   "source": [
    "# Star vs Snowflake"
   ]
  },
  {
   "cell_type": "markdown",
   "id": "625bda03-07e6-4e03-9df1-d2eb9639bc33",
   "metadata": {},
   "source": [
    "### Resources"
   ]
  },
  {
   "cell_type": "markdown",
   "id": "75dedbfb-47ba-4583-a252-df02a7187964",
   "metadata": {},
   "source": [
    "[Star vs Snowflake](https://www.keboola.com/blog/star-schema-vs-snowflake-schema)"
   ]
  },
  {
   "cell_type": "code",
   "execution_count": null,
   "id": "a7da24b9-439a-453a-b6fb-2ee15d37deb5",
   "metadata": {},
   "outputs": [],
   "source": []
  }
 ],
 "metadata": {
  "kernelspec": {
   "display_name": "Python 3 (ipykernel)",
   "language": "python",
   "name": "python3"
  },
  "language_info": {
   "codemirror_mode": {
    "name": "ipython",
    "version": 3
   },
   "file_extension": ".py",
   "mimetype": "text/x-python",
   "name": "python",
   "nbconvert_exporter": "python",
   "pygments_lexer": "ipython3",
   "version": "3.9.12"
  }
 },
 "nbformat": 4,
 "nbformat_minor": 5
}
