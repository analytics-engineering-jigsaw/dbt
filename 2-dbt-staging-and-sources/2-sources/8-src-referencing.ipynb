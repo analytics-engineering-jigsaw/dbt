{
 "cells": [
  {
   "cell_type": "markdown",
   "id": "65ac25bd-8071-4119-845e-9f4475b8cf6a",
   "metadata": {},
   "source": [
    "# DBT Sources"
   ]
  },
  {
   "cell_type": "markdown",
   "id": "77ded443-f2bb-41e1-9714-e19be6d209a0",
   "metadata": {},
   "source": [
    "### Introduction"
   ]
  },
  {
   "cell_type": "markdown",
   "id": "ca5f7a85-4f28-4505-9f0a-585f789b5318",
   "metadata": {},
   "source": [
    "We start with raw tables that are brought into our data warehouse.  And we call these our sources."
   ]
  },
  {
   "cell_type": "markdown",
   "id": "9b92c034-fd38-4150-a925-6bcb8a6cd192",
   "metadata": {},
   "source": [
    "And so far, we have been referring to these with a direct reference to the location of the table.  \n",
    "\n",
    "But what if we configure our EL tools to place this in a different schema.  Or change the name slightly.  \n",
    "\n",
    "So we use sources in DBT, which allow us to document the raw tables, and place this in a yaml file with the database, schema.\n",
    "\n",
    "So then in the yaml files we'll use the `source` function, like `{{ source('stripe', 'payments') }}`"
   ]
  },
  {
   "cell_type": "markdown",
   "id": "0fdab23a-2b12-4a31-897f-b45451d212bd",
   "metadata": {},
   "source": [
    "DBT will then look to that yaml file, and replace with the corresponding text."
   ]
  },
  {
   "cell_type": "markdown",
   "id": "64ce5586-ffb7-43b7-802a-424081ef6973",
   "metadata": {},
   "source": [
    "Sources will also show up in our lineage, showing the full transformation of data."
   ]
  },
  {
   "cell_type": "markdown",
   "id": "c43f0863-0d75-4cc1-a8cb-65a22a910bdd",
   "metadata": {},
   "source": [
    "So two benefits of sources:\n",
    "    \n",
    "    1. Configure sources in one places, which will persist to rest of the project.\n",
    "    2. Allow us to visualize the raw data in the lineage"
   ]
  },
  {
   "cell_type": "markdown",
   "id": "fc603f4b-58c2-4b24-aa1d-8afd67cddb33",
   "metadata": {},
   "source": [
    "<img src=\"./src_jaffle.png\" width=\"100%\">"
   ]
  },
  {
   "cell_type": "code",
   "execution_count": null,
   "id": "b18dfe55-6f4c-4b91-be10-e44392f2e7e1",
   "metadata": {},
   "outputs": [],
   "source": []
  }
 ],
 "metadata": {
  "kernelspec": {
   "display_name": "Python 3 (ipykernel)",
   "language": "python",
   "name": "python3"
  },
  "language_info": {
   "codemirror_mode": {
    "name": "ipython",
    "version": 3
   },
   "file_extension": ".py",
   "mimetype": "text/x-python",
   "name": "python",
   "nbconvert_exporter": "python",
   "pygments_lexer": "ipython3",
   "version": "3.9.7"
  }
 },
 "nbformat": 4,
 "nbformat_minor": 5
}
