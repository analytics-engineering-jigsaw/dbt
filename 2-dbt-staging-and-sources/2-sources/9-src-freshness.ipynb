{
 "cells": [
  {
   "cell_type": "markdown",
   "id": "a47d6a7e-ef58-4bc4-aa2a-6004519e9eb5",
   "metadata": {},
   "source": [
    "# Source Freshness"
   ]
  },
  {
   "cell_type": "code",
   "execution_count": null,
   "id": "a26180be-6668-494e-8afa-57ac5e9a9b87",
   "metadata": {},
   "outputs": [],
   "source": []
  },
  {
   "cell_type": "markdown",
   "id": "58d3643b-c4ba-4312-b774-923420967b3f",
   "metadata": {},
   "source": [
    "### References"
   ]
  },
  {
   "cell_type": "markdown",
   "id": "eff6ed22-079f-48fe-9637-efbe6bde0876",
   "metadata": {},
   "source": [
    "[Youtube on freshness](https://www.youtube.com/watch?v=JHpLfcFOe90&t=233s)"
   ]
  }
 ],
 "metadata": {
  "kernelspec": {
   "display_name": "Python 3 (ipykernel)",
   "language": "python",
   "name": "python3"
  },
  "language_info": {
   "codemirror_mode": {
    "name": "ipython",
    "version": 3
   },
   "file_extension": ".py",
   "mimetype": "text/x-python",
   "name": "python",
   "nbconvert_exporter": "python",
   "pygments_lexer": "ipython3",
   "version": "3.9.12"
  }
 },
 "nbformat": 4,
 "nbformat_minor": 5
}
