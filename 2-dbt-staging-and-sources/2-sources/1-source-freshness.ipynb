{
 "cells": [
  {
   "cell_type": "markdown",
   "id": "60a1e3bb-8667-4515-a94e-90f00c3b43da",
   "metadata": {},
   "source": [
    "# Source Freshness"
   ]
  },
  {
   "cell_type": "markdown",
   "id": "766101d4-8086-4f70-b989-3edbf0947003",
   "metadata": {},
   "source": [
    "### Introduction"
   ]
  },
  {
   "cell_type": "markdown",
   "id": "968f8f9d-f38e-45b5-8134-5e14409ecb53",
   "metadata": {},
   "source": [
    "In the last lesson, we saw how we can use sources so that if the name or schema of our source table changes, we will only need to change the source yaml file, and not the rest of our codebase.  \n",
    "\n",
    "In this lesson, we'll see how sources will allow us to enforce the freshness of our data, so that we are not querying stale data.\n",
    "\n",
    "Let's get started."
   ]
  },
  {
   "cell_type": "markdown",
   "id": "e75459a8-b959-470d-bfb4-8dcf1b0079d2",
   "metadata": {},
   "source": [
    "### Asserting Freshness"
   ]
  },
  {
   "cell_type": "markdown",
   "id": "6987f32b",
   "metadata": {},
   "source": [
    "**Warning!!** You likely **will not** be able to code along with this reading if you do not have a `_fivetran_synced` column.  Still, read the lesson and ensure that you understand why we would use this feature, and how it works."
   ]
  },
  {
   "cell_type": "markdown",
   "id": "3500a7a4-c73c-44f4-b282-b1a9976d46a0",
   "metadata": {},
   "source": [
    "When performing analysis, it's common to want to ensure that our data is up to date.  We can assess the freshness of our data directly in our sources.  We can do so by updating our yaml file to something like the following:"
   ]
  },
  {
   "cell_type": "markdown",
   "id": "a70ade6b-78c0-4a2c-9064-208fef232e2d",
   "metadata": {},
   "source": [
    "```yaml\n",
    "version: 2\n",
    "sources:\n",
    "  - name: rds\n",
    "    database: fivetran_database\n",
    "    freshness: \n",
    "      warn_after: {count: 12, period: hour}\n",
    "    loaded_at_field: _fivetran_synced\n",
    "    schema: postgres_northwinds_rds_public\n",
    "    tables:\n",
    "      - name: customers\n",
    "```"
   ]
  },
  {
   "cell_type": "markdown",
   "id": "90499a74-5295-4bcb-89e4-80af8d95c9aa",
   "metadata": {},
   "source": [
    "So in the yaml above, we now added a new field called `freshness` and asked to warn after 12 hours.\n",
    "\n",
    "Notice that we also added a `loaded_at_field` pointing to `_fivetran_synced`.  This is needed for the freshness component.  Here, we're specifying the column that dbt will look to in checking if the the data has been loaded too long ago.  \n",
    "\n",
    "Ok, so once we updated our yaml file, we can now check for freshness by running the following in our DBT console:"
   ]
  },
  {
   "cell_type": "markdown",
   "id": "1bc45411-4cf8-4cce-b510-1a1223c6c1c3",
   "metadata": {},
   "source": [
    "`dbt source snapshot-freshness`"
   ]
  },
  {
   "cell_type": "markdown",
   "id": "049238a6-d382-4197-9f1f-428815e52297",
   "metadata": {},
   "source": [
    "> <img src=\"./dbt-freshness.png\" width=\"100%\">"
   ]
  },
  {
   "cell_type": "markdown",
   "id": "2ccde15b-1784-426f-a0a5-f3dcdc53b2d4",
   "metadata": {},
   "source": [
    "> Notice the `1` in yellow indicates a warning."
   ]
  },
  {
   "cell_type": "markdown",
   "id": "e4973220-b33f-493d-87c9-e0ea03f666b3",
   "metadata": {},
   "source": [
    "So when we ran `dbt source snapshot-freshness`, we can see that this did pass, and we received one warning.\n",
    "\n",
    "And then if we look at the logs for the customers table, followed by details, we can see how dbt performed the query:"
   ]
  },
  {
   "cell_type": "markdown",
   "id": "02559ea7-0f44-4c81-b91a-1fb5fde610c6",
   "metadata": {},
   "source": [
    "> <img src=\"./cust-details.png\" width=\"100%\">"
   ]
  },
  {
   "cell_type": "markdown",
   "id": "25d6df8b-a151-4a84-b7ec-be879bff71b9",
   "metadata": {},
   "source": [
    "So we can see that DBT looks at the most recent time in the `_fivetran_syced` column, which we specified above.  If the most recent time was too long ago, then it will throw a warning, which it did."
   ]
  },
  {
   "cell_type": "markdown",
   "id": "79dc06ea-c347-4497-b3ad-2519cab205eb",
   "metadata": {},
   "source": [
    "### Table level freshness\n",
    "\n",
    "Above, we placed the same freshness rules across our entire `fivetran` database -- or at least all of the tables listed in sources in that database.  But we can override this general configuration for an individual table with something like the following:"
   ]
  },
  {
   "cell_type": "markdown",
   "id": "c5b04a87-fe16-40a9-8107-67085e7a5cc7",
   "metadata": {},
   "source": [
    "```yaml\n",
    "version: 2\n",
    "sources:\n",
    "  - name: rds\n",
    "    database: fivetran_database\n",
    "    freshness: \n",
    "      warn_after: {count: 12, period: hour}\n",
    "    loaded_at_field: _fivetran_synced\n",
    "    schema: postgres_northwinds_rds_public\n",
    "    tables:\n",
    "      - name: customers\n",
    "        freshness:\n",
    "          error_after: {count: 6, period: hour}\n",
    "```"
   ]
  },
  {
   "cell_type": "markdown",
   "id": "eb53db31-9f59-43b9-8b07-70e6d893a030",
   "metadata": {},
   "source": [
    "So now, we can think of the `warn after 12 hours` as the default behavior, while we override that behavior on the customers table to error after six hours."
   ]
  },
  {
   "cell_type": "markdown",
   "id": "a1619d73-d7bb-4aa3-aa71-04cf91731d36",
   "metadata": {},
   "source": [
    "If we run `dbt source snapshot-freshness`, this time we see that customers failed."
   ]
  },
  {
   "cell_type": "markdown",
   "id": "83fdc67a-eeb2-4855-9238-3c13364bc684",
   "metadata": {},
   "source": [
    "> <img src=\"./failed-freshness.png\" width=\"80%\">"
   ]
  },
  {
   "cell_type": "markdown",
   "id": "ad3ac21a-6002-44df-86b0-8d9bab865dfa",
   "metadata": {},
   "source": [
    "Let's remove the freshness requirement on customers so we no longer get that failure."
   ]
  },
  {
   "cell_type": "markdown",
   "id": "a368b226-c67e-4c77-958a-da67027c1ff9",
   "metadata": {},
   "source": [
    "```yaml\n",
    "version: 2\n",
    "sources:\n",
    "  - name: rds\n",
    "    database: fivetran_database\n",
    "    freshness: \n",
    "      warn_after: {count: 12, period: hour}\n",
    "    loaded_at_field: _fivetran_synced\n",
    "    schema: postgres_northwinds_rds_public\n",
    "    tables:\n",
    "      - name: customers\n",
    "```"
   ]
  },
  {
   "cell_type": "markdown",
   "id": "c3ca2ce6-0bb2-4d2d-8d27-214a02dbb95a",
   "metadata": {},
   "source": [
    "### Summary"
   ]
  },
  {
   "cell_type": "markdown",
   "id": "a128999a-799a-4b92-8388-8e7328a952c2",
   "metadata": {},
   "source": [
    "In this lesson, we learned how to check for freshness through our dbt sources.  We did so by updating our yaml file to have a freshness filed."
   ]
  },
  {
   "cell_type": "markdown",
   "id": "6213ed8a-783b-4c0d-9933-0a30b2dc6d48",
   "metadata": {},
   "source": [
    "```yaml\n",
    "version: 2\n",
    "sources:\n",
    "  - name: rds\n",
    "    database: fivetran_database\n",
    "    freshness: \n",
    "      warn_after: {count: 12, period: hour}\n",
    "    loaded_at_field: _fivetran_synced\n",
    "```"
   ]
  },
  {
   "cell_type": "markdown",
   "id": "afd0292e-1779-4941-aad1-ed286c20eeec",
   "metadata": {},
   "source": [
    "Important to this is the `loaded_at_field` as this is the column that dbt will look for when checking for freshness.  And to run this check, we run the command `dbt source snapshot-freshness` in our console."
   ]
  },
  {
   "cell_type": "markdown",
   "id": "4e9c7296-6f89-4ac8-aa08-cc4963803bd5",
   "metadata": {},
   "source": [
    "### Resources\n",
    "\n",
    "[DBT FTW](https://www.justinwagg.com/dbt/)"
   ]
  }
 ],
 "metadata": {
  "kernelspec": {
   "display_name": "Python 3 (ipykernel)",
   "language": "python",
   "name": "python3"
  },
  "language_info": {
   "codemirror_mode": {
    "name": "ipython",
    "version": 3
   },
   "file_extension": ".py",
   "mimetype": "text/x-python",
   "name": "python",
   "nbconvert_exporter": "python",
   "pygments_lexer": "ipython3",
   "version": "3.10.13"
  }
 },
 "nbformat": 4,
 "nbformat_minor": 5
}
