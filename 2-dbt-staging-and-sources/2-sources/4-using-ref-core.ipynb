{
 "cells": [
  {
   "cell_type": "markdown",
   "id": "a8b8501f-4411-4a22-83d3-00afe3ecb370",
   "metadata": {},
   "source": [
    "# The Ref Function"
   ]
  },
  {
   "cell_type": "markdown",
   "id": "42bd53d5-ff1e-4e5d-8581-357063c1b5ff",
   "metadata": {},
   "source": [
    "### Introduction"
   ]
  },
  {
   "cell_type": "markdown",
   "id": "a0bfc9ce-1e04-4f28-90cb-c2809848e5e9",
   "metadata": {},
   "source": [
    "In this lesson, we'll take a look at the ref function.  As we'll see, the `ref` function is a built in function in DBT that allows us to refer to more easily reference our models in DBT."
   ]
  },
  {
   "cell_type": "markdown",
   "id": "5f2b22c4-f81d-4309-9ac0-6874ace9419d",
   "metadata": {
    "tags": []
   },
   "source": [
    "### Accessing our data with ref"
   ]
  },
  {
   "cell_type": "markdown",
   "id": "edb5aa0c-0120-4226-a3fd-bec0793d5eb8",
   "metadata": {},
   "source": [
    "Currently when we referred to one of our models, we did so directly.  For example, take a look at how we referred to the companies model. "
   ]
  },
  {
   "cell_type": "markdown",
   "id": "bfc52a30-868f-47b9-b3dc-6a3ac5ebe0e1",
   "metadata": {},
   "source": [
    "```sql\n",
    "companies as (\n",
    "  SELECT * FROM dev.stg_rds_companies\n",
    ")\n",
    "```"
   ]
  },
  {
   "cell_type": "markdown",
   "id": "e98f3b9a-23ea-4cbb-9420-bc9856a359e7",
   "metadata": {},
   "source": [
    "We used the full schema name followed by the name of the model.  Because in DBT, each user gets their own individual schema by default, it would be nice if we could remove mentions of the schema in our code."
   ]
  },
  {
   "cell_type": "markdown",
   "id": "00007c95-c90d-4321-88c8-36e9d150fa66",
   "metadata": {},
   "source": [
    "We can achieve this by making use of the ref function."
   ]
  },
  {
   "cell_type": "markdown",
   "id": "2ec659d1-fafb-4fe7-8054-384b6df59e14",
   "metadata": {},
   "source": [
    "```sql\n",
    "SELECT * FROM {{ ref('stg_rds_companies') }}\n",
    "```"
   ]
  },
  {
   "cell_type": "markdown",
   "id": "bd590b9c-b3fa-4c45-a712-e609062de207",
   "metadata": {},
   "source": [
    "And if we look at the top few lines of our updated customers file, it looks like the following:"
   ]
  },
  {
   "cell_type": "markdown",
   "id": "0ff7ed74-5133-422d-bd52-ca6f1c9b138c",
   "metadata": {},
   "source": [
    "> <img src=\"./ref-customers.png\" width=\"80%\">"
   ]
  },
  {
   "cell_type": "markdown",
   "id": "2c0abbe8-ab82-4562-98e1-fda9b2347ea0",
   "metadata": {},
   "source": [
    "### Demistifying Ref"
   ]
  },
  {
   "cell_type": "markdown",
   "id": "56eb67b3-46ac-4c1b-9e7e-c42c6595bb6d",
   "metadata": {},
   "source": [
    "Remember that we can always see what ref is doing by navigating to our `target/compiled/models/staging/stg_rds_customers.sql` file."
   ]
  },
  {
   "cell_type": "markdown",
   "id": "77aaf539-a62e-47d4-8428-711093a8d97f",
   "metadata": {},
   "source": [
    "```sql\n",
    "WITH customers as (\n",
    "  SELECT * FROM \"northwinds\".\"public\".\"customers\" \n",
    "), \n",
    "companies as (\n",
    "  SELECT * FROM \"northwinds\".\"dev\".\"stg_rds_companies\"\n",
    "),\n",
    "renamed as (\n",
    "    SELECT \n",
    "    concat('rds-', customer_id) as customer_id, \n",
    "    SPLIT_PART(contact_name, ' ', 1) as first_name,\n",
    "    SPLIT_PART(contact_name, ' ', -1) as last_name,\n",
    "    ...\n",
    "```"
   ]
  },
  {
   "cell_type": "markdown",
   "id": "d7969757-15f3-4547-afd2-b279ef655cf7",
   "metadata": {},
   "source": [
    "As we can see, using `ref('stg_rds_companies')` simply compiles to `northwinds.dev.stg_rds_companies`, as it should."
   ]
  },
  {
   "cell_type": "markdown",
   "id": "5a87752d-b15c-48fd-a42d-9ffc59bd27a8",
   "metadata": {},
   "source": [
    "### Summary"
   ]
  },
  {
   "cell_type": "markdown",
   "id": "4cfcc1c7-9bc2-4c93-a3e3-76444aefbb73",
   "metadata": {},
   "source": [
    "In this lesson we learned about the ref function.  The ref function allows us to avoid hard coding our schema names.  Instead DBT will generate this for us dynamically.  \n",
    "\n",
    "The `ref` function also integrates with the lineage graph in DBT.  \n",
    "\n",
    "And we get all of this simply by replacing our pure SQL code with something like:\n",
    "```sql\n",
    "SELECT * FROM {{ ref('stg_rds_companies') }}\n",
    "```"
   ]
  },
  {
   "cell_type": "markdown",
   "id": "8e6e9c5f-ae58-4d8e-8349-3445212c3eec",
   "metadata": {},
   "source": [
    "### Resources\n",
    "\n",
    "[Ref DBT Documentation](https://docs.getdbt.com/reference/dbt-jinja-functions/ref)"
   ]
  }
 ],
 "metadata": {
  "kernelspec": {
   "display_name": "Python 3 (ipykernel)",
   "language": "python",
   "name": "python3"
  },
  "language_info": {
   "codemirror_mode": {
    "name": "ipython",
    "version": 3
   },
   "file_extension": ".py",
   "mimetype": "text/x-python",
   "name": "python",
   "nbconvert_exporter": "python",
   "pygments_lexer": "ipython3",
   "version": "3.10.13"
  },
  "vscode": {
   "interpreter": {
    "hash": "b0fa6594d8f4cbf19f97940f81e996739fb7646882a419484c72d19e05852a7e"
   }
  }
 },
 "nbformat": 4,
 "nbformat_minor": 5
}
