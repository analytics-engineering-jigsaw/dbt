{
 "cells": [
  {
   "cell_type": "markdown",
   "id": "57187604-64ea-4872-9e59-9738da47da80",
   "metadata": {},
   "source": [
    "# Adding sources lab"
   ]
  },
  {
   "cell_type": "markdown",
   "id": "95baccd1-9e41-4091-9d24-029b8067984a",
   "metadata": {},
   "source": [
    "### Introduction"
   ]
  },
  {
   "cell_type": "markdown",
   "id": "8c6faf7e-fc0b-46e9-a935-7ef54c105585",
   "metadata": {},
   "source": [
    "Ok, in this lesson, let's make sure we know how to add sources.  "
   ]
  },
  {
   "cell_type": "markdown",
   "id": "b2f7342f-c589-4438-81aa-40c16d0ba8c9",
   "metadata": {},
   "source": [
    "### Getting going"
   ]
  },
  {
   "cell_type": "markdown",
   "id": "b435373a-e96f-4e1a-bed5-0b9155a787c8",
   "metadata": {},
   "source": [
    "1. Start by updating the `sources.yaml` file to add a source for the suppliers table.  \n",
    "2. Then reference this source from the suppliers staging model.  \n",
    "\n",
    "> **Note** You only have to reference this source once, in the import CTE.\n",
    "\n",
    "Then confirm that this is working by running `dbt run`."
   ]
  },
  {
   "cell_type": "markdown",
   "id": "d439fdac-9938-420e-b712-15b45f380811",
   "metadata": {},
   "source": [
    "If everything worked, you should see the following:"
   ]
  },
  {
   "cell_type": "markdown",
   "id": "7c657461-fa07-4d79-8899-3468d54abd57",
   "metadata": {},
   "source": [
    "```txt\n",
    "1:22:40  Finished running 3 view models in 0 hours 0 minutes and 0.29 seconds (0.29s).\n",
    "01:22:40\n",
    "01:22:40  Completed successfully\n",
    "01:22:40\n",
    "01:22:40  Done. PASS=3 WARN=0 ERROR=0 SKIP=0 TOTAL=3\n",
    "```"
   ]
  },
  {
   "cell_type": "markdown",
   "id": "81a18e0d-5cf1-4baa-81e3-3d6946ccb535",
   "metadata": {},
   "source": [
    "### Summary"
   ]
  },
  {
   "cell_type": "markdown",
   "id": "6e12f9fe-4b85-4208-b9b6-c37e6039addf",
   "metadata": {},
   "source": [
    "In this lab we setup sources for DBT.  As we know, with sources, we can reduce dependencies on our external data so that if our data is moved, we only need to change our yaml file.  Sources also help to establish the lineage in our data -- documenting dependencies of the source.  \n",
    "\n",
    "And finally, with our sources we saw how we can check for the freshness of our data."
   ]
  },
  {
   "cell_type": "markdown",
   "id": "41a2c975-5d0f-491a-92f7-675b491239c5",
   "metadata": {},
   "source": [
    "### Resources\n",
    "\n",
    "[DBT Freshness Docs](https://docs.getdbt.com/reference/resource-properties/freshness)"
   ]
  }
 ],
 "metadata": {
  "kernelspec": {
   "display_name": "Python 3 (ipykernel)",
   "language": "python",
   "name": "python3"
  },
  "language_info": {
   "codemirror_mode": {
    "name": "ipython",
    "version": 3
   },
   "file_extension": ".py",
   "mimetype": "text/x-python",
   "name": "python",
   "nbconvert_exporter": "python",
   "pygments_lexer": "ipython3",
   "version": "3.9.12"
  }
 },
 "nbformat": 4,
 "nbformat_minor": 5
}
