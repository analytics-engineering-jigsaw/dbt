{
 "cells": [
  {
   "cell_type": "markdown",
   "id": "57187604-64ea-4872-9e59-9738da47da80",
   "metadata": {},
   "source": [
    "# Adding sources lab"
   ]
  },
  {
   "cell_type": "markdown",
   "id": "95baccd1-9e41-4091-9d24-029b8067984a",
   "metadata": {},
   "source": [
    "### Introduction"
   ]
  },
  {
   "cell_type": "markdown",
   "id": "8c6faf7e-fc0b-46e9-a935-7ef54c105585",
   "metadata": {},
   "source": [
    "Ok, in this lesson, let's make sure we know how to add sources.  "
   ]
  },
  {
   "cell_type": "markdown",
   "id": "b2f7342f-c589-4438-81aa-40c16d0ba8c9",
   "metadata": {},
   "source": [
    "### Getting going"
   ]
  },
  {
   "cell_type": "markdown",
   "id": "b435373a-e96f-4e1a-bed5-0b9155a787c8",
   "metadata": {},
   "source": [
    "1. Start by adding a source for the suppliers table.  \n",
    "2. Then reference this source from the suppliers staging model.  \n",
    "\n",
    "Then confirm that this is working by running dbt run."
   ]
  },
  {
   "cell_type": "markdown",
   "id": "4f6e26c5-c054-4125-a837-3411bd9d0d94",
   "metadata": {},
   "source": [
    "### Adding a freshness check"
   ]
  },
  {
   "cell_type": "markdown",
   "id": "dba8229f-14f1-456b-bbb2-d52b6c7d095e",
   "metadata": {},
   "source": [
    "Now to setup a freshness check, we need to make sure there is a datetime column in the suppliers table.\n",
    "\n",
    "> If not you do have the datetime column, you do not need to complete this section."
   ]
  },
  {
   "cell_type": "markdown",
   "id": "5b1f1e8c-692c-4453-9626-898b7d8de1d4",
   "metadata": {},
   "source": [
    "If you loaded the data to snowflake via fivetran, you should have a datetime column called `_FIVETRAN_SYNCED`.  So set up a warning for freshness for suppliers at the table level, if the data has not been loaded within two days."
   ]
  },
  {
   "cell_type": "markdown",
   "id": "fa71f54a-ddb9-44cb-857f-b662b2c27912",
   "metadata": {},
   "source": [
    "Then,  run `dbt source snapshot-freshness` to confirm that it's working properly.  Checking the details of the logs for suppliers, we should see something like the following:"
   ]
  },
  {
   "cell_type": "markdown",
   "id": "0cedbb2d-3f82-42ce-bc9c-c1236dcd1372",
   "metadata": {},
   "source": [
    "> <img src=\"./supp-freshness.png\" width=\"80%\">"
   ]
  },
  {
   "cell_type": "markdown",
   "id": "673f13da-7235-47ff-9287-297ff3c47d6a",
   "metadata": {},
   "source": [
    "So as we can see, DBT is querying the `_fivetran_synced` column from our `fivetran_database.postgres_northwinds_rds_public.suppliers`, each of which was specified in our sources yaml file."
   ]
  },
  {
   "cell_type": "markdown",
   "id": "81a18e0d-5cf1-4baa-81e3-3d6946ccb535",
   "metadata": {},
   "source": [
    "### Summary"
   ]
  },
  {
   "cell_type": "markdown",
   "id": "6e12f9fe-4b85-4208-b9b6-c37e6039addf",
   "metadata": {},
   "source": [
    "In this lab we setup sources for DBT.  As we know, with sources, we can reduce dependencies on our external data so that if our data is moved, we only need to change our yaml file.  Sources also help to establish the lineage in our data -- documenting dependencies of the source.  \n",
    "\n",
    "And finally, with our sources we saw how we can check for the freshness of our data."
   ]
  },
  {
   "cell_type": "markdown",
   "id": "41a2c975-5d0f-491a-92f7-675b491239c5",
   "metadata": {},
   "source": [
    "### Resources\n",
    "\n",
    "[DBT Freshness Docs](https://docs.getdbt.com/reference/resource-properties/freshness)"
   ]
  }
 ],
 "metadata": {
  "kernelspec": {
   "display_name": "Python 3 (ipykernel)",
   "language": "python",
   "name": "python3"
  },
  "language_info": {
   "codemirror_mode": {
    "name": "ipython",
    "version": 3
   },
   "file_extension": ".py",
   "mimetype": "text/x-python",
   "name": "python",
   "nbconvert_exporter": "python",
   "pygments_lexer": "ipython3",
   "version": "3.9.12"
  }
 },
 "nbformat": 4,
 "nbformat_minor": 5
}
