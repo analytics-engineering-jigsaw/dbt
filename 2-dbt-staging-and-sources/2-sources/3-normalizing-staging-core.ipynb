{
 "cells": [
  {
   "cell_type": "markdown",
   "id": "c5446934-8117-4af2-be46-0b05bd3ceb1d",
   "metadata": {},
   "source": [
    "# Cleaning our Staging Data"
   ]
  },
  {
   "cell_type": "markdown",
   "id": "c01bd5cb-9256-42f1-845b-c97c0683cde3",
   "metadata": {},
   "source": [
    "### Introduction"
   ]
  },
  {
   "cell_type": "markdown",
   "id": "66b4b777-fb0c-4b10-88db-ee80a2038f50",
   "metadata": {},
   "source": [
    "So we just saw one way that we can clean up our staging models, and that is with the use of sources.  Now let's take some time to see some other ways we can clean up our staging layer."
   ]
  },
  {
   "cell_type": "markdown",
   "id": "621aa761-f3b2-401a-96bd-22c65326ac51",
   "metadata": {
    "tags": []
   },
   "source": [
    "#### 1. Properly identify"
   ]
  },
  {
   "cell_type": "markdown",
   "id": "03a90798-02e1-49a3-b386-d3225ae9c410",
   "metadata": {},
   "source": [
    "The first change we can make is simply to update our id.  If we look at our customers model, we can see that we do already have a `customer_id` for each record."
   ]
  },
  {
   "cell_type": "markdown",
   "id": "d982225f-4578-4615-959a-b887b92ea892",
   "metadata": {
    "tags": []
   },
   "source": [
    "```sql\n",
    "select * from customers limit 3;\n",
    "```"
   ]
  },
  {
   "cell_type": "markdown",
   "id": "1c2eb0e0-330e-4aae-a5e3-62be7574c902",
   "metadata": {},
   "source": [
    "<img src=\"./customer_id.png\" width=\"100%\">"
   ]
  },
  {
   "cell_type": "markdown",
   "id": "835497a3-fc24-400e-90ec-30827b141068",
   "metadata": {},
   "source": [
    "But eventually, we'll be loading customers from other sources.  And then remember that at the integration layer, we'll be combining these customers into a single table.  So to identify that a given customer id refers to his id in `rds`, as opposed to say the customer information from hubspot, we can simply add a prefix saying rds to each of the ids like so. "
   ]
  },
  {
   "cell_type": "markdown",
   "id": "d4e084f3-cf1d-46e4-a953-b8870d7fb79c",
   "metadata": {},
   "source": [
    "```sql\n",
    "SELECT concat('rds-', customer_id) as customer_id\n",
    "```"
   ]
  },
  {
   "cell_type": "markdown",
   "id": "e55361f5-4e67-4cb5-ad76-fab37747a051",
   "metadata": {},
   "source": [
    "And adding this to our code, we can see that `rds-` is then prepended to each of our ids."
   ]
  },
  {
   "cell_type": "markdown",
   "id": "0eb03437-bf22-435d-bf1d-cdc3b4eb2e7c",
   "metadata": {},
   "source": [
    "<img src=\"./update_customer_id.png\" width=\"60%\">"
   ]
  },
  {
   "cell_type": "markdown",
   "id": "45e80207-e21c-4b06-ace6-f392a2b7e068",
   "metadata": {},
   "source": [
    "### 2. Normalizing Data"
   ]
  },
  {
   "cell_type": "markdown",
   "id": "44c25a6f-9eb1-4f97-9a5d-ef2b4b4eeb29",
   "metadata": {},
   "source": [
    "The next cleanup we can perform at the staging layer is simply to perform some basic normalization of our data.  For example, if we look at the original source data under our customers model, we can see that under customers, we also have information about the company a customer is associated with. "
   ]
  },
  {
   "cell_type": "markdown",
   "id": "2927d635-126b-4fe1-8754-f535473003b8",
   "metadata": {},
   "source": [
    "<img src=\"./company_contacts.png\" width=\"100%\">"
   ]
  },
  {
   "cell_type": "markdown",
   "id": "dac74a5e-b593-4c00-a16c-c9692356b0b8",
   "metadata": {},
   "source": [
    "We can turn these into two separate tables: a customers and companies, and create an association of a customer belongs to a company.\n",
    "\n",
    "Let's do that now."
   ]
  },
  {
   "cell_type": "markdown",
   "id": "bf7f887f-50e7-4ce0-9336-5c45b826fe15",
   "metadata": {},
   "source": [
    "We'll add a new file called `stg_rds_companies.sql`, and then we'll select the relevant company information.  \n",
    "\n",
    "> Reminder: The company information is in the `customers` table, so that's why still begin by selecting from the customers source, and then pull out the relevant company columns."
   ]
  },
  {
   "cell_type": "markdown",
   "id": "5dea6a67-e916-4b4b-8c89-8bcec96dfcdd",
   "metadata": {},
   "source": [
    "> Write the following in the `stg_rds_companies.sql` file."
   ]
  },
  {
   "cell_type": "markdown",
   "id": "a18beb90-d69e-4f0c-97ca-e15c87b0aa84",
   "metadata": {},
   "source": [
    "<img src=\"./add_companies.png\" width=\"100%\">"
   ]
  },
  {
   "cell_type": "markdown",
   "id": "d2220657-e861-43b9-bdc2-b0ce6af48b1d",
   "metadata": {},
   "source": [
    "> You can view the results by running `dbt run` and then query the stg_rds_companies view."
   ]
  },
  {
   "cell_type": "markdown",
   "id": "089444f3-2ae9-4614-8a40-20fdf964b15b",
   "metadata": {},
   "source": [
    "So we have selected the relevant columns, but notice that we do not have an id for companies.  For that, we can simply use something that should be unique like the `company_name`.  We also can group by the `company_name` just in case there are any duplicates."
   ]
  },
  {
   "cell_type": "markdown",
   "id": "178d1bfc-44c8-4e7b-b1d8-551750b7101e",
   "metadata": {},
   "source": [
    "> Typo below -- it should be `max(address) as address`."
   ]
  },
  {
   "cell_type": "markdown",
   "id": "4091584a-ca68-42c1-a430-15dec84d9355",
   "metadata": {},
   "source": [
    "<img src=\"./company_name.png\" width=\"100%\">"
   ]
  },
  {
   "cell_type": "markdown",
   "id": "09b8121e-e26a-44fa-b391-ab04eb19bc9e",
   "metadata": {},
   "source": [
    "> We are maxing every other column, because in postgres the select columns must either be the columns we are grouping by or an aggregate."
   ]
  },
  {
   "cell_type": "markdown",
   "id": "0047d1b6-0fd3-49db-878f-5c37fd9fd744",
   "metadata": {},
   "source": [
    "If we look at the company id below, we probably should provide some additional cleanup by replacing our spaces with hyphens, and by lowercasing the fullname."
   ]
  },
  {
   "cell_type": "markdown",
   "id": "5ba3628e-7aab-4658-b3c0-f95714efc964",
   "metadata": {},
   "source": [
    "```sql\n",
    "concat('rds-',replace(lower(company_name), ' ', '-')) as company_id,\n",
    "```"
   ]
  },
  {
   "cell_type": "markdown",
   "id": "cd472d2d-ea9d-46c9-b6ad-f25fd71ea661",
   "metadata": {},
   "source": [
    "And now, if you run `dbt run` our company id is updated to be prepended with `rds-`:"
   ]
  },
  {
   "cell_type": "markdown",
   "id": "50cc6bb9-151d-43d3-bdb8-d522253721ba",
   "metadata": {},
   "source": [
    "`psql -d northwinds -c \"select * from dev.stg_rds_customers order by company_id limit 3\"`"
   ]
  },
  {
   "cell_type": "markdown",
   "id": "7ffa7c8a-dde3-41d9-b3fa-2cf82e2e6ed7",
   "metadata": {},
   "source": [
    "> Your exact data will likely vary, but just make sure it is properly prepended."
   ]
  },
  {
   "cell_type": "markdown",
   "id": "54b7ce2c-a579-4a52-92f4-64a67e53a19b",
   "metadata": {},
   "source": [
    "<img src=\"./company-data.png\">"
   ]
  },
  {
   "cell_type": "markdown",
   "id": "baf98178-433a-459f-9b4b-bb15da017449",
   "metadata": {},
   "source": [
    "With that in place, we can then associate a contact to it's related company through the company id."
   ]
  },
  {
   "cell_type": "markdown",
   "id": "0722b277-3aa9-49ce-9117-828000f96006",
   "metadata": {},
   "source": [
    "To do that we should first run our staging models so that we create the new companies model."
   ]
  },
  {
   "cell_type": "markdown",
   "id": "17971fef-a9ac-489b-982f-65bf791b50a0",
   "metadata": {},
   "source": [
    "`dbt run --models models/staging`"
   ]
  },
  {
   "cell_type": "markdown",
   "id": "b4bdbc04-f4f1-4d97-abe5-db7f97bc8fc7",
   "metadata": {},
   "source": [
    "And from there, we can see that dbt created a new model called `stg_rds_companies`."
   ]
  },
  {
   "cell_type": "markdown",
   "id": "29f3f67c-da3c-42ef-89f0-6ebd92fdaac8",
   "metadata": {},
   "source": [
    "<img src=\"./stg_rds_companies.png\" width=\"100%\">"
   ]
  },
  {
   "cell_type": "markdown",
   "id": "fd79d844-3812-4db2-a2cd-76c1f1e34de5",
   "metadata": {},
   "source": [
    "Finally, because we have a model where a customer `has_one` company, we'll want to associate the companies id to the related customer. \n",
    "\n",
    "We can do so with the following."
   ]
  },
  {
   "cell_type": "markdown",
   "id": "12426f0a-ffaa-4f38-aac9-3106c9927538",
   "metadata": {},
   "source": [
    "<img src=\"./customers-stg.png\" width=\"60%\">"
   ]
  },
  {
   "cell_type": "markdown",
   "id": "ab9d2a91-f894-45f0-9aaa-ab0cc8348a85",
   "metadata": {},
   "source": [
    "> So above, we add a column for `company_id`, and we pull that `company_id` by first importing the stg_rds_companies model (where we generated the `company_id`) and joining it to our customers table."
   ]
  },
  {
   "cell_type": "markdown",
   "id": "a22299a5-aa18-463e-aba5-63b43c098fcf",
   "metadata": {},
   "source": [
    "And after calling `dbt run`, we can see that the company id is then added to the *customers* table."
   ]
  },
  {
   "cell_type": "markdown",
   "id": "655e2742-e473-498d-bfa4-ce6d5ababd8f",
   "metadata": {},
   "source": [
    "> `psql -d northwinds -c \"select * from dev.stg_rds_customers limit 1\"`"
   ]
  },
  {
   "cell_type": "markdown",
   "id": "90c1bce2-dfa0-40ad-a323-8f67f48f1b3b",
   "metadata": {},
   "source": [
    "<img src=\"./customer_company.png\" width=\"100%\">"
   ]
  },
  {
   "cell_type": "markdown",
   "id": "42398ba0-7bf8-4497-a548-975fb3132e60",
   "metadata": {},
   "source": [
    "Finally, let's add in the customer phone number, and format it as we did in the suppliers code.  "
   ]
  },
  {
   "cell_type": "markdown",
   "id": "257cbf38-804f-43d1-b08a-064970a51c4e",
   "metadata": {},
   "source": [
    "Our final code looks like the following:"
   ]
  },
  {
   "cell_type": "markdown",
   "id": "27827614-cc9d-46d0-b362-e1452a38c298",
   "metadata": {},
   "source": [
    "```sql\n",
    "WITH customers as (\n",
    "  SELECT * FROM {{ source('rds', 'customers')}} \n",
    "), \n",
    "companies as (\n",
    "  SELECT * FROM dev.stg_rds_companies\n",
    "),\n",
    "renamed as (\n",
    "    SELECT \n",
    "    concat('rds-', customer_id) as customer_id, \n",
    "    SPLIT_PART(contact_name, ' ', 1) as first_name,\n",
    "    SPLIT_PART(contact_name, ' ', -1) as last_name,\n",
    "    REPLACE(TRANSLATE(phone, '(,),-,.', ''), ' ', '') as updated_phone,\n",
    "    company_id\n",
    "    FROM customers \n",
    "    JOIN companies ON companies.company_name = customers.company_name \n",
    "), final as \n",
    "(\n",
    "  SELECT\n",
    "   customer_id,\n",
    "   first_name,\n",
    "   last_name,\n",
    "   CASE WHEN LENGTH(updated_phone) = 10 THEN\n",
    "       '(' || SUBSTRING(updated_phone, 1, 3) || ') ' || \n",
    "       SUBSTRING(updated_phone, 4, 3) || '-' ||\n",
    "       SUBSTRING(updated_phone, 7, 4) \n",
    "       END as phone,\n",
    "   company_id\n",
    "  FROM renamed\n",
    ")\n",
    "SELECT * FROM final\n",
    "```"
   ]
  },
  {
   "cell_type": "markdown",
   "id": "92c5f568-56d0-4557-aa20-362a4f7381d5",
   "metadata": {},
   "source": [
    "And in our initial results we get the following:"
   ]
  },
  {
   "cell_type": "markdown",
   "id": "80e98352-f9c1-4e5c-928a-6df408c97e40",
   "metadata": {},
   "source": [
    "`psql -d northwinds -c \"select * from dev.stg_rds_customers limit 3\"`"
   ]
  },
  {
   "cell_type": "markdown",
   "id": "65bd74b6-e998-4484-b5b5-8292fd6814c6",
   "metadata": {},
   "source": [
    "<img src=\"./final-select.png\" width=\"100%\">"
   ]
  },
  {
   "cell_type": "markdown",
   "id": "354fd0d8-b771-4736-875a-b426026a02e9",
   "metadata": {},
   "source": [
    "> Notice that we no longer have the country in the customers table, and that has been moved to the companies table."
   ]
  },
  {
   "cell_type": "markdown",
   "id": "254fc846-f2f6-49e3-b505-712209e395be",
   "metadata": {},
   "source": [
    "### Summary"
   ]
  },
  {
   "cell_type": "markdown",
   "id": "71ee844c-348a-4014-a66a-ea7705c1f330",
   "metadata": {},
   "source": [
    "In this lesson, we saw two ways that we can clean up our staging models.  The first is adding a prefix to our ids to indicate the source.  And then we also separated some of our source data into multiple models.\n",
    "\n",
    "To separate our data into multiple models, we needed to add an id for our new model of companies.  And then added the company_id to the customers model."
   ]
  }
 ],
 "metadata": {
  "kernelspec": {
   "display_name": "Python 3 (ipykernel)",
   "language": "python",
   "name": "python3"
  },
  "language_info": {
   "codemirror_mode": {
    "name": "ipython",
    "version": 3
   },
   "file_extension": ".py",
   "mimetype": "text/x-python",
   "name": "python",
   "nbconvert_exporter": "python",
   "pygments_lexer": "ipython3",
   "version": "3.10.13"
  },
  "vscode": {
   "interpreter": {
    "hash": "b0fa6594d8f4cbf19f97940f81e996739fb7646882a419484c72d19e05852a7e"
   }
  }
 },
 "nbformat": 4,
 "nbformat_minor": 5
}
