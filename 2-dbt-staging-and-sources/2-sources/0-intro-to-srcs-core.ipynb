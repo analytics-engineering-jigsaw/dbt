{
 "cells": [
  {
   "cell_type": "markdown",
   "id": "99c5edd5-2ed1-47e8-ac74-27288bdad395",
   "metadata": {},
   "source": [
    "# Sources in DBT"
   ]
  },
  {
   "cell_type": "markdown",
   "id": "848ae32f-05cd-4239-962b-ca55fba533e8",
   "metadata": {},
   "source": [
    "### Introduction"
   ]
  },
  {
   "cell_type": "markdown",
   "id": "efafa824-d215-4508-b45c-7a9b45f512b8",
   "metadata": {},
   "source": [
    "Now so far we have seen how we can use DBT to coerce data that is located in our data warehouse.  And we've then written queries that coerce that data.  \n",
    "\n",
    "But, it turns out that in DBT, we also have mechanisms to keep track of that original source data -- and in DBT we do this with sources.\n",
    "\n",
    "In this lesson, we'll see how we can set up sources in DBT, and also see some of the benefits of doing so. "
   ]
  },
  {
   "cell_type": "markdown",
   "id": "7b75fbc7-e8b7-4bd0-ae40-07a2005de6e0",
   "metadata": {},
   "source": [
    "### Naming Dependencies with sources"
   ]
  },
  {
   "cell_type": "markdown",
   "id": "b6e74cec-06f4-4b40-a9a9-b35b2c4d0ec8",
   "metadata": {},
   "source": [
    "Now so far our DBT models folder looks something like the following:"
   ]
  },
  {
   "cell_type": "markdown",
   "id": "61a25859-7ece-4ef2-ad38-c24c2cfe2768",
   "metadata": {},
   "source": [
    "```md\n",
    "models\n",
    "└── staging\n",
    "    ├── stg_shippers.sql\n",
    "    ├── stg_rds_customers.sql\n",
    "    └── stg_rds_suppliers.sql\n",
    "```"
   ]
  },
  {
   "cell_type": "markdown",
   "id": "35cf2309-d209-4847-b19a-3368c1bb4cf6",
   "metadata": {},
   "source": [
    "So we have written code that queries our categories, customers, and suppliers table in our DBT folder.  So it would be nice if we had a way to describe our source data.\n",
    "\n",
    "That's what sources allow for us -- they are a way for us to describe and name our loaded raw data from inside DBT."
   ]
  },
  {
   "cell_type": "markdown",
   "id": "a38ed97b-3f35-4cea-8b6f-aae495295e4f",
   "metadata": {},
   "source": [
    "> **Before getting started**, confirm you are on the main branch.\n",
    "\n",
    "* `git branch -a`\n",
    "\n",
    "> Then create a new branch called `adding_sources`.\n",
    "\n",
    "* `git checkout -b adding_sources`\n",
    "\n"
   ]
  },
  {
   "cell_type": "markdown",
   "id": "c45faada-8dc2-4a1c-b43e-3cde6fdb62b8",
   "metadata": {},
   "source": [
    "### Creating Sources"
   ]
  },
  {
   "cell_type": "markdown",
   "id": "6686125f-b69b-48dd-8046-c41d44045dfa",
   "metadata": {},
   "source": [
    "We can create sources, by adding a `sources.yaml` file inside `models/staging` folder.  And then in that file, we can write something like the following:"
   ]
  },
  {
   "cell_type": "markdown",
   "id": "2001e846-2b72-488d-b9a7-1b05c802dec8",
   "metadata": {},
   "source": [
    "```yaml\n",
    "# sources.yaml\n",
    "version: 2\n",
    "sources:\n",
    "  - name: rds\n",
    "    database: northwinds\n",
    "    schema: public\n",
    "    tables:\n",
    "      - name: customers\n",
    "```"
   ]
  },
  {
   "cell_type": "markdown",
   "id": "296afcf3-3e9f-4467-b22d-74272555844b",
   "metadata": {},
   "source": [
    "> **What's rds?**  The name `rds` comes from AWS's service for a transactional database - rds ([more info here](https://aws.amazon.com/rds/)).  In a production stack, we would not be pulling our data from our local postgres instance, but rather from AWS's database service -- rds.  "
   ]
  },
  {
   "cell_type": "markdown",
   "id": "8c2f0870-1501-4ae1-a9d9-122471200c4c",
   "metadata": {},
   "source": [
    "### Referencing our sources"
   ]
  },
  {
   "cell_type": "markdown",
   "id": "14f72f69-af56-4be7-9df4-b57d469dd52d",
   "metadata": {},
   "source": [
    "Once we do that, we should reference our source tables not by their name defined in the data warehouse, but through the source.  So for example, we can change the beginning of our customers staging model from:\n",
    "\n",
    "```sql\n",
    "with source as (\n",
    "    select contact_name, address, phone from public.customers\n",
    "),\n",
    "```"
   ]
  },
  {
   "cell_type": "markdown",
   "id": "0955a165-d52e-49ac-9383-6ee3cc30d163",
   "metadata": {},
   "source": [
    "To the following:"
   ]
  },
  {
   "cell_type": "markdown",
   "id": "25ca16a8-08da-42bb-854d-4b118fcb6347",
   "metadata": {},
   "source": [
    "```sql\n",
    "\n",
    "\n",
    "with source as (\n",
    "select contact_name, address, phone from {{ source('rds', 'customers') }}\n",
    "),\n",
    "```"
   ]
  },
  {
   "cell_type": "markdown",
   "id": "ff098f73-5f94-4d18-a006-662a83ee667f",
   "metadata": {},
   "source": [
    "Here's how this works.\n",
    "\n",
    "We just used DBT's `source` function to reference the name and table that we specified in the `source.yaml` file above.  When we do so, dbt will use the information in our yaml file to fill in our database, schema, and table name."
   ]
  },
  {
   "cell_type": "markdown",
   "id": "7daf83c7-517d-42e1-8f6f-3ae37235dfd3",
   "metadata": {},
   "source": [
    "But what are those `{{ }}`.  Well those are delimiters to specify that we inside those brackets we are no longer writing sql, but rather are writing something called Jinja.  Jinja is built on, and very similar to Python."
   ]
  },
  {
   "cell_type": "markdown",
   "id": "217ef56a-8f57-4a77-8983-8d5dc81055f2",
   "metadata": {},
   "source": [
    "### Why this is valuable"
   ]
  },
  {
   "cell_type": "markdown",
   "id": "936e6b87-8437-47ac-9561-5f00587e5103",
   "metadata": {},
   "source": [
    "So we just saw a way that we can replace our table name with our sources.  Why would we want to do something like this?  \n",
    "\n",
    "Well, this essentially protects us from changes to the naming in our external database.  For example, if our schema name changes from `public` to `team` -- then we can simply update our yaml table like so:\n",
    "```yaml\n",
    "version: 2\n",
    "\n",
    "sources:\n",
    "  - name: rds\n",
    "    database: northwinds\n",
    "    schema: team # not public\n",
    "    tables:\n",
    "      - name: customers\n",
    "```\n",
    "and all other references to our source outside of that yaml file will stay as:\n",
    "\n",
    "```python\n",
    "{{ source('rds', 'customers') }} \n",
    "```"
   ]
  },
  {
   "cell_type": "markdown",
   "id": "6ad93952-c272-48a7-90c7-c09cdacd8dbb",
   "metadata": {},
   "source": [
    "So sources are valuable because they isolate the external dependencies (changes to the database name, table name, or schema) to source yaml file."
   ]
  },
  {
   "cell_type": "markdown",
   "id": "8188f625-58c6-449a-9931-ed57c5d17e00",
   "metadata": {},
   "source": [
    "### Summary"
   ]
  },
  {
   "cell_type": "markdown",
   "id": "de470317-f351-43a1-b94c-5be737a1a493",
   "metadata": {},
   "source": [
    "In this lesson, we learned about writing sources.  We do so by creating a `yaml` file within our models folder.  Then instead of referencing the raw table name, we can instead use the source function to reference our table, like so:\n",
    "\n",
    "```python\n",
    "{{ source('postgres', 'customers') }} \n",
    "```\n",
    "\n",
    "Because the source function is a function that DBT provides us, and not SQL, we need to surround it with the delimiters of `{{ }}` to specify that we are using Jinja -- which is similar to python."
   ]
  }
 ],
 "metadata": {
  "kernelspec": {
   "display_name": "Python 3 (ipykernel)",
   "language": "python",
   "name": "python3"
  },
  "language_info": {
   "codemirror_mode": {
    "name": "ipython",
    "version": 3
   },
   "file_extension": ".py",
   "mimetype": "text/x-python",
   "name": "python",
   "nbconvert_exporter": "python",
   "pygments_lexer": "ipython3",
   "version": "3.10.13"
  }
 },
 "nbformat": 4,
 "nbformat_minor": 5
}
