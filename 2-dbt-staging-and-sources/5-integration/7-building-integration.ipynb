{
 "cells": [
  {
   "cell_type": "markdown",
   "id": "bf86b1d9-7323-4270-bdad-43239229f69c",
   "metadata": {},
   "source": [
    "# Building integration layer"
   ]
  },
  {
   "cell_type": "markdown",
   "id": "212c34ce-c8d3-465f-be8c-b04484e833cd",
   "metadata": {},
   "source": [
    "### Setting up our data"
   ]
  },
  {
   "cell_type": "markdown",
   "id": "13db82af-936f-48bb-9601-485ff717fe95",
   "metadata": {},
   "source": [
    "Let's create a new branch called `customers_integration` and get started.  From there, let's update our file tree to look like the following:"
   ]
  },
  {
   "cell_type": "markdown",
   "id": "beff82d9-af17-4959-af1c-ca1f81ec9adb",
   "metadata": {},
   "source": [
    "<img src=\"./int-customers.png\" width=\"40%\">"
   ]
  },
  {
   "cell_type": "markdown",
   "id": "779f0916-e36d-4415-adc8-adb77949e723",
   "metadata": {},
   "source": [
    "So we added a new folder called `integration` directly under our models folder, and in our integration folder we added a file called `int_customers.sql`."
   ]
  },
  {
   "cell_type": "markdown",
   "id": "a1a49080-fdd0-4ca6-9c37-de1ed5d3020f",
   "metadata": {},
   "source": [
    "### Combining our Data"
   ]
  },
  {
   "cell_type": "markdown",
   "id": "8780a008-5855-463a-b63a-ce0c6abd3ef6",
   "metadata": {},
   "source": [
    "Now that we know how to select our data with the `ref` function, it's time to select our various combine our data sources.  \n",
    "\n",
    "When combining our data, we we want to accomplish the following tasks:\n",
    "\n",
    "* First, we simply want merge our source data together into one table, we can accomlish this with `union all`, which will simply concatenates our data\n",
    "* And second, we want to combine duplicated, which we can accomplish by grouping by a somewhat unique identifier -- like name or email\n",
    "\n",
    "Ok, let's see these two steps."
   ]
  },
  {
   "cell_type": "markdown",
   "id": "14f6e15b-7971-48f7-adcf-b26fd1f60cd5",
   "metadata": {},
   "source": [
    "* Open question of where the tables get joined together."
   ]
  },
  {
   "cell_type": "markdown",
   "id": "c1fe4fcf-3c12-414f-b4eb-f330fd387e3c",
   "metadata": {
    "tags": []
   },
   "source": [
    "### Resources\n",
    "\n",
    "[Rittman Analytics How Rittman does Data Centralization](https://rittmananalytics.com/blog/2020/5/28/introducing-the-ra-warehouse-dbt-framework-how-rittman-analytics-does-data-centralization)\n",
    "\n",
    "[Rittman Analytics Github](https://github.com/rittmananalytics/ra_data_warehouse)\n",
    "\n",
    "[Ref Function](https://docs.getdbt.com/reference/dbt-jinja-functions/ref)\n",
    "\n",
    "[Snowflake union](https://docs.snowflake.com/en/sql-reference/operators-query.html)"
   ]
  },
  {
   "cell_type": "markdown",
   "id": "6ef6840e-8d31-44ad-a762-4a700e9c84b7",
   "metadata": {},
   "source": [
    "[Int contacts example](https://github.com/rittmananalytics/ra_data_warehouse/blob/master/models/integration/int_contacts.sql)"
   ]
  },
  {
   "cell_type": "markdown",
   "id": "b772bc6c-369b-4229-b1c9-c163d446c56d",
   "metadata": {},
   "source": [
    "* Setting the foreign keys:\n",
    "    \n",
    "    * [Seem to do this in the source layer -- notice the project id](https://github.com/rittmananalytics/ra_data_warehouse/blob/master/models/sources/stg_asana_projects/bigquery/stg_asana_projects_projects.sql)\n",
    "    * But then will projects get more than one id"
   ]
  },
  {
   "cell_type": "markdown",
   "id": "b0364a7f-ac36-40af-b39c-c9dad0f4a6db",
   "metadata": {},
   "source": [
    "* [Then aggregate the company ids with array_agg in integration](https://github.com/rittmananalytics/ra_data_warehouse/blob/master/models/integration/int_contacts.sql)"
   ]
  },
  {
   "cell_type": "markdown",
   "id": "4fb806d0-2c9a-43a5-ac4c-c0cc5aa32f8d",
   "metadata": {},
   "source": [
    "* [Can view more here](https://rittmananalytics.com/blog/category/Tips+and+Techniques)"
   ]
  },
  {
   "cell_type": "markdown",
   "id": "8a98e652-0b87-4c44-ae97-678b9f57fe66",
   "metadata": {},
   "source": [
    "[DBT orders - dbt demo](https://github.com/dbt-labs/dbt-learn-demo/blob/cberger/refactoring_demo/models/marts/intermediate/int_orders.sql)"
   ]
  }
 ],
 "metadata": {
  "kernelspec": {
   "display_name": "Python 3 (ipykernel)",
   "language": "python",
   "name": "python3"
  },
  "language_info": {
   "codemirror_mode": {
    "name": "ipython",
    "version": 3
   },
   "file_extension": ".py",
   "mimetype": "text/x-python",
   "name": "python",
   "nbconvert_exporter": "python",
   "pygments_lexer": "ipython3",
   "version": "3.9.12"
  }
 },
 "nbformat": 4,
 "nbformat_minor": 5
}
