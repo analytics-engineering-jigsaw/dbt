{
 "cells": [
  {
   "cell_type": "markdown",
   "id": "34129715-c34f-45df-b891-acdef1b1ad60",
   "metadata": {},
   "source": [
    "# Combining Contact Data"
   ]
  },
  {
   "cell_type": "markdown",
   "id": "1a80e8b4-0a2f-4433-8391-aa2b712c96a8",
   "metadata": {},
   "source": [
    "### Introduction"
   ]
  },
  {
   "cell_type": "markdown",
   "id": "18b0261c-345d-4ff6-aa97-4358020695d8",
   "metadata": {},
   "source": [
    "In this lesson, we'll work through the initial steps of combining our contacts data.  Let's get started."
   ]
  },
  {
   "cell_type": "markdown",
   "id": "708bff3c-afd1-4b47-b8a1-ab2b7e00636f",
   "metadata": {},
   "source": [
    "### Getting setup"
   ]
  },
  {
   "cell_type": "markdown",
   "id": "c0066ed3-e742-4471-896b-01aa77dff167",
   "metadata": {},
   "source": [
    "To start off, create a new branch called `integrate_contacts`, and then under models create a new folder called staging and a file called `int_contacts.sql` inside that folder."
   ]
  },
  {
   "cell_type": "markdown",
   "id": "283d7080-0897-43c0-acef-ecdcc95be4aa",
   "metadata": {},
   "source": [
    "Our file structure should look like the following:"
   ]
  },
  {
   "cell_type": "markdown",
   "id": "b0794d4c-e38a-42ea-9970-b0688372b098",
   "metadata": {},
   "source": [
    "<img src=\"./file-structure.png\" width=\"60%\">"
   ]
  },
  {
   "cell_type": "markdown",
   "id": "46cb07b7-891c-4e7e-9ee6-b6bd6bd76a3e",
   "metadata": {},
   "source": [
    "### Our first merge"
   ]
  },
  {
   "cell_type": "markdown",
   "id": "085f55a5-c4e2-493d-b754-cf4a21dc45a6",
   "metadata": {},
   "source": [
    "Now take a look at the rds customers model, and the hubspot contacts model.  We can see that both our rds and hubspot staging models for customers share a lot of the same columns.  And it would be nice to combine the two.  \n",
    "\n",
    "By combining our tables, we can see which of our contacts end up becoming customers, and make sure that all of our information for a customer is under a single table."
   ]
  },
  {
   "cell_type": "markdown",
   "id": "465e0ab2-b966-4b93-bcea-ee1f89ebee23",
   "metadata": {},
   "source": [
    "We'll let you move through these steps:\n",
    "\n",
    "1. Use `union all` sql function to combine the two datasets.  In doing so, we'll want to rename the `customer_id` column as `contact_id` -- this way our two columns can align.\n",
    "\n",
    "2. Wrap the combined data in a CTE called `merged_contacts`.  And if we select all from this CTE, we should see something like the following:"
   ]
  },
  {
   "cell_type": "markdown",
   "id": "adef8085-273e-4835-a165-666b52ef1c6c",
   "metadata": {},
   "source": [
    "> <img src=\"./combined-data.png\" width=\"90%\">"
   ]
  },
  {
   "cell_type": "markdown",
   "id": "c67d790c-e366-4a6c-a80a-783a46d8f05a",
   "metadata": {},
   "source": [
    "* And if we scroll down far enough, we should see that both our hubspot and our rds data is in our `merged_contacts` CTE."
   ]
  },
  {
   "cell_type": "markdown",
   "id": "eca25500-93e7-4745-b52d-b2477a620128",
   "metadata": {},
   "source": [
    "> <img src=\"./merged-data.png\" width=\"90%\">"
   ]
  },
  {
   "cell_type": "markdown",
   "id": "c82b5467-e6ff-420b-8235-dcf127ed0a4a",
   "metadata": {},
   "source": [
    "### Deduplicating our data"
   ]
  },
  {
   "cell_type": "markdown",
   "id": "2b8684d2-68d9-4c17-9d28-e6d4dbe391a2",
   "metadata": {},
   "source": [
    "Now that we have combined our data, next we will want to deduplicate our data.  \n",
    "\n",
    "Start by ensuring that some of our data is in fact duplicated.\n",
    "\n",
    "3. Group by both `first_name` and `last_name`, count the records and order by that count."
   ]
  },
  {
   "cell_type": "markdown",
   "id": "79689a86-0819-46e7-a1e0-d3aeb3d63623",
   "metadata": {},
   "source": [
    "> <img src=\"./combined-count.png\" width=\"90%\">"
   ]
  },
  {
   "cell_type": "markdown",
   "id": "6dfe70fd-52f4-4493-ab29-5caaa8b1b8c7",
   "metadata": {},
   "source": [
    "4. Now, slightly update our group by statement so that we group by `first_name` and `last_name`, and take a `max` of the phone number.  Then order the results by `last_name`, ascending."
   ]
  },
  {
   "cell_type": "markdown",
   "id": "0d1e381c-2d31-464d-8776-c41bae816ccc",
   "metadata": {},
   "source": [
    "<img src=\"./combined-results.png\" width=\"90%\">"
   ]
  },
  {
   "cell_type": "markdown",
   "id": "42dd8f34-ddb1-4141-98ba-51a913084aa8",
   "metadata": {},
   "source": [
    "### Keeping our IDs"
   ]
  },
  {
   "cell_type": "markdown",
   "id": "0444bd53-f323-4fba-8113-46115ebda963",
   "metadata": {},
   "source": [
    "Now our data is starting to look pretty good, but unfortunately, we lost the primary ids in the process.  This is because each instance of our duplicated data would have a different id -- a hubspot id and an rds id.  "
   ]
  },
  {
   "cell_type": "markdown",
   "id": "ce12e33b-2e94-47dd-914f-0cf991d0a7ff",
   "metadata": {},
   "source": [
    "It turns out we would like to keep both, and separate out the ids into different columns."
   ]
  },
  {
   "cell_type": "markdown",
   "id": "bd6b9ab9-047b-4cd5-9a3e-2db06631b9bc",
   "metadata": {},
   "source": [
    "<img src=\"./separated-ids.png\" width=\"90%\">"
   ]
  },
  {
   "cell_type": "markdown",
   "id": "ffc1bec1-e99c-406a-a3b1-0b1becb929ac",
   "metadata": {},
   "source": [
    "How do we accomplish this?  Take a look at the relevant query below."
   ]
  },
  {
   "cell_type": "markdown",
   "id": "4b56ac70-99a1-4ae3-b18f-977c8a7d4367",
   "metadata": {},
   "source": [
    "```sql\n",
    "merged_contacts as (\n",
    "    SELECT \n",
    "    contact_id as hubspot_contact_id,\n",
    "    null as rds_contact_id,\n",
    "    ...\n",
    "    \n",
    "    union all \n",
    "    SELECT \n",
    "    null as hubspot_contact_id,\n",
    "    customer_id as rds_contact_id,\n",
    "```"
   ]
  },
  {
   "cell_type": "markdown",
   "id": "d5c31d1c-d150-48bd-bbed-49f1d345a07c",
   "metadata": {},
   "source": [
    "We first select from the hubspot staging table, and reassign `contact_id` to `hubspot_contact_id`.  We also add a column for `rds_contact_id`, but we set every value to null -- as none of our hubspot staging data will have an rds id.\n",
    "\n",
    "Then below, after the union all, when we get to our `rds` model, we set each `hubspot_contact_id` to null, and this time set all of the `customer_id` values to `rds_contact_id`."
   ]
  },
  {
   "cell_type": "markdown",
   "id": "067b2e47-cff8-4f75-8c36-d7dc920b78ad",
   "metadata": {},
   "source": [
    "> **Note** Make sure to keep the `hubspot_contact_id` and `rds_contact_id` columns in the same order with each select statement.  This is important, because `union all` assumes that the columns align.  "
   ]
  },
  {
   "cell_type": "markdown",
   "id": "e399e221-ef6f-47ef-8edb-d7be1eb7a06f",
   "metadata": {},
   "source": [
    "We can store all of that in our merged_contacts CTE.  \n",
    "\n",
    "* group the data\n",
    "\n",
    "Then, when we group our data together in the next CTE, take the max of `rds_contact_id` and `hubspot_contact_id` to combine the data, and have any present ids override the null values."
   ]
  },
  {
   "cell_type": "markdown",
   "id": "99aac3fb-f588-42de-9782-34a34deac6ac",
   "metadata": {},
   "source": [
    "Implement this in your model, and you should see the following:"
   ]
  },
  {
   "cell_type": "markdown",
   "id": "3e5cbb8b-3098-4877-9d78-0053446dcadd",
   "metadata": {},
   "source": [
    "<img src=\"./separated-ids.png\" width=\"90%\">"
   ]
  },
  {
   "cell_type": "markdown",
   "id": "09e9a125-1961-4296-8e2d-fcbae7d72431",
   "metadata": {},
   "source": [
    "Next implement a similar pattern for the `company_ids`.  That is, add a separate column for our hubspot company id, and our rds company id."
   ]
  },
  {
   "cell_type": "markdown",
   "id": "55fe8621-832d-4e40-bb97-13fa10cb6818",
   "metadata": {},
   "source": [
    "We should see the following:"
   ]
  },
  {
   "cell_type": "markdown",
   "id": "ba16c3df-aecc-46f8-b7a4-0031633a65b8",
   "metadata": {},
   "source": [
    "<img src=\"./company_ids.png\" width=\"90%\">"
   ]
  },
  {
   "cell_type": "markdown",
   "id": "e548ad77-1588-4028-85d9-86f5be732d45",
   "metadata": {},
   "source": [
    "### Summary"
   ]
  },
  {
   "cell_type": "markdown",
   "id": "f6fa650c-d5f0-44be-a86e-306fe328243d",
   "metadata": {},
   "source": [
    "In this lesson, we moved through many of the steps for merging together our contact data.  The main new component we saw was to separate out our id columns into separate columns."
   ]
  },
  {
   "cell_type": "markdown",
   "id": "46658ebc-af98-4706-b3ad-94fbc358e513",
   "metadata": {},
   "source": [
    "### Solution"
   ]
  },
  {
   "cell_type": "markdown",
   "id": "289f81b2-aa54-4edb-aa4a-01194abfd797",
   "metadata": {},
   "source": [
    "```sql\n",
    "with contacts as (\n",
    "     select * from {{ ref('stg_hubspot_contacts') }}\n",
    " ), customers as (\n",
    "     select * from {{ ref('stg_rds_customers') }} \n",
    " ),\n",
    "  merged_contacts as (\n",
    "    SELECT \n",
    "    contact_id as hubspot_contact_id,\n",
    "    null as rds_contact_id,\n",
    "    first_name, \n",
    "    last_name,\n",
    "    phone, \n",
    "    company_id as hubspot_company_id,\n",
    "    null as rds_company_id\n",
    "     FROM contacts\n",
    "    union all \n",
    "    SELECT \n",
    "    null as hubspot_contact_id,\n",
    "    customer_id as rds_contact_id,\n",
    "    first_name, \n",
    "    last_name,\n",
    "    phone, \n",
    "    null as hubspot_company_id,\n",
    "    company_id as rds_company_id\n",
    "    FROM customers\n",
    " ), final as (\n",
    "     select \n",
    "     max(hubspot_contact_id) as hubspot_contact_id, max(rds_contact_id) as rds_contact_id,\n",
    "        first_name, last_name, max(phone) as phone, \n",
    "        max(hubspot_company_id) as hubspot_company_id, max(rds_company_id) rds_company_id\n",
    "     from merged_contacts\n",
    "      group by first_name, last_name\n",
    " )\n",
    " select {{ dbt_utils.surrogate_key(['first_name', 'last_name', 'phone']) }} as contact_pk, hubspot_contact_id, rds_contact_id,\n",
    "  first_name, last_name, phone, hubspot_company_id, rds_company_id from final \n",
    "```"
   ]
  },
  {
   "cell_type": "code",
   "execution_count": null,
   "id": "8459280d-9fdf-43b5-88e3-87d039fe3254",
   "metadata": {},
   "outputs": [],
   "source": []
  }
 ],
 "metadata": {
  "kernelspec": {
   "display_name": "Python 3 (ipykernel)",
   "language": "python",
   "name": "python3"
  },
  "language_info": {
   "codemirror_mode": {
    "name": "ipython",
    "version": 3
   },
   "file_extension": ".py",
   "mimetype": "text/x-python",
   "name": "python",
   "nbconvert_exporter": "python",
   "pygments_lexer": "ipython3",
   "version": "3.9.7"
  }
 },
 "nbformat": 4,
 "nbformat_minor": 5
}
