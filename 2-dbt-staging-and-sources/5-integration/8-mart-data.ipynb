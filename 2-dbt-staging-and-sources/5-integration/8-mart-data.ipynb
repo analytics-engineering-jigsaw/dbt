{
 "cells": [
  {
   "cell_type": "markdown",
   "id": "37d6ed95-d939-4085-9e06-8075b28931ae",
   "metadata": {
    "tags": []
   },
   "source": [
    "# Building a mart"
   ]
  },
  {
   "cell_type": "markdown",
   "id": "4c43fad0-9072-4878-b347-ca272659bff3",
   "metadata": {
    "tags": []
   },
   "source": [
    "### Introduction"
   ]
  },
  {
   "cell_type": "markdown",
   "id": "f08c2191-8ad5-46d3-998f-339535e2c060",
   "metadata": {},
   "source": [
    "There's one more "
   ]
  },
  {
   "cell_type": "markdown",
   "id": "f42a6ac9-bd13-4ee4-92fb-95d6e7e1f41f",
   "metadata": {},
   "source": [
    "### Building our first mart"
   ]
  },
  {
   "cell_type": "markdown",
   "id": "e635f95e-3fee-4673-a1a9-82a261779168",
   "metadata": {},
   "source": [
    "Now that we've installed the `dbt_utils` package, we can use it in building our mart."
   ]
  },
  {
   "cell_type": "markdown",
   "id": "cb1e380e-e08e-43d3-93c0-3beb22315fb1",
   "metadata": {},
   "source": [
    "> <img src=\"./companies_dim.png\" width=\"100%\">"
   ]
  },
  {
   "cell_type": "markdown",
   "id": "04b189af-e938-47d4-9dfa-5e65304cff57",
   "metadata": {},
   "source": [
    "If you look at the code above, we are importing our `int_companies` table, and then with our `contacts_dim` CTE, we are selecting all of the columns from it, and then adding a new column called `company_pk`, which stands for company primary key.\n",
    "\n",
    "The way that we generate the primary key is with the following line:\n",
    "\n",
    "```sql\n",
    "{{ dbt_utils.surrogate_key['name'] }}\n",
    "```\n",
    "\n",
    "This generates an id derived from the name column.  \n",
    "\n",
    "> Why use the surrogate key?  The main benefit of the surrogate key is that so long as the specified key -- above name -- does not change, then the generated key will not change.  This is a good thing, because it means that our id will stay consistent regardless of how many times we re-generate our tables.\n",
    "\n",
    "> Of course, it's important that we specify a column that is unique across our data.  Above the name of each company will be unique, so that will do the trick."
   ]
  },
  {
   "cell_type": "markdown",
   "id": "d18cf1e8-fd4b-416b-a056-68946635bf7d",
   "metadata": {},
   "source": [
    "From there, we can just include the rest of our columns, and that's good for now."
   ]
  },
  {
   "cell_type": "markdown",
   "id": "3e64361c-25c5-403f-99af-a5848ae809f2",
   "metadata": {},
   "source": [
    "Let's finish up by running our models."
   ]
  },
  {
   "cell_type": "markdown",
   "id": "77132c89-045d-4e7f-9998-1be73b7ed1d9",
   "metadata": {},
   "source": [
    "<img src=\"./run-marts.png\" width=\"90%\">"
   ]
  },
  {
   "cell_type": "markdown",
   "id": "0a4420ea-931b-4e84-994f-6216ae128b29",
   "metadata": {},
   "source": [
    "### Summary"
   ]
  },
  {
   "cell_type": "markdown",
   "id": "995fa2ef-cd4d-4174-a71f-e38bcc712bda",
   "metadata": {},
   "source": [
    "In this lesson, we began work on our mart tables.  As we saw, there really was not a lot of work left to do.  We needed to install the `dbt_utils` package.  And then from there, we used the `dbt_utils.surrogate_key` function to generate a new primary key.  The benefit of using the `surrogate_key` is that the same ids will be generated each time.  We simply need to provide a stable key that is unique per the dataset."
   ]
  }
 ],
 "metadata": {
  "kernelspec": {
   "display_name": "Python 3 (ipykernel)",
   "language": "python",
   "name": "python3"
  },
  "language_info": {
   "codemirror_mode": {
    "name": "ipython",
    "version": 3
   },
   "file_extension": ".py",
   "mimetype": "text/x-python",
   "name": "python",
   "nbconvert_exporter": "python",
   "pygments_lexer": "ipython3",
   "version": "3.9.7"
  }
 },
 "nbformat": 4,
 "nbformat_minor": 5
}
