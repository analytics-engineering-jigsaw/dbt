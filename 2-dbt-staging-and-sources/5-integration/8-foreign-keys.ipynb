{
 "cells": [
  {
   "cell_type": "code",
   "execution_count": null,
   "id": "ed6675ad-ab7f-4914-8596-e0377e10afb9",
   "metadata": {},
   "outputs": [],
   "source": []
  },
  {
   "cell_type": "markdown",
   "id": "dc9a88b3-312d-4664-b8b3-fc3508cf5784",
   "metadata": {},
   "source": [
    "```sql \n",
    "final as (\n",
    "     select array_agg(contact_id) as contact_ids, first_name, last_name, max(phone) as phone\n",
    "     from merged_contacts group by first_name, last_name ORDER BY last_name\n",
    " ), contacts_dim as (\n",
    "     select first_name, last_name, cf.value::string as contact_id from final, table(flatten(final.contact_ids)) cf\n",
    " )  \n",
    " select * from contacts_dim join {{ ref('stg_hubspot_contacts') }} hubspot ON hubspot.contact_id = contacts_dim.contact_id\n",
    " ```"
   ]
  },
  {
   "cell_type": "code",
   "execution_count": null,
   "id": "b84b9fd5-cd57-4877-bc90-ed10f93e1f8d",
   "metadata": {},
   "outputs": [],
   "source": []
  }
 ],
 "metadata": {
  "kernelspec": {
   "display_name": "Python 3 (ipykernel)",
   "language": "python",
   "name": "python3"
  },
  "language_info": {
   "codemirror_mode": {
    "name": "ipython",
    "version": 3
   },
   "file_extension": ".py",
   "mimetype": "text/x-python",
   "name": "python",
   "nbconvert_exporter": "python",
   "pygments_lexer": "ipython3",
   "version": "3.9.12"
  }
 },
 "nbformat": 4,
 "nbformat_minor": 5
}
