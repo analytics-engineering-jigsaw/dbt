{
 "cells": [
  {
   "cell_type": "markdown",
   "id": "70e74bad-c1bd-474b-a0c0-0e0b302e2bf4",
   "metadata": {},
   "source": [
    "# Cleaning the Staging Layer"
   ]
  },
  {
   "cell_type": "markdown",
   "id": "36378ebd-2eb6-4f8c-912a-c0384fd548a4",
   "metadata": {},
   "source": [
    "### Introduction"
   ]
  },
  {
   "cell_type": "markdown",
   "id": "8ce6fcf8-dee2-4feb-bcea-9fb638c6a123",
   "metadata": {},
   "source": [
    "So far we have seen how to access our data from our data warehouse, and then perform some initial cleanup on that data through staging.  In this lesson, we'll take another look at the integration layer."
   ]
  },
  {
   "cell_type": "markdown",
   "id": "ed1a291f-a0c4-49fa-b7a1-14d81c7fbc4f",
   "metadata": {},
   "source": [
    "### Combining Information"
   ]
  },
  {
   "cell_type": "markdown",
   "id": "ad0e275a-8d24-4d83-8961-8a79be2dd0a9",
   "metadata": {},
   "source": [
    "Let's take another look at our DBT pipeline diagram."
   ]
  },
  {
   "cell_type": "markdown",
   "id": "6122d938-1713-4f32-9a57-794775e439bb",
   "metadata": {},
   "source": [
    "<img src=\"./dbt-pipeline.jpg\" width=\"70%\">"
   ]
  },
  {
   "cell_type": "markdown",
   "id": "ac8a6555-8d7e-4f24-b850-8b7bab9045e1",
   "metadata": {},
   "source": [
    "So far, we have defined our sources with the `sources.yaml` file, and then performed some initial transformations of data in staging.  While in the staging layer, our data is still segmented out by source, in the integration layer, we'll combine information from various sources."
   ]
  },
  {
   "cell_type": "markdown",
   "id": "7aeb3cb5-842f-4424-983f-299fb959a472",
   "metadata": {},
   "source": [
    "### Our current project"
   ]
  },
  {
   "cell_type": "markdown",
   "id": "9b482444-b834-44b8-807e-a9f24884be2f",
   "metadata": {},
   "source": [
    "We can see the integration work to be done if we look at the file structure of our current project."
   ]
  },
  {
   "cell_type": "markdown",
   "id": "90b186cb-c68b-42a3-9a8c-d8938e20fe2f",
   "metadata": {},
   "source": [
    "> <img src=\"./staging-models.png\" width=\"40%\">"
   ]
  },
  {
   "cell_type": "markdown",
   "id": "4afd6871-f573-4a5e-9d13-48873a95be6e",
   "metadata": {},
   "source": [
    "In the staging layer, we have our models segmented out by the source that they came from.  For example, we have our information separated into data from `hubspot`, `mixpanel`, and `rds`.  However, within each of those models is overlapping data about contacts.  \n",
    "\n",
    "In the integration layer we'll combine and merge data from different sources.  "
   ]
  },
  {
   "cell_type": "markdown",
   "id": "0fb77b62-c6d5-4b5a-b63c-d875e92e2c44",
   "metadata": {},
   "source": [
    "### Some initial cleanup"
   ]
  },
  {
   "cell_type": "markdown",
   "id": "36d21018-716c-4bf0-b2cf-67f407f1e9b1",
   "metadata": {},
   "source": [
    "Before we move right into integrating our data, we'll make things easier on ourselves if we provide some initial cleanup at the staging layer.  This involves a couple of components."
   ]
  },
  {
   "cell_type": "markdown",
   "id": "e17244ae-c69b-43bc-af0e-9dcc9589e52e",
   "metadata": {},
   "source": [
    "* Let's create a new branch called `integration_prep`, and get started."
   ]
  },
  {
   "cell_type": "markdown",
   "id": "c49e4ba8-886c-49d8-8fec-97d9da64d604",
   "metadata": {},
   "source": [
    "#### 1. Properly differentiate"
   ]
  },
  {
   "cell_type": "markdown",
   "id": "700e8418-a37f-4aef-82e1-f22488ced797",
   "metadata": {},
   "source": [
    "When we eventually combine our data, it will be useful to know, what data came from what source.  To achieve this, we can concatenate a *prefix* to the primary id of each source."
   ]
  },
  {
   "cell_type": "markdown",
   "id": "81ac3b33-7277-45d3-b462-0e01694214e4",
   "metadata": {},
   "source": [
    "We can see how this works with our `stg_hubspot_contacts` model.  We'll select the `hubspot_id` if it's not selected already, and then concatenate the prefix hubspot to each id.\n",
    "\n",
    "Here it is:"
   ]
  },
  {
   "cell_type": "markdown",
   "id": "2a8f673f-af88-4bf0-b51b-eb7ee950e282",
   "metadata": {},
   "source": [
    "```sql\n",
    "SELECT \n",
    "    concat('hubspot-', hubspot_id) as contact_id,\n",
    "    first_name, \n",
    "    last_name\n",
    "    ...\n",
    "```"
   ]
  },
  {
   "cell_type": "markdown",
   "id": "c589557d-0422-4496-b2be-acfa00442655",
   "metadata": {},
   "source": [
    "And now when we look at the results, we'll see the following:"
   ]
  },
  {
   "cell_type": "markdown",
   "id": "0b257098-9465-485f-96b4-2b29ef63ae91",
   "metadata": {},
   "source": [
    "<img src=\"./hubspot-pref.png\" width=\"100%\">"
   ]
  },
  {
   "cell_type": "markdown",
   "id": "e5f051dd-dfd0-4232-bac1-bc74d6196efe",
   "metadata": {},
   "source": [
    "> Notice that we call our column `contact_id` instead of `hubspot_id`."
   ]
  },
  {
   "cell_type": "markdown",
   "id": "c960c868-2457-4bc1-8dc1-41242bc5f3b1",
   "metadata": {},
   "source": [
    "When we eventually combine our data, we can use this information to trace back to the original source.`"
   ]
  },
  {
   "cell_type": "markdown",
   "id": "e9ba9466-8211-431d-b930-d263c34c8528",
   "metadata": {},
   "source": [
    "#### 2. Properly align"
   ]
  },
  {
   "cell_type": "markdown",
   "id": "2c1fa1fc-099a-44b1-88f3-8f8e50919b9c",
   "metadata": {},
   "source": [
    "Before combining the data, we should clean up our staging layer to make our data more consistent.  This involves a couple of steps.  \n",
    "\n",
    "* We should align the columns in our various sources so that our columns are in the same order, with consistent names and consistent formatting"
   ]
  },
  {
   "cell_type": "markdown",
   "id": "bdc2bb2c-8a8b-4980-b2b0-d0786e00f269",
   "metadata": {},
   "source": [
    "If we look at the `stg_rds_customers.sql` file, we can see that does not currently align with the `stg_hubspot_contacts`.  \n",
    "\n",
    "Place the columns in the same order, and with the same formatting.  Also, add a prefix to the id called `rds`, and name it `customer_id`."
   ]
  },
  {
   "cell_type": "markdown",
   "id": "a189998a-9b9d-4a78-aefd-08d0ae7571f6",
   "metadata": {},
   "source": [
    "When complete, our rds customers model should look like the following:"
   ]
  },
  {
   "cell_type": "markdown",
   "id": "d88f9ded-b9dc-4148-a9ca-805f0b132d23",
   "metadata": {},
   "source": [
    "<img src=\"./cleaned-rds.png\" width=\"100%\">"
   ]
  },
  {
   "cell_type": "markdown",
   "id": "dbb65ab1-270b-43fc-b06c-cbb9e0ead38f",
   "metadata": {},
   "source": [
    "Notice that we achieved the following:"
   ]
  },
  {
   "cell_type": "markdown",
   "id": "fc1dddd0-9f32-47ac-ae28-dd1be2a72309",
   "metadata": {},
   "source": [
    "* We added a prefix to our hubspot id, and labeled it as `contact_id`\n",
    "* Our phone number is now formatted\n",
    "* We changed `company_name` to `business_name`\n",
    "* We ordered the columns to be consistent with our hubspot contacts table, where possible."
   ]
  },
  {
   "cell_type": "markdown",
   "id": "846254a4-79c6-4bd7-bafb-0b5401a80b4e",
   "metadata": {},
   "source": [
    "### Summary"
   ]
  },
  {
   "cell_type": "markdown",
   "id": "b682cf30-f532-40e2-81d2-3ffec32bd2e6",
   "metadata": {},
   "source": [
    "In this lesson, we got cleaned up our staging layer a bit.  And we accomplished this by first adding a prefix to our id.  This will allows us to better identify the source of our information later on.\n",
    "\n",
    "The other step was to make our staging models more consistent.  We accomplished this by aligning the column names, and also aligning the order of our columns."
   ]
  }
 ],
 "metadata": {
  "kernelspec": {
   "display_name": "Python 3 (ipykernel)",
   "language": "python",
   "name": "python3"
  },
  "language_info": {
   "codemirror_mode": {
    "name": "ipython",
    "version": 3
   },
   "file_extension": ".py",
   "mimetype": "text/x-python",
   "name": "python",
   "nbconvert_exporter": "python",
   "pygments_lexer": "ipython3",
   "version": "3.9.7"
  }
 },
 "nbformat": 4,
 "nbformat_minor": 5
}
