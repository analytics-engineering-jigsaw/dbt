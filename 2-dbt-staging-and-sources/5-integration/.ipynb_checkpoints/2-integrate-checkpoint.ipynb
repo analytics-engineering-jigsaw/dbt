{
 "cells": [
  {
   "cell_type": "markdown",
   "id": "34129715-c34f-45df-b891-acdef1b1ad60",
   "metadata": {},
   "source": [
    "# Combining Contact Data"
   ]
  },
  {
   "cell_type": "markdown",
   "id": "1a80e8b4-0a2f-4433-8391-aa2b712c96a8",
   "metadata": {},
   "source": [
    "### Introduction"
   ]
  },
  {
   "cell_type": "markdown",
   "id": "18b0261c-345d-4ff6-aa97-4358020695d8",
   "metadata": {},
   "source": [
    "In this lesson, we'll work through the initial steps of combining our contacts data.  Let's get started."
   ]
  },
  {
   "cell_type": "markdown",
   "id": "708bff3c-afd1-4b47-b8a1-ab2b7e00636f",
   "metadata": {},
   "source": [
    "### Getting setup"
   ]
  },
  {
   "cell_type": "markdown",
   "id": "c0066ed3-e742-4471-896b-01aa77dff167",
   "metadata": {},
   "source": [
    "To start off, create a new branch called `integrate_contacts`, and then under models create a new folder called staging and a file called `int_contacts.sql` inside that folder."
   ]
  },
  {
   "cell_type": "markdown",
   "id": "283d7080-0897-43c0-acef-ecdcc95be4aa",
   "metadata": {},
   "source": [
    "Our file structure should look like the following:"
   ]
  },
  {
   "cell_type": "markdown",
   "id": "b0794d4c-e38a-42ea-9970-b0688372b098",
   "metadata": {},
   "source": [
    "<img src=\"./file-structure.png\" width=\"60%\">"
   ]
  },
  {
   "cell_type": "markdown",
   "id": "46cb07b7-891c-4e7e-9ee6-b6bd6bd76a3e",
   "metadata": {},
   "source": [
    "### Our first merge"
   ]
  },
  {
   "cell_type": "markdown",
   "id": "085f55a5-c4e2-493d-b754-cf4a21dc45a6",
   "metadata": {},
   "source": [
    "Now take a look at the rds customers model, and the hubspot contacts model.  We can see that both share a lot of the same columns.  And it would be nice to combine the two, so we can see which of our contacts end up becoming customers."
   ]
  },
  {
   "cell_type": "markdown",
   "id": "465e0ab2-b966-4b93-bcea-ee1f89ebee23",
   "metadata": {},
   "source": [
    "Let's use union all to combine the two datasets.  In doing so, we'll want to rename the `customer_id` column as `contact_id` -- this way our two columns can align.\n",
    "\n",
    "Wrap the combined data in a CTE called `merged_contacts`.  And if we select all from this CTE, we should see something like the following:"
   ]
  },
  {
   "cell_type": "markdown",
   "id": "adef8085-273e-4835-a165-666b52ef1c6c",
   "metadata": {},
   "source": [
    "<img src=\"./combined-data.png\" width=\"90%\">"
   ]
  },
  {
   "cell_type": "markdown",
   "id": "c67d790c-e366-4a6c-a80a-783a46d8f05a",
   "metadata": {},
   "source": [
    "And if we scroll down far enough, we should see that both our hubspot and our rds data is in our `merged_contacts` CTE."
   ]
  },
  {
   "cell_type": "markdown",
   "id": "eca25500-93e7-4745-b52d-b2477a620128",
   "metadata": {},
   "source": [
    "<img src=\"./merged-data.png\" width=\"90%\">"
   ]
  },
  {
   "cell_type": "markdown",
   "id": "c82b5467-e6ff-420b-8235-dcf127ed0a4a",
   "metadata": {},
   "source": [
    "### Deduplicating our data"
   ]
  },
  {
   "cell_type": "markdown",
   "id": "2b8684d2-68d9-4c17-9d28-e6d4dbe391a2",
   "metadata": {},
   "source": [
    "Next up, we will want to deduplicate our data.  We can see that some of our data is currently duplicated if we group by both `first_name` and `last_name`, and count the records and order by that count."
   ]
  },
  {
   "cell_type": "markdown",
   "id": "79689a86-0819-46e7-a1e0-d3aeb3d63623",
   "metadata": {},
   "source": [
    "<img src=\"./combined-count.png\" width=\"90%\">"
   ]
  },
  {
   "cell_type": "markdown",
   "id": "6dfe70fd-52f4-4493-ab29-5caaa8b1b8c7",
   "metadata": {},
   "source": [
    "Ok, so slightly update our group by so that we group by `first_name` and `last_name`, and take a `max` of the phone number.  Let's order the results by `last_name`, ascending."
   ]
  },
  {
   "cell_type": "markdown",
   "id": "0d1e381c-2d31-464d-8776-c41bae816ccc",
   "metadata": {},
   "source": [
    "<img src=\"./combined-results.png\" width=\"90%\">"
   ]
  },
  {
   "cell_type": "markdown",
   "id": "42dd8f34-ddb1-4141-98ba-51a913084aa8",
   "metadata": {},
   "source": [
    "### Keeping our IDs"
   ]
  },
  {
   "cell_type": "markdown",
   "id": "0444bd53-f323-4fba-8113-46115ebda963",
   "metadata": {},
   "source": [
    "Now our data is starting to look pretty good, but unfortunately, we lost the primary ids in the process.  This is each instance of our duplicated data would have a different id -- a hubspot id and an rds id.  \n",
    "\n",
    "So which should we store as the primary key?\n",
    "\n",
    "For now, we'll store both as the primary key, and we can do so with the following:"
   ]
  },
  {
   "cell_type": "markdown",
   "id": "82adc306-21b8-4927-bb40-9c37ba0ea715",
   "metadata": {},
   "source": [
    "<img src=\"./array_agg.png\" width=\"100%\">"
   ]
  },
  {
   "cell_type": "markdown",
   "id": "72dbdd6e-4db2-495c-a3d1-d1482ab94304",
   "metadata": {},
   "source": [
    "So when we grouped by, we combined the contact differing contact_ids in an array, which is stored under the `contact_ids` column."
   ]
  },
  {
   "cell_type": "markdown",
   "id": "089b8423-09f5-483e-9c04-63bca559a35b",
   "metadata": {},
   "source": [
    "So the array_agg takes the value from each row and places it into an array (an array is another word for a list).\n",
    "\n",
    "Ok, so now that you saw how `array_agg` works, use it to aggregate the different `company_ids` that can associate a person to either a hubspot company id or an rds company id.  Store the results in a new column called `company_ids`."
   ]
  },
  {
   "cell_type": "markdown",
   "id": "994d3efd-0c96-4b79-8dbd-d8d4847d757c",
   "metadata": {},
   "source": [
    "<img src=\"./agg_companies.png\" width=\"100%\">"
   ]
  },
  {
   "cell_type": "markdown",
   "id": "e548ad77-1588-4028-85d9-86f5be732d45",
   "metadata": {},
   "source": [
    "### Summary"
   ]
  },
  {
   "cell_type": "markdown",
   "id": "f6fa650c-d5f0-44be-a86e-306fe328243d",
   "metadata": {},
   "source": [
    "In this lesson, we moved through many of the steps for merging together our contact data.  The main new component we saw was `array_agg`, which allowed us to store multiple values in a single column."
   ]
  }
 ],
 "metadata": {
  "kernelspec": {
   "display_name": "Python 3 (ipykernel)",
   "language": "python",
   "name": "python3"
  },
  "language_info": {
   "codemirror_mode": {
    "name": "ipython",
    "version": 3
   },
   "file_extension": ".py",
   "mimetype": "text/x-python",
   "name": "python",
   "nbconvert_exporter": "python",
   "pygments_lexer": "ipython3",
   "version": "3.9.7"
  }
 },
 "nbformat": 4,
 "nbformat_minor": 5
}
