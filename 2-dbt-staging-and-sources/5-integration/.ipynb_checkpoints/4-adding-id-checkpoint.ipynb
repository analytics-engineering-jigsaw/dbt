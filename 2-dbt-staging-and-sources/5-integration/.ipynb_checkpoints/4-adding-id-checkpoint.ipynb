{
 "cells": [
  {
   "cell_type": "markdown",
   "id": "d902de5e-736a-40cc-9d41-1188036d8269",
   "metadata": {},
   "source": [
    "# Adding Ids"
   ]
  },
  {
   "cell_type": "markdown",
   "id": "244ceb2b-7a4e-4e20-bbde-7019a9e0f207",
   "metadata": {},
   "source": [
    "### Seeing the problem"
   ]
  },
  {
   "cell_type": "markdown",
   "id": "86b4f071-6e58-4f2b-a951-df0a56bd8400",
   "metadata": {},
   "source": [
    "There's one more component to add to our integration models, and that is a unique primary key.  Currently, if we look at our data, we can see that we have two different identifiers that link back to our sources."
   ]
  },
  {
   "cell_type": "markdown",
   "id": "afd105e8-3cee-4afe-82ec-d979c8eb41ee",
   "metadata": {},
   "source": [
    "<img src=\"./combined_companies.png\" width=\"100%\">"
   ]
  },
  {
   "cell_type": "markdown",
   "id": "f5a5b194-a31f-4c7d-aed5-2199a7cc2c28",
   "metadata": {},
   "source": [
    "This will lead to complicated queries when we need to associate records.  For example, if we look at the contact staging model.  We can see that, we currently have two foreign keys to associate a contact to a company.    "
   ]
  },
  {
   "cell_type": "markdown",
   "id": "e12edbfe-9e18-48f6-9684-8f8b9e49d06a",
   "metadata": {},
   "source": [
    "<img src=\"./company_ids.png\" width=\"90%\">"
   ]
  },
  {
   "cell_type": "markdown",
   "id": "6a72ba7a-3721-4f03-b037-ad205eb4b605",
   "metadata": {},
   "source": [
    "In this lesson, we'll generate a new, single primary key, that we'll use in our final mart tables.  \n",
    "\n",
    "Then, we'll re-associate our data using these new primary keys.  \n",
    "\n",
    "> For example, with our contacts table above, we'll replace the columns of `hubspot_company_id` and `rds_company_id`, with the newly generated company primary key.  \n",
    "\n",
    "Ok, let's get started."
   ]
  },
  {
   "cell_type": "markdown",
   "id": "61742d71-01cd-4238-b012-f8db15f7c975",
   "metadata": {
    "tags": []
   },
   "source": [
    "### Getting setup"
   ]
  },
  {
   "cell_type": "markdown",
   "id": "6cd574be-c50c-445c-969d-2b38d0aed981",
   "metadata": {},
   "source": [
    "To generate the primary key, we'll use a package -- `dbt_utils` -- that we do not currently have installed in dbt.  So let's see how we can install the package, and then start using it to generate a primary key."
   ]
  },
  {
   "cell_type": "markdown",
   "id": "2a347158-dc79-411d-a9f9-09b5aac9c220",
   "metadata": {},
   "source": [
    "* Installing a dbt package"
   ]
  },
  {
   "cell_type": "markdown",
   "id": "8fd6c2f7-69bc-4f6f-9e66-64b15bf4db1e",
   "metadata": {},
   "source": [
    "We can see how to install packages with the following [documentation](https://docs.getdbt.com/docs/building-a-dbt-project/package-management).  There, we'll see the following example:"
   ]
  },
  {
   "cell_type": "markdown",
   "id": "cbfbeaab-89df-4578-ab77-e5f9c183b1d8",
   "metadata": {},
   "source": [
    "> <img src=\"./adding-package.png\" width=\"60%\">"
   ]
  },
  {
   "cell_type": "markdown",
   "id": "379759c9-cde8-4a10-b599-6cef598b4ca4",
   "metadata": {},
   "source": [
    "So we can see that we'd like to add a `packages.yml` file at the same level as our `dbt_project.yml` file.  Go ahead, and add that file so our file tree looks like the following."
   ]
  },
  {
   "cell_type": "markdown",
   "id": "162b47b3-3a60-4199-8307-f69a1cdf7690",
   "metadata": {},
   "source": [
    "> <img src=\"./packages.png\" width=\"60%\">"
   ]
  },
  {
   "cell_type": "markdown",
   "id": "f8a70783-4a33-4903-862a-2bcb7d39544d",
   "metadata": {},
   "source": [
    "Then, in that file, we can add the following:"
   ]
  },
  {
   "cell_type": "markdown",
   "id": "4dc289eb-a061-4b8a-a8b8-8452abb950a5",
   "metadata": {},
   "source": [
    "```yaml\n",
    "packages:\n",
    "  - package: dbt-labs/dbt_utils\n",
    "    version: 0.8.0\n",
    "```"
   ]
  },
  {
   "cell_type": "markdown",
   "id": "2c8feecc-7f6f-47eb-8723-63c45ee5c609",
   "metadata": {},
   "source": [
    "> Copy and paste the above into the `packages.yml`. \n",
    "\n",
    "Then in the dbt command line, run `dbt deps`."
   ]
  },
  {
   "cell_type": "markdown",
   "id": "9f8568aa-f380-4683-ac90-ada93382c84a",
   "metadata": {},
   "source": [
    "> <img src=\"./dbt-deps.png\" width=\"100%\">"
   ]
  },
  {
   "cell_type": "markdown",
   "id": "b2ca9432-8dd6-46b2-8417-f7a1127bdc73",
   "metadata": {},
   "source": [
    "Now that we've installed the `dbt_utils` package, we can use it to generate our primary keys."
   ]
  },
  {
   "cell_type": "markdown",
   "id": "f30fd503-f8bd-4e15-8a0b-fca1954021d8",
   "metadata": {},
   "source": [
    "### Generating primary keys"
   ]
  },
  {
   "cell_type": "markdown",
   "id": "4e69ef44-d495-4469-a410-11de6560c303",
   "metadata": {},
   "source": [
    "From `dbt_utils`, we'll want to use the `surrogate_key` function, will we can use to generate an id.\n",
    "\n",
    "We can add a primary key to our contacts integration table, if we update our select statement at the very end of the file to the following:"
   ]
  },
  {
   "cell_type": "markdown",
   "id": "139702aa-c6da-4340-aed5-1176bf3ec94c",
   "metadata": {},
   "source": [
    "```sql\n",
    "select {{ dbt_utils.surrogate_key(['first_name', 'last_name', 'phone']) }} as contact_pk,\n",
    "hubspot_contact_id, rds_contact_id,\n",
    "first_name, last_name, phone, hubspot_company_id, rds_company_id from final \n",
    "```"
   ]
  },
  {
   "cell_type": "markdown",
   "id": "02eba79e-af0a-42c7-97dd-2f8aa6be1f21",
   "metadata": {},
   "source": [
    "And, the `dbt_utils.surrogate_key` will generate a new id, which we see in the first column below."
   ]
  },
  {
   "cell_type": "markdown",
   "id": "3e824c6c-6fbc-4e56-9418-425505ded66b",
   "metadata": {},
   "source": [
    "<img src=\"./contact-pk.png\" width=\"100%\">"
   ]
  },
  {
   "cell_type": "markdown",
   "id": "27308a69-661b-4c74-86dc-457eeb2d7c9e",
   "metadata": {},
   "source": [
    "Let's take another look at the `surrogate_key` function."
   ]
  },
  {
   "cell_type": "markdown",
   "id": "a51ce384-c345-4e94-8a2a-35bde65020b9",
   "metadata": {},
   "source": [
    "```sql\n",
    "{{ dbt_utils.surrogate_key['first_name', 'last_name', 'phone'] }}\n",
    "```\n",
    "\n",
    "This generates an id using the values from the `first_name`, `last_name` and `phone` columns.    \n",
    "\n",
    "> Why use the surrogate key?  The main benefit of the surrogate key is that so long as the specified key -- above 'first_name', 'last_name' and 'phone' -- does not change, then the generated key will not change.  This is a good thing, because it means that our id will stay consistent regardless of how many times we re-generate our tables.\n",
    "\n",
    "> Of course, it's important that we specify one or more column that are unique across our data.  Above above, the specified columns will do the trick."
   ]
  },
  {
   "cell_type": "markdown",
   "id": "92eb4a52-715a-4075-ba7b-b1ca3dcbde85",
   "metadata": {},
   "source": [
    "From there, we can just generate the contacts model."
   ]
  },
  {
   "cell_type": "markdown",
   "id": "0534bd75-5180-4abb-9b65-d1988c110c18",
   "metadata": {},
   "source": [
    "<img src=\"./int_contacts.png\" width=\"100%\">"
   ]
  },
  {
   "cell_type": "markdown",
   "id": "080b90a7-7347-4be2-8fc1-0a8bf339143c",
   "metadata": {},
   "source": [
    "### Changing the companies table"
   ]
  },
  {
   "cell_type": "markdown",
   "id": "3979a062-04ba-4f2c-9f19-f35a81436759",
   "metadata": {},
   "source": [
    "Next, let's add a primary key to the companies table, also using our `dbt_utils.surrogate_key` function.\n",
    "\n",
    "Do so by using the surrogate_key to derive the primary key from the `name` of the company.  Our data should look like the following:"
   ]
  },
  {
   "cell_type": "markdown",
   "id": "518452f0-a425-42ab-ad38-bcae5027bdad",
   "metadata": {},
   "source": [
    "<img src=\"./primary-key.png\" width=\"100%\">"
   ]
  },
  {
   "cell_type": "markdown",
   "id": "e53b4e1b-66cf-4016-9016-611d288ddbe5",
   "metadata": {},
   "source": [
    "Then run the models to create a new view from this data."
   ]
  },
  {
   "cell_type": "markdown",
   "id": "59500d93-f584-4ff1-8548-350c8b0c5c7f",
   "metadata": {},
   "source": [
    "### Summary"
   ]
  },
  {
   "cell_type": "markdown",
   "id": "b40a2a97-c507-4544-81b8-bfb9883b8225",
   "metadata": {},
   "source": [
    "In this lesson, we saw how we can generate a new primary key using the `surrogate_key` function.  With the surrogate key function, the same id will be generated each time, so long as the values of the related columns do not change.\n",
    "\n",
    "This is valuable for keeping even the ids of our data more consistent regardless of how many times we run our models.\n",
    "\n",
    "In our mart tables, we will reassociate our records -- ie. contacts and their related companies -- with these newly generated primary keys."
   ]
  }
 ],
 "metadata": {
  "kernelspec": {
   "display_name": "Python 3 (ipykernel)",
   "language": "python",
   "name": "python3"
  },
  "language_info": {
   "codemirror_mode": {
    "name": "ipython",
    "version": 3
   },
   "file_extension": ".py",
   "mimetype": "text/x-python",
   "name": "python",
   "nbconvert_exporter": "python",
   "pygments_lexer": "ipython3",
   "version": "3.9.7"
  }
 },
 "nbformat": 4,
 "nbformat_minor": 5
}
