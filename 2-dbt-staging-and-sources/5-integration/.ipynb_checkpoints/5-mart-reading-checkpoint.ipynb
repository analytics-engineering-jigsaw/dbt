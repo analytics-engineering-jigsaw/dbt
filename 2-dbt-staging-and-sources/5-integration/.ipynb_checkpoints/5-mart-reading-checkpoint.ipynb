{
 "cells": [
  {
   "cell_type": "markdown",
   "id": "4e0e9369-2749-4120-8a48-d64fa31ce90e",
   "metadata": {},
   "source": [
    "# Creating a mart"
   ]
  },
  {
   "cell_type": "markdown",
   "id": "2b21c845-2c21-4d5f-8a12-5dfcecf12a61",
   "metadata": {},
   "source": [
    "### Introduction"
   ]
  },
  {
   "cell_type": "markdown",
   "id": "600082eb-3962-4929-8acb-b1191033ba38",
   "metadata": {},
   "source": [
    "In this lesson, we'll work build out our mart models.  Let's get started."
   ]
  },
  {
   "cell_type": "markdown",
   "id": "8e9c583b-f5ce-4f8e-9017-99b000693f85",
   "metadata": {},
   "source": [
    "### Adding a companies mart"
   ]
  },
  {
   "cell_type": "markdown",
   "id": "c2384ac8-792c-4f1f-a4c0-77c5547b6038",
   "metadata": {},
   "source": [
    "We can begin by creating a new branch called `build_mart`, and then creating a folder `mart` with a new file called `mart_companies_dim.sql`."
   ]
  },
  {
   "cell_type": "markdown",
   "id": "a1332c5d-e3b3-417d-8338-b5f34eb0e9bf",
   "metadata": {},
   "source": [
    "<img src=\"./company_dim.png\" width=\"40%\">"
   ]
  },
  {
   "cell_type": "markdown",
   "id": "db7baf08-9e9f-46ef-a6de-3bc81c7a8648",
   "metadata": {},
   "source": [
    "There, the only thing we need to do is to get started is to import our `int_companies` model, and then import the relevant columns.  Our entire file can look like the following:"
   ]
  },
  {
   "cell_type": "markdown",
   "id": "1021ed9d-7b88-47e5-b440-2310f2f38cfa",
   "metadata": {},
   "source": [
    "```sql\n",
    "--- company_dim.sql\n",
    "WITH int_companies as (\n",
    "    select * from {{ ref('int_companies') }}\n",
    ")\n",
    "select company_pk, name, address, postal_code, city, country from int_companies \n",
    "```"
   ]
  },
  {
   "cell_type": "markdown",
   "id": "03887c78-34ac-4afb-b809-65e458de0f07",
   "metadata": {},
   "source": [
    "And if we preview the data, we'll see the following."
   ]
  },
  {
   "cell_type": "markdown",
   "id": "ea072897-3e0b-4c3a-9baa-88acb054d8f2",
   "metadata": {},
   "source": [
    "<img src=\"./companies.png\" width=\"100%\">"
   ]
  },
  {
   "cell_type": "markdown",
   "id": "8121bfb4-5a2f-4cb3-b14c-1aa45004781d",
   "metadata": {},
   "source": [
    "### Creating a table"
   ]
  },
  {
   "cell_type": "markdown",
   "id": "1ce3cfca-085b-49c0-824b-31f894cf5969",
   "metadata": {},
   "source": [
    "Finally, so far whenever we have run a dbt model, we have created a view as a result.  Remember that when we create a view, the data is not actually stored in a new table.  Rather, only the query is stored, and this query is re-run each time.\n",
    "\n",
    "Because our mart models will be directly queried by our various teams, we should turn these models into tables to make them faster to query.  We can do so by adding the following line to the top of the file:"
   ]
  },
  {
   "cell_type": "markdown",
   "id": "08a8a9f9-bf3a-4e39-9596-ce833e415386",
   "metadata": {},
   "source": [
    "```sql\n",
    "{{ config(materialized='table') }}\n",
    "```"
   ]
  },
  {
   "cell_type": "markdown",
   "id": "9e84296c-a45c-48be-9913-d350773b80e4",
   "metadata": {},
   "source": [
    "This time, when we perform a `dbt run` this will create a new table instead of a view.  And each time we run `dbt run` the table will be recreated."
   ]
  },
  {
   "cell_type": "markdown",
   "id": "14e1e0cf-68ef-4b40-8e6b-b1f7de6fe8d2",
   "metadata": {},
   "source": [
    "### Summary"
   ]
  },
  {
   "cell_type": "markdown",
   "id": "777beb66-d5fb-4f37-bee7-a039974d8fa3",
   "metadata": {},
   "source": [
    "In this lesson, we saw created our first mart table.  As we saw, we did not have much work left to do to create our final mart tables.  We simply selected the relevant columns from our integration model and specified to have our table be turned into a table, instead of the default of a view, with the following:\n",
    "\n",
    "```\n",
    "{{ config(materialized='table') }}\n",
    "```"
   ]
  }
 ],
 "metadata": {
  "kernelspec": {
   "display_name": "Python 3 (ipykernel)",
   "language": "python",
   "name": "python3"
  },
  "language_info": {
   "codemirror_mode": {
    "name": "ipython",
    "version": 3
   },
   "file_extension": ".py",
   "mimetype": "text/x-python",
   "name": "python",
   "nbconvert_exporter": "python",
   "pygments_lexer": "ipython3",
   "version": "3.9.12"
  }
 },
 "nbformat": 4,
 "nbformat_minor": 5
}
