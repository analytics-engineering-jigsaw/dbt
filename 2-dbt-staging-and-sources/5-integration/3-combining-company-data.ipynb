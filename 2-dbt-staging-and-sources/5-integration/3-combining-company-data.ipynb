{
 "cells": [
  {
   "cell_type": "markdown",
   "id": "6b016e67-69ce-4f19-92b9-9bd6cb73e039",
   "metadata": {},
   "source": [
    "# Combined Companies"
   ]
  },
  {
   "cell_type": "markdown",
   "id": "57b01b93-d280-4036-9a83-ca8c87e86e73",
   "metadata": {},
   "source": [
    "### Introduction"
   ]
  },
  {
   "cell_type": "markdown",
   "id": "a6900dc8-c5c5-4e44-bedb-e614a8e5dd44",
   "metadata": {},
   "source": [
    "Now that we've done the work of integrating our contacts, let's integrate the information that we have on companies."
   ]
  },
  {
   "cell_type": "markdown",
   "id": "e01ae7c3-0418-4710-87b2-bb1d6e20097f",
   "metadata": {},
   "source": [
    "### Final results"
   ]
  },
  {
   "cell_type": "markdown",
   "id": "ad92cc8f-0248-452a-a1ac-b0e81a9ef8ba",
   "metadata": {},
   "source": [
    "Initially, we would like our merged company information to look like the following:"
   ]
  },
  {
   "cell_type": "markdown",
   "id": "698fcdb6-2876-4c59-92bc-112a9b4a6e52",
   "metadata": {},
   "source": [
    "<img src=\"./initial_query.png\" width=\"100%\">"
   ]
  },
  {
   "cell_type": "markdown",
   "id": "ca332a52-7d87-4ba9-847e-a74b5de8d3cf",
   "metadata": {},
   "source": [
    "So we can see above, that we combined both the hubspot companies and rds companies.  "
   ]
  },
  {
   "cell_type": "markdown",
   "id": "581541d4-0f8d-4899-92cf-db5fbde500cc",
   "metadata": {},
   "source": [
    "Then, from there, we should add in the additional columns from the rds companies models.\n",
    "\n",
    "Ultimately, with these additional features added, our data will look like the following:"
   ]
  },
  {
   "cell_type": "markdown",
   "id": "b46c8e91-9868-42f0-8744-9e2e05c31496",
   "metadata": {},
   "source": [
    "<img src=\"./combined_companies.png\" width=\"100%\">"
   ]
  },
  {
   "cell_type": "markdown",
   "id": "f824135f-166e-4451-8724-28b52d7ffdc2",
   "metadata": {},
   "source": [
    "Make sure to run the integration models to ensure that the data compiles."
   ]
  },
  {
   "cell_type": "markdown",
   "id": "0bfa0142-2818-4f30-8e4c-3b8e09f98630",
   "metadata": {},
   "source": [
    "### Summary"
   ]
  },
  {
   "cell_type": "markdown",
   "id": "0d2bdc08-8caf-4131-b2b1-fcc3e53b1b88",
   "metadata": {},
   "source": [
    "In this lesson, we worked to combined our company data from both our hubspot and rds staging models.  Once we merged the data, we then continued on to include the additional columns in the rds staging model."
   ]
  },
  {
   "cell_type": "markdown",
   "id": "f0cd8519-0713-4965-823a-007d71e1665a",
   "metadata": {},
   "source": [
    "### Solution"
   ]
  },
  {
   "cell_type": "markdown",
   "id": "2b7f7a9d-5c1a-4999-a60d-2dbb407880be",
   "metadata": {},
   "source": [
    "```sql\n",
    "with hubspot_companies as (\n",
    "    select * from {{ ref('stg_hubspot_companies') }}\n",
    "), rds_companies as (\n",
    "    select * from {{ ref('stg_rds_companies') }}\n",
    "), merged_companies as (\n",
    "    select company_id as hubspot_company_id, null as rds_company_id, name from hubspot_companies union all\n",
    "    select null as hubspot_company_id, company_id as rds_company_id, name from rds_companies\n",
    "), deduped as (\n",
    "    select \n",
    "    max(hubspot_company_id) as hubspot_company_id,\n",
    "    max(rds_company_id) as rds_company_id, name\n",
    "     from merged_companies group by name\n",
    ")\n",
    " select {{ dbt_utils.surrogate_key(['deduped.name']) }} as company_pk, hubspot_company_id, rds_company_id, deduped.name, address,\n",
    "   postal_code, city, country from deduped\n",
    "  left outer join rds_companies on rds_companies.company_id = deduped.rds_company_id\n",
    "```"
   ]
  },
  {
   "cell_type": "code",
   "execution_count": null,
   "id": "6d887791-4279-4e78-98f4-e7f4e7fafdd6",
   "metadata": {},
   "outputs": [],
   "source": []
  }
 ],
 "metadata": {
  "kernelspec": {
   "display_name": "Python 3 (ipykernel)",
   "language": "python",
   "name": "python3"
  },
  "language_info": {
   "codemirror_mode": {
    "name": "ipython",
    "version": 3
   },
   "file_extension": ".py",
   "mimetype": "text/x-python",
   "name": "python",
   "nbconvert_exporter": "python",
   "pygments_lexer": "ipython3",
   "version": "3.9.7"
  }
 },
 "nbformat": 4,
 "nbformat_minor": 5
}
