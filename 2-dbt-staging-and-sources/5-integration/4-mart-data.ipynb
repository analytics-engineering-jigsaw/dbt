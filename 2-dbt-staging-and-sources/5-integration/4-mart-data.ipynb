{
 "cells": [
  {
   "cell_type": "code",
   "execution_count": null,
   "id": "319e9263-eb67-493d-bde9-3c68c40ae4b2",
   "metadata": {},
   "outputs": [],
   "source": []
  },
  {
   "cell_type": "markdown",
   "id": "9d2045bf-28a1-40e7-a7b2-d4f593a99d9e",
   "metadata": {},
   "source": [
    "```sql\n",
    "dbt deps\n",
    "```"
   ]
  },
  {
   "cell_type": "markdown",
   "id": "35ba6cdb-4666-45f9-9d33-bc83ec65cfcf",
   "metadata": {},
   "source": [
    "<img src=\"./install_dbt_deps.png\">"
   ]
  },
  {
   "cell_type": "markdown",
   "id": "1f69dafd-d0d3-4296-94e8-772d1af7afe5",
   "metadata": {},
   "source": [
    "How to install packages:"
   ]
  },
  {
   "cell_type": "markdown",
   "id": "b2279e11-7c7c-4e7d-afa5-61f891810b66",
   "metadata": {},
   "source": [
    "[Package management](https://docs.getdbt.com/docs/building-a-dbt-project/package-management)"
   ]
  },
  {
   "cell_type": "markdown",
   "id": "fcdba206-8ed1-44b5-ac9e-3614a9fcd085",
   "metadata": {},
   "source": [
    "<img src=\"./adding-package.png\" width=\"60%\">"
   ]
  },
  {
   "cell_type": "markdown",
   "id": "04e61e49-7efb-4234-9b96-8e23452cb5e9",
   "metadata": {},
   "source": [
    "* Then need to materialize view"
   ]
  },
  {
   "cell_type": "markdown",
   "id": "b04b6a70-1c54-4b93-9c0e-abd47336fc7b",
   "metadata": {},
   "source": [
    "And can view under the fivetran database, views"
   ]
  },
  {
   "cell_type": "code",
   "execution_count": null,
   "id": "10c7cca0-bb7b-40f0-a3ef-7489ebfe8c36",
   "metadata": {},
   "outputs": [],
   "source": []
  }
 ],
 "metadata": {
  "kernelspec": {
   "display_name": "Python 3 (ipykernel)",
   "language": "python",
   "name": "python3"
  },
  "language_info": {
   "codemirror_mode": {
    "name": "ipython",
    "version": 3
   },
   "file_extension": ".py",
   "mimetype": "text/x-python",
   "name": "python",
   "nbconvert_exporter": "python",
   "pygments_lexer": "ipython3",
   "version": "3.9.7"
  }
 },
 "nbformat": 4,
 "nbformat_minor": 5
}
