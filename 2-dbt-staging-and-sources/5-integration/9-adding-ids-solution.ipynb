{
 "cells": [
  {
   "cell_type": "code",
   "execution_count": null,
   "id": "3cb6dc18-addd-4d56-aafd-683a75fd2036",
   "metadata": {},
   "outputs": [],
   "source": []
  },
  {
   "cell_type": "markdown",
   "id": "edfaafa1-50ed-4ea2-bb03-d6930415575f",
   "metadata": {},
   "source": [
    "### Solution"
   ]
  },
  {
   "cell_type": "markdown",
   "id": "69d33f72-8875-4597-bcea-fc0994f1e054",
   "metadata": {},
   "source": [
    "```sql\n",
    "with contacts as (\n",
    "     select * from {{ ref('stg_hubspot_contacts') }}\n",
    " ), customers as (\n",
    "     select * from {{ ref('stg_rds_customers') }} \n",
    " ),\n",
    "  merged_contacts as (\n",
    "    SELECT \n",
    "    contact_id as hubspot_contact_id,\n",
    "    null as rds_contact_id,\n",
    "    first_name, \n",
    "    last_name,\n",
    "    phone, \n",
    "    company_id as hubspot_company_id,\n",
    "    null as rds_company_id\n",
    "     FROM contacts\n",
    "    union all \n",
    "    SELECT \n",
    "    null as hubspot_contact_id,\n",
    "    customer_id as rds_contact_id,\n",
    "    first_name, \n",
    "    last_name,\n",
    "    phone, \n",
    "    null as hubspot_company_id,\n",
    "    company_id as rds_company_id\n",
    "    FROM customers\n",
    " ), final as (\n",
    "     select \n",
    "     max(hubspot_contact_id) as hubspot_contact_id, max(rds_contact_id) as rds_contact_id,\n",
    "        first_name, last_name, max(phone) as phone, \n",
    "        max(hubspot_company_id) as hubspot_company_id, max(rds_company_id) rds_company_id\n",
    "     from merged_contacts\n",
    "      group by first_name, last_name\n",
    " )\n",
    " select {{ dbt_utils.surrogate_key(['first_name', 'last_name', 'phone']) }} as contact_pk, hubspot_contact_id, rds_contact_id,\n",
    "  first_name, last_name, phone, hubspot_company_id, rds_company_id from final \n",
    "```"
   ]
  }
 ],
 "metadata": {
  "kernelspec": {
   "display_name": "Python 3 (ipykernel)",
   "language": "python",
   "name": "python3"
  },
  "language_info": {
   "codemirror_mode": {
    "name": "ipython",
    "version": 3
   },
   "file_extension": ".py",
   "mimetype": "text/x-python",
   "name": "python",
   "nbconvert_exporter": "python",
   "pygments_lexer": "ipython3",
   "version": "3.9.12"
  }
 },
 "nbformat": 4,
 "nbformat_minor": 5
}
