{
 "cells": [
  {
   "cell_type": "markdown",
   "id": "bbfbd875-ab54-43c4-a812-a8a1d2a52b4c",
   "metadata": {},
   "source": [
    "# Adding our contacts table"
   ]
  },
  {
   "cell_type": "markdown",
   "id": "44443e93-8655-4624-bfba-8421cfb6a19c",
   "metadata": {},
   "source": [
    "### Introduction "
   ]
  },
  {
   "cell_type": "markdown",
   "id": "bde504be-44e8-49bc-9a45-cc29c8d2b139",
   "metadata": {},
   "source": [
    "In the last lesson, we worked on adding our companies mart table.  So in this lesson, let's add our contacts model to our marts.  Let's get started."
   ]
  },
  {
   "cell_type": "markdown",
   "id": "e2cafc35-cf67-4c48-a0f2-6c9e1f863fe8",
   "metadata": {},
   "source": [
    "### Starting with contacts"
   ]
  },
  {
   "cell_type": "markdown",
   "id": "e9e33f02-81de-462a-a586-fe947756e7dd",
   "metadata": {},
   "source": [
    "For the contacts model, we want to begin by creating a new mart model, and then importing in our `int_contacts` data."
   ]
  },
  {
   "cell_type": "markdown",
   "id": "ffe90fef-5eff-4d29-b6ee-03e4df30a99d",
   "metadata": {},
   "source": [
    "> The data at this point should look like the following."
   ]
  },
  {
   "cell_type": "markdown",
   "id": "3ba98190-4637-4222-aa2d-730e1cc1655a",
   "metadata": {},
   "source": [
    "<img src=\"./generated-contacts.png\" width=\"100%\">"
   ]
  },
  {
   "cell_type": "markdown",
   "id": "ce3ad76c-ab92-4479-9864-75b32d398031",
   "metadata": {},
   "source": [
    "### Associating companies"
   ]
  },
  {
   "cell_type": "markdown",
   "id": "90898b20-195e-41de-b23f-e83379ecd3e9",
   "metadata": {},
   "source": [
    "Now a contact may have a company it's related to.  And we should associate the company by placing the related `company_pk` on the contacts table.  So when, we're done our data will look like the following:"
   ]
  },
  {
   "cell_type": "markdown",
   "id": "ef678cec-8f30-4f4d-bb69-60edcdcb6cd5",
   "metadata": {},
   "source": [
    "<img src=\"./with_foreign.png\" width=\"100%\">"
   ]
  },
  {
   "cell_type": "markdown",
   "id": "c0cf5b8a-2784-4c33-aff2-140ea3de5633",
   "metadata": {},
   "source": [
    "To accomplish this, we'll need to import the `int_companies` table, and join the contacts with either the `hubspot_company_id` or the `rds_company_id`.  \n",
    "\n",
    "> You can see how to join on multiple columns [in this post](https://mode.com/sql-tutorial/sql-joins-on-multiple-keys/), except we would like to join when **either** column is a match (as opposed to both)."
   ]
  },
  {
   "cell_type": "markdown",
   "id": "58cfa29f-2aab-4d96-ab09-409e939704e0",
   "metadata": {},
   "source": [
    "### Cleaning up the companies mart"
   ]
  },
  {
   "cell_type": "markdown",
   "id": "98ac7cf7-78e5-4994-bd60-e291cfb67a80",
   "metadata": {},
   "source": [
    "Now that we have properly associated the contacts to the company with the company id, we can remove the hubspot and rds ids in the companies table."
   ]
  },
  {
   "cell_type": "markdown",
   "id": "f86612eb-c01d-4f83-aac4-21119ac572de",
   "metadata": {},
   "source": [
    "> Our update companies table will look like the following."
   ]
  },
  {
   "cell_type": "markdown",
   "id": "53df80f4-8411-4b02-8af0-163268700ab0",
   "metadata": {},
   "source": [
    "<img src=\"./update-mart-company.png\" width=\"100%\">"
   ]
  },
  {
   "cell_type": "markdown",
   "id": "9ab2bdfa-8bd5-410d-bf52-8e8fbebf0160",
   "metadata": {},
   "source": [
    "Then, make sure to place the specified configuration to turn the model into a table."
   ]
  },
  {
   "cell_type": "markdown",
   "id": "24d6638e-3424-4ab7-9438-d817654be0ac",
   "metadata": {},
   "source": [
    "### Verifying in snowflake"
   ]
  },
  {
   "cell_type": "markdown",
   "id": "555d0235-7f16-47d8-9af5-e33f5a79c7cc",
   "metadata": {},
   "source": [
    "From here, we should move over to snowflake, and we can check that we have two new tables that are created."
   ]
  },
  {
   "cell_type": "markdown",
   "id": "3c785c2c-d06b-4f58-9679-a105814dbdd3",
   "metadata": {},
   "source": [
    "`psql -d northwinds`"
   ]
  },
  {
   "cell_type": "markdown",
   "id": "b63f9d56-b0b0-432d-a4c9-dcff877108d3",
   "metadata": {},
   "source": [
    "`\\dt dev.*`"
   ]
  },
  {
   "cell_type": "markdown",
   "id": "62936d6c-986c-4a19-9833-e9b6f665b6a8",
   "metadata": {},
   "source": [
    "```md\n",
    "List of relations\n",
    " Schema |        Name         | Type  |    Owner\n",
    "--------+---------------------+-------+-------------\n",
    " dev    | companies_dim       | table | jeffreykatz\n",
    " dev    | contacts_dim        | table | jeffreykatz\n",
    " dev    | northwinds_hubspot  | table | jeffreykatz\n",
    " dev    | northwinds_mixpanel | table | jeffreykatz\n",
    "```"
   ]
  },
  {
   "cell_type": "markdown",
   "id": "3e252481-5421-428b-a057-5ab1e5972877",
   "metadata": {},
   "source": [
    "We can see that we have our seed data in our dev schema as well.  If we want, we can clean that up by configuring our [seed data](https://docs.getdbt.com/reference/seed-configs)."
   ]
  },
  {
   "cell_type": "markdown",
   "id": "3d3f6c02-3775-4770-ac13-42241305245b",
   "metadata": {},
   "source": [
    "From there, let's make sure that our data is properly associated.  We should be able to join our contacts to their related company using the `company_pk` key."
   ]
  },
  {
   "cell_type": "markdown",
   "id": "6c68eae5-7f2a-46a7-bd4a-0ae405b004d0",
   "metadata": {},
   "source": [
    "### Summary"
   ]
  },
  {
   "cell_type": "markdown",
   "id": "216fa728-4613-4026-9adb-95008a285ad8",
   "metadata": {},
   "source": [
    "In this lesson, we completed the work of adding our contacts table.  We did this by connecting the related `company_pk` to our contacts, and then specifying that the model should be created as a table.\n",
    "\n",
    "After performing this work, we checked that we properly associated our data in postgres."
   ]
  }
 ],
 "metadata": {
  "kernelspec": {
   "display_name": "Python 3 (ipykernel)",
   "language": "python",
   "name": "python3"
  },
  "language_info": {
   "codemirror_mode": {
    "name": "ipython",
    "version": 3
   },
   "file_extension": ".py",
   "mimetype": "text/x-python",
   "name": "python",
   "nbconvert_exporter": "python",
   "pygments_lexer": "ipython3",
   "version": "3.9.12"
  }
 },
 "nbformat": 4,
 "nbformat_minor": 5
}
