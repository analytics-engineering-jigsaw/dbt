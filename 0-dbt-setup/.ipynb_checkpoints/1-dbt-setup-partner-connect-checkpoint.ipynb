{
 "cells": [
  {
   "cell_type": "markdown",
   "metadata": {},
   "source": [
    "# Setting up with Partner Connect"
   ]
  },
  {
   "cell_type": "markdown",
   "metadata": {},
   "source": [
    "### Introduction"
   ]
  },
  {
   "cell_type": "markdown",
   "metadata": {},
   "source": [
    "In this lesson, we'll setup with DBT partner connect."
   ]
  },
  {
   "cell_type": "markdown",
   "metadata": {},
   "source": [
    "### Steps\n",
    "\n",
    "In this lesson we'll set up DBT using snowflake's DBT Partner Connect.  \n",
    "\n",
    "> This reading is derived from the DBT documentation found [here](https://docs.getdbt.com/docs/get-started/getting-started/getting-set-up/setting-up-snowflake).\n",
    "\n",
    "Access to Partner Connect is available by logging into snowflake, and then going to the dashboard section of `Admin` > `Partner Connect`.\n",
    "\n",
    "<img src=\"./partner-connect.png\" width=\"50%\">"
   ]
  },
  {
   "cell_type": "markdown",
   "metadata": {},
   "source": [
    "From there search for dbt."
   ]
  },
  {
   "cell_type": "markdown",
   "metadata": {},
   "source": [
    "<img src=\"./snowflake_partner_connect_box.png\" width=\"70%\">"
   ]
  },
  {
   "cell_type": "markdown",
   "metadata": {},
   "source": [
    "From there, we will be taken to the following.  "
   ]
  },
  {
   "cell_type": "markdown",
   "metadata": {},
   "source": [
    "<img src=\"./connect-dbt.png\" width=\"50%\">"
   ]
  },
  {
   "cell_type": "markdown",
   "metadata": {},
   "source": [
    "Click on connect, followed by activate in the next box."
   ]
  },
  {
   "cell_type": "markdown",
   "metadata": {},
   "source": [
    "<img src=\"./snowflake_new_ui_activation_window.png\" width=\"70%\">"
   ]
  },
  {
   "cell_type": "markdown",
   "metadata": {},
   "source": [
    "From there, we will be taken to a dbt registration page."
   ]
  },
  {
   "cell_type": "markdown",
   "metadata": {},
   "source": [
    "<img src=\"./dbt_cloud_account_info.png\" width=\"70%\">"
   ]
  },
  {
   "cell_type": "markdown",
   "metadata": {},
   "source": [
    "### Seeing the Results"
   ]
  },
  {
   "cell_type": "markdown",
   "metadata": {},
   "source": [
    "Now we should be in good shape with those simple steps above, but it's good to see where we can make in modifications in DBT.\n",
    "\n",
    "Click on the gear icon in the top right, followed by account settings, and then click on Partner Connection Trial."
   ]
  },
  {
   "cell_type": "markdown",
   "metadata": {},
   "source": [
    "<img src=\"./gear-partner-trial.png\">"
   ]
  },
  {
   "cell_type": "markdown",
   "metadata": {},
   "source": [
    "From there, clicking on the snowflake connection will take us to the following:"
   ]
  },
  {
   "cell_type": "markdown",
   "metadata": {},
   "source": [
    "> <img src=\"./partner-settings.png\" width=\"70%\">"
   ]
  },
  {
   "cell_type": "markdown",
   "metadata": {},
   "source": [
    "The main component to confirm is that the account is correct.  It should match the snowflake account, which can be seen in the snowflake url."
   ]
  },
  {
   "cell_type": "markdown",
   "metadata": {},
   "source": [
    "> <img src=\"./snowflake-accnt.png\" width=\"70%\">"
   ]
  },
  {
   "cell_type": "markdown",
   "metadata": {},
   "source": [
    "Also notice, that DBT is given access to the `PC_DBT_DB` database and using the `PC_DBT_WH`.  Both resources were created via signing up for partner connect.  The role it operates as is `PC_DBT_ROLE`.  "
   ]
  },
  {
   "cell_type": "markdown",
   "metadata": {},
   "source": [
    "### Developing with DBT"
   ]
  },
  {
   "cell_type": "markdown",
   "metadata": {},
   "source": [
    "From here, we can make sure that the connection to snowflake works.  Click on the `develop` button in the top right of DBT.  And then you will need to initialize a new dbt repository (click the button in the top right).  \n",
    "\n",
    "Now DBT will create various files and folders for you, and we would like to see if we can add to them.  To do so, we'll first need to switch off of the main branch.  So click on create branch in the top right -- and then name a new branch."
   ]
  },
  {
   "cell_type": "markdown",
   "metadata": {},
   "source": [
    "<img src=\"./sample-branch.png\" width=\"60%\">"
   ]
  },
  {
   "cell_type": "markdown",
   "metadata": {},
   "source": [
    "Doing so will both create a new branch, and also move us to that new branch.  And now that we are off the main, branch we can make some modifications."
   ]
  },
  {
   "cell_type": "markdown",
   "metadata": {},
   "source": [
    "So from here, you can open up the `models` folder and replace the code with a query to our snowflake database."
   ]
  },
  {
   "cell_type": "markdown",
   "metadata": {},
   "source": [
    "```sql\n",
    "select * from SNOWFLAKE_SAMPLE_DATA.TPCDS_SF100TCL.CALL_CENTER limit 2;\n",
    "```"
   ]
  },
  {
   "cell_type": "markdown",
   "metadata": {},
   "source": [
    "Then, **save the file**, and then click **preview** in the bottom pane towards the left."
   ]
  },
  {
   "cell_type": "markdown",
   "metadata": {},
   "source": [
    "<img src=\"./previewed-data.png\">"
   ]
  },
  {
   "cell_type": "markdown",
   "metadata": {},
   "source": [
    "> **Warning**: If you do not **save** the file before clicking preview, the preview will not work."
   ]
  },
  {
   "cell_type": "markdown",
   "metadata": {},
   "source": [
    "If everything works, we should see the results above."
   ]
  },
  {
   "cell_type": "markdown",
   "metadata": {},
   "source": [
    "### Summary\n",
    "\n",
    "In this lesson, we saw how to connect DBT to our Snowflake account with DBT partner connect.  If you were unable to connect with partner connect, and would like to try to set it up manually [here](https://colab.research.google.com/github/analytics-engineering-jigsaw/dbt/blob/main/0-dbt-setup/1-dbt-setup-snowflake.ipynb). "
   ]
  }
 ],
 "metadata": {
  "kernelspec": {
   "display_name": "Python 3 (ipykernel)",
   "language": "python",
   "name": "python3"
  },
  "language_info": {
   "codemirror_mode": {
    "name": "ipython",
    "version": 3
   },
   "file_extension": ".py",
   "mimetype": "text/x-python",
   "name": "python",
   "nbconvert_exporter": "python",
   "pygments_lexer": "ipython3",
   "version": "3.9.12"
  },
  "vscode": {
   "interpreter": {
    "hash": "b0fa6594d8f4cbf19f97940f81e996739fb7646882a419484c72d19e05852a7e"
   }
  }
 },
 "nbformat": 4,
 "nbformat_minor": 4
}
