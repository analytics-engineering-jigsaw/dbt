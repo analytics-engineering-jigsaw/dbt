{
 "cells": [
  {
   "cell_type": "markdown",
   "id": "yellow-ceiling",
   "metadata": {},
   "source": [
    "# DBT Workflow Lab"
   ]
  },
  {
   "cell_type": "markdown",
   "id": "suburban-converter",
   "metadata": {},
   "source": [
    "### Introduction"
   ]
  },
  {
   "cell_type": "markdown",
   "id": "harmful-eagle",
   "metadata": {},
   "source": [
    "In this lesson, we'll practice working through the DBT workflow.  And we'll use DBT to connect to both our snowf and github accounts, and create a new table in our data warehouse, and then update our master branch on Github to reflect the changes in our DBT codebase.  Let's get started."
   ]
  },
  {
   "cell_type": "markdown",
   "id": "emerging-implementation",
   "metadata": {},
   "source": [
    "### Working with our Redshift Data"
   ]
  },
  {
   "cell_type": "markdown",
   "id": "legitimate-rubber",
   "metadata": {},
   "source": [
    "Let's start by logging into AWS and connecting to our redshift database through the Query Editor.  You'll see that you have connected the Query Editor to the proper database if you see various tables listed over to the right."
   ]
  },
  {
   "cell_type": "markdown",
   "id": "loaded-nylon",
   "metadata": {},
   "source": [
    "> <img src=\"./tables_avail.png\" width=\"40%\">"
   ]
  },
  {
   "cell_type": "markdown",
   "id": "surprising-proxy",
   "metadata": {},
   "source": [
    "From there, run a query in the query panel to select the first five events from the `event` table."
   ]
  },
  {
   "cell_type": "markdown",
   "id": "cloudy-interim",
   "metadata": {},
   "source": [
    "> While the actual events may vary, we should see something like the following:"
   ]
  },
  {
   "cell_type": "markdown",
   "id": "handmade-launch",
   "metadata": {},
   "source": [
    "<img src=\"./event_queried.png\" width=\"60%\">"
   ]
  },
  {
   "cell_type": "markdown",
   "id": "concerned-characteristic",
   "metadata": {},
   "source": [
    "### Setting up DBT"
   ]
  },
  {
   "cell_type": "markdown",
   "id": "trying-import",
   "metadata": {},
   "source": [
    "Ok, now it's time to perform our redshift queries from DBT.  Remember, that in our ELT process, we use DBT to perform just the `T` component.  The data is generally already loaded into our data warehouse, and from there we'll select and clean our loaded data.  "
   ]
  },
  {
   "cell_type": "markdown",
   "id": "coral-swing",
   "metadata": {},
   "source": [
    "But to make any changes, we first need to create a new branch, as we cannot make any changes directly on the master branch.  So begin by creating a new branch called `build_dim_categories_model`. \n",
    "\n",
    "And then create a new folder called `models` with a `dim_categories.sql` file in it.  And remove the `examples` folder.  When completed, your file structure should look the following."
   ]
  },
  {
   "cell_type": "markdown",
   "id": "inside-restoration",
   "metadata": {},
   "source": [
    "<img src=\"./build_dim_categories.png\" width=\"30%\">"
   ]
  },
  {
   "cell_type": "markdown",
   "id": "extreme-touch",
   "metadata": {},
   "source": [
    "### Querying Redshift from DBT "
   ]
  },
  {
   "cell_type": "markdown",
   "id": "fatal-condition",
   "metadata": {},
   "source": [
    "Ok, so now that we created a new branch and updated our file structure, it's time to query our data warehouse.  \n",
    "\n",
    "Before having DBT make any new tables in our data warehouse, let's take a look at some of the data we have already loaded in.  Begin by querying the `event` table from DBT."
   ]
  },
  {
   "cell_type": "markdown",
   "id": "latter-friend",
   "metadata": {},
   "source": [
    "<img src=\"./cat_id.png\" width=\"100%\">"
   ]
  },
  {
   "cell_type": "markdown",
   "id": "historical-feeding",
   "metadata": {},
   "source": [
    "Ok, so now let's take a look at the `Compiled SQL` tab to see what DBT executed for us. "
   ]
  },
  {
   "cell_type": "markdown",
   "id": "southern-durham",
   "metadata": {},
   "source": [
    "<img src=\"./cat_limited.png\" width=\"100%\">"
   ]
  },
  {
   "cell_type": "markdown",
   "id": "yellow-principle",
   "metadata": {},
   "source": [
    "So we can see that it added in the `limit 500`."
   ]
  },
  {
   "cell_type": "markdown",
   "id": "private-massage",
   "metadata": {},
   "source": [
    "Ok, now let's try to create a new table called `dim_categories`.  To do so, first use DBT to select the `catid`, `catgroup`, and `catname` columns, and rename them as `id`, `group` and `name`.  \n",
    "\n",
    "Then preview the results, and you should see something like the following."
   ]
  },
  {
   "cell_type": "markdown",
   "id": "proper-calgary",
   "metadata": {},
   "source": [
    "<img src=\"./cat_results.png\" width=\"100%\">"
   ]
  },
  {
   "cell_type": "markdown",
   "id": "rational-argument",
   "metadata": {},
   "source": [
    "So we are now ready to create a new `dim_categories` table with the `id`, `group` and `name` columns that we seee above."
   ]
  },
  {
   "cell_type": "markdown",
   "id": "missing-narrative",
   "metadata": {},
   "source": [
    "So now use the proper dbt command to create the `dim_categories` table.\n",
    "\n",
    "> If it works, you should see `Passed` and something like the following:"
   ]
  },
  {
   "cell_type": "markdown",
   "id": "engaging-subsection",
   "metadata": {},
   "source": [
    "<img src=\"./proper_run.png\" width=\"60%\">"
   ]
  },
  {
   "cell_type": "markdown",
   "id": "british-rebecca",
   "metadata": {},
   "source": [
    "Then open the tabs for the view the logs and details."
   ]
  },
  {
   "cell_type": "markdown",
   "id": "initial-animation",
   "metadata": {},
   "source": [
    "> <img src=\"./logs_details.png\" width=\"80%\">"
   ]
  },
  {
   "cell_type": "markdown",
   "id": "educational-persian",
   "metadata": {},
   "source": [
    "Notice under the details at the bottom it says `OK created view model dim_categories`.\n",
    "\n",
    "A view is a kind of table in postgres or redshift.  Let's confirm that a new table has been created by going back to our redshift query editor, and confirming that there is a schema beginning with `dbt` that has the `dim_categories` table."
   ]
  },
  {
   "cell_type": "markdown",
   "id": "dental-westminster",
   "metadata": {},
   "source": [
    "> <img src=\"./dim_cat_cols.png\" width=\"30%\">"
   ]
  },
  {
   "cell_type": "markdown",
   "id": "sticky-thunder",
   "metadata": {},
   "source": [
    "Ok, this looks good.  Now that the changes have been made to our database, we need to update our master branch."
   ]
  },
  {
   "cell_type": "markdown",
   "id": "likely-laser",
   "metadata": {},
   "source": [
    "### Updating the master branch"
   ]
  },
  {
   "cell_type": "markdown",
   "id": "orange-violation",
   "metadata": {},
   "source": [
    "So now to update the master branch, we'll need to:\n",
    "\n",
    "* make a commit on the current branch\n",
    "* open the pull request\n",
    "* create the pull request\n",
    "* merge the pull request to master"
   ]
  },
  {
   "cell_type": "markdown",
   "id": "constitutional-management",
   "metadata": {},
   "source": [
    "You'll know that the master branch was properly updated if you go to your repository's master branch and see the following:"
   ]
  },
  {
   "cell_type": "markdown",
   "id": "dated-reset",
   "metadata": {},
   "source": [
    "> <img src=\"./pull_request_lab.png\" width=\"60%\">"
   ]
  },
  {
   "cell_type": "markdown",
   "id": "introductory-diameter",
   "metadata": {},
   "source": [
    "With that you have completed your first set of changes through DBT."
   ]
  },
  {
   "cell_type": "markdown",
   "id": "champion-sustainability",
   "metadata": {},
   "source": [
    "### Summary"
   ]
  },
  {
   "cell_type": "markdown",
   "id": "floral-analysis",
   "metadata": {},
   "source": [
    "Let's make sure that we have a good understanding of the DBT workflow.  We start off with a good coding workflow in general:\n",
    "\n",
    "* checkout a new branch from master\n",
    "* code on that new branch\n",
    "\n",
    "Then we get to our DBT queries:\n",
    "\n",
    "* Preview a DBT query\n",
    "* Create a new table through DBT with `dbt run --models` command\n",
    "* Go to redshift to verify the changes are properly made\n",
    "\n",
    "Then update the master branch\n",
    "* Make a commit\n",
    "* Open the pull request on github\n",
    "* Create a pull request\n",
    "* Merge the pull request to master\n",
    "\n",
    "And then we go to the master branch to verify that our codebase on master has been updated."
   ]
  },
  {
   "cell_type": "markdown",
   "id": "surrounded-portsmouth",
   "metadata": {},
   "source": [
    "### Resources\n",
    "\n",
    "[RDS Redshift Lab](https://github.com/jigsawlabs-student/rds-to-redshift-lab/blob/main/notes/0-rds-to-redshift-solution.ipynb)\n",
    "\n",
    "[Data Warehouse Spectrum -> DBT Towards DS](https://towardsdatascience.com/a-data-warehouse-implementation-on-aws-a96d0e251abd)\n",
    "\n",
    "[Stitch -> DBT](https://www.startdataengineering.com/post/build-a-simple-data-engineering-platform/)"
   ]
  }
 ],
 "metadata": {
  "kernelspec": {
   "display_name": "Python 3 (ipykernel)",
   "language": "python",
   "name": "python3"
  },
  "language_info": {
   "codemirror_mode": {
    "name": "ipython",
    "version": 3
   },
   "file_extension": ".py",
   "mimetype": "text/x-python",
   "name": "python",
   "nbconvert_exporter": "python",
   "pygments_lexer": "ipython3",
   "version": "3.9.7"
  }
 },
 "nbformat": 4,
 "nbformat_minor": 5
}
