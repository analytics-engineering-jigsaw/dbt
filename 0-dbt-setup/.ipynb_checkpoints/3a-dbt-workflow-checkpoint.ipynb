{
 "cells": [
  {
   "cell_type": "markdown",
   "id": "desperate-clause",
   "metadata": {},
   "source": [
    "# The DBT Workflow"
   ]
  },
  {
   "cell_type": "markdown",
   "id": "hydraulic-cleveland",
   "metadata": {},
   "source": [
    "### Introduction"
   ]
  },
  {
   "cell_type": "markdown",
   "id": "digital-rough",
   "metadata": {},
   "source": [
    "Now that we have gotten our DBT account connected to our data warehouse and our github repository, it's time to see how we can use DBT with our data warehouse.  Now remember, that there are a few main benefits of using DBT:\n",
    "\n",
    "\n",
    "1. It provides an opinionated workflow for writing our queries\n",
    "2. It provides opinionated *file structure* for organizing our SQL queries\n",
    "1. It allows to quickly turn SQL SELECT statements into new SQL tables populated with that selected data\n",
    "\n",
    "\n",
    "In this lesson, we'll focus on the two benefits: we'll see how DBT can allow us to quickly create and populate new tables, and we'll see how it enforces a proper development workflow."
   ]
  },
  {
   "cell_type": "markdown",
   "id": "appreciated-restoration",
   "metadata": {},
   "source": [
    "### Moving to DBT"
   ]
  },
  {
   "cell_type": "markdown",
   "id": "9ef37900-2950-4a23-b04e-ba467620ad30",
   "metadata": {},
   "source": [
    "Now as we know, we can always directly query our Northwinds database where it's currently set up, in postgres, with something like:"
   ]
  },
  {
   "cell_type": "markdown",
   "id": "2dbf9706-9013-4b13-b479-1c107be9fa95",
   "metadata": {},
   "source": [
    "```sql\n",
    "select * from customers limit 1;\n",
    "```"
   ]
  },
  {
   "cell_type": "markdown",
   "id": "deadly-voltage",
   "metadata": {},
   "source": [
    "Ok, now let's try to run this same query from DBT.  First, remember that we should have already connected DBT to our postgres database.  \n",
    "\n",
    "You can confirm your connection by navigating to your local dbt repository, and then typing in the following:"
   ]
  },
  {
   "cell_type": "markdown",
   "id": "782c360d-baef-4a11-8d95-653d8d02aca4",
   "metadata": {},
   "source": [
    "```bash\n",
    "dbt debug\n",
    "```"
   ]
  },
  {
   "cell_type": "markdown",
   "id": "f0dc1767-9a96-4fb0-b81a-fbbe90701666",
   "metadata": {},
   "source": [
    "There, under `connection` you should see something like the following: "
   ]
  },
  {
   "cell_type": "markdown",
   "id": "f70d19bf-e75d-4d04-ae7c-7b517f3ca657",
   "metadata": {},
   "source": [
    "```bash\n",
    "22:54:19  Connection:\n",
    "22:54:19    host: localhost\n",
    "22:54:19    port: 5432\n",
    "22:54:19    user: jeffreykatz\n",
    "22:54:19    database: northwinds\n",
    "```"
   ]
  },
  {
   "cell_type": "markdown",
   "id": "2dba61df-6120-40f0-9320-67439415414e",
   "metadata": {},
   "source": [
    "And remember that this is connection is made from the `dbt_project.yml` file -- with the value for `profile`.\n",
    "\n",
    "```yaml\n",
    "profile: 'northwinds_dbt'\n",
    "```"
   ]
  },
  {
   "cell_type": "markdown",
   "id": "1d6cd53f-cfcd-4b1f-894c-f5433369c95e",
   "metadata": {},
   "source": [
    "And this connecting to ~/.dbt/profiles.yml file.  If you run `cat .dbt/profiles.yml` from your command line, you should see the database information."
   ]
  },
  {
   "cell_type": "markdown",
   "id": "e8388d2d-d8ec-4111-8ed9-ba567ec022d1",
   "metadata": {},
   "source": [
    "```yaml\n",
    "northwinds_dbt:\n",
    "  target: dev\n",
    "  outputs:\n",
    "    dev:\n",
    "      type: postgres\n",
    "      host: localhost\n",
    "      user: jeffreykatz # add your username\n",
    "      password: \"\" # add your password, or use \"\" if none\n",
    "      port: 5432\n",
    "      dbname: northwinds\n",
    "      schema: dev\n",
    "      threads: 1\n",
    "      connect_timeout: 30\n",
    "```"
   ]
  },
  {
   "cell_type": "markdown",
   "id": "hollow-texas",
   "metadata": {},
   "source": [
    "### A good workflow"
   ]
  },
  {
   "cell_type": "markdown",
   "id": "29b4d5f9-4136-4d5a-b32b-2d9a1080e667",
   "metadata": {},
   "source": [
    "Ok, so the main purpose of DBT is to bring the best practices of coding to analytics engineering.  And that means a good git workflow.  So currently, your `codebase` folder should look something like the following:\n",
    "\n",
    "```bash\n",
    "logs requirements.txt\n",
    "northwinds_dbt venv\n",
    "```"
   ]
  },
  {
   "cell_type": "markdown",
   "id": "2bd5ed45-8ce1-4b3d-8e01-a19b3e075d51",
   "metadata": {},
   "source": [
    "The northwinds_dbt folder is where our dbt repository is located.  And `venv` contains our required pip packages.  We should also create a `.gitignore` file so that our venv folder is not pushed up to github."
   ]
  },
  {
   "cell_type": "markdown",
   "id": "0ac2479b-5eaa-454b-a06f-a6c3f3f55cbf",
   "metadata": {},
   "source": [
    "`.gitignore`"
   ]
  },
  {
   "cell_type": "markdown",
   "id": "fff0f24a-6361-45cf-a705-cc3ea4da4a5f",
   "metadata": {},
   "source": [
    "```\n",
    "venv/\n",
    "```"
   ]
  },
  {
   "cell_type": "markdown",
   "id": "bc90f8f9-6c60-4e90-be7a-12e76eb04763",
   "metadata": {},
   "source": [
    "And we should also create a git repository inside of the `codebase` directory.\n",
    "```\n",
    "git init\n",
    "```"
   ]
  },
  {
   "cell_type": "markdown",
   "id": "d393b281-120b-4eb7-b219-60c94300d790",
   "metadata": {},
   "source": [
    "Now if you type `ls`, inside of the `codebase` directory you should see something like the following:"
   ]
  },
  {
   "cell_type": "markdown",
   "id": "80a322b6-84fc-4493-8f58-652beef3ae75",
   "metadata": {},
   "source": [
    "```bash\n",
    ".git logs requirements.txt\n",
    ".gitignore northwinds_dbt venv\n",
    "```"
   ]
  },
  {
   "cell_type": "markdown",
   "id": "758c9ab4-77dd-4ca1-a787-36900a8539ab",
   "metadata": {},
   "source": [
    "Next, we can create a github repository.  So go ahead, create a repo -- mine is called `northwinds_dbt_core`."
   ]
  },
  {
   "cell_type": "markdown",
   "id": "29893119-8146-4de9-af7a-22f73099e931",
   "metadata": {},
   "source": [
    "<img src=\"./north-dbt.png\" width=\"60%\">"
   ]
  },
  {
   "cell_type": "markdown",
   "id": "edcf1a4d-f65f-4885-8d92-273a5e2ab461",
   "metadata": {},
   "source": [
    "And then make a github commit, and push up to github."
   ]
  },
  {
   "cell_type": "markdown",
   "id": "442b9de0-bddf-4e67-9eee-2cf929833fcc",
   "metadata": {},
   "source": [
    "`git status`"
   ]
  },
  {
   "cell_type": "markdown",
   "id": "c49fa204-59d4-418b-a73d-f8a17ae2ca66",
   "metadata": {},
   "source": [
    "```bash\n",
    "Untracked files:\n",
    "  (use \"git add <file>...\" to include in what will be committed)\n",
    "\t.gitignore\n",
    "\tlogs/\n",
    "\tnorthwinds_dbt/\n",
    "\trequirements.txt\n",
    "```"
   ]
  },
  {
   "cell_type": "markdown",
   "id": "c6ed5b12-44cd-46a5-90ff-aa984065751a",
   "metadata": {},
   "source": [
    "```bash\n",
    "git add -A\n",
    "git commit -m 'add initial setup'\n",
    "```"
   ]
  },
  {
   "cell_type": "markdown",
   "id": "b951cc70-8d47-4546-a088-3e9716952f0a",
   "metadata": {},
   "source": [
    "Then add the remote origin:"
   ]
  },
  {
   "cell_type": "markdown",
   "id": "0270596e-98ac-4abb-a5bd-45b61dcedf5e",
   "metadata": {},
   "source": [
    "` git remote add origin your_github_repo`"
   ]
  },
  {
   "cell_type": "markdown",
   "id": "00673d6f-739e-4cda-8a2e-25d0919c3a25",
   "metadata": {},
   "source": [
    "And finally push up to github."
   ]
  },
  {
   "cell_type": "markdown",
   "id": "eae1ddf6-63cf-464f-8fa6-a4ba96a20267",
   "metadata": {},
   "source": [
    "```bash\n",
    "git push origin main\n",
    "```"
   ]
  },
  {
   "cell_type": "markdown",
   "id": "aeb44a54-77fa-42e5-b71e-042d505f4f19",
   "metadata": {},
   "source": [
    "### Making a change"
   ]
  },
  {
   "cell_type": "markdown",
   "id": "7f8e5a37-4c28-49b9-9a8d-b0ce211082b5",
   "metadata": {},
   "source": [
    "Ok, so now that we pushed the initial repository, let's add some code to the codebase.  \n",
    "\n",
    "First create a new branch in git.\n",
    "\n",
    "`git checkout -b build_customers_dim_model`"
   ]
  },
  {
   "cell_type": "markdown",
   "id": "psychological-chain",
   "metadata": {},
   "source": [
    "Ok, so now it's about time add our query to DBT."
   ]
  },
  {
   "cell_type": "markdown",
   "id": "desperate-looking",
   "metadata": {},
   "source": [
    "Now, we should have a `models/staging` folder, and then under that folder a file called `stg_customers.sql`.  Once this new file is created, we can write the following query."
   ]
  },
  {
   "cell_type": "markdown",
   "id": "c9333c63-5827-49ea-9092-dd94258eaa34",
   "metadata": {},
   "source": [
    "`select contact_name, address, phone from customers`"
   ]
  },
  {
   "cell_type": "markdown",
   "id": "animal-nicaragua",
   "metadata": {},
   "source": [
    "> Notice that there is no semi-colon at the end of our SQL statement. DBT will add that for us.  "
   ]
  },
  {
   "cell_type": "markdown",
   "id": "08ec25bb-fde4-41af-8399-5c0321706858",
   "metadata": {},
   "source": [
    "Then run the following."
   ]
  },
  {
   "cell_type": "markdown",
   "id": "63ecb672-9c31-47e6-b004-2a724a5d5a4e",
   "metadata": {},
   "source": [
    "```bash\n",
    "dbt compile\n",
    "```"
   ]
  },
  {
   "cell_type": "markdown",
   "id": "a7d167fb-fba6-4f5c-9040-c4c239ad12ab",
   "metadata": {},
   "source": [
    "When you run dbt compile, dbt will not actually touch your database.  Instead all it does is generate a file.  Go to the `northwinds_dbt` directory and navigate to `target/compile/models/staging/stg_customers.sql`."
   ]
  },
  {
   "cell_type": "markdown",
   "id": "3132cb5c-0ae0-4b85-bce0-0d4ab4924636",
   "metadata": {},
   "source": [
    "There you'll see something like the following:"
   ]
  },
  {
   "cell_type": "markdown",
   "id": "ebe8f859-62e9-4ddf-81e7-cace07a09ebf",
   "metadata": {},
   "source": [
    "```sql\n",
    "select contact_name, address, phone from customers\n",
    "```"
   ]
  },
  {
   "cell_type": "markdown",
   "id": "c63a3d2c-99a1-4873-99c2-ac5672b4509d",
   "metadata": {},
   "source": [
    "Now if you look at the `target/run` folder, you will see that there is not yet a `stg_customers.sql` file.  So now run:\n",
    "\n",
    "```\n",
    "dbt run\n",
    "```"
   ]
  },
  {
   "cell_type": "markdown",
   "id": "4149112f-4644-410a-9702-4c3ae175806b",
   "metadata": {},
   "source": [
    "This will do a couple of things:\n",
    "    \n",
    "1. If there's any update, it will recreate the file in the `target/compile` folder\n",
    "2. Notice that it also added a new `stg_customers.sql` to the `target/run` folder\n",
    "3. It runs the the file in the `target/run` folder against the database"
   ]
  },
  {
   "cell_type": "markdown",
   "id": "96b2d772-3df4-4a18-a045-6167038839d7",
   "metadata": {},
   "source": [
    "Ok, so we already looked at the file in the `target/compile` folder, next let's look at the file in the `target/run` folder.\n",
    "\n",
    "```sql\n",
    "create view \"northwinds\".\"dev\".\"stg_customers__dbt_tmp\"\n",
    "  as (\n",
    "    select contact_name, address, phone from customers\n",
    "  );\n",
    "```"
   ]
  },
  {
   "cell_type": "markdown",
   "id": "18bbc765-50ce-4f4a-b221-4b3fd0f11fe5",
   "metadata": {},
   "source": [
    "So DBT will always create a new view, using the name of the file (above stg_customers) and then populate that view with the select statement in the last line of the file we wrote.  So we wrote:\n",
    "\n",
    "`select contact_name, address, phone from customers` and DBT used it to generate the code for the view above."
   ]
  },
  {
   "cell_type": "markdown",
   "id": "717abac6-ed2f-448b-84e9-4743e3559cb1",
   "metadata": {},
   "source": [
    "Also, notice that in the terminal, it says that a new view was created: `dev.stg_customers`."
   ]
  },
  {
   "cell_type": "markdown",
   "id": "a56200c1-5a46-4ca0-b347-671487518087",
   "metadata": {},
   "source": [
    "```bash\n",
    "00:04:57  1 of 1 START sql view model dev.stg_customers .................................. [RUN]\n",
    "00:04:57  1 of 1 OK created sql view model dev.stg_customers ............................. [CREATE VIEW in 0.07s]\n",
    "```"
   ]
  },
  {
   "cell_type": "markdown",
   "id": "packed-norman",
   "metadata": {},
   "source": [
    "### Returning to Postgres"
   ]
  },
  {
   "cell_type": "markdown",
   "id": "acknowledged-omega",
   "metadata": {},
   "source": [
    "So at this point we've used DBT to quickly create a new view.  Let's also confirm that it has in fact changed our database by returning to postgres.  Connect to your `northwinds` database.\n",
    "\n",
    "```bash\n",
    "psql northwinds\n",
    "```\n",
    "\n",
    "And then run the following:"
   ]
  },
  {
   "cell_type": "markdown",
   "id": "925b4eee-a852-468b-b4a4-50d3cd79981f",
   "metadata": {},
   "source": [
    "```sql\n",
    "\\dv dev.*\n",
    "```"
   ]
  },
  {
   "cell_type": "markdown",
   "id": "4a3b433f-fb85-44d9-b93e-0880d8f68bf1",
   "metadata": {},
   "source": [
    "```bash\n",
    "List of relations\n",
    " Schema |      Name      | Type |    Owner\n",
    "--------+----------------+------+-------------\n",
    " dev    | stg_categories | view | jeffreykatz\n",
    " dev    | stg_customers  | view | jeffreykatz\n",
    "```"
   ]
  },
  {
   "cell_type": "markdown",
   "id": "68bdf2af-a7d4-4c55-9b64-5ae0a0d0e98d",
   "metadata": {},
   "source": [
    "You should see the `stg_customers` listed.  And then if you select from it, you'll see the view populated with the three columns we specified:"
   ]
  },
  {
   "cell_type": "markdown",
   "id": "968a750d-4d65-439c-b1b9-4dac7e20378a",
   "metadata": {},
   "source": [
    "```sql\n",
    "select * from dev.stg_customers limit 3;\n",
    "```"
   ]
  },
  {
   "cell_type": "markdown",
   "id": "6ad8e8c1-a35d-41d5-bb33-090d8ba0243c",
   "metadata": {},
   "source": [
    "```bash\n",
    "contact_name  |            address            |    phone\n",
    "----------------+-------------------------------+--------------\n",
    " Maria Anders   | Obere Str. 57                 | 030-0074321\n",
    " Ana Trujillo   | Avda. de la Constitución 2222 | (5) 555-4729\n",
    " Antonio Moreno | Mataderos  2312               | (5) 555-3932\n",
    "(3 rows)\n",
    "```"
   ]
  },
  {
   "cell_type": "markdown",
   "id": "conceptual-waterproof",
   "metadata": {},
   "source": [
    "### Updating the codebase"
   ]
  },
  {
   "cell_type": "markdown",
   "id": "lovely-organizer",
   "metadata": {},
   "source": [
    "Alright, so now that we've confirmed that our postgres database was updated properly with our DBT code, the next step is to commit our changes to the codebase, and merge our changes to the `main` branch."
   ]
  },
  {
   "cell_type": "markdown",
   "id": "8f0a81f4-a571-4d0e-9977-9b283ed48e20",
   "metadata": {},
   "source": [
    "First confirm that you are on the feature branch (not main)."
   ]
  },
  {
   "cell_type": "markdown",
   "id": "4c6ea275-b0e5-4a64-baef-7a56e550a568",
   "metadata": {},
   "source": [
    "```bash\n",
    "git branch -a\n",
    "```"
   ]
  },
  {
   "cell_type": "markdown",
   "id": "daba80e9-5f5b-4e7f-adec-2b6ec4289428",
   "metadata": {},
   "source": [
    "```bash\n",
    "* build_customers_dim_model\n",
    "  main\n",
    "  remotes/origin/main\n",
    "```"
   ]
  },
  {
   "cell_type": "markdown",
   "id": "0d6ca8ed-9490-40c7-990c-9462528ab6d6",
   "metadata": {},
   "source": [
    "> The `*` indicates your current branch.  Remember you can run `git checkout -b name_of_branch` to create and switch to a new branch)."
   ]
  },
  {
   "cell_type": "markdown",
   "id": "182bf3e3-e744-4abb-b0b2-423f8da6e680",
   "metadata": {},
   "source": [
    "Then add a new commit and push that branch up to github."
   ]
  },
  {
   "cell_type": "markdown",
   "id": "56e3413a-fd58-4c16-a21a-871d750da567",
   "metadata": {},
   "source": [
    "```bash\n",
    "git add -A\n",
    "git commit -m 'add stg_customers model'\n",
    "git push origin build_customers_dim_model \n",
    "```"
   ]
  },
  {
   "cell_type": "markdown",
   "id": "4d114f15-bcf8-4780-9c35-5f5667dba371",
   "metadata": {},
   "source": [
    "If you go to your github repoistory, you can toggle to your new branch."
   ]
  },
  {
   "cell_type": "markdown",
   "id": "58c4e409-f168-4901-9069-bb05739c976b",
   "metadata": {},
   "source": [
    "<img src=\"./github-branch.png\" width=\"60%\">"
   ]
  },
  {
   "cell_type": "markdown",
   "id": "consecutive-friendship",
   "metadata": {},
   "source": [
    "Then, click on `compare and pull request`."
   ]
  },
  {
   "cell_type": "markdown",
   "id": "aea2aecf-f8dd-4516-bc5f-9ad5ce7bd154",
   "metadata": {},
   "source": [
    "> <img src=\"./compare-pull.png\">"
   ]
  },
  {
   "cell_type": "markdown",
   "id": "reflected-frederick",
   "metadata": {},
   "source": [
    "Then click create pull request, and add a commit message, then click on `Confirm merge`."
   ]
  },
  {
   "cell_type": "markdown",
   "id": "numeric-demographic",
   "metadata": {},
   "source": [
    "<img src=\"./create-pull.png\" width=\"60%\">"
   ]
  },
  {
   "cell_type": "markdown",
   "id": "biological-senior",
   "metadata": {},
   "source": [
    "Finally, click on `Merge pull request` to merge our updated code with the main branch."
   ]
  },
  {
   "cell_type": "markdown",
   "id": "aware-efficiency",
   "metadata": {},
   "source": [
    "<img src=\"./merge-request.png\" width=\"60%\">"
   ]
  },
  {
   "cell_type": "markdown",
   "id": "078adca3-8738-43cf-a436-097ce4632f53",
   "metadata": {},
   "source": [
    "And then click on `confirm merge`."
   ]
  },
  {
   "cell_type": "markdown",
   "id": "precise-uganda",
   "metadata": {},
   "source": [
    "If we go to the main branch, we will find our `models/stg_customers.sql` file with the code from DBT."
   ]
  },
  {
   "cell_type": "markdown",
   "id": "18f2991c-493a-4466-90b8-150821b051ee",
   "metadata": {},
   "source": [
    "<img src=\"./updated-final.png\">"
   ]
  },
  {
   "cell_type": "markdown",
   "id": "specified-merchant",
   "metadata": {},
   "source": [
    "And our work is complete :)"
   ]
  },
  {
   "cell_type": "markdown",
   "id": "alert-brooklyn",
   "metadata": {},
   "source": [
    "### Summary"
   ]
  },
  {
   "cell_type": "markdown",
   "id": "solid-retrieval",
   "metadata": {},
   "source": [
    "In this lesson, we saw the workflow of DBT.  DBT connects to both our database, and runs sql commands against our database.  \n",
    "We write our query in the models folder, and then can run model against the database by running:\n",
    "\n",
    "```\n",
    "dbt run\n",
    "```\n",
    "which will see if there are any updates in any model, and `dbt run --models models/staging/stg_customers.sql` to just perform the run command with that specific file.  The dbt run command performs the following:\n",
    "\n",
    "1. Creates a file in the `target/compiled`\n",
    "2. Creates a file that will wrap our code in a `create view` statement in `target/run`\n",
    "3. Run the file in the `target/run` folder against the database, thus creating a new view.\n",
    "\n",
    "And we confirmed the change was made in postgres, by connecting to our db, and looking at the view.\n",
    "\n",
    "Now at this point, we still have not added our changes to the DBT codebase on the DBT main branch.  So to do this, we used DBT to create a new commit first on our branch, and then went to github to create a pull request and merge those changes into `main`."
   ]
  }
 ],
 "metadata": {
  "kernelspec": {
   "display_name": "Python 3 (ipykernel)",
   "language": "python",
   "name": "python3"
  },
  "language_info": {
   "codemirror_mode": {
    "name": "ipython",
    "version": 3
   },
   "file_extension": ".py",
   "mimetype": "text/x-python",
   "name": "python",
   "nbconvert_exporter": "python",
   "pygments_lexer": "ipython3",
   "version": "3.9.12"
  },
  "vscode": {
   "interpreter": {
    "hash": "b0fa6594d8f4cbf19f97940f81e996739fb7646882a419484c72d19e05852a7e"
   }
  }
 },
 "nbformat": 4,
 "nbformat_minor": 5
}
