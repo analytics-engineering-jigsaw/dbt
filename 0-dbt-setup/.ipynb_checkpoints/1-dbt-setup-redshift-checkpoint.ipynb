{
 "cells": [
  {
   "cell_type": "markdown",
   "id": "complimentary-liechtenstein",
   "metadata": {},
   "source": [
    "# Setting up DBT with Redshift"
   ]
  },
  {
   "cell_type": "markdown",
   "id": "promising-fourth",
   "metadata": {},
   "source": [
    "### Introduction"
   ]
  },
  {
   "cell_type": "markdown",
   "id": "alleged-experience",
   "metadata": {},
   "source": [
    "In this lesson, we'll walk through the signup process of getting started with DBT."
   ]
  },
  {
   "cell_type": "markdown",
   "id": "valuable-pickup",
   "metadata": {},
   "source": [
    "### DBT Signup"
   ]
  },
  {
   "cell_type": "markdown",
   "id": "traditional-comment",
   "metadata": {},
   "source": [
    "The first step is to go to [cloud.getdbt.com/login/](https://cloud.getdbt.com/login)."
   ]
  },
  {
   "cell_type": "markdown",
   "id": "mental-roots",
   "metadata": {},
   "source": [
    "> <img src=\"./dbt_signup.png\" width=\"60%\">"
   ]
  },
  {
   "cell_type": "markdown",
   "id": "official-error",
   "metadata": {},
   "source": [
    "Then click on the `Create a free company account` button to the left."
   ]
  },
  {
   "cell_type": "markdown",
   "id": "seventh-driver",
   "metadata": {},
   "source": [
    "From there, fill in your name email address and password."
   ]
  },
  {
   "cell_type": "markdown",
   "id": "colored-hydrogen",
   "metadata": {},
   "source": [
    "> <img src=\"./account_create.png\" width=\"40%\">"
   ]
  },
  {
   "cell_type": "markdown",
   "id": "extensive-wings",
   "metadata": {},
   "source": [
    "Go back to your email to verify your account."
   ]
  },
  {
   "cell_type": "markdown",
   "id": "growing-article",
   "metadata": {},
   "source": [
    "> <img src=\"./verify_email.png\" width=\"40%\">"
   ]
  },
  {
   "cell_type": "markdown",
   "id": "controlling-prisoner",
   "metadata": {},
   "source": [
    "And then click on the button in the email and signin with your username and password."
   ]
  },
  {
   "cell_type": "markdown",
   "id": "incoming-independence",
   "metadata": {},
   "source": [
    "> <img src=\"./signin.png\" width=\"30%\">"
   ]
  },
  {
   "cell_type": "markdown",
   "id": "widespread-bedroom",
   "metadata": {},
   "source": [
    "### Creating a project"
   ]
  },
  {
   "cell_type": "markdown",
   "id": "atmospheric-jason",
   "metadata": {},
   "source": [
    "Now upon logging in, we should now be prompted to setup our project -- which by default is called \"Analytics\"."
   ]
  },
  {
   "cell_type": "markdown",
   "id": "promising-vocabulary",
   "metadata": {},
   "source": [
    "> <img src=\"./continue_analytics.png\" width=\"60%\">"
   ]
  },
  {
   "cell_type": "markdown",
   "id": "coated-distinction",
   "metadata": {},
   "source": [
    "Click on the `Continue` button on the top right.  And then select `Redshift`, which will take us to the following page:"
   ]
  },
  {
   "cell_type": "markdown",
   "id": "permanent-employment",
   "metadata": {},
   "source": [
    "> <img src=\"./redshift_conn.png\" width=\"40%\">"
   ]
  },
  {
   "cell_type": "markdown",
   "id": "improved-colonial",
   "metadata": {},
   "source": [
    "From here, we need to fill out information related to our AWS redshift instance."
   ]
  },
  {
   "cell_type": "markdown",
   "id": "economic-glucose",
   "metadata": {},
   "source": [
    "> All of the information below we get upon creating an redshift database.  The hostname is the url or endpoint of the database, and we then enter the username and password of the database."
   ]
  },
  {
   "cell_type": "markdown",
   "id": "actual-growing",
   "metadata": {},
   "source": [
    "### Setting up Redshift"
   ]
  },
  {
   "cell_type": "markdown",
   "id": "advanced-founder",
   "metadata": {},
   "source": [
    "Ok, so let's create a redshift instance.  Login to AWS and go to the [redshift dashboard](https://console.aws.amazon.com/redshiftv2/) and then click on the orange create cluster button at the top right:"
   ]
  },
  {
   "cell_type": "markdown",
   "id": "demographic-calculation",
   "metadata": {},
   "source": [
    "> <img src=\"./create_cluster.png\" width=\"60%\">"
   ]
  },
  {
   "cell_type": "markdown",
   "id": "forward-professional",
   "metadata": {},
   "source": [
    "From here, enter a cluster identifier (the default is fine), and select the free trial to reduce costs."
   ]
  },
  {
   "cell_type": "markdown",
   "id": "manual-canada",
   "metadata": {},
   "source": [
    "> <img src=\"./free_trial.png\" width=\"60%\">"
   ]
  },
  {
   "cell_type": "markdown",
   "id": "abandoned-terrorism",
   "metadata": {},
   "source": [
    "From here, enter in a redshift user name, and password.  This is the password to login to the database, and is information that DBT will need to connect to redshift."
   ]
  },
  {
   "cell_type": "markdown",
   "id": "compressed-commerce",
   "metadata": {},
   "source": [
    "<img src=\"./redshift_password.png\" width=\"60%\">"
   ]
  },
  {
   "cell_type": "markdown",
   "id": "induced-independence",
   "metadata": {},
   "source": [
    "> Make a password of your choosing."
   ]
  },
  {
   "cell_type": "markdown",
   "id": "utility-credit",
   "metadata": {},
   "source": [
    "After clicking the button at the bottom, we'll be returned to the redshift dashboard."
   ]
  },
  {
   "cell_type": "markdown",
   "id": "enormous-terrorist",
   "metadata": {},
   "source": [
    "<img src=\"./redshift_dashboard.png\" width=\"60%\">"
   ]
  },
  {
   "cell_type": "markdown",
   "id": "involved-township",
   "metadata": {},
   "source": [
    "Click on the cluster that we just creeated, and from there we'll need to wait until we see `Status: Available`, which wee can see in green below."
   ]
  },
  {
   "cell_type": "markdown",
   "id": "strong-blame",
   "metadata": {},
   "source": [
    "<img src=\"./redshift-cluster.png\" width=\"60%\">"
   ]
  },
  {
   "cell_type": "markdown",
   "id": "secure-parts",
   "metadata": {},
   "source": [
    "We'll eventually need the `Endpoint`, which will be set when the cluster is available.  \n",
    "\n",
    "We're almost done with redshift, but we still need to make sure that redshift is available to external services like `DBT`.  So towards the bottom of the page, click on `Properties`, and then scroll down until we see `Network and security settings`."
   ]
  },
  {
   "cell_type": "markdown",
   "id": "immune-ultimate",
   "metadata": {},
   "source": [
    "There are two things we need to do.  The first is change `Publicly accessible` to enabled.  So click on the `Edit publicly accessible` to enable public access."
   ]
  },
  {
   "cell_type": "markdown",
   "id": "virtual-frank",
   "metadata": {},
   "source": [
    "<img src=\"./redshift_accessible.png\" width=\"80%\">"
   ]
  },
  {
   "cell_type": "markdown",
   "id": "based-cholesterol",
   "metadata": {},
   "source": [
    "But we also need to check the VPC security group -- which acts as our firewall.  Click on the blue link under VPC security group, and then click on `Inbound rules`.  \n",
    "> The `Inbound rules` determines who can access our redshift cluster.  \n",
    "\n",
    "If we set port `5439` to have a source of `0.0.0.0/0`, this means that our redshift cluster can be accessed from any ip address, which is fine for now. "
   ]
  },
  {
   "cell_type": "markdown",
   "id": "smaller-century",
   "metadata": {},
   "source": [
    "<img src=\"./sec_group_inbound_rules.png\" width=\"60%\">"
   ]
  },
  {
   "cell_type": "markdown",
   "id": "driving-rating",
   "metadata": {},
   "source": [
    "> If necessary, click `Edit the inbound rules` so that source is `0.0.0.0/0`."
   ]
  },
  {
   "cell_type": "markdown",
   "id": "lyric-nepal",
   "metadata": {},
   "source": [
    "### Connecting Redshift"
   ]
  },
  {
   "cell_type": "markdown",
   "id": "earlier-coverage",
   "metadata": {},
   "source": [
    "Now that our redshift cluster is setup, we can connect to it.  Before entering any information directly into DBT, it's a good idea to verify that we can connect to redshift through the command line:\n",
    "\n",
    "1. Connect through command line\n",
    "\n",
    "We can connecet to our redshift cluster through the `psql` command with something like the line below, where after `-U ` we enter the user, after `-h` we specify the redshift endpoint, and after `-p` we specify our port `5439`.\n",
    "\n",
    "`psql -U awsuser -h redshift-endpoint -p 5439`"
   ]
  },
  {
   "cell_type": "markdown",
   "id": "greek-louis",
   "metadata": {},
   "source": [
    "If we are able to access the cluster, we'll then be prompted to enter in the password.  \n",
    "\n",
    "> If you forgot the password, we can reset it through the redshift dashboard on AWS. "
   ]
  },
  {
   "cell_type": "markdown",
   "id": "wireless-temple",
   "metadata": {},
   "source": [
    "2. Connect through redshift's interface"
   ]
  },
  {
   "cell_type": "markdown",
   "id": "serious-patrick",
   "metadata": {},
   "source": [
    "And then after properly logging in, we can enter the same information in DBT's redshift interface."
   ]
  },
  {
   "cell_type": "markdown",
   "id": "promotional-boundary",
   "metadata": {},
   "source": [
    "> <img src=\"./conn_db.png\" width=\"50%\">"
   ]
  },
  {
   "cell_type": "markdown",
   "id": "compatible-crash",
   "metadata": {},
   "source": [
    "And finally, we can confirm that our connection from DBT to redshift is working by clicking the teal `Test` button at the top right."
   ]
  },
  {
   "cell_type": "markdown",
   "id": "configured-dividend",
   "metadata": {},
   "source": [
    "### Summary"
   ]
  },
  {
   "cell_type": "markdown",
   "id": "heated-fiber",
   "metadata": {},
   "source": [
    "In this lesson, we set up redshift to use as our data warehouse and connected DBT to that warehouse."
   ]
  }
 ],
 "metadata": {
  "kernelspec": {
   "display_name": "Python 3 (ipykernel)",
   "language": "python",
   "name": "python3"
  },
  "language_info": {
   "codemirror_mode": {
    "name": "ipython",
    "version": 3
   },
   "file_extension": ".py",
   "mimetype": "text/x-python",
   "name": "python",
   "nbconvert_exporter": "python",
   "pygments_lexer": "ipython3",
   "version": "3.9.7"
  }
 },
 "nbformat": 4,
 "nbformat_minor": 5
}
