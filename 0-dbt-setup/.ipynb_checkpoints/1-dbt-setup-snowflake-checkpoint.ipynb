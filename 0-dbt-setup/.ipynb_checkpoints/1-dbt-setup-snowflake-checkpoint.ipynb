{
 "cells": [
  {
   "cell_type": "markdown",
   "id": "complimentary-liechtenstein",
   "metadata": {},
   "source": [
    "# Setting up DBT with Snowflake"
   ]
  },
  {
   "cell_type": "markdown",
   "id": "promising-fourth",
   "metadata": {},
   "source": [
    "### Introduction"
   ]
  },
  {
   "cell_type": "markdown",
   "id": "alleged-experience",
   "metadata": {},
   "source": [
    "In this lesson, we'll walk through the signup process of getting started with DBT."
   ]
  },
  {
   "cell_type": "markdown",
   "id": "valuable-pickup",
   "metadata": {},
   "source": [
    "### DBT Signup"
   ]
  },
  {
   "cell_type": "markdown",
   "id": "traditional-comment",
   "metadata": {},
   "source": [
    "The first step is to go to [cloud.getdbt.com/login/](https://cloud.getdbt.com/login)."
   ]
  },
  {
   "cell_type": "markdown",
   "id": "mental-roots",
   "metadata": {},
   "source": [
    "> <img src=\"./dbt_signup.png\" width=\"60%\">"
   ]
  },
  {
   "cell_type": "markdown",
   "id": "official-error",
   "metadata": {},
   "source": [
    "Then click on the `Create a free company account` button to the left."
   ]
  },
  {
   "cell_type": "markdown",
   "id": "seventh-driver",
   "metadata": {},
   "source": [
    "From there, fill in your name email address and password."
   ]
  },
  {
   "cell_type": "markdown",
   "id": "colored-hydrogen",
   "metadata": {},
   "source": [
    "> <img src=\"./account_create.png\" width=\"40%\">"
   ]
  },
  {
   "cell_type": "markdown",
   "id": "extensive-wings",
   "metadata": {},
   "source": [
    "Then go back to your email to verify your account."
   ]
  },
  {
   "cell_type": "markdown",
   "id": "growing-article",
   "metadata": {},
   "source": [
    "> <img src=\"./verify_email.png\" width=\"40%\">"
   ]
  },
  {
   "cell_type": "markdown",
   "id": "controlling-prisoner",
   "metadata": {},
   "source": [
    "And then click on the button in the email and signin with your username and password."
   ]
  },
  {
   "cell_type": "markdown",
   "id": "incoming-independence",
   "metadata": {},
   "source": [
    "> <img src=\"./signin.png\" width=\"30%\">"
   ]
  },
  {
   "cell_type": "markdown",
   "id": "widespread-bedroom",
   "metadata": {},
   "source": [
    "### Creating a project"
   ]
  },
  {
   "cell_type": "markdown",
   "id": "atmospheric-jason",
   "metadata": {},
   "source": [
    "Now upon logging in, we should now be prompted to setup our project -- which by default is called \"Analytics\".  If possible, change the name of the project to \"Northwinds\"."
   ]
  },
  {
   "cell_type": "markdown",
   "id": "promising-vocabulary",
   "metadata": {},
   "source": [
    "> <img src=\"./continue_analytics.png\" width=\"60%\">"
   ]
  },
  {
   "cell_type": "markdown",
   "id": "actual-growing",
   "metadata": {},
   "source": [
    "### Setting up Snowflake"
   ]
  },
  {
   "cell_type": "markdown",
   "id": "advanced-founder",
   "metadata": {},
   "source": [
    "Ok, so from here we need to specify the technology for our data dashboard.  We'll choose snowflake."
   ]
  },
  {
   "cell_type": "markdown",
   "id": "demographic-calculation",
   "metadata": {},
   "source": [
    "> <img src=\"./snowflake_connect.png\" width=\"60%\">"
   ]
  },
  {
   "cell_type": "markdown",
   "id": "forward-professional",
   "metadata": {},
   "source": [
    "We'll then need to add the credentials to allow dbt to connect to our snowflake account.  The first step is to specify our snowflake account information."
   ]
  },
  {
   "cell_type": "markdown",
   "id": "manual-canada",
   "metadata": {},
   "source": [
    "> <img src=\"./snowflake-connect-dbt.png\" width=\"60%\">"
   ]
  },
  {
   "cell_type": "markdown",
   "id": "c7c0f72f-0988-4465-b225-2b9084403455",
   "metadata": {},
   "source": [
    "So above, we get the account name from the url where our snowflake instance is located.  Everything up until, but not including, the `.snowflakecomputing.com` is the account name.  So we can see that above, we entered `zo50478.us-east-2.aws` as the account name."
   ]
  },
  {
   "cell_type": "markdown",
   "id": "806e550a-f1c5-4410-a4cd-5ee1cfcb3102",
   "metadata": {},
   "source": [
    "> <img src=\"./account_name.png\" width=\"80%\">"
   ]
  },
  {
   "cell_type": "markdown",
   "id": "16b72504-2673-4052-b171-7b34fb8c57c7",
   "metadata": {},
   "source": [
    "In the form above, for the database, we specified the database where our data is located.  And for the warehouse we specify the name of the virtual warehouse that we would like to use."
   ]
  },
  {
   "cell_type": "markdown",
   "id": "190b251b-d9a6-4759-bf59-c62c6c5b4eec",
   "metadata": {},
   "source": [
    "Then, in the next section, we enter our development credentials."
   ]
  },
  {
   "cell_type": "markdown",
   "id": "71ef09bd-e3e1-466d-994b-5fb452916cd9",
   "metadata": {},
   "source": [
    "> <img src=\"./devt-creds.png\" width=\"60%\">"
   ]
  },
  {
   "cell_type": "markdown",
   "id": "34177bf5-f56b-449f-96ee-5e726bf402bf",
   "metadata": {},
   "source": [
    "For this section, we mainly need to specify the username and password that we use when logging into snowflake.  \n",
    "\n",
    "> If you forget your password for snowflake, you can reset your password by clicking on your account name in the top right of snowflake after you are logged in."
   ]
  },
  {
   "cell_type": "markdown",
   "id": "6e124a86-3a79-4dd7-98cd-99df081c2c4f",
   "metadata": {},
   "source": [
    "As for the schema, this is the schema that DBT will create, and place any new views that you ultimately create using DBT.  As stated in the form, the schema should be unique to your personal development environment."
   ]
  },
  {
   "cell_type": "markdown",
   "id": "compatible-crash",
   "metadata": {},
   "source": [
    "Then, we can confirm that our connection from DBT to snowflake is working by clicking the teal `Test` button at the top right.  If you see that the test worked properly, then click Continue at the top of the screen."
   ]
  },
  {
   "cell_type": "markdown",
   "id": "3908b021-591d-4067-a842-9735ed12d98e",
   "metadata": {},
   "source": [
    "> <img src=\"./test-worked.png\" width=\"60%\">"
   ]
  },
  {
   "cell_type": "markdown",
   "id": "configured-dividend",
   "metadata": {},
   "source": [
    "### Summary"
   ]
  },
  {
   "cell_type": "markdown",
   "id": "heated-fiber",
   "metadata": {},
   "source": [
    "In this lesson, we saw how we can connect dbt to our snowflake data warehouse."
   ]
  },
  {
   "cell_type": "markdown",
   "id": "323904cb-58b0-408c-9c92-9a977a1a680f",
   "metadata": {},
   "source": [
    "### Resources\n",
    "\n",
    "[Hashpath Analytics Stack](https://www.hashpath.com/2020/11/build-a-modern-data-analytics-stack-from-scratch-in-under-an-hour/)"
   ]
  }
 ],
 "metadata": {
  "kernelspec": {
   "display_name": "Python 3 (ipykernel)",
   "language": "python",
   "name": "python3"
  },
  "language_info": {
   "codemirror_mode": {
    "name": "ipython",
    "version": 3
   },
   "file_extension": ".py",
   "mimetype": "text/x-python",
   "name": "python",
   "nbconvert_exporter": "python",
   "pygments_lexer": "ipython3",
   "version": "3.9.7"
  }
 },
 "nbformat": 4,
 "nbformat_minor": 5
}
