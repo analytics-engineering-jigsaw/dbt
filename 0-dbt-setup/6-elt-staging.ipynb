{
 "cells": [
  {
   "cell_type": "markdown",
   "id": "impressed-indian",
   "metadata": {},
   "source": [
    "# ELT Staging Tables"
   ]
  },
  {
   "cell_type": "markdown",
   "id": "breathing-payday",
   "metadata": {},
   "source": [
    "### Introduction"
   ]
  },
  {
   "cell_type": "markdown",
   "id": "universal-texas",
   "metadata": {},
   "source": [
    "<img src=\"./dbt_eco_1.jpg\" width=\"60%\">"
   ]
  },
  {
   "cell_type": "markdown",
   "id": "difficult-shipping",
   "metadata": {},
   "source": [
    "[Talk about going from OLTP to OLAP](https://github.com/jigsawlabs-student/oltp_to_olap/blob/main/5-olap.ipynb)"
   ]
  },
  {
   "cell_type": "markdown",
   "id": "turned-check",
   "metadata": {},
   "source": [
    "### Resources"
   ]
  },
  {
   "cell_type": "markdown",
   "id": "infectious-accused",
   "metadata": {},
   "source": [
    "[OLAP](https://github.com/jigsawlabs-student/oltp_to_olap/blob/main/5-olap.ipynb)"
   ]
  },
  {
   "cell_type": "code",
   "execution_count": null,
   "id": "latest-membrane",
   "metadata": {},
   "outputs": [],
   "source": []
  }
 ],
 "metadata": {
  "kernelspec": {
   "display_name": "Python 3 (ipykernel)",
   "language": "python",
   "name": "python3"
  },
  "language_info": {
   "codemirror_mode": {
    "name": "ipython",
    "version": 3
   },
   "file_extension": ".py",
   "mimetype": "text/x-python",
   "name": "python",
   "nbconvert_exporter": "python",
   "pygments_lexer": "ipython3",
   "version": "3.9.12"
  }
 },
 "nbformat": 4,
 "nbformat_minor": 5
}
