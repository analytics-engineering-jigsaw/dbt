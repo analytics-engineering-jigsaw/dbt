{
 "cells": [
  {
   "cell_type": "markdown",
   "id": "desperate-clause",
   "metadata": {},
   "source": [
    "# The DBT Workflow"
   ]
  },
  {
   "cell_type": "markdown",
   "id": "hydraulic-cleveland",
   "metadata": {},
   "source": [
    "### Introduction"
   ]
  },
  {
   "cell_type": "markdown",
   "id": "digital-rough",
   "metadata": {},
   "source": [
    "Now that we have gotten our DBT account connected to our data warehouse and our github repository, it's time to see how we can use DBT with our data warehouse.  Now remember, that there are a few main benefits of using DBT:\n",
    "\n",
    "\n",
    "1. It provides an opinionated workflow for writing our queries\n",
    "2. It provides opinionated *file structure* for organizing our SQL queries\n",
    "1. It allows to quickly turn SQL SELECT statements into new SQL tables populated with that selected data\n",
    "\n",
    "\n",
    "In this lesson, we'll focus on the two benefits: we'll see how DBT can allow us to quickly create and populate new tables, and we'll see how it enforces a proper development workflow."
   ]
  },
  {
   "cell_type": "markdown",
   "id": "appreciated-restoration",
   "metadata": {},
   "source": [
    "### Moving to DBT"
   ]
  },
  {
   "cell_type": "markdown",
   "id": "9ef37900-2950-4a23-b04e-ba467620ad30",
   "metadata": {},
   "source": [
    "Now as we know, we can always directly query our Northwinds database in *Snowflake*.  And in snowflake this looks something like the following:"
   ]
  },
  {
   "cell_type": "markdown",
   "id": "e603b42c-5cde-48a2-bd17-5cd40fb65457",
   "metadata": {},
   "source": [
    "> <img src=\"./snowflake-query.png\" width=\"100%\">"
   ]
  },
  {
   "cell_type": "markdown",
   "id": "deadly-voltage",
   "metadata": {},
   "source": [
    "Ok, now let's try to run this same query from DBT.  First, remember that we should have already connected DBT to our snowflake database.  In fact, let's see this.  Once your logged into DBT, click on the sidebar, and then click on Account Settings. "
   ]
  },
  {
   "cell_type": "markdown",
   "id": "specialized-operation",
   "metadata": {},
   "source": [
    "> <img src=\"./account_settings.png\" width=\"30%\">"
   ]
  },
  {
   "cell_type": "markdown",
   "id": "instructional-cutting",
   "metadata": {},
   "source": [
    "We can then see the connection to snowflake from our northwinds project."
   ]
  },
  {
   "cell_type": "markdown",
   "id": "democratic-grain",
   "metadata": {},
   "source": [
    "> <img src=\"./dbt-snowflake.png\" width=\"100%\">"
   ]
  },
  {
   "cell_type": "markdown",
   "id": "average-storage",
   "metadata": {},
   "source": [
    "So click on `Connection: Snowflake`, and we can see the details of that connection.  "
   ]
  },
  {
   "cell_type": "markdown",
   "id": "devoted-consultancy",
   "metadata": {},
   "source": [
    "> <img src=\"./snowflake-dbt-conn.png\" width=\"80%\">"
   ]
  },
  {
   "cell_type": "markdown",
   "id": "hollow-texas",
   "metadata": {},
   "source": [
    "### DBT with Git"
   ]
  },
  {
   "cell_type": "markdown",
   "id": "psychological-chain",
   "metadata": {},
   "source": [
    "Ok, so now it's about time to query our from DBT.  So click on the `Northwinds` dropdown at the top, followed by the `Northwinds` tab in the dropdown."
   ]
  },
  {
   "cell_type": "markdown",
   "id": "disabled-hundred",
   "metadata": {},
   "source": [
    "> <img src=\"./northwinds-tab.png\" width=\"60%\">"
   ]
  },
  {
   "cell_type": "markdown",
   "id": "meaningful-davis",
   "metadata": {},
   "source": [
    "And from there return to the codebase by clicking on the green `Start Developing` button.  \n",
    "\n",
    "Now, when we return to the codebase, we start off on the master branch in git.  But DBT *will not allow us* to make any changes or add new code directly on the master branch.  \n",
    "\n",
    "> <img src=\"./northwinds-new-branch.png\" width=\"60%\">"
   ]
  },
  {
   "cell_type": "markdown",
   "id": "aging-creek",
   "metadata": {},
   "source": [
    "We can see that by looking underneath the green button.  It tells us the current branch is master, and specifies that this branch is read only, `branch: master (read-only)`."
   ]
  },
  {
   "cell_type": "markdown",
   "id": "hollow-prairie",
   "metadata": {},
   "source": [
    "> **Thanks DBT!** Here, DBT is enforcing a proper a proper git workflow.  Developers should never make changes directly on master, because that code will affect the codebase that the rest of the team is working on.  If we made a mistake or broke some tests and it made it to master, the rest of the development team would suffer.  So instead the workflow is to (1) create a new branch (2) make changes on that branch and then (3) eventually merge that code onto master by opening a pull request."
   ]
  },
  {
   "cell_type": "markdown",
   "id": "dependent-tuesday",
   "metadata": {},
   "source": [
    "So instead, we need to first click on the `Create a new branch` button.  And then, we can name the branch something related to the work we are about to complete."
   ]
  },
  {
   "cell_type": "markdown",
   "id": "every-framework",
   "metadata": {},
   "source": [
    "> <img src=\"./dim_customers_model.png\" width=\"60%\"> "
   ]
  },
  {
   "cell_type": "markdown",
   "id": "opposite-nicaragua",
   "metadata": {},
   "source": [
    "Once we click submit, DBT will automatically create the `build_dim_customers_model` branch, and also checkout that branch for us.   Notice that now the green button has changed to `open pull request`, and that underneath it tells us our current branch `branch: build_dim_customers_model`."
   ]
  },
  {
   "cell_type": "markdown",
   "id": "spatial-precipitation",
   "metadata": {},
   "source": [
    "> <img src=\"./resulting_branch.png\" width=\"60%\">"
   ]
  },
  {
   "cell_type": "markdown",
   "id": "earned-sequence",
   "metadata": {},
   "source": [
    "### Performing the query"
   ]
  },
  {
   "cell_type": "markdown",
   "id": "desperate-looking",
   "metadata": {},
   "source": [
    "And from once we have created this new branch, from there we just need to create a new folder called `models` (not in the `example` folder), and then under that folder a file called `dim_customers.sql`.  Once this new file is created, we can write the following query."
   ]
  },
  {
   "cell_type": "markdown",
   "id": "reported-sarah",
   "metadata": {},
   "source": [
    "> <img src=\"./select-preview.png\" width=\"80%\">"
   ]
  },
  {
   "cell_type": "markdown",
   "id": "ec40839c-cf92-4481-a658-d994922cdc38",
   "metadata": {},
   "source": [
    "Notice that if our table is under a schema, then we need to specify that schema as a prefix."
   ]
  },
  {
   "cell_type": "markdown",
   "id": "wireless-treasure",
   "metadata": {},
   "source": [
    "```sql\n",
    "SELECT contact_name, address, phone FROM postgres_northwinds_rds_public.customers\n",
    "```"
   ]
  },
  {
   "cell_type": "markdown",
   "id": "animal-nicaragua",
   "metadata": {},
   "source": [
    "> Notice that there is no semi-colon at the end of our SQL statement. DBT will add that for us.  "
   ]
  },
  {
   "cell_type": "markdown",
   "id": "independent-display",
   "metadata": {},
   "source": [
    "And from there, we can can query the database by clicking on the `preview` button towards the bottom."
   ]
  },
  {
   "cell_type": "markdown",
   "id": "statutory-conclusion",
   "metadata": {},
   "source": [
    "### Creating a new table"
   ]
  },
  {
   "cell_type": "markdown",
   "id": "divine-burton",
   "metadata": {},
   "source": [
    "Ok, now currently DBT just queried our data displayed to us the results.  But remember, that one purpose of DBT is to turn those results into a newly populated table.  If you look at the *very* bottom of the screen you'll see a field for `Runs`.  \n",
    "\n",
    "> This is essentially the equivalent of entering a command into the terminal.\n",
    "\n",
    "Then if we call the `dbt run` command, we'll see that the result of our query will also create and insert data into a new table."
   ]
  },
  {
   "cell_type": "markdown",
   "id": "automotive-institution",
   "metadata": {},
   "source": [
    ">  <img src=\"./runs.png\" width=\"100%\">"
   ]
  },
  {
   "cell_type": "markdown",
   "id": "textile-staff",
   "metadata": {},
   "source": [
    "```bash\n",
    "dbt run --models dim_customers\n",
    "```"
   ]
  },
  {
   "cell_type": "markdown",
   "id": "alternate-canvas",
   "metadata": {},
   "source": [
    "> Above we specify to only run the code in `models/dim_customers.sql`, and to not run *all* of the code in our codebase. "
   ]
  },
  {
   "cell_type": "markdown",
   "id": "focal-mileage",
   "metadata": {},
   "source": [
    "And then from there, will be taken to the Runs dashboard."
   ]
  },
  {
   "cell_type": "markdown",
   "id": "structural-gossip",
   "metadata": {},
   "source": [
    "> <img src=\"./run_customers.png\" width=\"100%\">"
   ]
  },
  {
   "cell_type": "markdown",
   "id": "developed-coordinate",
   "metadata": {},
   "source": [
    "Now just from our `SELECT` statement, DBT supposedly created and inserted in some data.  We can see this if we click on `dim_customers`, and then move the green radio button from `Summary` over to `Details`."
   ]
  },
  {
   "cell_type": "markdown",
   "id": "quick-australia",
   "metadata": {},
   "source": [
    "> <img src=\"./customers_details.png\" width=\"100%\">"
   ]
  },
  {
   "cell_type": "markdown",
   "id": "close-louis",
   "metadata": {},
   "source": [
    "So here, we can see that DBT turned our `SELECT` statement into some SQL that creates a new table `dev.dbt_jigsawlabsstudent.dim_customers_dbt_tmp`, and inserts in the data selected from our query.  \n",
    "\n",
    "> Unpacking the name of our table, `FIVETRAN_DATABASE` is the name of the database, `dbt_jigsawlabsstudent` is the newly created schema, and `dim_customers` is the name of the newly created table -- generated from the file name of our model, `dim_customers.sql`. "
   ]
  },
  {
   "cell_type": "markdown",
   "id": "packed-norman",
   "metadata": {},
   "source": [
    "### Returning to Snowflake"
   ]
  },
  {
   "cell_type": "markdown",
   "id": "acknowledged-omega",
   "metadata": {},
   "source": [
    "So at this point we've used DBT to quickly create a new table.  Let's also confirm that it has in fact changed our data warehouse by returning to snowflake.  If we return to the query editor in snowflake, we can see that we have a new schema, `dbt_jigsawlabsstudent` (yours will be different)."
   ]
  },
  {
   "cell_type": "markdown",
   "id": "unlimited-steal",
   "metadata": {},
   "source": [
    "And then if we take a look at the tables in that schema, we can see that there is a new table in that schema."
   ]
  },
  {
   "cell_type": "markdown",
   "id": "fab579e0-2715-4a26-99ad-0b1c97b170e0",
   "metadata": {},
   "source": [
    "> <img src=\"./dim_customers_schema.png\" width=\"30%\">"
   ]
  },
  {
   "cell_type": "markdown",
   "id": "c7eb0606-b28f-47f4-ad92-dab394c8fbfe",
   "metadata": {},
   "source": [
    "> If we want, we can view some of that data from snowflake."
   ]
  },
  {
   "cell_type": "markdown",
   "id": "f842336a-9ce7-4a17-91ab-320940f366a5",
   "metadata": {},
   "source": [
    "> <img src=\"./snowflake_view.png\" width=\"80%\">"
   ]
  },
  {
   "cell_type": "markdown",
   "id": "conceptual-waterproof",
   "metadata": {},
   "source": [
    "### Updating the codebase"
   ]
  },
  {
   "cell_type": "markdown",
   "id": "lovely-organizer",
   "metadata": {},
   "source": [
    "Alright, so now that we've confirmed that our snowflake database was updated properly with our DBT code, the next step is to commit our changes to the codebase, and perhaps merge our changes to master.\n",
    "\n",
    "So click on the green commit button."
   ]
  },
  {
   "cell_type": "markdown",
   "id": "bridal-toronto",
   "metadata": {},
   "source": [
    "> <img src=\"./dim_customers_commit.png\" width=\"80%\">"
   ]
  },
  {
   "cell_type": "markdown",
   "id": "detected-analysis",
   "metadata": {},
   "source": [
    "And add a commit message like `added dim_customers model`."
   ]
  },
  {
   "cell_type": "markdown",
   "id": "intense-liabilities",
   "metadata": {},
   "source": [
    "> <img src=\"./dim_customers_model_commit.png\" width=\"80%\">"
   ]
  },
  {
   "cell_type": "markdown",
   "id": "consecutive-friendship",
   "metadata": {},
   "source": [
    "Then, click on `open pull request`."
   ]
  },
  {
   "cell_type": "markdown",
   "id": "healthy-upset",
   "metadata": {},
   "source": [
    "<img src=\"./pull_request.png\" width=\"80%\"> "
   ]
  },
  {
   "cell_type": "markdown",
   "id": "electric-earthquake",
   "metadata": {},
   "source": [
    "<img src=\"./create_pull_request.png\" width=\"80%\">"
   ]
  },
  {
   "cell_type": "markdown",
   "id": "reflected-frederick",
   "metadata": {},
   "source": [
    "Then click create pull request, and add a commit message, then click on `Confirm merge`."
   ]
  },
  {
   "cell_type": "markdown",
   "id": "numeric-demographic",
   "metadata": {},
   "source": [
    "<img src=\"./pull_commit.png\" width=\"60%\">"
   ]
  },
  {
   "cell_type": "markdown",
   "id": "biological-senior",
   "metadata": {},
   "source": [
    "Finally, click on `Merge pull request` to merge our updated code with the master branch."
   ]
  },
  {
   "cell_type": "markdown",
   "id": "aware-efficiency",
   "metadata": {},
   "source": [
    "<img src=\"./merge-request.png\" width=\"60%\">"
   ]
  },
  {
   "cell_type": "markdown",
   "id": "precise-uganda",
   "metadata": {},
   "source": [
    "If we go to the master branch, we will find our `models/dim_customers.sql` file with the code from DBT."
   ]
  },
  {
   "cell_type": "markdown",
   "id": "closed-disney",
   "metadata": {},
   "source": [
    "<img src=\"./customers_model.png\" width=\"60%\">"
   ]
  },
  {
   "cell_type": "markdown",
   "id": "specified-merchant",
   "metadata": {},
   "source": [
    "And our work is complete :)"
   ]
  },
  {
   "cell_type": "markdown",
   "id": "alert-brooklyn",
   "metadata": {},
   "source": [
    "### Summary"
   ]
  },
  {
   "cell_type": "markdown",
   "id": "solid-retrieval",
   "metadata": {},
   "source": [
    "In this lesson, we saw the workflow of DBT.  DBT connects to both our data warehouse and to our Github accounts.  Once these two components are connected, we then use DBT to turn our SELECT query into a table in our data warehouse.  We performed this by first performing the query to see what it selected, and then creating a new table in our data warehouse with the command:\n",
    "\n",
    "`dbt run --models dim_customers`\n",
    "\n",
    "We and we confirmed the change was made by querying snowflake directly.\n",
    "\n",
    "Now at this point, we still have not added our changes to the DBT codebase on the DBT master branch.  So to do this, we used DBT to create a new commit first on our branch, and then merged those changes onto master."
   ]
  }
 ],
 "metadata": {
  "kernelspec": {
   "display_name": "Python 3 (ipykernel)",
   "language": "python",
   "name": "python3"
  },
  "language_info": {
   "codemirror_mode": {
    "name": "ipython",
    "version": 3
   },
   "file_extension": ".py",
   "mimetype": "text/x-python",
   "name": "python",
   "nbconvert_exporter": "python",
   "pygments_lexer": "ipython3",
   "version": "3.9.7"
  }
 },
 "nbformat": 4,
 "nbformat_minor": 5
}
