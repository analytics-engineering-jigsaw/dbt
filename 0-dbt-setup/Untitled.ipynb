{
 "cells": [
  {
   "cell_type": "code",
   "execution_count": 28,
   "id": "knowing-amount",
   "metadata": {},
   "outputs": [],
   "source": [
    "idxs = [0, 3]\n",
    "\n",
    "secret_word = 'purple'\n",
    "\n",
    "current_board = '......'"
   ]
  },
  {
   "cell_type": "code",
   "execution_count": 24,
   "id": "lovely-controversy",
   "metadata": {},
   "outputs": [],
   "source": [
    "letter = 'p'"
   ]
  },
  {
   "cell_type": "code",
   "execution_count": 25,
   "id": "organized-plant",
   "metadata": {},
   "outputs": [],
   "source": [
    "locations = [0, 3] "
   ]
  },
  {
   "cell_type": "code",
   "execution_count": 26,
   "id": "unique-tracker",
   "metadata": {},
   "outputs": [
    {
     "name": "stdout",
     "output_type": "stream",
     "text": [
      "p.....\n",
      "p..p..\n"
     ]
    }
   ],
   "source": [
    "for idx in locations: \n",
    "    current_board = current_board[:idx] +  secret_word[idx] + current_board[idx + 1:]\n",
    "    print(current_board)"
   ]
  },
  {
   "cell_type": "code",
   "execution_count": 15,
   "id": "worse-purple",
   "metadata": {},
   "outputs": [
    {
     "data": {
      "text/plain": [
       "'.u....'"
      ]
     },
     "execution_count": 15,
     "metadata": {},
     "output_type": "execute_result"
    }
   ],
   "source": [
    "current_board"
   ]
  },
  {
   "cell_type": "code",
   "execution_count": 32,
   "id": "shared-commercial",
   "metadata": {},
   "outputs": [
    {
     "data": {
      "text/plain": [
       "'...p..'"
      ]
     },
     "execution_count": 32,
     "metadata": {},
     "output_type": "execute_result"
    }
   ],
   "source": [
    "current_board[:3] + secret_word[3] + current_board[idx + 1:]"
   ]
  },
  {
   "cell_type": "code",
   "execution_count": null,
   "id": "later-seventh",
   "metadata": {},
   "outputs": [],
   "source": []
  }
 ],
 "metadata": {
  "kernelspec": {
   "display_name": "Python 3",
   "language": "python",
   "name": "python3"
  },
  "language_info": {
   "codemirror_mode": {
    "name": "ipython",
    "version": 3
   },
   "file_extension": ".py",
   "mimetype": "text/x-python",
   "name": "python",
   "nbconvert_exporter": "python",
   "pygments_lexer": "ipython3",
   "version": "3.8.6"
  }
 },
 "nbformat": 4,
 "nbformat_minor": 5
}
