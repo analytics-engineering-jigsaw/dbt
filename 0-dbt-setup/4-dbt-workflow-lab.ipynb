{
 "cells": [
  {
   "cell_type": "markdown",
   "id": "yellow-ceiling",
   "metadata": {},
   "source": [
    "# DBT Workflow Lab"
   ]
  },
  {
   "cell_type": "markdown",
   "id": "suburban-converter",
   "metadata": {},
   "source": [
    "### Introduction"
   ]
  },
  {
   "cell_type": "markdown",
   "id": "harmful-eagle",
   "metadata": {},
   "source": [
    "In this lesson, we'll practice working through the DBT workflow.  And we'll use DBT to connect to both our snowflake and github accounts, and create a new table in our data warehouse, and then update our master branch on Github to reflect the changes in our DBT codebase.  Let's get started."
   ]
  },
  {
   "cell_type": "markdown",
   "id": "emerging-implementation",
   "metadata": {},
   "source": [
    "### Working with our Snowflake Data"
   ]
  },
  {
   "cell_type": "markdown",
   "id": "legitimate-rubber",
   "metadata": {},
   "source": [
    "Let's start by logging into snowflake and connecting to our database where the northwinds data is loaded."
   ]
  },
  {
   "cell_type": "markdown",
   "id": "b7057ca2-c5a8-4126-bf1d-d4f6933f2280",
   "metadata": {},
   "source": [
    "Perform a query directly in snowflake."
   ]
  },
  {
   "cell_type": "markdown",
   "id": "7d94e2aa-4ff0-4007-b19b-31bb5cd9dc46",
   "metadata": {},
   "source": [
    "> <img src=\"./suppliers_snowflake.png\" width=\"90%\">"
   ]
  },
  {
   "cell_type": "markdown",
   "id": "concerned-characteristic",
   "metadata": {},
   "source": [
    "### Setting up DBT"
   ]
  },
  {
   "cell_type": "markdown",
   "id": "trying-import",
   "metadata": {},
   "source": [
    "Ok, now it's time to perform our snowflake queries from DBT.  Remember, that in our ELT process, we use DBT to perform simply the `T` component.  The data is already loaded into our data warehouse, and from there we'll select and clean our loaded data.  "
   ]
  },
  {
   "cell_type": "markdown",
   "id": "6a332912-d905-479a-bd34-14d54e770406",
   "metadata": {},
   "source": [
    "> If you are not currently on the master branch, change over to the master branch by clicking on `checkout branch` and then selecting `master`."
   ]
  },
  {
   "cell_type": "markdown",
   "id": "2903cada-0a2f-486b-89d1-3fdf3219fe56",
   "metadata": {},
   "source": [
    "> <img src=\"./checkout-branch.png\" width=\"90%\">"
   ]
  },
  {
   "cell_type": "markdown",
   "id": "5816a195-f068-42f0-a918-a406658f6d84",
   "metadata": {},
   "source": [
    "You'll know that you are on the master branch if it says `branch: master`."
   ]
  },
  {
   "cell_type": "markdown",
   "id": "c709a4bc-e426-4f95-9bed-e902bdece789",
   "metadata": {},
   "source": [
    "> <img src=\"./master-branch.png\" width=\"70%\">"
   ]
  },
  {
   "cell_type": "markdown",
   "id": "coral-swing",
   "metadata": {},
   "source": [
    "Ok, as we know, we cannot make any changes directly on the master branch.  So begin by creating a new branch called `build_dim_suppliers_model`. \n",
    "\n",
    "And then create a new folder called `models` with a `dim_suppliers.sql` file in it.  And remove the `examples` folder.  When completed, your file structure should look something like the following."
   ]
  },
  {
   "cell_type": "markdown",
   "id": "inside-restoration",
   "metadata": {},
   "source": [
    "<img src=\"./dim_supp.png\" width=\"40%\">"
   ]
  },
  {
   "cell_type": "markdown",
   "id": "extreme-touch",
   "metadata": {},
   "source": [
    "### Querying from DBT "
   ]
  },
  {
   "cell_type": "markdown",
   "id": "fatal-condition",
   "metadata": {},
   "source": [
    "Ok, so now that we created a new branch and updated our file structure, it's time to query our data warehouse.  \n",
    "\n",
    "Before having DBT make any new tables in our data warehouse, let's take a look at some of the data we have already loaded in.  Begin by querying the `suppliers` table from DBT."
   ]
  },
  {
   "cell_type": "markdown",
   "id": "latter-friend",
   "metadata": {},
   "source": [
    "<img src=\"./suppliers-preview.png\" width=\"100%\">"
   ]
  },
  {
   "cell_type": "markdown",
   "id": "historical-feeding",
   "metadata": {},
   "source": [
    "And now let's take a look at the `Compiled SQL` tab to see what DBT executed for us. "
   ]
  },
  {
   "cell_type": "markdown",
   "id": "southern-durham",
   "metadata": {},
   "source": [
    "> <img src=\"./compiled-sql.png\" width=\"80%\">"
   ]
  },
  {
   "cell_type": "markdown",
   "id": "yellow-principle",
   "metadata": {},
   "source": [
    "So we can see that it added in the `limit 500`."
   ]
  },
  {
   "cell_type": "markdown",
   "id": "private-massage",
   "metadata": {},
   "source": [
    "Ok, now let's try to create a new table called `dim_categories`.  To do so, first use DBT to select the `supplier_id`, `company_name`, and rename   `company_name` to `name`.  \n",
    "\n",
    "Then preview the results, and you should see something like the following."
   ]
  },
  {
   "cell_type": "markdown",
   "id": "proper-calgary",
   "metadata": {},
   "source": [
    "<img src=\"./updated_supp.png\" width=\"80%\">"
   ]
  },
  {
   "cell_type": "markdown",
   "id": "7d0372ad-93f2-47ca-bc96-d6fea1f55d21",
   "metadata": {},
   "source": [
    "Make sure that you have saved the `dim_suppliers.sql` file, so that the green dot at the top of the file no longer appears."
   ]
  },
  {
   "cell_type": "markdown",
   "id": "rational-argument",
   "metadata": {},
   "source": [
    "Once you do, we are now ready to create a new `dim_suppliers` table with the `id`, and `name` columns that we see above."
   ]
  },
  {
   "cell_type": "markdown",
   "id": "missing-narrative",
   "metadata": {},
   "source": [
    "So now use the proper dbt command to create the `dim_suppliers` table.\n",
    "\n",
    "> If it works, you should see `Passed` and something like the following:"
   ]
  },
  {
   "cell_type": "markdown",
   "id": "engaging-subsection",
   "metadata": {},
   "source": [
    "> <img src=\"./dim-supply.png\" width=\"60%\">"
   ]
  },
  {
   "cell_type": "markdown",
   "id": "british-rebecca",
   "metadata": {},
   "source": [
    "Then open the tabs for the view the logs and details."
   ]
  },
  {
   "cell_type": "markdown",
   "id": "initial-animation",
   "metadata": {},
   "source": [
    "> <img src=\"./suppliers_success.png\" width=\"80%\">"
   ]
  },
  {
   "cell_type": "markdown",
   "id": "educational-persian",
   "metadata": {},
   "source": [
    "Notice under the details at the bottom it says `OK created view model dim_suppliers`.\n",
    "\n",
    "A view is a kind of table in postgres or snowflake.  Let's confirm that a new table has been created by going back to snowflake, and confirming that there is a schema beginning with `dbt_` that has the `dim_suppliers` table."
   ]
  },
  {
   "cell_type": "markdown",
   "id": "ce21ce62-9335-4a1e-a50c-aa0e5efba35c",
   "metadata": {},
   "source": [
    "> <img src=\"./snowflake-supp.png\" width=\"80%\">"
   ]
  },
  {
   "cell_type": "markdown",
   "id": "sticky-thunder",
   "metadata": {},
   "source": [
    "Ok, this looks good.  Now that the changes have been made to our database, we need to update our master branch."
   ]
  },
  {
   "cell_type": "markdown",
   "id": "likely-laser",
   "metadata": {},
   "source": [
    "### Updating the master branch"
   ]
  },
  {
   "cell_type": "markdown",
   "id": "orange-violation",
   "metadata": {},
   "source": [
    "So now to update the master branch, we'll need to:\n",
    "\n",
    "* make a commit on the current branch\n",
    "* open the pull request\n",
    "* create the pull request\n",
    "* merge the pull request to master"
   ]
  },
  {
   "cell_type": "markdown",
   "id": "constitutional-management",
   "metadata": {},
   "source": [
    "You'll know that the master branch was properly updated if you go to your repository's master branch and see the following:"
   ]
  },
  {
   "cell_type": "markdown",
   "id": "dated-reset",
   "metadata": {},
   "source": [
    "> <img src=\"./added_supp.png\" width=\"60%\">"
   ]
  },
  {
   "cell_type": "markdown",
   "id": "introductory-diameter",
   "metadata": {},
   "source": [
    "With that you have completed your first set of changes through DBT."
   ]
  },
  {
   "cell_type": "markdown",
   "id": "champion-sustainability",
   "metadata": {},
   "source": [
    "### Summary"
   ]
  },
  {
   "cell_type": "markdown",
   "id": "floral-analysis",
   "metadata": {},
   "source": [
    "Let's make sure that we have a good understanding of the DBT workflow.  We start off with a good coding workflow in general:\n",
    "\n",
    "* checkout a new branch from master\n",
    "* code on that new branch\n",
    "\n",
    "Then we get to our DBT queries:\n",
    "\n",
    "* Preview a DBT query\n",
    "* Create a new table through DBT with `dbt run --models` command\n",
    "* Go to snowflake to verify the changes are properly made\n",
    "\n",
    "Then update the master branch\n",
    "* Make a commit\n",
    "* Open the pull request on github\n",
    "* Create a pull request\n",
    "* Merge the pull request to master\n",
    "\n",
    "And then we go to the master branch to verify that our codebase on master has been updated."
   ]
  },
  {
   "cell_type": "markdown",
   "id": "surrounded-portsmouth",
   "metadata": {},
   "source": [
    "### Resources\n",
    "\n",
    "[RDS Redshift Lab](https://github.com/jigsawlabs-student/rds-to-redshift-lab/blob/main/notes/0-rds-to-redshift-solution.ipynb)\n",
    "\n",
    "[Data Warehouse Spectrum -> DBT Towards DS](https://towardsdatascience.com/a-data-warehouse-implementation-on-aws-a96d0e251abd)\n",
    "\n",
    "[Stitch -> DBT](https://www.startdataengineering.com/post/build-a-simple-data-engineering-platform/)"
   ]
  }
 ],
 "metadata": {
  "kernelspec": {
   "display_name": "Python 3 (ipykernel)",
   "language": "python",
   "name": "python3"
  },
  "language_info": {
   "codemirror_mode": {
    "name": "ipython",
    "version": 3
   },
   "file_extension": ".py",
   "mimetype": "text/x-python",
   "name": "python",
   "nbconvert_exporter": "python",
   "pygments_lexer": "ipython3",
   "version": "3.9.12"
  }
 },
 "nbformat": 4,
 "nbformat_minor": 5
}
