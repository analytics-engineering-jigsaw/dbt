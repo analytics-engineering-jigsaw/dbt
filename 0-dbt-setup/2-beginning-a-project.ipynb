{
 "cells": [
  {
   "cell_type": "markdown",
   "id": "sustainable-improvement",
   "metadata": {},
   "source": [
    "# Starting a Project"
   ]
  },
  {
   "cell_type": "markdown",
   "id": "likely-helmet",
   "metadata": {},
   "source": [
    "### Introduction"
   ]
  },
  {
   "cell_type": "markdown",
   "id": "smooth-crest",
   "metadata": {},
   "source": [
    "In the last lesson, we connected DBT to our data warehouse.  In this lesson, we'll complete our setup by connecting DBT with github, and creating a new project in DBT."
   ]
  },
  {
   "cell_type": "markdown",
   "id": "manual-elder",
   "metadata": {},
   "source": [
    "### Creating a Github Repository"
   ]
  },
  {
   "cell_type": "markdown",
   "id": "mental-proceeding",
   "metadata": {},
   "source": [
    "We start by logging into github and creating a new repository.  A good name for it is `northwinds-dbt`.  Then click on the green button towards the bottom to create the github repository."
   ]
  },
  {
   "cell_type": "markdown",
   "id": "signed-advance",
   "metadata": {},
   "source": [
    "> <img src=\"./northwinds-dbt.png\" width='60%'>"
   ]
  },
  {
   "cell_type": "markdown",
   "id": "narrow-toolbox",
   "metadata": {},
   "source": [
    "When it's created we should see the following:"
   ]
  },
  {
   "cell_type": "markdown",
   "id": "laden-float",
   "metadata": {},
   "source": [
    "> <img src=\"./dbt-project.png\" width=\"60%\">"
   ]
  },
  {
   "cell_type": "markdown",
   "id": "logical-medication",
   "metadata": {},
   "source": [
    "### Connecting DBT to Github"
   ]
  },
  {
   "cell_type": "markdown",
   "id": "dominant-gentleman",
   "metadata": {},
   "source": [
    "Now if we can navigate back to DBT, we can click on projects on the top right."
   ]
  },
  {
   "cell_type": "markdown",
   "id": "refined-operations",
   "metadata": {},
   "source": [
    "> <img src=\"./dbt-projects.png\" width=\"100%\">"
   ]
  },
  {
   "cell_type": "markdown",
   "id": "16ddd7b7-3f5a-4431-a90f-952b2303be37",
   "metadata": {},
   "source": [
    "We can see with the `northwinds` project, that the repository listed is none.  Let's click on the Northwinds project (you likely will not see the `Analytics` one).\n",
    "\n",
    "Then click on `configure a repository`."
   ]
  },
  {
   "cell_type": "markdown",
   "id": "dc0cb463-1777-48f0-ab96-708914efa8a2",
   "metadata": {},
   "source": [
    "<img src=\"./configure-repo.png\" width=\"60%\">"
   ]
  },
  {
   "cell_type": "markdown",
   "id": "violent-collaboration",
   "metadata": {},
   "source": [
    "So now it's time to connect DBT to our github repository.  Click on the button for Github."
   ]
  },
  {
   "cell_type": "markdown",
   "id": "technical-honey",
   "metadata": {},
   "source": [
    "<img src=\"./dbt_connect_github.png\" width=\"60%\">"
   ]
  },
  {
   "cell_type": "markdown",
   "id": "4055afd9-746e-4f8c-9c7c-20f7c6ababf7",
   "metadata": {},
   "source": [
    "And then click on the blue text that says the word `profile`."
   ]
  },
  {
   "cell_type": "markdown",
   "id": "hearing-giant",
   "metadata": {},
   "source": [
    "<img src=\"./click_github.png\" width=\"60%\">"
   ]
  },
  {
   "cell_type": "markdown",
   "id": "graduate-scout",
   "metadata": {},
   "source": [
    "We can see that DBT now says `No repos found`.  This is because we need to first configure `Github integration in your profile`.   Click on the teal word **profile**, and we can then connect certain Github repos."
   ]
  },
  {
   "cell_type": "markdown",
   "id": "worldwide-validation",
   "metadata": {},
   "source": [
    "> From here, we are taken to the integrations page, and click on `Configure integration on Github`."
   ]
  },
  {
   "cell_type": "markdown",
   "id": "dramatic-scale",
   "metadata": {},
   "source": [
    "> <img src=\"./configure_github.png\" width=\"60%\">"
   ]
  },
  {
   "cell_type": "markdown",
   "id": "complete-auckland",
   "metadata": {},
   "source": [
    "Then we'll be taken to Github, with a screen where we can install dbt on Select Repositories.  Type `northwinds` in the search bar to find the repo we just created above."
   ]
  },
  {
   "cell_type": "markdown",
   "id": "stunning-fruit",
   "metadata": {},
   "source": [
    "> <img src=\"./northwinds-access.png\" width=\"40%\">"
   ]
  },
  {
   "cell_type": "markdown",
   "id": "61383a22-592a-4eac-b9af-030e15b6bb14",
   "metadata": {},
   "source": [
    "And then click on the green `Save` button in Github."
   ]
  },
  {
   "cell_type": "markdown",
   "id": "incident-arcade",
   "metadata": {},
   "source": [
    "From here, we should see that DBT is integrated with your selected profile.  And then return to the `Northwinds` project by clicking on `Northwinds` at the top.  This will return you to the project screen, where you can then click on `Continue` to return to `Add Repository`."
   ]
  },
  {
   "cell_type": "markdown",
   "id": "varying-broadcasting",
   "metadata": {},
   "source": [
    "> <img src=\"./select-north.png\" width=\"60%\">"
   ]
  },
  {
   "cell_type": "markdown",
   "id": "actual-photograph",
   "metadata": {},
   "source": [
    "This time, you should see how to continue with setup, so click that button."
   ]
  },
  {
   "cell_type": "markdown",
   "id": "revised-germany",
   "metadata": {},
   "source": [
    "<img src=\"./setup.png\" width=\"60%\">"
   ]
  },
  {
   "cell_type": "markdown",
   "id": "7a44acd0-cf59-48bb-95c2-7fb1233bb212",
   "metadata": {},
   "source": [
    "> **Note:** If you do not see it, you can also change the url from `/dashboard` to `/setup`."
   ]
  },
  {
   "cell_type": "markdown",
   "id": "5405176d-6676-4390-ab18-3b3b421c675c",
   "metadata": {},
   "source": [
    "> <img src=\"./slash-setup.png\" width=\"60%\">"
   ]
  },
  {
   "cell_type": "markdown",
   "id": "burning-police",
   "metadata": {},
   "source": [
    "So select that project and wait until the project turns teal, and you see that the project was imported. From there, click on the `Continue` button at the top of the screen."
   ]
  },
  {
   "cell_type": "markdown",
   "id": "dfb1870f-8771-43c6-8efc-47055419a780",
   "metadata": {},
   "source": [
    "> <img src=\"./add-repo-cont.png\" width=\"60%\">"
   ]
  },
  {
   "cell_type": "markdown",
   "id": "e72d91b9-8e1e-406e-8751-22a7825c7c4b",
   "metadata": {},
   "source": [
    "And then click github followed by northwinds dbt."
   ]
  },
  {
   "cell_type": "markdown",
   "id": "cheap-spelling",
   "metadata": {},
   "source": [
    "> <img src=\"./github-ndbt.png\" width=\"60%\">"
   ]
  },
  {
   "cell_type": "markdown",
   "id": "e12ff4af-f9d0-4751-a2f3-d44b2615dd79",
   "metadata": {},
   "source": [
    "Click northwinds-dbt, and then click `Continue`."
   ]
  },
  {
   "cell_type": "markdown",
   "id": "numerous-flavor",
   "metadata": {},
   "source": [
    "Finally click on `Start Developing`."
   ]
  },
  {
   "cell_type": "markdown",
   "id": "prime-regard",
   "metadata": {},
   "source": [
    "> <img src=\"./start_developing.png\" width=\"60%\">"
   ]
  },
  {
   "cell_type": "markdown",
   "id": "unnecessary-sleep",
   "metadata": {},
   "source": [
    "Then click on `Initialize Project`."
   ]
  },
  {
   "cell_type": "markdown",
   "id": "terminal-layout",
   "metadata": {},
   "source": [
    "<img src=\"./init_project.png\" width=\"60%\">"
   ]
  },
  {
   "cell_type": "markdown",
   "id": "advised-registration",
   "metadata": {},
   "source": [
    "And now if we can see the `initialize your project` button now says `commit`, and if we click on that, we can create a new commit, and see the initialized project connected to github."
   ]
  },
  {
   "cell_type": "markdown",
   "id": "important-replacement",
   "metadata": {},
   "source": [
    "<img src=\"./init_commit.png\" width=\"60%\">"
   ]
  },
  {
   "cell_type": "markdown",
   "id": "explicit-miracle",
   "metadata": {},
   "source": [
    "So after clicking on the `Commit` button, refresh the github repo, and we should see the initial file structure that dbt created for us updated in our Github repo. "
   ]
  },
  {
   "cell_type": "markdown",
   "id": "mineral-trouble",
   "metadata": {},
   "source": [
    "<img src=\"./github-proj.png\" width=\"60%\">"
   ]
  },
  {
   "cell_type": "markdown",
   "id": "pressing-feeding",
   "metadata": {
    "tags": []
   },
   "source": [
    "### Summary"
   ]
  },
  {
   "cell_type": "markdown",
   "id": "convenient-shelter",
   "metadata": {},
   "source": [
    "In this lesson, we completed our setup of a DBT project.  We did so by creating a new Github repository and connecting DBT to that repository."
   ]
  }
 ],
 "metadata": {
  "kernelspec": {
   "display_name": "Python 3.10.6 64-bit",
   "language": "python",
   "name": "python3"
  },
  "language_info": {
   "codemirror_mode": {
    "name": "ipython",
    "version": 3
   },
   "file_extension": ".py",
   "mimetype": "text/x-python",
   "name": "python",
   "nbconvert_exporter": "python",
   "pygments_lexer": "ipython3",
   "version": "3.10.6"
  },
  "vscode": {
   "interpreter": {
    "hash": "b0fa6594d8f4cbf19f97940f81e996739fb7646882a419484c72d19e05852a7e"
   }
  }
 },
 "nbformat": 4,
 "nbformat_minor": 5
}
