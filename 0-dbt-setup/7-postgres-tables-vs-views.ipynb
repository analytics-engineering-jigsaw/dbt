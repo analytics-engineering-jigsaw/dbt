{
 "cells": [
  {
   "cell_type": "markdown",
   "id": "metallic-flight",
   "metadata": {},
   "source": [
    "# Postgres Tables vs Views"
   ]
  },
  {
   "cell_type": "markdown",
   "id": "mounted-works",
   "metadata": {},
   "source": [
    "One feature of postgres is the ability to create views."
   ]
  },
  {
   "cell_type": "markdown",
   "id": "arctic-bride",
   "metadata": {},
   "source": [
    "<img src=\"./create_view.png\" width=\"60%\">"
   ]
  },
  {
   "cell_type": "code",
   "execution_count": null,
   "id": "herbal-language",
   "metadata": {},
   "outputs": [],
   "source": []
  },
  {
   "cell_type": "markdown",
   "id": "invalid-photograph",
   "metadata": {},
   "source": [
    "### Resources\n",
    "\n",
    "[Materialized Views](https://www.postgresqltutorial.com/postgresql-materialized-views/)\n",
    "\n",
    "[Postgres Views](https://www.postgresqltutorial.com/managing-postgresql-views/)"
   ]
  }
 ],
 "metadata": {
  "kernelspec": {
   "display_name": "Python 3",
   "language": "python",
   "name": "python3"
  },
  "language_info": {
   "codemirror_mode": {
    "name": "ipython",
    "version": 3
   },
   "file_extension": ".py",
   "mimetype": "text/x-python",
   "name": "python",
   "nbconvert_exporter": "python",
   "pygments_lexer": "ipython3",
   "version": "3.8.6"
  }
 },
 "nbformat": 4,
 "nbformat_minor": 5
}
