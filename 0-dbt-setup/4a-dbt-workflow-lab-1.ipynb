{
 "cells": [
  {
   "cell_type": "markdown",
   "id": "yellow-ceiling",
   "metadata": {},
   "source": [
    "# DBT Workflow Lab"
   ]
  },
  {
   "cell_type": "markdown",
   "id": "suburban-converter",
   "metadata": {},
   "source": [
    "### Introduction"
   ]
  },
  {
   "cell_type": "markdown",
   "id": "harmful-eagle",
   "metadata": {},
   "source": [
    "In this lesson, we'll practice working through the DBT workflow.  And we'll use DBT with both our database and our github repository.\n",
    "\n",
    "We'll create a new view in our database, and then update our main branch on Github to reflect the changes in our DBT codebase.  Let's get started."
   ]
  },
  {
   "cell_type": "markdown",
   "id": "emerging-implementation",
   "metadata": {},
   "source": [
    "### Working with our Postgres Data"
   ]
  },
  {
   "cell_type": "markdown",
   "id": "legitimate-rubber",
   "metadata": {},
   "source": [
    "Let's start by connecting to our northwinds database in postgres."
   ]
  },
  {
   "cell_type": "markdown",
   "id": "surprising-proxy",
   "metadata": {},
   "source": [
    "From there, run a query in the query panel to select the first five shippers from the `shippers` table."
   ]
  },
  {
   "cell_type": "markdown",
   "id": "e9d6c4d4-c2ff-43dd-8f50-6da9cc58df12",
   "metadata": {},
   "source": [
    "```bash\n",
    " shipper_id |   company_name    |     phone\n",
    "------------+-------------------+----------------\n",
    "          1 | Speedy Express    | (503) 555-9831\n",
    "          2 | United Package    | (503) 555-3199\n",
    "          3 | Federal Shipping  | (503) 555-9931\n",
    "          4 | Alliance Shippers | 1-800-222-0451\n",
    "          5 | UPS               | 1-800-782-7892\n",
    "```"
   ]
  },
  {
   "cell_type": "markdown",
   "id": "concerned-characteristic",
   "metadata": {},
   "source": [
    "### Setting up DBT"
   ]
  },
  {
   "cell_type": "markdown",
   "id": "trying-import",
   "metadata": {},
   "source": [
    "Ok, now it's time to perform our redshift queries from DBT.  Remember, that in our ELT process, we use DBT to perform just the `T` component.  The data is generally already loaded into our data warehouse (here postgres), and from there we'll select and clean our loaded data.  "
   ]
  },
  {
   "cell_type": "markdown",
   "id": "coral-swing",
   "metadata": {},
   "source": [
    "But to make any changes, we first need to create a new branch, as we cannot make any changes directly on the master branch.  So begin by creating a new branch called `build_stg_shippers_model`. \n",
    "\n",
    "> Running: `git branch -a` should show the * next to the `build_stg_shippers_model` branch.\n",
    "\n",
    "And then in the `models/staging` folder add a new file: `stg_shippers.sql`."
   ]
  },
  {
   "cell_type": "markdown",
   "id": "extreme-touch",
   "metadata": {},
   "source": [
    "### Querying from DBT "
   ]
  },
  {
   "cell_type": "markdown",
   "id": "fatal-condition",
   "metadata": {},
   "source": [
    "Ok, so now that we created a new branch and updated our file structure, it's time to query our database from dbt.  \n",
    "\n",
    "So write a select statement to just select the `shipper_id` and `company_name` columns from the `shippers` table. "
   ]
  },
  {
   "cell_type": "markdown",
   "id": "3ce5e5a5-4662-47b5-bc18-8995f81db57a",
   "metadata": {},
   "source": [
    "Then **only compile** the sql.  \n",
    "\n",
    "> If you go to the `target/compiled` folder, you should see a new file `stg_shippers.sql`."
   ]
  },
  {
   "cell_type": "markdown",
   "id": "private-massage",
   "metadata": {},
   "source": [
    "Ok, now let's try to create a new view called `stg_shippers`.  If it works, you should see something like the following in the terminal.\n",
    "\n",
    "```bash\n",
    "1:28:04  1 of 1 START sql view model dev.stg_shippers ................................... [RUN]\n",
    "01:28:04  1 of 1 OK created sql view model dev.stg_shippers .............................. [CREATE VIEW in 0.07s]\n",
    "```"
   ]
  },
  {
   "cell_type": "markdown",
   "id": "b5e4d5ca-87a8-4bac-a175-327c002c7445",
   "metadata": {},
   "source": [
    "This will have created a new view by first creating a new file in the `target/run` folder and then running that against the database.  So take a look at the file in the `target/run` folder."
   ]
  },
  {
   "cell_type": "markdown",
   "id": "6bce79b8-5189-404b-a909-cf417ce85c30",
   "metadata": {},
   "source": [
    "```sql\n",
    "create view \"northwinds\".\"dev\".\"stg_shippers__dbt_tmp\"\n",
    "  as (\n",
    "    select shipper_id, company_name from shippers\n",
    "  );\n",
    "```"
   ]
  },
  {
   "cell_type": "markdown",
   "id": "1bcd7787-e737-4b4b-bf4c-401a9499c583",
   "metadata": {},
   "source": [
    "And then connect to postgres and select from this view to confirm that this view has been created."
   ]
  },
  {
   "cell_type": "markdown",
   "id": "9a77fda6-56fd-4e59-afd8-d6ab67d852db",
   "metadata": {},
   "source": [
    "```bash\n",
    "shipper_id |   company_name\n",
    "------------+------------------\n",
    "          1 | Speedy Express\n",
    "          2 | United Package\n",
    "          3 | Federal Shipping\n",
    "(3 rows)\n",
    "```"
   ]
  },
  {
   "cell_type": "markdown",
   "id": "sticky-thunder",
   "metadata": {},
   "source": [
    "Ok, this looks good.  Now that the changes have been made to our database, we need to update our main branch."
   ]
  },
  {
   "cell_type": "markdown",
   "id": "likely-laser",
   "metadata": {},
   "source": [
    "### Updating the main branch"
   ]
  },
  {
   "cell_type": "markdown",
   "id": "34f9c6b4-9f0d-443d-9ca2-8d5ed707bb63",
   "metadata": {},
   "source": [
    "Ok, so let's first see the files we have changed so far."
   ]
  },
  {
   "cell_type": "markdown",
   "id": "679f340d-57af-48ab-8e3b-061cbaa04387",
   "metadata": {},
   "source": [
    "```bash\n",
    "git status\n",
    "\n",
    "    models/staging/stg_shippers.sql\n",
    "```"
   ]
  },
  {
   "cell_type": "markdown",
   "id": "a3cba949-6a8a-454d-9863-782981629b8c",
   "metadata": {},
   "source": [
    "> Notice the files in the `target` directory are not added -- this is because of the .gitignore in our dbt project folder.\n",
    "\n",
    "Ok, let's now update main branch on github with this file."
   ]
  },
  {
   "cell_type": "markdown",
   "id": "orange-violation",
   "metadata": {},
   "source": [
    "So now to update the main branch, we'll need to:\n",
    "\n",
    "* make a commit on the current branch\n",
    "* push that branch to github\n",
    "* create the pull request\n",
    "* merge the pull request to main"
   ]
  },
  {
   "cell_type": "markdown",
   "id": "constitutional-management",
   "metadata": {},
   "source": [
    "You'll know that the main branch was properly updated if you go to your repository's main branch and see the new `stg_shippers.sql` file."
   ]
  },
  {
   "cell_type": "markdown",
   "id": "champion-sustainability",
   "metadata": {},
   "source": [
    "### Summary"
   ]
  },
  {
   "cell_type": "markdown",
   "id": "floral-analysis",
   "metadata": {},
   "source": [
    "Let's make sure that we have a good understanding of the DBT workflow.  We start off with a good coding workflow in general:\n",
    "\n",
    "* checkout a new feature branch from main\n",
    "* Add some code to that branch (eg. a new .sql file).\n",
    "\n",
    "Then we can create a new view:\n",
    "\n",
    "* Create a new table through DBT with `dbt run --models` command\n",
    "* Go to postgres (or whichever database being used) to verify the changes are properly made\n",
    "\n",
    "Then update the main branch\n",
    "* Make a commit\n",
    "* Push to the branch on github\n",
    "* Open the pull request on github\n",
    "* Merge the pull request to main\n",
    "\n",
    "And then we go to the main branch to verify that our codebase on main has been updated."
   ]
  },
  {
   "cell_type": "markdown",
   "id": "surrounded-portsmouth",
   "metadata": {},
   "source": [
    "### Resources\n",
    "\n",
    "[RDS Redshift Lab](https://github.com/jigsawlabs-student/rds-to-redshift-lab/blob/main/notes/0-rds-to-redshift-solution.ipynb)\n",
    "\n",
    "[Data Warehouse Spectrum -> DBT Towards DS](https://towardsdatascience.com/a-data-warehouse-implementation-on-aws-a96d0e251abd)\n",
    "\n",
    "[Stitch -> DBT](https://www.startdataengineering.com/post/build-a-simple-data-engineering-platform/)"
   ]
  }
 ],
 "metadata": {
  "kernelspec": {
   "display_name": "Python 3 (ipykernel)",
   "language": "python",
   "name": "python3"
  },
  "language_info": {
   "codemirror_mode": {
    "name": "ipython",
    "version": 3
   },
   "file_extension": ".py",
   "mimetype": "text/x-python",
   "name": "python",
   "nbconvert_exporter": "python",
   "pygments_lexer": "ipython3",
   "version": "3.10.13"
  }
 },
 "nbformat": 4,
 "nbformat_minor": 5
}
